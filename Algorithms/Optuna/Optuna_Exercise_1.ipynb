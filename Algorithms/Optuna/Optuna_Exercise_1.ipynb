{
  "nbformat": 4,
  "nbformat_minor": 0,
  "metadata": {
    "colab": {
      "provenance": []
    },
    "kernelspec": {
      "name": "python3",
      "display_name": "Python 3"
    },
    "language_info": {
      "name": "python"
    }
  },
  "cells": [
    {
      "cell_type": "code",
      "source": [
        "!pip install optuna"
      ],
      "metadata": {
        "colab": {
          "base_uri": "https://localhost:8080/"
        },
        "id": "GBOVL5mrZCyo",
        "outputId": "e17b8cbe-98f1-43d3-a3c2-a2b9b9c0355a"
      },
      "execution_count": 13,
      "outputs": [
        {
          "output_type": "stream",
          "name": "stdout",
          "text": [
            "Collecting optuna\n",
            "  Downloading optuna-4.3.0-py3-none-any.whl.metadata (17 kB)\n",
            "Collecting alembic>=1.5.0 (from optuna)\n",
            "  Downloading alembic-1.16.1-py3-none-any.whl.metadata (7.3 kB)\n",
            "Collecting colorlog (from optuna)\n",
            "  Downloading colorlog-6.9.0-py3-none-any.whl.metadata (10 kB)\n",
            "Requirement already satisfied: numpy in /usr/local/lib/python3.11/dist-packages (from optuna) (2.0.2)\n",
            "Requirement already satisfied: packaging>=20.0 in /usr/local/lib/python3.11/dist-packages (from optuna) (24.2)\n",
            "Requirement already satisfied: sqlalchemy>=1.4.2 in /usr/local/lib/python3.11/dist-packages (from optuna) (2.0.41)\n",
            "Requirement already satisfied: tqdm in /usr/local/lib/python3.11/dist-packages (from optuna) (4.67.1)\n",
            "Requirement already satisfied: PyYAML in /usr/local/lib/python3.11/dist-packages (from optuna) (6.0.2)\n",
            "Requirement already satisfied: Mako in /usr/lib/python3/dist-packages (from alembic>=1.5.0->optuna) (1.1.3)\n",
            "Requirement already satisfied: typing-extensions>=4.12 in /usr/local/lib/python3.11/dist-packages (from alembic>=1.5.0->optuna) (4.14.0)\n",
            "Requirement already satisfied: greenlet>=1 in /usr/local/lib/python3.11/dist-packages (from sqlalchemy>=1.4.2->optuna) (3.2.2)\n",
            "Downloading optuna-4.3.0-py3-none-any.whl (386 kB)\n",
            "\u001b[2K   \u001b[90m━━━━━━━━━━━━━━━━━━━━━━━━━━━━━━━━━━━━━━━━\u001b[0m \u001b[32m386.6/386.6 kB\u001b[0m \u001b[31m21.7 MB/s\u001b[0m eta \u001b[36m0:00:00\u001b[0m\n",
            "\u001b[?25hDownloading alembic-1.16.1-py3-none-any.whl (242 kB)\n",
            "\u001b[2K   \u001b[90m━━━━━━━━━━━━━━━━━━━━━━━━━━━━━━━━━━━━━━━━\u001b[0m \u001b[32m242.5/242.5 kB\u001b[0m \u001b[31m20.2 MB/s\u001b[0m eta \u001b[36m0:00:00\u001b[0m\n",
            "\u001b[?25hDownloading colorlog-6.9.0-py3-none-any.whl (11 kB)\n",
            "Installing collected packages: colorlog, alembic, optuna\n",
            "Successfully installed alembic-1.16.1 colorlog-6.9.0 optuna-4.3.0\n"
          ]
        }
      ]
    },
    {
      "cell_type": "code",
      "execution_count": 14,
      "metadata": {
        "id": "Y0LyCZN5VZ0w"
      },
      "outputs": [],
      "source": [
        "import pandas as pd\n",
        "import numpy as np\n",
        "from sklearn.model_selection import train_test_split\n",
        "from sklearn.ensemble import RandomForestClassifier\n",
        "from sklearn.model_selection import cross_val_score\n",
        "import optuna"
      ]
    },
    {
      "cell_type": "code",
      "source": [
        "df = pd.read_csv('MNIST.csv')"
      ],
      "metadata": {
        "id": "82EPUY5OWGiQ"
      },
      "execution_count": 2,
      "outputs": []
    },
    {
      "cell_type": "code",
      "source": [
        "df.head()"
      ],
      "metadata": {
        "colab": {
          "base_uri": "https://localhost:8080/",
          "height": 256
        },
        "id": "qS_xx-XQWTuY",
        "outputId": "affbaab4-bbbb-46aa-8efb-0beca92fc6e3"
      },
      "execution_count": 3,
      "outputs": [
        {
          "output_type": "execute_result",
          "data": {
            "text/plain": [
              "   label  pixel0  pixel1  pixel2  pixel3  pixel4  pixel5  pixel6  pixel7  \\\n",
              "0      1       0       0       0       0       0       0       0       0   \n",
              "1      0       0       0       0       0       0       0       0       0   \n",
              "2      1       0       0       0       0       0       0       0       0   \n",
              "3      4       0       0       0       0       0       0       0       0   \n",
              "4      0       0       0       0       0       0       0       0       0   \n",
              "\n",
              "   pixel8  ...  pixel774  pixel775  pixel776  pixel777  pixel778  pixel779  \\\n",
              "0       0  ...       0.0       0.0       0.0       0.0       0.0       0.0   \n",
              "1       0  ...       0.0       0.0       0.0       0.0       0.0       0.0   \n",
              "2       0  ...       0.0       0.0       0.0       0.0       0.0       0.0   \n",
              "3       0  ...       0.0       0.0       0.0       0.0       0.0       0.0   \n",
              "4       0  ...       0.0       0.0       0.0       0.0       0.0       0.0   \n",
              "\n",
              "   pixel780  pixel781  pixel782  pixel783  \n",
              "0       0.0       0.0       0.0       0.0  \n",
              "1       0.0       0.0       0.0       0.0  \n",
              "2       0.0       0.0       0.0       0.0  \n",
              "3       0.0       0.0       0.0       0.0  \n",
              "4       0.0       0.0       0.0       0.0  \n",
              "\n",
              "[5 rows x 785 columns]"
            ],
            "text/html": [
              "\n",
              "  <div id=\"df-61dcfa91-ab61-49c9-adc4-58a15a797039\" class=\"colab-df-container\">\n",
              "    <div>\n",
              "<style scoped>\n",
              "    .dataframe tbody tr th:only-of-type {\n",
              "        vertical-align: middle;\n",
              "    }\n",
              "\n",
              "    .dataframe tbody tr th {\n",
              "        vertical-align: top;\n",
              "    }\n",
              "\n",
              "    .dataframe thead th {\n",
              "        text-align: right;\n",
              "    }\n",
              "</style>\n",
              "<table border=\"1\" class=\"dataframe\">\n",
              "  <thead>\n",
              "    <tr style=\"text-align: right;\">\n",
              "      <th></th>\n",
              "      <th>label</th>\n",
              "      <th>pixel0</th>\n",
              "      <th>pixel1</th>\n",
              "      <th>pixel2</th>\n",
              "      <th>pixel3</th>\n",
              "      <th>pixel4</th>\n",
              "      <th>pixel5</th>\n",
              "      <th>pixel6</th>\n",
              "      <th>pixel7</th>\n",
              "      <th>pixel8</th>\n",
              "      <th>...</th>\n",
              "      <th>pixel774</th>\n",
              "      <th>pixel775</th>\n",
              "      <th>pixel776</th>\n",
              "      <th>pixel777</th>\n",
              "      <th>pixel778</th>\n",
              "      <th>pixel779</th>\n",
              "      <th>pixel780</th>\n",
              "      <th>pixel781</th>\n",
              "      <th>pixel782</th>\n",
              "      <th>pixel783</th>\n",
              "    </tr>\n",
              "  </thead>\n",
              "  <tbody>\n",
              "    <tr>\n",
              "      <th>0</th>\n",
              "      <td>1</td>\n",
              "      <td>0</td>\n",
              "      <td>0</td>\n",
              "      <td>0</td>\n",
              "      <td>0</td>\n",
              "      <td>0</td>\n",
              "      <td>0</td>\n",
              "      <td>0</td>\n",
              "      <td>0</td>\n",
              "      <td>0</td>\n",
              "      <td>...</td>\n",
              "      <td>0.0</td>\n",
              "      <td>0.0</td>\n",
              "      <td>0.0</td>\n",
              "      <td>0.0</td>\n",
              "      <td>0.0</td>\n",
              "      <td>0.0</td>\n",
              "      <td>0.0</td>\n",
              "      <td>0.0</td>\n",
              "      <td>0.0</td>\n",
              "      <td>0.0</td>\n",
              "    </tr>\n",
              "    <tr>\n",
              "      <th>1</th>\n",
              "      <td>0</td>\n",
              "      <td>0</td>\n",
              "      <td>0</td>\n",
              "      <td>0</td>\n",
              "      <td>0</td>\n",
              "      <td>0</td>\n",
              "      <td>0</td>\n",
              "      <td>0</td>\n",
              "      <td>0</td>\n",
              "      <td>0</td>\n",
              "      <td>...</td>\n",
              "      <td>0.0</td>\n",
              "      <td>0.0</td>\n",
              "      <td>0.0</td>\n",
              "      <td>0.0</td>\n",
              "      <td>0.0</td>\n",
              "      <td>0.0</td>\n",
              "      <td>0.0</td>\n",
              "      <td>0.0</td>\n",
              "      <td>0.0</td>\n",
              "      <td>0.0</td>\n",
              "    </tr>\n",
              "    <tr>\n",
              "      <th>2</th>\n",
              "      <td>1</td>\n",
              "      <td>0</td>\n",
              "      <td>0</td>\n",
              "      <td>0</td>\n",
              "      <td>0</td>\n",
              "      <td>0</td>\n",
              "      <td>0</td>\n",
              "      <td>0</td>\n",
              "      <td>0</td>\n",
              "      <td>0</td>\n",
              "      <td>...</td>\n",
              "      <td>0.0</td>\n",
              "      <td>0.0</td>\n",
              "      <td>0.0</td>\n",
              "      <td>0.0</td>\n",
              "      <td>0.0</td>\n",
              "      <td>0.0</td>\n",
              "      <td>0.0</td>\n",
              "      <td>0.0</td>\n",
              "      <td>0.0</td>\n",
              "      <td>0.0</td>\n",
              "    </tr>\n",
              "    <tr>\n",
              "      <th>3</th>\n",
              "      <td>4</td>\n",
              "      <td>0</td>\n",
              "      <td>0</td>\n",
              "      <td>0</td>\n",
              "      <td>0</td>\n",
              "      <td>0</td>\n",
              "      <td>0</td>\n",
              "      <td>0</td>\n",
              "      <td>0</td>\n",
              "      <td>0</td>\n",
              "      <td>...</td>\n",
              "      <td>0.0</td>\n",
              "      <td>0.0</td>\n",
              "      <td>0.0</td>\n",
              "      <td>0.0</td>\n",
              "      <td>0.0</td>\n",
              "      <td>0.0</td>\n",
              "      <td>0.0</td>\n",
              "      <td>0.0</td>\n",
              "      <td>0.0</td>\n",
              "      <td>0.0</td>\n",
              "    </tr>\n",
              "    <tr>\n",
              "      <th>4</th>\n",
              "      <td>0</td>\n",
              "      <td>0</td>\n",
              "      <td>0</td>\n",
              "      <td>0</td>\n",
              "      <td>0</td>\n",
              "      <td>0</td>\n",
              "      <td>0</td>\n",
              "      <td>0</td>\n",
              "      <td>0</td>\n",
              "      <td>0</td>\n",
              "      <td>...</td>\n",
              "      <td>0.0</td>\n",
              "      <td>0.0</td>\n",
              "      <td>0.0</td>\n",
              "      <td>0.0</td>\n",
              "      <td>0.0</td>\n",
              "      <td>0.0</td>\n",
              "      <td>0.0</td>\n",
              "      <td>0.0</td>\n",
              "      <td>0.0</td>\n",
              "      <td>0.0</td>\n",
              "    </tr>\n",
              "  </tbody>\n",
              "</table>\n",
              "<p>5 rows × 785 columns</p>\n",
              "</div>\n",
              "    <div class=\"colab-df-buttons\">\n",
              "\n",
              "  <div class=\"colab-df-container\">\n",
              "    <button class=\"colab-df-convert\" onclick=\"convertToInteractive('df-61dcfa91-ab61-49c9-adc4-58a15a797039')\"\n",
              "            title=\"Convert this dataframe to an interactive table.\"\n",
              "            style=\"display:none;\">\n",
              "\n",
              "  <svg xmlns=\"http://www.w3.org/2000/svg\" height=\"24px\" viewBox=\"0 -960 960 960\">\n",
              "    <path d=\"M120-120v-720h720v720H120Zm60-500h600v-160H180v160Zm220 220h160v-160H400v160Zm0 220h160v-160H400v160ZM180-400h160v-160H180v160Zm440 0h160v-160H620v160ZM180-180h160v-160H180v160Zm440 0h160v-160H620v160Z\"/>\n",
              "  </svg>\n",
              "    </button>\n",
              "\n",
              "  <style>\n",
              "    .colab-df-container {\n",
              "      display:flex;\n",
              "      gap: 12px;\n",
              "    }\n",
              "\n",
              "    .colab-df-convert {\n",
              "      background-color: #E8F0FE;\n",
              "      border: none;\n",
              "      border-radius: 50%;\n",
              "      cursor: pointer;\n",
              "      display: none;\n",
              "      fill: #1967D2;\n",
              "      height: 32px;\n",
              "      padding: 0 0 0 0;\n",
              "      width: 32px;\n",
              "    }\n",
              "\n",
              "    .colab-df-convert:hover {\n",
              "      background-color: #E2EBFA;\n",
              "      box-shadow: 0px 1px 2px rgba(60, 64, 67, 0.3), 0px 1px 3px 1px rgba(60, 64, 67, 0.15);\n",
              "      fill: #174EA6;\n",
              "    }\n",
              "\n",
              "    .colab-df-buttons div {\n",
              "      margin-bottom: 4px;\n",
              "    }\n",
              "\n",
              "    [theme=dark] .colab-df-convert {\n",
              "      background-color: #3B4455;\n",
              "      fill: #D2E3FC;\n",
              "    }\n",
              "\n",
              "    [theme=dark] .colab-df-convert:hover {\n",
              "      background-color: #434B5C;\n",
              "      box-shadow: 0px 1px 3px 1px rgba(0, 0, 0, 0.15);\n",
              "      filter: drop-shadow(0px 1px 2px rgba(0, 0, 0, 0.3));\n",
              "      fill: #FFFFFF;\n",
              "    }\n",
              "  </style>\n",
              "\n",
              "    <script>\n",
              "      const buttonEl =\n",
              "        document.querySelector('#df-61dcfa91-ab61-49c9-adc4-58a15a797039 button.colab-df-convert');\n",
              "      buttonEl.style.display =\n",
              "        google.colab.kernel.accessAllowed ? 'block' : 'none';\n",
              "\n",
              "      async function convertToInteractive(key) {\n",
              "        const element = document.querySelector('#df-61dcfa91-ab61-49c9-adc4-58a15a797039');\n",
              "        const dataTable =\n",
              "          await google.colab.kernel.invokeFunction('convertToInteractive',\n",
              "                                                    [key], {});\n",
              "        if (!dataTable) return;\n",
              "\n",
              "        const docLinkHtml = 'Like what you see? Visit the ' +\n",
              "          '<a target=\"_blank\" href=https://colab.research.google.com/notebooks/data_table.ipynb>data table notebook</a>'\n",
              "          + ' to learn more about interactive tables.';\n",
              "        element.innerHTML = '';\n",
              "        dataTable['output_type'] = 'display_data';\n",
              "        await google.colab.output.renderOutput(dataTable, element);\n",
              "        const docLink = document.createElement('div');\n",
              "        docLink.innerHTML = docLinkHtml;\n",
              "        element.appendChild(docLink);\n",
              "      }\n",
              "    </script>\n",
              "  </div>\n",
              "\n",
              "\n",
              "    <div id=\"df-16fa69f5-6ad2-481b-a39c-c16eca1d021a\">\n",
              "      <button class=\"colab-df-quickchart\" onclick=\"quickchart('df-16fa69f5-6ad2-481b-a39c-c16eca1d021a')\"\n",
              "                title=\"Suggest charts\"\n",
              "                style=\"display:none;\">\n",
              "\n",
              "<svg xmlns=\"http://www.w3.org/2000/svg\" height=\"24px\"viewBox=\"0 0 24 24\"\n",
              "     width=\"24px\">\n",
              "    <g>\n",
              "        <path d=\"M19 3H5c-1.1 0-2 .9-2 2v14c0 1.1.9 2 2 2h14c1.1 0 2-.9 2-2V5c0-1.1-.9-2-2-2zM9 17H7v-7h2v7zm4 0h-2V7h2v10zm4 0h-2v-4h2v4z\"/>\n",
              "    </g>\n",
              "</svg>\n",
              "      </button>\n",
              "\n",
              "<style>\n",
              "  .colab-df-quickchart {\n",
              "      --bg-color: #E8F0FE;\n",
              "      --fill-color: #1967D2;\n",
              "      --hover-bg-color: #E2EBFA;\n",
              "      --hover-fill-color: #174EA6;\n",
              "      --disabled-fill-color: #AAA;\n",
              "      --disabled-bg-color: #DDD;\n",
              "  }\n",
              "\n",
              "  [theme=dark] .colab-df-quickchart {\n",
              "      --bg-color: #3B4455;\n",
              "      --fill-color: #D2E3FC;\n",
              "      --hover-bg-color: #434B5C;\n",
              "      --hover-fill-color: #FFFFFF;\n",
              "      --disabled-bg-color: #3B4455;\n",
              "      --disabled-fill-color: #666;\n",
              "  }\n",
              "\n",
              "  .colab-df-quickchart {\n",
              "    background-color: var(--bg-color);\n",
              "    border: none;\n",
              "    border-radius: 50%;\n",
              "    cursor: pointer;\n",
              "    display: none;\n",
              "    fill: var(--fill-color);\n",
              "    height: 32px;\n",
              "    padding: 0;\n",
              "    width: 32px;\n",
              "  }\n",
              "\n",
              "  .colab-df-quickchart:hover {\n",
              "    background-color: var(--hover-bg-color);\n",
              "    box-shadow: 0 1px 2px rgba(60, 64, 67, 0.3), 0 1px 3px 1px rgba(60, 64, 67, 0.15);\n",
              "    fill: var(--button-hover-fill-color);\n",
              "  }\n",
              "\n",
              "  .colab-df-quickchart-complete:disabled,\n",
              "  .colab-df-quickchart-complete:disabled:hover {\n",
              "    background-color: var(--disabled-bg-color);\n",
              "    fill: var(--disabled-fill-color);\n",
              "    box-shadow: none;\n",
              "  }\n",
              "\n",
              "  .colab-df-spinner {\n",
              "    border: 2px solid var(--fill-color);\n",
              "    border-color: transparent;\n",
              "    border-bottom-color: var(--fill-color);\n",
              "    animation:\n",
              "      spin 1s steps(1) infinite;\n",
              "  }\n",
              "\n",
              "  @keyframes spin {\n",
              "    0% {\n",
              "      border-color: transparent;\n",
              "      border-bottom-color: var(--fill-color);\n",
              "      border-left-color: var(--fill-color);\n",
              "    }\n",
              "    20% {\n",
              "      border-color: transparent;\n",
              "      border-left-color: var(--fill-color);\n",
              "      border-top-color: var(--fill-color);\n",
              "    }\n",
              "    30% {\n",
              "      border-color: transparent;\n",
              "      border-left-color: var(--fill-color);\n",
              "      border-top-color: var(--fill-color);\n",
              "      border-right-color: var(--fill-color);\n",
              "    }\n",
              "    40% {\n",
              "      border-color: transparent;\n",
              "      border-right-color: var(--fill-color);\n",
              "      border-top-color: var(--fill-color);\n",
              "    }\n",
              "    60% {\n",
              "      border-color: transparent;\n",
              "      border-right-color: var(--fill-color);\n",
              "    }\n",
              "    80% {\n",
              "      border-color: transparent;\n",
              "      border-right-color: var(--fill-color);\n",
              "      border-bottom-color: var(--fill-color);\n",
              "    }\n",
              "    90% {\n",
              "      border-color: transparent;\n",
              "      border-bottom-color: var(--fill-color);\n",
              "    }\n",
              "  }\n",
              "</style>\n",
              "\n",
              "      <script>\n",
              "        async function quickchart(key) {\n",
              "          const quickchartButtonEl =\n",
              "            document.querySelector('#' + key + ' button');\n",
              "          quickchartButtonEl.disabled = true;  // To prevent multiple clicks.\n",
              "          quickchartButtonEl.classList.add('colab-df-spinner');\n",
              "          try {\n",
              "            const charts = await google.colab.kernel.invokeFunction(\n",
              "                'suggestCharts', [key], {});\n",
              "          } catch (error) {\n",
              "            console.error('Error during call to suggestCharts:', error);\n",
              "          }\n",
              "          quickchartButtonEl.classList.remove('colab-df-spinner');\n",
              "          quickchartButtonEl.classList.add('colab-df-quickchart-complete');\n",
              "        }\n",
              "        (() => {\n",
              "          let quickchartButtonEl =\n",
              "            document.querySelector('#df-16fa69f5-6ad2-481b-a39c-c16eca1d021a button');\n",
              "          quickchartButtonEl.style.display =\n",
              "            google.colab.kernel.accessAllowed ? 'block' : 'none';\n",
              "        })();\n",
              "      </script>\n",
              "    </div>\n",
              "\n",
              "    </div>\n",
              "  </div>\n"
            ],
            "application/vnd.google.colaboratory.intrinsic+json": {
              "type": "dataframe",
              "variable_name": "df"
            }
          },
          "metadata": {},
          "execution_count": 3
        }
      ]
    },
    {
      "cell_type": "code",
      "source": [
        "X = df.drop(columns='label')\n",
        "Y = df['label']"
      ],
      "metadata": {
        "id": "PrTHGdppWUX0"
      },
      "execution_count": 4,
      "outputs": []
    },
    {
      "cell_type": "code",
      "source": [
        "X_train, X_test, y_train, y_test = train_test_split(X, Y, random_state=42, test_size=0.2)"
      ],
      "metadata": {
        "id": "RIlLvm5TWfxL"
      },
      "execution_count": 5,
      "outputs": []
    },
    {
      "cell_type": "code",
      "source": [
        "print(f'Training set: {X_train.shape}')\n",
        "print(f'Testing set: {X_test.shape}')"
      ],
      "metadata": {
        "colab": {
          "base_uri": "https://localhost:8080/"
        },
        "id": "1CiUYBbjWmh7",
        "outputId": "457364c4-bfa4-4d05-d6b1-aeb98945fed3"
      },
      "execution_count": 7,
      "outputs": [
        {
          "output_type": "stream",
          "name": "stdout",
          "text": [
            "Training set: (3210, 784)\n",
            "Testing set: (803, 784)\n"
          ]
        }
      ]
    },
    {
      "cell_type": "code",
      "source": [
        "def objective(trial):\n",
        "  n_estimators = trial.suggest_int('n_estimators', 10,200)\n",
        "  max_depth = trial.suggest_int('max_depth',3,20)\n",
        "  criterion = trial.suggest_categorical('criterion', ['gini', 'entropy'])\n",
        "  min_samples_split = trial.suggest_int('min_samples_split',2,10)\n",
        "  min_samples_leaf = trial.suggest_int('min_samples_leaf',1,10)\n",
        "  bootstrap = trial.suggest_categorical('bootstrap', [True, False])\n",
        "\n",
        "  model = RandomForestClassifier(n_estimators=n_estimators, max_depth=max_depth,\n",
        "                                 criterion=criterion, min_samples_split=min_samples_split,\n",
        "                                 min_samples_leaf=min_samples_leaf, bootstrap=bootstrap)\n",
        "\n",
        "  score = cross_val_score(model, X_train, y_train, cv=5, scoring='accuracy').mean()\n",
        "  return score"
      ],
      "metadata": {
        "id": "bvCIWeuJWzVQ"
      },
      "execution_count": 19,
      "outputs": []
    },
    {
      "cell_type": "code",
      "source": [
        "study = optuna.create_study(direction='maximize', sampler=optuna.samplers.TPESampler(),)\n",
        "study.optimize(objective, n_trials=50)"
      ],
      "metadata": {
        "colab": {
          "base_uri": "https://localhost:8080/"
        },
        "id": "H_mzOQ6hYrXW",
        "outputId": "23352b6a-6856-44f3-ecff-a3484b602bb7"
      },
      "execution_count": 20,
      "outputs": [
        {
          "output_type": "stream",
          "name": "stderr",
          "text": [
            "[I 2025-06-08 07:15:56,302] A new study created in memory with name: no-name-bdbc354d-bb38-4b5b-93ef-4a0f98c335a8\n",
            "[I 2025-06-08 07:16:03,948] Trial 0 finished with value: 0.9249221183800623 and parameters: {'n_estimators': 65, 'max_depth': 17, 'criterion': 'gini', 'min_samples_split': 9, 'min_samples_leaf': 2, 'bootstrap': False}. Best is trial 0 with value: 0.9249221183800623.\n",
            "[I 2025-06-08 07:16:05,224] Trial 1 finished with value: 0.7221183800623052 and parameters: {'n_estimators': 34, 'max_depth': 3, 'criterion': 'gini', 'min_samples_split': 7, 'min_samples_leaf': 2, 'bootstrap': False}. Best is trial 0 with value: 0.9249221183800623.\n",
            "[I 2025-06-08 07:16:10,323] Trial 2 finished with value: 0.9087227414330217 and parameters: {'n_estimators': 43, 'max_depth': 18, 'criterion': 'entropy', 'min_samples_split': 9, 'min_samples_leaf': 2, 'bootstrap': True}. Best is trial 0 with value: 0.9249221183800623.\n",
            "[I 2025-06-08 07:16:18,935] Trial 3 finished with value: 0.9006230529595015 and parameters: {'n_estimators': 140, 'max_depth': 8, 'criterion': 'gini', 'min_samples_split': 5, 'min_samples_leaf': 7, 'bootstrap': True}. Best is trial 0 with value: 0.9249221183800623.\n",
            "[I 2025-06-08 07:16:28,673] Trial 4 finished with value: 0.9165109034267912 and parameters: {'n_estimators': 82, 'max_depth': 10, 'criterion': 'entropy', 'min_samples_split': 3, 'min_samples_leaf': 2, 'bootstrap': True}. Best is trial 0 with value: 0.9249221183800623.\n",
            "[I 2025-06-08 07:16:30,758] Trial 5 finished with value: 0.9 and parameters: {'n_estimators': 28, 'max_depth': 14, 'criterion': 'gini', 'min_samples_split': 4, 'min_samples_leaf': 4, 'bootstrap': True}. Best is trial 0 with value: 0.9249221183800623.\n",
            "[I 2025-06-08 07:16:47,795] Trial 6 finished with value: 0.9115264797507787 and parameters: {'n_estimators': 181, 'max_depth': 15, 'criterion': 'gini', 'min_samples_split': 2, 'min_samples_leaf': 8, 'bootstrap': False}. Best is trial 0 with value: 0.9249221183800623.\n",
            "[I 2025-06-08 07:16:58,913] Trial 7 finished with value: 0.9121495327102804 and parameters: {'n_estimators': 163, 'max_depth': 11, 'criterion': 'gini', 'min_samples_split': 8, 'min_samples_leaf': 6, 'bootstrap': True}. Best is trial 0 with value: 0.9249221183800623.\n",
            "[I 2025-06-08 07:17:15,215] Trial 8 finished with value: 0.922429906542056 and parameters: {'n_estimators': 138, 'max_depth': 17, 'criterion': 'entropy', 'min_samples_split': 5, 'min_samples_leaf': 2, 'bootstrap': True}. Best is trial 0 with value: 0.9249221183800623.\n",
            "[I 2025-06-08 07:17:34,016] Trial 9 finished with value: 0.9130841121495328 and parameters: {'n_estimators': 187, 'max_depth': 8, 'criterion': 'entropy', 'min_samples_split': 6, 'min_samples_leaf': 2, 'bootstrap': True}. Best is trial 0 with value: 0.9249221183800623.\n",
            "[I 2025-06-08 07:17:41,694] Trial 10 finished with value: 0.9068535825545172 and parameters: {'n_estimators': 82, 'max_depth': 20, 'criterion': 'gini', 'min_samples_split': 10, 'min_samples_leaf': 10, 'bootstrap': False}. Best is trial 0 with value: 0.9249221183800623.\n",
            "[I 2025-06-08 07:18:00,400] Trial 11 finished with value: 0.9242990654205607 and parameters: {'n_estimators': 122, 'max_depth': 16, 'criterion': 'entropy', 'min_samples_split': 6, 'min_samples_leaf': 4, 'bootstrap': False}. Best is trial 0 with value: 0.9249221183800623.\n",
            "[I 2025-06-08 07:18:17,213] Trial 12 finished with value: 0.9242990654205607 and parameters: {'n_estimators': 103, 'max_depth': 14, 'criterion': 'entropy', 'min_samples_split': 7, 'min_samples_leaf': 4, 'bootstrap': False}. Best is trial 0 with value: 0.9249221183800623.\n",
            "[I 2025-06-08 07:18:26,438] Trial 13 finished with value: 0.922429906542056 and parameters: {'n_estimators': 63, 'max_depth': 17, 'criterion': 'entropy', 'min_samples_split': 10, 'min_samples_leaf': 4, 'bootstrap': False}. Best is trial 0 with value: 0.9249221183800623.\n",
            "[I 2025-06-08 07:18:37,736] Trial 14 finished with value: 0.918380062305296 and parameters: {'n_estimators': 111, 'max_depth': 20, 'criterion': 'gini', 'min_samples_split': 8, 'min_samples_leaf': 5, 'bootstrap': False}. Best is trial 0 with value: 0.9249221183800623.\n",
            "[I 2025-06-08 07:18:57,106] Trial 15 finished with value: 0.9302180685358257 and parameters: {'n_estimators': 110, 'max_depth': 15, 'criterion': 'entropy', 'min_samples_split': 6, 'min_samples_leaf': 1, 'bootstrap': False}. Best is trial 15 with value: 0.9302180685358257.\n",
            "[I 2025-06-08 07:19:04,557] Trial 16 finished with value: 0.9218068535825547 and parameters: {'n_estimators': 71, 'max_depth': 12, 'criterion': 'gini', 'min_samples_split': 8, 'min_samples_leaf': 1, 'bootstrap': False}. Best is trial 15 with value: 0.9302180685358257.\n",
            "[I 2025-06-08 07:19:07,510] Trial 17 finished with value: 0.8862928348909657 and parameters: {'n_estimators': 12, 'max_depth': 13, 'criterion': 'entropy', 'min_samples_split': 5, 'min_samples_leaf': 1, 'bootstrap': False}. Best is trial 15 with value: 0.9302180685358257.\n",
            "[I 2025-06-08 07:19:16,918] Trial 18 finished with value: 0.9218068535825547 and parameters: {'n_estimators': 94, 'max_depth': 19, 'criterion': 'gini', 'min_samples_split': 9, 'min_samples_leaf': 3, 'bootstrap': False}. Best is trial 15 with value: 0.9302180685358257.\n",
            "[I 2025-06-08 07:19:20,623] Trial 19 finished with value: 0.7043613707165108 and parameters: {'n_estimators': 55, 'max_depth': 3, 'criterion': 'entropy', 'min_samples_split': 7, 'min_samples_leaf': 1, 'bootstrap': False}. Best is trial 15 with value: 0.9302180685358257.\n",
            "[I 2025-06-08 07:19:43,204] Trial 20 finished with value: 0.9286604361370717 and parameters: {'n_estimators': 143, 'max_depth': 16, 'criterion': 'entropy', 'min_samples_split': 4, 'min_samples_leaf': 3, 'bootstrap': False}. Best is trial 15 with value: 0.9302180685358257.\n",
            "[I 2025-06-08 07:20:07,601] Trial 21 finished with value: 0.9280373831775701 and parameters: {'n_estimators': 150, 'max_depth': 16, 'criterion': 'entropy', 'min_samples_split': 4, 'min_samples_leaf': 3, 'bootstrap': False}. Best is trial 15 with value: 0.9302180685358257.\n",
            "[I 2025-06-08 07:20:32,615] Trial 22 finished with value: 0.9299065420560748 and parameters: {'n_estimators': 153, 'max_depth': 15, 'criterion': 'entropy', 'min_samples_split': 3, 'min_samples_leaf': 3, 'bootstrap': False}. Best is trial 15 with value: 0.9302180685358257.\n",
            "[I 2025-06-08 07:21:00,997] Trial 23 finished with value: 0.9277258566978194 and parameters: {'n_estimators': 170, 'max_depth': 14, 'criterion': 'entropy', 'min_samples_split': 2, 'min_samples_leaf': 3, 'bootstrap': False}. Best is trial 15 with value: 0.9302180685358257.\n",
            "[I 2025-06-08 07:21:19,632] Trial 24 finished with value: 0.9227414330218069 and parameters: {'n_estimators': 125, 'max_depth': 12, 'criterion': 'entropy', 'min_samples_split': 3, 'min_samples_leaf': 5, 'bootstrap': False}. Best is trial 15 with value: 0.9302180685358257.\n",
            "[I 2025-06-08 07:21:44,619] Trial 25 finished with value: 0.9271028037383177 and parameters: {'n_estimators': 154, 'max_depth': 15, 'criterion': 'entropy', 'min_samples_split': 4, 'min_samples_leaf': 3, 'bootstrap': False}. Best is trial 15 with value: 0.9302180685358257.\n",
            "[I 2025-06-08 07:22:05,071] Trial 26 finished with value: 0.9242990654205607 and parameters: {'n_estimators': 125, 'max_depth': 9, 'criterion': 'entropy', 'min_samples_split': 3, 'min_samples_leaf': 1, 'bootstrap': False}. Best is trial 15 with value: 0.9302180685358257.\n",
            "[I 2025-06-08 07:22:31,096] Trial 27 finished with value: 0.9218068535825544 and parameters: {'n_estimators': 172, 'max_depth': 13, 'criterion': 'entropy', 'min_samples_split': 4, 'min_samples_leaf': 5, 'bootstrap': False}. Best is trial 15 with value: 0.9302180685358257.\n",
            "[I 2025-06-08 07:22:50,921] Trial 28 finished with value: 0.9214953271028037 and parameters: {'n_estimators': 139, 'max_depth': 18, 'criterion': 'entropy', 'min_samples_split': 2, 'min_samples_leaf': 6, 'bootstrap': False}. Best is trial 15 with value: 0.9302180685358257.\n",
            "[I 2025-06-08 07:23:09,572] Trial 29 finished with value: 0.9227414330218068 and parameters: {'n_estimators': 111, 'max_depth': 16, 'criterion': 'entropy', 'min_samples_split': 5, 'min_samples_leaf': 3, 'bootstrap': False}. Best is trial 15 with value: 0.9302180685358257.\n",
            "[I 2025-06-08 07:23:25,233] Trial 30 finished with value: 0.8844236760124611 and parameters: {'n_estimators': 150, 'max_depth': 6, 'criterion': 'entropy', 'min_samples_split': 3, 'min_samples_leaf': 10, 'bootstrap': False}. Best is trial 15 with value: 0.9302180685358257.\n",
            "[I 2025-06-08 07:23:50,451] Trial 31 finished with value: 0.92398753894081 and parameters: {'n_estimators': 155, 'max_depth': 16, 'criterion': 'entropy', 'min_samples_split': 4, 'min_samples_leaf': 3, 'bootstrap': False}. Best is trial 15 with value: 0.9302180685358257.\n",
            "[I 2025-06-08 07:24:12,888] Trial 32 finished with value: 0.9252336448598131 and parameters: {'n_estimators': 133, 'max_depth': 18, 'criterion': 'entropy', 'min_samples_split': 6, 'min_samples_leaf': 2, 'bootstrap': False}. Best is trial 15 with value: 0.9302180685358257.\n",
            "[I 2025-06-08 07:24:43,017] Trial 33 finished with value: 0.9258566978193148 and parameters: {'n_estimators': 196, 'max_depth': 15, 'criterion': 'entropy', 'min_samples_split': 4, 'min_samples_leaf': 4, 'bootstrap': False}. Best is trial 15 with value: 0.9302180685358257.\n",
            "[I 2025-06-08 07:25:07,740] Trial 34 finished with value: 0.9280373831775701 and parameters: {'n_estimators': 148, 'max_depth': 18, 'criterion': 'entropy', 'min_samples_split': 3, 'min_samples_leaf': 2, 'bootstrap': False}. Best is trial 15 with value: 0.9302180685358257.\n",
            "[I 2025-06-08 07:25:33,898] Trial 35 finished with value: 0.9271028037383179 and parameters: {'n_estimators': 164, 'max_depth': 13, 'criterion': 'entropy', 'min_samples_split': 5, 'min_samples_leaf': 3, 'bootstrap': False}. Best is trial 15 with value: 0.9302180685358257.\n",
            "[I 2025-06-08 07:25:47,373] Trial 36 finished with value: 0.911214953271028 and parameters: {'n_estimators': 97, 'max_depth': 16, 'criterion': 'entropy', 'min_samples_split': 4, 'min_samples_leaf': 8, 'bootstrap': False}. Best is trial 15 with value: 0.9302180685358257.\n",
            "[I 2025-06-08 07:26:01,139] Trial 37 finished with value: 0.9199376947040496 and parameters: {'n_estimators': 119, 'max_depth': 15, 'criterion': 'entropy', 'min_samples_split': 2, 'min_samples_leaf': 2, 'bootstrap': True}. Best is trial 15 with value: 0.9302180685358257.\n",
            "[I 2025-06-08 07:26:24,471] Trial 38 finished with value: 0.9314641744548287 and parameters: {'n_estimators': 131, 'max_depth': 17, 'criterion': 'entropy', 'min_samples_split': 6, 'min_samples_leaf': 1, 'bootstrap': False}. Best is trial 38 with value: 0.9314641744548287.\n",
            "[I 2025-06-08 07:26:34,998] Trial 39 finished with value: 0.9239875389408099 and parameters: {'n_estimators': 90, 'max_depth': 19, 'criterion': 'entropy', 'min_samples_split': 7, 'min_samples_leaf': 1, 'bootstrap': True}. Best is trial 38 with value: 0.9314641744548287.\n",
            "[I 2025-06-08 07:26:57,546] Trial 40 finished with value: 0.9314641744548288 and parameters: {'n_estimators': 132, 'max_depth': 17, 'criterion': 'entropy', 'min_samples_split': 6, 'min_samples_leaf': 1, 'bootstrap': False}. Best is trial 40 with value: 0.9314641744548288.\n",
            "[I 2025-06-08 07:27:20,327] Trial 41 finished with value: 0.9267912772585671 and parameters: {'n_estimators': 135, 'max_depth': 17, 'criterion': 'entropy', 'min_samples_split': 6, 'min_samples_leaf': 1, 'bootstrap': False}. Best is trial 40 with value: 0.9314641744548288.\n",
            "[I 2025-06-08 07:27:38,678] Trial 42 finished with value: 0.9292834890965732 and parameters: {'n_estimators': 113, 'max_depth': 19, 'criterion': 'entropy', 'min_samples_split': 7, 'min_samples_leaf': 1, 'bootstrap': False}. Best is trial 40 with value: 0.9314641744548288.\n",
            "[I 2025-06-08 07:27:58,696] Trial 43 finished with value: 0.9327102803738319 and parameters: {'n_estimators': 118, 'max_depth': 19, 'criterion': 'entropy', 'min_samples_split': 7, 'min_samples_leaf': 1, 'bootstrap': False}. Best is trial 43 with value: 0.9327102803738319.\n",
            "[I 2025-06-08 07:28:13,070] Trial 44 finished with value: 0.9227414330218068 and parameters: {'n_estimators': 130, 'max_depth': 17, 'criterion': 'entropy', 'min_samples_split': 7, 'min_samples_leaf': 2, 'bootstrap': True}. Best is trial 43 with value: 0.9327102803738319.\n",
            "[I 2025-06-08 07:28:29,744] Trial 45 finished with value: 0.9264797507788162 and parameters: {'n_estimators': 105, 'max_depth': 20, 'criterion': 'entropy', 'min_samples_split': 8, 'min_samples_leaf': 2, 'bootstrap': False}. Best is trial 43 with value: 0.9327102803738319.\n",
            "[I 2025-06-08 07:28:39,686] Trial 46 finished with value: 0.9292834890965732 and parameters: {'n_estimators': 85, 'max_depth': 18, 'criterion': 'gini', 'min_samples_split': 6, 'min_samples_leaf': 1, 'bootstrap': False}. Best is trial 43 with value: 0.9327102803738319.\n",
            "[I 2025-06-08 07:28:52,786] Trial 47 finished with value: 0.9233644859813085 and parameters: {'n_estimators': 117, 'max_depth': 19, 'criterion': 'entropy', 'min_samples_split': 6, 'min_samples_leaf': 2, 'bootstrap': True}. Best is trial 43 with value: 0.9327102803738319.\n",
            "[I 2025-06-08 07:29:09,047] Trial 48 finished with value: 0.925545171339564 and parameters: {'n_estimators': 101, 'max_depth': 11, 'criterion': 'entropy', 'min_samples_split': 8, 'min_samples_leaf': 1, 'bootstrap': False}. Best is trial 43 with value: 0.9327102803738319.\n",
            "[I 2025-06-08 07:29:27,202] Trial 49 finished with value: 0.930841121495327 and parameters: {'n_estimators': 160, 'max_depth': 14, 'criterion': 'gini', 'min_samples_split': 5, 'min_samples_leaf': 2, 'bootstrap': False}. Best is trial 43 with value: 0.9327102803738319.\n"
          ]
        }
      ]
    },
    {
      "cell_type": "code",
      "source": [
        "print(f'Best Accuracy: {study.best_trial.value}')\n",
        "print(f'Best Parameters: {study.best_params}')"
      ],
      "metadata": {
        "colab": {
          "base_uri": "https://localhost:8080/"
        },
        "id": "jbMlxNlhY_MW",
        "outputId": "b4bab806-f8dd-4c9d-d86d-866bcebeda87"
      },
      "execution_count": 22,
      "outputs": [
        {
          "output_type": "stream",
          "name": "stdout",
          "text": [
            "Best Accuracy: 0.9327102803738319\n",
            "Best Parameters: {'n_estimators': 118, 'max_depth': 19, 'criterion': 'entropy', 'min_samples_split': 7, 'min_samples_leaf': 1, 'bootstrap': False}\n"
          ]
        }
      ]
    },
    {
      "cell_type": "code",
      "source": [
        "from sklearn.metrics import accuracy_score\n",
        "best_model = RandomForestClassifier(**study.best_trial.params, random_state=42)\n",
        "\n",
        "best_model.fit(X_train, y_train)\n",
        "\n",
        "y_pred = best_model.predict(X_test)\n",
        "\n",
        "test_accuracy = accuracy_score(y_test, y_pred)\n",
        "\n",
        "print(f'Accuracy Score: {test_accuracy:.2f}')"
      ],
      "metadata": {
        "colab": {
          "base_uri": "https://localhost:8080/"
        },
        "id": "Vj8XU70Ncw7X",
        "outputId": "b8642c9d-7c1f-49b5-e693-af71289eceed"
      },
      "execution_count": 23,
      "outputs": [
        {
          "output_type": "stream",
          "name": "stdout",
          "text": [
            "Accuracy Score: 0.93\n"
          ]
        }
      ]
    },
    {
      "cell_type": "markdown",
      "source": [
        "# Samplers in Optuna"
      ],
      "metadata": {
        "id": "9lHgSPqld5r8"
      }
    },
    {
      "cell_type": "code",
      "source": [
        "def objective(trial):\n",
        "  n_estimators = trial.suggest_int('n_estimators', 10,200)\n",
        "  max_depth = trial.suggest_int('max_depth',3,20)\n",
        "  criterion = trial.suggest_categorical('criterion', ['gini', 'entropy'])\n",
        "  min_samples_split = trial.suggest_int('min_samples_split',2,10)\n",
        "  min_samples_leaf = trial.suggest_int('min_samples_leaf',1,10)\n",
        "  bootstrap = trial.suggest_categorical('bootstrap', [True, False])\n",
        "\n",
        "  model = RandomForestClassifier(n_estimators=n_estimators, max_depth=max_depth,\n",
        "                                 criterion=criterion, min_samples_split=min_samples_split,\n",
        "                                 min_samples_leaf=min_samples_leaf, bootstrap=bootstrap)\n",
        "\n",
        "  score = cross_val_score(model, X_train, y_train, cv=5, scoring='accuracy').mean()\n",
        "  return score"
      ],
      "metadata": {
        "id": "svSE_oXJdTHI"
      },
      "execution_count": 24,
      "outputs": []
    },
    {
      "cell_type": "code",
      "source": [
        "study = optuna.create_study(direction='maximize', sampler=optuna.samplers.RandomSampler())\n",
        "study.optimize(objective, n_trials=50)"
      ],
      "metadata": {
        "colab": {
          "base_uri": "https://localhost:8080/"
        },
        "id": "6icX7mxwd9yZ",
        "outputId": "72a71e81-a479-4caf-c4a1-e16ee5af345f"
      },
      "execution_count": 25,
      "outputs": [
        {
          "output_type": "stream",
          "name": "stderr",
          "text": [
            "[I 2025-06-08 07:36:34,796] A new study created in memory with name: no-name-ec1fd53f-34be-49c9-bbd0-5104e6187bbd\n",
            "[I 2025-06-08 07:36:37,443] Trial 0 finished with value: 0.894392523364486 and parameters: {'n_estimators': 24, 'max_depth': 14, 'criterion': 'gini', 'min_samples_split': 8, 'min_samples_leaf': 5, 'bootstrap': True}. Best is trial 0 with value: 0.894392523364486.\n",
            "[I 2025-06-08 07:36:41,826] Trial 1 finished with value: 0.8925233644859814 and parameters: {'n_estimators': 45, 'max_depth': 7, 'criterion': 'entropy', 'min_samples_split': 2, 'min_samples_leaf': 1, 'bootstrap': True}. Best is trial 0 with value: 0.894392523364486.\n",
            "[I 2025-06-08 07:36:52,872] Trial 2 finished with value: 0.9137071651090343 and parameters: {'n_estimators': 143, 'max_depth': 10, 'criterion': 'gini', 'min_samples_split': 5, 'min_samples_leaf': 2, 'bootstrap': True}. Best is trial 2 with value: 0.9137071651090343.\n",
            "[I 2025-06-08 07:36:59,544] Trial 3 finished with value: 0.9152647975077881 and parameters: {'n_estimators': 40, 'max_depth': 11, 'criterion': 'entropy', 'min_samples_split': 3, 'min_samples_leaf': 5, 'bootstrap': False}. Best is trial 3 with value: 0.9152647975077881.\n",
            "[I 2025-06-08 07:37:11,620] Trial 4 finished with value: 0.9177570093457945 and parameters: {'n_estimators': 125, 'max_depth': 17, 'criterion': 'gini', 'min_samples_split': 9, 'min_samples_leaf': 7, 'bootstrap': False}. Best is trial 4 with value: 0.9177570093457945.\n",
            "[I 2025-06-08 07:37:30,197] Trial 5 finished with value: 0.8834890965732087 and parameters: {'n_estimators': 145, 'max_depth': 6, 'criterion': 'entropy', 'min_samples_split': 3, 'min_samples_leaf': 6, 'bootstrap': False}. Best is trial 4 with value: 0.9177570093457945.\n",
            "[I 2025-06-08 07:37:57,683] Trial 6 finished with value: 0.9133956386292835 and parameters: {'n_estimators': 133, 'max_depth': 10, 'criterion': 'entropy', 'min_samples_split': 9, 'min_samples_leaf': 7, 'bootstrap': False}. Best is trial 4 with value: 0.9177570093457945.\n",
            "[I 2025-06-08 07:38:11,672] Trial 7 finished with value: 0.853582554517134 and parameters: {'n_estimators': 191, 'max_depth': 5, 'criterion': 'entropy', 'min_samples_split': 3, 'min_samples_leaf': 8, 'bootstrap': True}. Best is trial 4 with value: 0.9177570093457945.\n",
            "[I 2025-06-08 07:38:25,585] Trial 8 finished with value: 0.9056074766355142 and parameters: {'n_estimators': 143, 'max_depth': 8, 'criterion': 'entropy', 'min_samples_split': 6, 'min_samples_leaf': 6, 'bootstrap': True}. Best is trial 4 with value: 0.9177570093457945.\n",
            "[I 2025-06-08 07:38:35,123] Trial 9 finished with value: 0.9171339563862929 and parameters: {'n_estimators': 63, 'max_depth': 8, 'criterion': 'entropy', 'min_samples_split': 2, 'min_samples_leaf': 2, 'bootstrap': False}. Best is trial 4 with value: 0.9177570093457945.\n",
            "[I 2025-06-08 07:38:45,857] Trial 10 finished with value: 0.9124610591900311 and parameters: {'n_estimators': 75, 'max_depth': 10, 'criterion': 'entropy', 'min_samples_split': 3, 'min_samples_leaf': 8, 'bootstrap': False}. Best is trial 4 with value: 0.9177570093457945.\n",
            "[I 2025-06-08 07:38:54,718] Trial 11 finished with value: 0.9077881619937695 and parameters: {'n_estimators': 126, 'max_depth': 12, 'criterion': 'gini', 'min_samples_split': 7, 'min_samples_leaf': 6, 'bootstrap': True}. Best is trial 4 with value: 0.9177570093457945.\n",
            "[I 2025-06-08 07:39:01,470] Trial 12 finished with value: 0.9180685358255453 and parameters: {'n_estimators': 84, 'max_depth': 16, 'criterion': 'gini', 'min_samples_split': 4, 'min_samples_leaf': 1, 'bootstrap': True}. Best is trial 12 with value: 0.9180685358255453.\n",
            "[I 2025-06-08 07:39:22,189] Trial 13 finished with value: 0.9299065420560748 and parameters: {'n_estimators': 109, 'max_depth': 19, 'criterion': 'entropy', 'min_samples_split': 2, 'min_samples_leaf': 1, 'bootstrap': False}. Best is trial 13 with value: 0.9299065420560748.\n",
            "[I 2025-06-08 07:39:38,332] Trial 14 finished with value: 0.9302180685358256 and parameters: {'n_estimators': 97, 'max_depth': 12, 'criterion': 'entropy', 'min_samples_split': 3, 'min_samples_leaf': 2, 'bootstrap': False}. Best is trial 14 with value: 0.9302180685358256.\n",
            "[I 2025-06-08 07:39:39,250] Trial 15 finished with value: 0.7993769470404984 and parameters: {'n_estimators': 14, 'max_depth': 5, 'criterion': 'gini', 'min_samples_split': 2, 'min_samples_leaf': 7, 'bootstrap': False}. Best is trial 14 with value: 0.9302180685358256.\n",
            "[I 2025-06-08 07:39:40,877] Trial 16 finished with value: 0.8925233644859812 and parameters: {'n_estimators': 21, 'max_depth': 12, 'criterion': 'gini', 'min_samples_split': 6, 'min_samples_leaf': 3, 'bootstrap': True}. Best is trial 14 with value: 0.9302180685358256.\n",
            "[I 2025-06-08 07:39:50,062] Trial 17 finished with value: 0.905607476635514 and parameters: {'n_estimators': 103, 'max_depth': 10, 'criterion': 'gini', 'min_samples_split': 4, 'min_samples_leaf': 10, 'bootstrap': False}. Best is trial 14 with value: 0.9302180685358256.\n",
            "[I 2025-06-08 07:40:08,333] Trial 18 finished with value: 0.9133956386292834 and parameters: {'n_estimators': 200, 'max_depth': 12, 'criterion': 'gini', 'min_samples_split': 7, 'min_samples_leaf': 9, 'bootstrap': False}. Best is trial 14 with value: 0.9302180685358256.\n",
            "[I 2025-06-08 07:40:16,645] Trial 19 finished with value: 0.8978193146417446 and parameters: {'n_estimators': 147, 'max_depth': 7, 'criterion': 'gini', 'min_samples_split': 8, 'min_samples_leaf': 2, 'bootstrap': True}. Best is trial 14 with value: 0.9302180685358256.\n",
            "[I 2025-06-08 07:40:33,020] Trial 20 finished with value: 0.9314641744548288 and parameters: {'n_estimators': 93, 'max_depth': 16, 'criterion': 'entropy', 'min_samples_split': 2, 'min_samples_leaf': 2, 'bootstrap': False}. Best is trial 20 with value: 0.9314641744548288.\n",
            "[I 2025-06-08 07:40:35,889] Trial 21 finished with value: 0.8426791277258567 and parameters: {'n_estimators': 46, 'max_depth': 5, 'criterion': 'gini', 'min_samples_split': 7, 'min_samples_leaf': 2, 'bootstrap': False}. Best is trial 20 with value: 0.9314641744548288.\n",
            "[I 2025-06-08 07:40:54,725] Trial 22 finished with value: 0.928348909657321 and parameters: {'n_estimators': 173, 'max_depth': 18, 'criterion': 'gini', 'min_samples_split': 10, 'min_samples_leaf': 2, 'bootstrap': False}. Best is trial 20 with value: 0.9314641744548288.\n",
            "[I 2025-06-08 07:40:55,897] Trial 23 finished with value: 0.8794392523364486 and parameters: {'n_estimators': 10, 'max_depth': 20, 'criterion': 'gini', 'min_samples_split': 5, 'min_samples_leaf': 4, 'bootstrap': False}. Best is trial 20 with value: 0.9314641744548288.\n",
            "[I 2025-06-08 07:41:05,881] Trial 24 finished with value: 0.8850467289719626 and parameters: {'n_estimators': 142, 'max_depth': 6, 'criterion': 'gini', 'min_samples_split': 9, 'min_samples_leaf': 4, 'bootstrap': False}. Best is trial 20 with value: 0.9314641744548288.\n",
            "[I 2025-06-08 07:41:07,066] Trial 25 finished with value: 0.8725856697819314 and parameters: {'n_estimators': 17, 'max_depth': 10, 'criterion': 'gini', 'min_samples_split': 7, 'min_samples_leaf': 8, 'bootstrap': True}. Best is trial 20 with value: 0.9314641744548288.\n",
            "[I 2025-06-08 07:41:30,616] Trial 26 finished with value: 0.9171339563862928 and parameters: {'n_estimators': 134, 'max_depth': 9, 'criterion': 'entropy', 'min_samples_split': 9, 'min_samples_leaf': 1, 'bootstrap': False}. Best is trial 20 with value: 0.9314641744548288.\n",
            "[I 2025-06-08 07:41:39,452] Trial 27 finished with value: 0.9177570093457943 and parameters: {'n_estimators': 72, 'max_depth': 11, 'criterion': 'entropy', 'min_samples_split': 4, 'min_samples_leaf': 2, 'bootstrap': True}. Best is trial 20 with value: 0.9314641744548288.\n",
            "[I 2025-06-08 07:41:49,656] Trial 28 finished with value: 0.8538940809968848 and parameters: {'n_estimators': 145, 'max_depth': 5, 'criterion': 'entropy', 'min_samples_split': 2, 'min_samples_leaf': 3, 'bootstrap': True}. Best is trial 20 with value: 0.9314641744548288.\n",
            "[I 2025-06-08 07:41:56,842] Trial 29 finished with value: 0.9102803738317757 and parameters: {'n_estimators': 78, 'max_depth': 9, 'criterion': 'gini', 'min_samples_split': 7, 'min_samples_leaf': 6, 'bootstrap': False}. Best is trial 20 with value: 0.9314641744548288.\n",
            "[I 2025-06-08 07:42:02,967] Trial 30 finished with value: 0.8903426791277258 and parameters: {'n_estimators': 101, 'max_depth': 7, 'criterion': 'gini', 'min_samples_split': 9, 'min_samples_leaf': 9, 'bootstrap': True}. Best is trial 20 with value: 0.9314641744548288.\n",
            "[I 2025-06-08 07:42:17,274] Trial 31 finished with value: 0.8473520249221185 and parameters: {'n_estimators': 158, 'max_depth': 5, 'criterion': 'entropy', 'min_samples_split': 9, 'min_samples_leaf': 3, 'bootstrap': False}. Best is trial 20 with value: 0.9314641744548288.\n",
            "[I 2025-06-08 07:42:24,918] Trial 32 finished with value: 0.911214953271028 and parameters: {'n_estimators': 90, 'max_depth': 9, 'criterion': 'gini', 'min_samples_split': 6, 'min_samples_leaf': 6, 'bootstrap': False}. Best is trial 20 with value: 0.9314641744548288.\n",
            "[I 2025-06-08 07:42:46,393] Trial 33 finished with value: 0.9221183800623052 and parameters: {'n_estimators': 136, 'max_depth': 17, 'criterion': 'entropy', 'min_samples_split': 6, 'min_samples_leaf': 5, 'bootstrap': False}. Best is trial 20 with value: 0.9314641744548288.\n",
            "[I 2025-06-08 07:42:55,683] Trial 34 finished with value: 0.733644859813084 and parameters: {'n_estimators': 170, 'max_depth': 3, 'criterion': 'entropy', 'min_samples_split': 3, 'min_samples_leaf': 4, 'bootstrap': False}. Best is trial 20 with value: 0.9314641744548288.\n",
            "[I 2025-06-08 07:42:57,365] Trial 35 finished with value: 0.8850467289719626 and parameters: {'n_estimators': 15, 'max_depth': 10, 'criterion': 'entropy', 'min_samples_split': 8, 'min_samples_leaf': 3, 'bootstrap': True}. Best is trial 20 with value: 0.9314641744548288.\n",
            "[I 2025-06-08 07:43:01,462] Trial 36 finished with value: 0.8962616822429906 and parameters: {'n_estimators': 66, 'max_depth': 16, 'criterion': 'gini', 'min_samples_split': 3, 'min_samples_leaf': 8, 'bootstrap': True}. Best is trial 20 with value: 0.9314641744548288.\n",
            "[I 2025-06-08 07:43:23,216] Trial 37 finished with value: 0.9096573208722741 and parameters: {'n_estimators': 165, 'max_depth': 8, 'criterion': 'entropy', 'min_samples_split': 9, 'min_samples_leaf': 9, 'bootstrap': False}. Best is trial 20 with value: 0.9314641744548288.\n",
            "[I 2025-06-08 07:43:39,927] Trial 38 finished with value: 0.8993769470404984 and parameters: {'n_estimators': 186, 'max_depth': 7, 'criterion': 'entropy', 'min_samples_split': 8, 'min_samples_leaf': 4, 'bootstrap': True}. Best is trial 20 with value: 0.9314641744548288.\n",
            "[I 2025-06-08 07:43:56,012] Trial 39 finished with value: 0.9112149532710282 and parameters: {'n_estimators': 182, 'max_depth': 10, 'criterion': 'gini', 'min_samples_split': 4, 'min_samples_leaf': 9, 'bootstrap': False}. Best is trial 20 with value: 0.9314641744548288.\n",
            "[I 2025-06-08 07:44:12,403] Trial 40 finished with value: 0.9180685358255453 and parameters: {'n_estimators': 157, 'max_depth': 10, 'criterion': 'entropy', 'min_samples_split': 3, 'min_samples_leaf': 4, 'bootstrap': True}. Best is trial 20 with value: 0.9314641744548288.\n",
            "[I 2025-06-08 07:44:25,413] Trial 41 finished with value: 0.908411214953271 and parameters: {'n_estimators': 134, 'max_depth': 8, 'criterion': 'entropy', 'min_samples_split': 3, 'min_samples_leaf': 5, 'bootstrap': True}. Best is trial 20 with value: 0.9314641744548288.\n",
            "[I 2025-06-08 07:44:39,726] Trial 42 finished with value: 0.9165109034267912 and parameters: {'n_estimators': 157, 'max_depth': 17, 'criterion': 'gini', 'min_samples_split': 3, 'min_samples_leaf': 8, 'bootstrap': False}. Best is trial 20 with value: 0.9314641744548288.\n",
            "[I 2025-06-08 07:44:51,893] Trial 43 finished with value: 0.9071651090342681 and parameters: {'n_estimators': 124, 'max_depth': 19, 'criterion': 'entropy', 'min_samples_split': 3, 'min_samples_leaf': 7, 'bootstrap': True}. Best is trial 20 with value: 0.9314641744548288.\n",
            "[I 2025-06-08 07:44:57,560] Trial 44 finished with value: 0.905607476635514 and parameters: {'n_estimators': 66, 'max_depth': 18, 'criterion': 'gini', 'min_samples_split': 2, 'min_samples_leaf': 10, 'bootstrap': False}. Best is trial 20 with value: 0.9314641744548288.\n",
            "[I 2025-06-08 07:45:05,214] Trial 45 finished with value: 0.9205607476635516 and parameters: {'n_estimators': 41, 'max_depth': 20, 'criterion': 'entropy', 'min_samples_split': 3, 'min_samples_leaf': 1, 'bootstrap': False}. Best is trial 20 with value: 0.9314641744548288.\n",
            "[I 2025-06-08 07:45:21,052] Trial 46 finished with value: 0.9074766355140188 and parameters: {'n_estimators': 160, 'max_depth': 16, 'criterion': 'entropy', 'min_samples_split': 5, 'min_samples_leaf': 6, 'bootstrap': True}. Best is trial 20 with value: 0.9314641744548288.\n",
            "[I 2025-06-08 07:45:40,119] Trial 47 finished with value: 0.9165109034267912 and parameters: {'n_estimators': 131, 'max_depth': 10, 'criterion': 'entropy', 'min_samples_split': 10, 'min_samples_leaf': 7, 'bootstrap': False}. Best is trial 20 with value: 0.9314641744548288.\n",
            "[I 2025-06-08 07:45:42,670] Trial 48 finished with value: 0.8987538940809969 and parameters: {'n_estimators': 38, 'max_depth': 15, 'criterion': 'gini', 'min_samples_split': 10, 'min_samples_leaf': 6, 'bootstrap': True}. Best is trial 20 with value: 0.9314641744548288.\n",
            "[I 2025-06-08 07:45:45,338] Trial 49 finished with value: 0.8978193146417446 and parameters: {'n_estimators': 16, 'max_depth': 13, 'criterion': 'entropy', 'min_samples_split': 8, 'min_samples_leaf': 1, 'bootstrap': False}. Best is trial 20 with value: 0.9314641744548288.\n"
          ]
        }
      ]
    },
    {
      "cell_type": "code",
      "source": [
        "print(f'Best Accuracy: {study.best_trial.value}')\n",
        "print(f'Best parameters: {study.best_params}')"
      ],
      "metadata": {
        "colab": {
          "base_uri": "https://localhost:8080/"
        },
        "id": "jFF0ENFBeEIY",
        "outputId": "f1de6923-35bd-46e5-aba7-377b8e8e640c"
      },
      "execution_count": 26,
      "outputs": [
        {
          "output_type": "stream",
          "name": "stdout",
          "text": [
            "Best Accuracy: 0.9314641744548288\n",
            "Best parameters: {'n_estimators': 93, 'max_depth': 16, 'criterion': 'entropy', 'min_samples_split': 2, 'min_samples_leaf': 2, 'bootstrap': False}\n"
          ]
        }
      ]
    },
    {
      "cell_type": "code",
      "source": [
        "from sklearn.metrics import accuracy_score\n",
        "best_model = RandomForestClassifier(**study.best_trial.params, random_state=42)\n",
        "\n",
        "best_model.fit(X_train, y_train)\n",
        "\n",
        "y_pred = best_model.predict(X_test)\n",
        "\n",
        "test_accuracy = accuracy_score(y_test, y_pred)\n",
        "\n",
        "print(f'Accuracy Score: {test_accuracy:.2f}')"
      ],
      "metadata": {
        "colab": {
          "base_uri": "https://localhost:8080/"
        },
        "id": "i_PtaXPBeWZx",
        "outputId": "8e1d0816-52c5-4ffd-edfc-84185a80e24a"
      },
      "execution_count": 27,
      "outputs": [
        {
          "output_type": "stream",
          "name": "stdout",
          "text": [
            "Accuracy Score: 0.93\n"
          ]
        }
      ]
    },
    {
      "cell_type": "markdown",
      "source": [
        "# Optuna Visualizations"
      ],
      "metadata": {
        "id": "afwZmnO3jbBP"
      }
    },
    {
      "cell_type": "code",
      "source": [
        "# For visualizations\n",
        "from optuna.visualization import plot_optimization_history, plot_parallel_coordinate, plot_slice, plot_contour, plot_param_importances"
      ],
      "metadata": {
        "id": "m0IjJxfQeWeN"
      },
      "execution_count": 28,
      "outputs": []
    },
    {
      "cell_type": "code",
      "source": [
        "plot_optimization_history(study).show()"
      ],
      "metadata": {
        "colab": {
          "base_uri": "https://localhost:8080/",
          "height": 542
        },
        "id": "ZMsOojIljuEq",
        "outputId": "989b3e52-6a9e-43ab-d4e5-24b5576e1e91"
      },
      "execution_count": 29,
      "outputs": [
        {
          "output_type": "display_data",
          "data": {
            "text/html": [
              "<html>\n",
              "<head><meta charset=\"utf-8\" /></head>\n",
              "<body>\n",
              "    <div>            <script src=\"https://cdnjs.cloudflare.com/ajax/libs/mathjax/2.7.5/MathJax.js?config=TeX-AMS-MML_SVG\"></script><script type=\"text/javascript\">if (window.MathJax && window.MathJax.Hub && window.MathJax.Hub.Config) {window.MathJax.Hub.Config({SVG: {font: \"STIX-Web\"}});}</script>                <script type=\"text/javascript\">window.PlotlyConfig = {MathJaxConfig: 'local'};</script>\n",
              "        <script charset=\"utf-8\" src=\"https://cdn.plot.ly/plotly-2.35.2.min.js\"></script>                <div id=\"6005b301-cd3b-4543-a35e-a3a8ec8d9cea\" class=\"plotly-graph-div\" style=\"height:525px; width:100%;\"></div>            <script type=\"text/javascript\">                                    window.PLOTLYENV=window.PLOTLYENV || {};                                    if (document.getElementById(\"6005b301-cd3b-4543-a35e-a3a8ec8d9cea\")) {                    Plotly.newPlot(                        \"6005b301-cd3b-4543-a35e-a3a8ec8d9cea\",                        [{\"mode\":\"markers\",\"name\":\"Objective Value\",\"x\":[0,1,2,3,4,5,6,7,8,9,10,11,12,13,14,15,16,17,18,19,20,21,22,23,24,25,26,27,28,29,30,31,32,33,34,35,36,37,38,39,40,41,42,43,44,45,46,47,48,49],\"y\":[0.894392523364486,0.8925233644859814,0.9137071651090343,0.9152647975077881,0.9177570093457945,0.8834890965732087,0.9133956386292835,0.853582554517134,0.9056074766355142,0.9171339563862929,0.9124610591900311,0.9077881619937695,0.9180685358255453,0.9299065420560748,0.9302180685358256,0.7993769470404984,0.8925233644859812,0.905607476635514,0.9133956386292834,0.8978193146417446,0.9314641744548288,0.8426791277258567,0.928348909657321,0.8794392523364486,0.8850467289719626,0.8725856697819314,0.9171339563862928,0.9177570093457943,0.8538940809968848,0.9102803738317757,0.8903426791277258,0.8473520249221185,0.911214953271028,0.9221183800623052,0.733644859813084,0.8850467289719626,0.8962616822429906,0.9096573208722741,0.8993769470404984,0.9112149532710282,0.9180685358255453,0.908411214953271,0.9165109034267912,0.9071651090342681,0.905607476635514,0.9205607476635516,0.9074766355140188,0.9165109034267912,0.8987538940809969,0.8978193146417446],\"type\":\"scatter\"},{\"mode\":\"lines\",\"name\":\"Best Value\",\"x\":[0,1,2,3,4,5,6,7,8,9,10,11,12,13,14,15,16,17,18,19,20,21,22,23,24,25,26,27,28,29,30,31,32,33,34,35,36,37,38,39,40,41,42,43,44,45,46,47,48,49],\"y\":[0.894392523364486,0.894392523364486,0.9137071651090343,0.9152647975077881,0.9177570093457945,0.9177570093457945,0.9177570093457945,0.9177570093457945,0.9177570093457945,0.9177570093457945,0.9177570093457945,0.9177570093457945,0.9180685358255453,0.9299065420560748,0.9302180685358256,0.9302180685358256,0.9302180685358256,0.9302180685358256,0.9302180685358256,0.9302180685358256,0.9314641744548288,0.9314641744548288,0.9314641744548288,0.9314641744548288,0.9314641744548288,0.9314641744548288,0.9314641744548288,0.9314641744548288,0.9314641744548288,0.9314641744548288,0.9314641744548288,0.9314641744548288,0.9314641744548288,0.9314641744548288,0.9314641744548288,0.9314641744548288,0.9314641744548288,0.9314641744548288,0.9314641744548288,0.9314641744548288,0.9314641744548288,0.9314641744548288,0.9314641744548288,0.9314641744548288,0.9314641744548288,0.9314641744548288,0.9314641744548288,0.9314641744548288,0.9314641744548288,0.9314641744548288],\"type\":\"scatter\"},{\"marker\":{\"color\":\"#cccccc\"},\"mode\":\"markers\",\"name\":\"Infeasible Trial\",\"showlegend\":false,\"x\":[],\"y\":[],\"type\":\"scatter\"}],                        {\"title\":{\"text\":\"Optimization History Plot\"},\"xaxis\":{\"title\":{\"text\":\"Trial\"}},\"yaxis\":{\"title\":{\"text\":\"Objective Value\"}},\"template\":{\"data\":{\"histogram2dcontour\":[{\"type\":\"histogram2dcontour\",\"colorbar\":{\"outlinewidth\":0,\"ticks\":\"\"},\"colorscale\":[[0.0,\"#0d0887\"],[0.1111111111111111,\"#46039f\"],[0.2222222222222222,\"#7201a8\"],[0.3333333333333333,\"#9c179e\"],[0.4444444444444444,\"#bd3786\"],[0.5555555555555556,\"#d8576b\"],[0.6666666666666666,\"#ed7953\"],[0.7777777777777778,\"#fb9f3a\"],[0.8888888888888888,\"#fdca26\"],[1.0,\"#f0f921\"]]}],\"choropleth\":[{\"type\":\"choropleth\",\"colorbar\":{\"outlinewidth\":0,\"ticks\":\"\"}}],\"histogram2d\":[{\"type\":\"histogram2d\",\"colorbar\":{\"outlinewidth\":0,\"ticks\":\"\"},\"colorscale\":[[0.0,\"#0d0887\"],[0.1111111111111111,\"#46039f\"],[0.2222222222222222,\"#7201a8\"],[0.3333333333333333,\"#9c179e\"],[0.4444444444444444,\"#bd3786\"],[0.5555555555555556,\"#d8576b\"],[0.6666666666666666,\"#ed7953\"],[0.7777777777777778,\"#fb9f3a\"],[0.8888888888888888,\"#fdca26\"],[1.0,\"#f0f921\"]]}],\"heatmap\":[{\"type\":\"heatmap\",\"colorbar\":{\"outlinewidth\":0,\"ticks\":\"\"},\"colorscale\":[[0.0,\"#0d0887\"],[0.1111111111111111,\"#46039f\"],[0.2222222222222222,\"#7201a8\"],[0.3333333333333333,\"#9c179e\"],[0.4444444444444444,\"#bd3786\"],[0.5555555555555556,\"#d8576b\"],[0.6666666666666666,\"#ed7953\"],[0.7777777777777778,\"#fb9f3a\"],[0.8888888888888888,\"#fdca26\"],[1.0,\"#f0f921\"]]}],\"heatmapgl\":[{\"type\":\"heatmapgl\",\"colorbar\":{\"outlinewidth\":0,\"ticks\":\"\"},\"colorscale\":[[0.0,\"#0d0887\"],[0.1111111111111111,\"#46039f\"],[0.2222222222222222,\"#7201a8\"],[0.3333333333333333,\"#9c179e\"],[0.4444444444444444,\"#bd3786\"],[0.5555555555555556,\"#d8576b\"],[0.6666666666666666,\"#ed7953\"],[0.7777777777777778,\"#fb9f3a\"],[0.8888888888888888,\"#fdca26\"],[1.0,\"#f0f921\"]]}],\"contourcarpet\":[{\"type\":\"contourcarpet\",\"colorbar\":{\"outlinewidth\":0,\"ticks\":\"\"}}],\"contour\":[{\"type\":\"contour\",\"colorbar\":{\"outlinewidth\":0,\"ticks\":\"\"},\"colorscale\":[[0.0,\"#0d0887\"],[0.1111111111111111,\"#46039f\"],[0.2222222222222222,\"#7201a8\"],[0.3333333333333333,\"#9c179e\"],[0.4444444444444444,\"#bd3786\"],[0.5555555555555556,\"#d8576b\"],[0.6666666666666666,\"#ed7953\"],[0.7777777777777778,\"#fb9f3a\"],[0.8888888888888888,\"#fdca26\"],[1.0,\"#f0f921\"]]}],\"surface\":[{\"type\":\"surface\",\"colorbar\":{\"outlinewidth\":0,\"ticks\":\"\"},\"colorscale\":[[0.0,\"#0d0887\"],[0.1111111111111111,\"#46039f\"],[0.2222222222222222,\"#7201a8\"],[0.3333333333333333,\"#9c179e\"],[0.4444444444444444,\"#bd3786\"],[0.5555555555555556,\"#d8576b\"],[0.6666666666666666,\"#ed7953\"],[0.7777777777777778,\"#fb9f3a\"],[0.8888888888888888,\"#fdca26\"],[1.0,\"#f0f921\"]]}],\"mesh3d\":[{\"type\":\"mesh3d\",\"colorbar\":{\"outlinewidth\":0,\"ticks\":\"\"}}],\"scatter\":[{\"fillpattern\":{\"fillmode\":\"overlay\",\"size\":10,\"solidity\":0.2},\"type\":\"scatter\"}],\"parcoords\":[{\"type\":\"parcoords\",\"line\":{\"colorbar\":{\"outlinewidth\":0,\"ticks\":\"\"}}}],\"scatterpolargl\":[{\"type\":\"scatterpolargl\",\"marker\":{\"colorbar\":{\"outlinewidth\":0,\"ticks\":\"\"}}}],\"bar\":[{\"error_x\":{\"color\":\"#2a3f5f\"},\"error_y\":{\"color\":\"#2a3f5f\"},\"marker\":{\"line\":{\"color\":\"#E5ECF6\",\"width\":0.5},\"pattern\":{\"fillmode\":\"overlay\",\"size\":10,\"solidity\":0.2}},\"type\":\"bar\"}],\"scattergeo\":[{\"type\":\"scattergeo\",\"marker\":{\"colorbar\":{\"outlinewidth\":0,\"ticks\":\"\"}}}],\"scatterpolar\":[{\"type\":\"scatterpolar\",\"marker\":{\"colorbar\":{\"outlinewidth\":0,\"ticks\":\"\"}}}],\"histogram\":[{\"marker\":{\"pattern\":{\"fillmode\":\"overlay\",\"size\":10,\"solidity\":0.2}},\"type\":\"histogram\"}],\"scattergl\":[{\"type\":\"scattergl\",\"marker\":{\"colorbar\":{\"outlinewidth\":0,\"ticks\":\"\"}}}],\"scatter3d\":[{\"type\":\"scatter3d\",\"line\":{\"colorbar\":{\"outlinewidth\":0,\"ticks\":\"\"}},\"marker\":{\"colorbar\":{\"outlinewidth\":0,\"ticks\":\"\"}}}],\"scattermapbox\":[{\"type\":\"scattermapbox\",\"marker\":{\"colorbar\":{\"outlinewidth\":0,\"ticks\":\"\"}}}],\"scatterternary\":[{\"type\":\"scatterternary\",\"marker\":{\"colorbar\":{\"outlinewidth\":0,\"ticks\":\"\"}}}],\"scattercarpet\":[{\"type\":\"scattercarpet\",\"marker\":{\"colorbar\":{\"outlinewidth\":0,\"ticks\":\"\"}}}],\"carpet\":[{\"aaxis\":{\"endlinecolor\":\"#2a3f5f\",\"gridcolor\":\"white\",\"linecolor\":\"white\",\"minorgridcolor\":\"white\",\"startlinecolor\":\"#2a3f5f\"},\"baxis\":{\"endlinecolor\":\"#2a3f5f\",\"gridcolor\":\"white\",\"linecolor\":\"white\",\"minorgridcolor\":\"white\",\"startlinecolor\":\"#2a3f5f\"},\"type\":\"carpet\"}],\"table\":[{\"cells\":{\"fill\":{\"color\":\"#EBF0F8\"},\"line\":{\"color\":\"white\"}},\"header\":{\"fill\":{\"color\":\"#C8D4E3\"},\"line\":{\"color\":\"white\"}},\"type\":\"table\"}],\"barpolar\":[{\"marker\":{\"line\":{\"color\":\"#E5ECF6\",\"width\":0.5},\"pattern\":{\"fillmode\":\"overlay\",\"size\":10,\"solidity\":0.2}},\"type\":\"barpolar\"}],\"pie\":[{\"automargin\":true,\"type\":\"pie\"}]},\"layout\":{\"autotypenumbers\":\"strict\",\"colorway\":[\"#636efa\",\"#EF553B\",\"#00cc96\",\"#ab63fa\",\"#FFA15A\",\"#19d3f3\",\"#FF6692\",\"#B6E880\",\"#FF97FF\",\"#FECB52\"],\"font\":{\"color\":\"#2a3f5f\"},\"hovermode\":\"closest\",\"hoverlabel\":{\"align\":\"left\"},\"paper_bgcolor\":\"white\",\"plot_bgcolor\":\"#E5ECF6\",\"polar\":{\"bgcolor\":\"#E5ECF6\",\"angularaxis\":{\"gridcolor\":\"white\",\"linecolor\":\"white\",\"ticks\":\"\"},\"radialaxis\":{\"gridcolor\":\"white\",\"linecolor\":\"white\",\"ticks\":\"\"}},\"ternary\":{\"bgcolor\":\"#E5ECF6\",\"aaxis\":{\"gridcolor\":\"white\",\"linecolor\":\"white\",\"ticks\":\"\"},\"baxis\":{\"gridcolor\":\"white\",\"linecolor\":\"white\",\"ticks\":\"\"},\"caxis\":{\"gridcolor\":\"white\",\"linecolor\":\"white\",\"ticks\":\"\"}},\"coloraxis\":{\"colorbar\":{\"outlinewidth\":0,\"ticks\":\"\"}},\"colorscale\":{\"sequential\":[[0.0,\"#0d0887\"],[0.1111111111111111,\"#46039f\"],[0.2222222222222222,\"#7201a8\"],[0.3333333333333333,\"#9c179e\"],[0.4444444444444444,\"#bd3786\"],[0.5555555555555556,\"#d8576b\"],[0.6666666666666666,\"#ed7953\"],[0.7777777777777778,\"#fb9f3a\"],[0.8888888888888888,\"#fdca26\"],[1.0,\"#f0f921\"]],\"sequentialminus\":[[0.0,\"#0d0887\"],[0.1111111111111111,\"#46039f\"],[0.2222222222222222,\"#7201a8\"],[0.3333333333333333,\"#9c179e\"],[0.4444444444444444,\"#bd3786\"],[0.5555555555555556,\"#d8576b\"],[0.6666666666666666,\"#ed7953\"],[0.7777777777777778,\"#fb9f3a\"],[0.8888888888888888,\"#fdca26\"],[1.0,\"#f0f921\"]],\"diverging\":[[0,\"#8e0152\"],[0.1,\"#c51b7d\"],[0.2,\"#de77ae\"],[0.3,\"#f1b6da\"],[0.4,\"#fde0ef\"],[0.5,\"#f7f7f7\"],[0.6,\"#e6f5d0\"],[0.7,\"#b8e186\"],[0.8,\"#7fbc41\"],[0.9,\"#4d9221\"],[1,\"#276419\"]]},\"xaxis\":{\"gridcolor\":\"white\",\"linecolor\":\"white\",\"ticks\":\"\",\"title\":{\"standoff\":15},\"zerolinecolor\":\"white\",\"automargin\":true,\"zerolinewidth\":2},\"yaxis\":{\"gridcolor\":\"white\",\"linecolor\":\"white\",\"ticks\":\"\",\"title\":{\"standoff\":15},\"zerolinecolor\":\"white\",\"automargin\":true,\"zerolinewidth\":2},\"scene\":{\"xaxis\":{\"backgroundcolor\":\"#E5ECF6\",\"gridcolor\":\"white\",\"linecolor\":\"white\",\"showbackground\":true,\"ticks\":\"\",\"zerolinecolor\":\"white\",\"gridwidth\":2},\"yaxis\":{\"backgroundcolor\":\"#E5ECF6\",\"gridcolor\":\"white\",\"linecolor\":\"white\",\"showbackground\":true,\"ticks\":\"\",\"zerolinecolor\":\"white\",\"gridwidth\":2},\"zaxis\":{\"backgroundcolor\":\"#E5ECF6\",\"gridcolor\":\"white\",\"linecolor\":\"white\",\"showbackground\":true,\"ticks\":\"\",\"zerolinecolor\":\"white\",\"gridwidth\":2}},\"shapedefaults\":{\"line\":{\"color\":\"#2a3f5f\"}},\"annotationdefaults\":{\"arrowcolor\":\"#2a3f5f\",\"arrowhead\":0,\"arrowwidth\":1},\"geo\":{\"bgcolor\":\"white\",\"landcolor\":\"#E5ECF6\",\"subunitcolor\":\"white\",\"showland\":true,\"showlakes\":true,\"lakecolor\":\"white\"},\"title\":{\"x\":0.05},\"mapbox\":{\"style\":\"light\"}}}},                        {\"responsive\": true}                    ).then(function(){\n",
              "                            \n",
              "var gd = document.getElementById('6005b301-cd3b-4543-a35e-a3a8ec8d9cea');\n",
              "var x = new MutationObserver(function (mutations, observer) {{\n",
              "        var display = window.getComputedStyle(gd).display;\n",
              "        if (!display || display === 'none') {{\n",
              "            console.log([gd, 'removed!']);\n",
              "            Plotly.purge(gd);\n",
              "            observer.disconnect();\n",
              "        }}\n",
              "}});\n",
              "\n",
              "// Listen for the removal of the full notebook cells\n",
              "var notebookContainer = gd.closest('#notebook-container');\n",
              "if (notebookContainer) {{\n",
              "    x.observe(notebookContainer, {childList: true});\n",
              "}}\n",
              "\n",
              "// Listen for the clearing of the current output cell\n",
              "var outputEl = gd.closest('.output');\n",
              "if (outputEl) {{\n",
              "    x.observe(outputEl, {childList: true});\n",
              "}}\n",
              "\n",
              "                        })                };                            </script>        </div>\n",
              "</body>\n",
              "</html>"
            ]
          },
          "metadata": {}
        }
      ]
    },
    {
      "cell_type": "code",
      "source": [
        "plot_parallel_coordinate(study).show()"
      ],
      "metadata": {
        "colab": {
          "base_uri": "https://localhost:8080/",
          "height": 542
        },
        "id": "eCOi_xEqjx95",
        "outputId": "124bf0a9-f375-4161-a677-ae921e4e2d6a"
      },
      "execution_count": 31,
      "outputs": [
        {
          "output_type": "display_data",
          "data": {
            "text/html": [
              "<html>\n",
              "<head><meta charset=\"utf-8\" /></head>\n",
              "<body>\n",
              "    <div>            <script src=\"https://cdnjs.cloudflare.com/ajax/libs/mathjax/2.7.5/MathJax.js?config=TeX-AMS-MML_SVG\"></script><script type=\"text/javascript\">if (window.MathJax && window.MathJax.Hub && window.MathJax.Hub.Config) {window.MathJax.Hub.Config({SVG: {font: \"STIX-Web\"}});}</script>                <script type=\"text/javascript\">window.PlotlyConfig = {MathJaxConfig: 'local'};</script>\n",
              "        <script charset=\"utf-8\" src=\"https://cdn.plot.ly/plotly-2.35.2.min.js\"></script>                <div id=\"3d7035a1-4c80-46c6-ae47-0ff2f658805e\" class=\"plotly-graph-div\" style=\"height:525px; width:100%;\"></div>            <script type=\"text/javascript\">                                    window.PLOTLYENV=window.PLOTLYENV || {};                                    if (document.getElementById(\"3d7035a1-4c80-46c6-ae47-0ff2f658805e\")) {                    Plotly.newPlot(                        \"3d7035a1-4c80-46c6-ae47-0ff2f658805e\",                        [{\"dimensions\":[{\"label\":\"Objective Value\",\"range\":[0.733644859813084,0.9314641744548288],\"values\":[0.894392523364486,0.8925233644859814,0.9137071651090343,0.9152647975077881,0.9177570093457945,0.8834890965732087,0.9133956386292835,0.853582554517134,0.9056074766355142,0.9171339563862929,0.9124610591900311,0.9077881619937695,0.9180685358255453,0.9299065420560748,0.9302180685358256,0.7993769470404984,0.8925233644859812,0.905607476635514,0.9133956386292834,0.8978193146417446,0.9314641744548288,0.8426791277258567,0.928348909657321,0.8794392523364486,0.8850467289719626,0.8725856697819314,0.9171339563862928,0.9177570093457943,0.8538940809968848,0.9102803738317757,0.8903426791277258,0.8473520249221185,0.911214953271028,0.9221183800623052,0.733644859813084,0.8850467289719626,0.8962616822429906,0.9096573208722741,0.8993769470404984,0.9112149532710282,0.9180685358255453,0.908411214953271,0.9165109034267912,0.9071651090342681,0.905607476635514,0.9205607476635516,0.9074766355140188,0.9165109034267912,0.8987538940809969,0.8978193146417446]},{\"label\":\"bootstrap\",\"range\":[0,1],\"ticktext\":[\"True\",\"False\"],\"tickvals\":[0,1],\"values\":[0,0,0,1,1,1,1,0,0,1,1,0,0,1,1,1,0,1,1,0,1,1,1,1,1,0,1,0,0,1,0,1,1,1,1,0,0,1,0,1,0,0,1,0,1,1,0,1,0,1]},{\"label\":\"criterion\",\"range\":[0,1],\"ticktext\":[\"gini\",\"entropy\"],\"tickvals\":[0,1],\"values\":[0,1,0,1,0,1,1,1,1,1,1,0,0,1,1,0,0,0,0,0,1,0,0,0,0,0,1,1,1,0,0,1,0,1,1,1,0,1,1,0,1,1,0,1,0,1,1,1,0,1]},{\"label\":\"max_depth\",\"range\":[3,20],\"values\":[14,7,10,11,17,6,10,5,8,8,10,12,16,19,12,5,12,10,12,7,16,5,18,20,6,10,9,11,5,9,7,5,9,17,3,10,16,8,7,10,10,8,17,19,18,20,16,10,15,13]},{\"label\":\"min_samples_leaf\",\"range\":[1,10],\"values\":[5,1,2,5,7,6,7,8,6,2,8,6,1,1,2,7,3,10,9,2,2,2,2,4,4,8,1,2,3,6,9,3,6,5,4,3,8,9,4,9,4,5,8,7,10,1,6,7,6,1]},{\"label\":\"min_samples_split\",\"range\":[2,10],\"values\":[8,2,5,3,9,3,9,3,6,2,3,7,4,2,3,2,6,4,7,8,2,7,10,5,9,7,9,4,2,7,9,9,6,6,3,8,3,9,8,4,3,3,3,3,2,3,5,10,10,8]},{\"label\":\"n_estimators\",\"range\":[10,200],\"values\":[24,45,143,40,125,145,133,191,143,63,75,126,84,109,97,14,21,103,200,147,93,46,173,10,142,17,134,72,145,78,101,158,90,136,170,15,66,165,186,182,157,134,157,124,66,41,160,131,38,16]}],\"labelangle\":30,\"labelside\":\"bottom\",\"line\":{\"color\":[0.894392523364486,0.8925233644859814,0.9137071651090343,0.9152647975077881,0.9177570093457945,0.8834890965732087,0.9133956386292835,0.853582554517134,0.9056074766355142,0.9171339563862929,0.9124610591900311,0.9077881619937695,0.9180685358255453,0.9299065420560748,0.9302180685358256,0.7993769470404984,0.8925233644859812,0.905607476635514,0.9133956386292834,0.8978193146417446,0.9314641744548288,0.8426791277258567,0.928348909657321,0.8794392523364486,0.8850467289719626,0.8725856697819314,0.9171339563862928,0.9177570093457943,0.8538940809968848,0.9102803738317757,0.8903426791277258,0.8473520249221185,0.911214953271028,0.9221183800623052,0.733644859813084,0.8850467289719626,0.8962616822429906,0.9096573208722741,0.8993769470404984,0.9112149532710282,0.9180685358255453,0.908411214953271,0.9165109034267912,0.9071651090342681,0.905607476635514,0.9205607476635516,0.9074766355140188,0.9165109034267912,0.8987538940809969,0.8978193146417446],\"colorbar\":{\"title\":{\"text\":\"Objective Value\"}},\"colorscale\":[[0.0,\"rgb(247,251,255)\"],[0.125,\"rgb(222,235,247)\"],[0.25,\"rgb(198,219,239)\"],[0.375,\"rgb(158,202,225)\"],[0.5,\"rgb(107,174,214)\"],[0.625,\"rgb(66,146,198)\"],[0.75,\"rgb(33,113,181)\"],[0.875,\"rgb(8,81,156)\"],[1.0,\"rgb(8,48,107)\"]],\"reversescale\":false,\"showscale\":true},\"type\":\"parcoords\"}],                        {\"title\":{\"text\":\"Parallel Coordinate Plot\"},\"template\":{\"data\":{\"histogram2dcontour\":[{\"type\":\"histogram2dcontour\",\"colorbar\":{\"outlinewidth\":0,\"ticks\":\"\"},\"colorscale\":[[0.0,\"#0d0887\"],[0.1111111111111111,\"#46039f\"],[0.2222222222222222,\"#7201a8\"],[0.3333333333333333,\"#9c179e\"],[0.4444444444444444,\"#bd3786\"],[0.5555555555555556,\"#d8576b\"],[0.6666666666666666,\"#ed7953\"],[0.7777777777777778,\"#fb9f3a\"],[0.8888888888888888,\"#fdca26\"],[1.0,\"#f0f921\"]]}],\"choropleth\":[{\"type\":\"choropleth\",\"colorbar\":{\"outlinewidth\":0,\"ticks\":\"\"}}],\"histogram2d\":[{\"type\":\"histogram2d\",\"colorbar\":{\"outlinewidth\":0,\"ticks\":\"\"},\"colorscale\":[[0.0,\"#0d0887\"],[0.1111111111111111,\"#46039f\"],[0.2222222222222222,\"#7201a8\"],[0.3333333333333333,\"#9c179e\"],[0.4444444444444444,\"#bd3786\"],[0.5555555555555556,\"#d8576b\"],[0.6666666666666666,\"#ed7953\"],[0.7777777777777778,\"#fb9f3a\"],[0.8888888888888888,\"#fdca26\"],[1.0,\"#f0f921\"]]}],\"heatmap\":[{\"type\":\"heatmap\",\"colorbar\":{\"outlinewidth\":0,\"ticks\":\"\"},\"colorscale\":[[0.0,\"#0d0887\"],[0.1111111111111111,\"#46039f\"],[0.2222222222222222,\"#7201a8\"],[0.3333333333333333,\"#9c179e\"],[0.4444444444444444,\"#bd3786\"],[0.5555555555555556,\"#d8576b\"],[0.6666666666666666,\"#ed7953\"],[0.7777777777777778,\"#fb9f3a\"],[0.8888888888888888,\"#fdca26\"],[1.0,\"#f0f921\"]]}],\"heatmapgl\":[{\"type\":\"heatmapgl\",\"colorbar\":{\"outlinewidth\":0,\"ticks\":\"\"},\"colorscale\":[[0.0,\"#0d0887\"],[0.1111111111111111,\"#46039f\"],[0.2222222222222222,\"#7201a8\"],[0.3333333333333333,\"#9c179e\"],[0.4444444444444444,\"#bd3786\"],[0.5555555555555556,\"#d8576b\"],[0.6666666666666666,\"#ed7953\"],[0.7777777777777778,\"#fb9f3a\"],[0.8888888888888888,\"#fdca26\"],[1.0,\"#f0f921\"]]}],\"contourcarpet\":[{\"type\":\"contourcarpet\",\"colorbar\":{\"outlinewidth\":0,\"ticks\":\"\"}}],\"contour\":[{\"type\":\"contour\",\"colorbar\":{\"outlinewidth\":0,\"ticks\":\"\"},\"colorscale\":[[0.0,\"#0d0887\"],[0.1111111111111111,\"#46039f\"],[0.2222222222222222,\"#7201a8\"],[0.3333333333333333,\"#9c179e\"],[0.4444444444444444,\"#bd3786\"],[0.5555555555555556,\"#d8576b\"],[0.6666666666666666,\"#ed7953\"],[0.7777777777777778,\"#fb9f3a\"],[0.8888888888888888,\"#fdca26\"],[1.0,\"#f0f921\"]]}],\"surface\":[{\"type\":\"surface\",\"colorbar\":{\"outlinewidth\":0,\"ticks\":\"\"},\"colorscale\":[[0.0,\"#0d0887\"],[0.1111111111111111,\"#46039f\"],[0.2222222222222222,\"#7201a8\"],[0.3333333333333333,\"#9c179e\"],[0.4444444444444444,\"#bd3786\"],[0.5555555555555556,\"#d8576b\"],[0.6666666666666666,\"#ed7953\"],[0.7777777777777778,\"#fb9f3a\"],[0.8888888888888888,\"#fdca26\"],[1.0,\"#f0f921\"]]}],\"mesh3d\":[{\"type\":\"mesh3d\",\"colorbar\":{\"outlinewidth\":0,\"ticks\":\"\"}}],\"scatter\":[{\"fillpattern\":{\"fillmode\":\"overlay\",\"size\":10,\"solidity\":0.2},\"type\":\"scatter\"}],\"parcoords\":[{\"type\":\"parcoords\",\"line\":{\"colorbar\":{\"outlinewidth\":0,\"ticks\":\"\"}}}],\"scatterpolargl\":[{\"type\":\"scatterpolargl\",\"marker\":{\"colorbar\":{\"outlinewidth\":0,\"ticks\":\"\"}}}],\"bar\":[{\"error_x\":{\"color\":\"#2a3f5f\"},\"error_y\":{\"color\":\"#2a3f5f\"},\"marker\":{\"line\":{\"color\":\"#E5ECF6\",\"width\":0.5},\"pattern\":{\"fillmode\":\"overlay\",\"size\":10,\"solidity\":0.2}},\"type\":\"bar\"}],\"scattergeo\":[{\"type\":\"scattergeo\",\"marker\":{\"colorbar\":{\"outlinewidth\":0,\"ticks\":\"\"}}}],\"scatterpolar\":[{\"type\":\"scatterpolar\",\"marker\":{\"colorbar\":{\"outlinewidth\":0,\"ticks\":\"\"}}}],\"histogram\":[{\"marker\":{\"pattern\":{\"fillmode\":\"overlay\",\"size\":10,\"solidity\":0.2}},\"type\":\"histogram\"}],\"scattergl\":[{\"type\":\"scattergl\",\"marker\":{\"colorbar\":{\"outlinewidth\":0,\"ticks\":\"\"}}}],\"scatter3d\":[{\"type\":\"scatter3d\",\"line\":{\"colorbar\":{\"outlinewidth\":0,\"ticks\":\"\"}},\"marker\":{\"colorbar\":{\"outlinewidth\":0,\"ticks\":\"\"}}}],\"scattermapbox\":[{\"type\":\"scattermapbox\",\"marker\":{\"colorbar\":{\"outlinewidth\":0,\"ticks\":\"\"}}}],\"scatterternary\":[{\"type\":\"scatterternary\",\"marker\":{\"colorbar\":{\"outlinewidth\":0,\"ticks\":\"\"}}}],\"scattercarpet\":[{\"type\":\"scattercarpet\",\"marker\":{\"colorbar\":{\"outlinewidth\":0,\"ticks\":\"\"}}}],\"carpet\":[{\"aaxis\":{\"endlinecolor\":\"#2a3f5f\",\"gridcolor\":\"white\",\"linecolor\":\"white\",\"minorgridcolor\":\"white\",\"startlinecolor\":\"#2a3f5f\"},\"baxis\":{\"endlinecolor\":\"#2a3f5f\",\"gridcolor\":\"white\",\"linecolor\":\"white\",\"minorgridcolor\":\"white\",\"startlinecolor\":\"#2a3f5f\"},\"type\":\"carpet\"}],\"table\":[{\"cells\":{\"fill\":{\"color\":\"#EBF0F8\"},\"line\":{\"color\":\"white\"}},\"header\":{\"fill\":{\"color\":\"#C8D4E3\"},\"line\":{\"color\":\"white\"}},\"type\":\"table\"}],\"barpolar\":[{\"marker\":{\"line\":{\"color\":\"#E5ECF6\",\"width\":0.5},\"pattern\":{\"fillmode\":\"overlay\",\"size\":10,\"solidity\":0.2}},\"type\":\"barpolar\"}],\"pie\":[{\"automargin\":true,\"type\":\"pie\"}]},\"layout\":{\"autotypenumbers\":\"strict\",\"colorway\":[\"#636efa\",\"#EF553B\",\"#00cc96\",\"#ab63fa\",\"#FFA15A\",\"#19d3f3\",\"#FF6692\",\"#B6E880\",\"#FF97FF\",\"#FECB52\"],\"font\":{\"color\":\"#2a3f5f\"},\"hovermode\":\"closest\",\"hoverlabel\":{\"align\":\"left\"},\"paper_bgcolor\":\"white\",\"plot_bgcolor\":\"#E5ECF6\",\"polar\":{\"bgcolor\":\"#E5ECF6\",\"angularaxis\":{\"gridcolor\":\"white\",\"linecolor\":\"white\",\"ticks\":\"\"},\"radialaxis\":{\"gridcolor\":\"white\",\"linecolor\":\"white\",\"ticks\":\"\"}},\"ternary\":{\"bgcolor\":\"#E5ECF6\",\"aaxis\":{\"gridcolor\":\"white\",\"linecolor\":\"white\",\"ticks\":\"\"},\"baxis\":{\"gridcolor\":\"white\",\"linecolor\":\"white\",\"ticks\":\"\"},\"caxis\":{\"gridcolor\":\"white\",\"linecolor\":\"white\",\"ticks\":\"\"}},\"coloraxis\":{\"colorbar\":{\"outlinewidth\":0,\"ticks\":\"\"}},\"colorscale\":{\"sequential\":[[0.0,\"#0d0887\"],[0.1111111111111111,\"#46039f\"],[0.2222222222222222,\"#7201a8\"],[0.3333333333333333,\"#9c179e\"],[0.4444444444444444,\"#bd3786\"],[0.5555555555555556,\"#d8576b\"],[0.6666666666666666,\"#ed7953\"],[0.7777777777777778,\"#fb9f3a\"],[0.8888888888888888,\"#fdca26\"],[1.0,\"#f0f921\"]],\"sequentialminus\":[[0.0,\"#0d0887\"],[0.1111111111111111,\"#46039f\"],[0.2222222222222222,\"#7201a8\"],[0.3333333333333333,\"#9c179e\"],[0.4444444444444444,\"#bd3786\"],[0.5555555555555556,\"#d8576b\"],[0.6666666666666666,\"#ed7953\"],[0.7777777777777778,\"#fb9f3a\"],[0.8888888888888888,\"#fdca26\"],[1.0,\"#f0f921\"]],\"diverging\":[[0,\"#8e0152\"],[0.1,\"#c51b7d\"],[0.2,\"#de77ae\"],[0.3,\"#f1b6da\"],[0.4,\"#fde0ef\"],[0.5,\"#f7f7f7\"],[0.6,\"#e6f5d0\"],[0.7,\"#b8e186\"],[0.8,\"#7fbc41\"],[0.9,\"#4d9221\"],[1,\"#276419\"]]},\"xaxis\":{\"gridcolor\":\"white\",\"linecolor\":\"white\",\"ticks\":\"\",\"title\":{\"standoff\":15},\"zerolinecolor\":\"white\",\"automargin\":true,\"zerolinewidth\":2},\"yaxis\":{\"gridcolor\":\"white\",\"linecolor\":\"white\",\"ticks\":\"\",\"title\":{\"standoff\":15},\"zerolinecolor\":\"white\",\"automargin\":true,\"zerolinewidth\":2},\"scene\":{\"xaxis\":{\"backgroundcolor\":\"#E5ECF6\",\"gridcolor\":\"white\",\"linecolor\":\"white\",\"showbackground\":true,\"ticks\":\"\",\"zerolinecolor\":\"white\",\"gridwidth\":2},\"yaxis\":{\"backgroundcolor\":\"#E5ECF6\",\"gridcolor\":\"white\",\"linecolor\":\"white\",\"showbackground\":true,\"ticks\":\"\",\"zerolinecolor\":\"white\",\"gridwidth\":2},\"zaxis\":{\"backgroundcolor\":\"#E5ECF6\",\"gridcolor\":\"white\",\"linecolor\":\"white\",\"showbackground\":true,\"ticks\":\"\",\"zerolinecolor\":\"white\",\"gridwidth\":2}},\"shapedefaults\":{\"line\":{\"color\":\"#2a3f5f\"}},\"annotationdefaults\":{\"arrowcolor\":\"#2a3f5f\",\"arrowhead\":0,\"arrowwidth\":1},\"geo\":{\"bgcolor\":\"white\",\"landcolor\":\"#E5ECF6\",\"subunitcolor\":\"white\",\"showland\":true,\"showlakes\":true,\"lakecolor\":\"white\"},\"title\":{\"x\":0.05},\"mapbox\":{\"style\":\"light\"}}}},                        {\"responsive\": true}                    ).then(function(){\n",
              "                            \n",
              "var gd = document.getElementById('3d7035a1-4c80-46c6-ae47-0ff2f658805e');\n",
              "var x = new MutationObserver(function (mutations, observer) {{\n",
              "        var display = window.getComputedStyle(gd).display;\n",
              "        if (!display || display === 'none') {{\n",
              "            console.log([gd, 'removed!']);\n",
              "            Plotly.purge(gd);\n",
              "            observer.disconnect();\n",
              "        }}\n",
              "}});\n",
              "\n",
              "// Listen for the removal of the full notebook cells\n",
              "var notebookContainer = gd.closest('#notebook-container');\n",
              "if (notebookContainer) {{\n",
              "    x.observe(notebookContainer, {childList: true});\n",
              "}}\n",
              "\n",
              "// Listen for the clearing of the current output cell\n",
              "var outputEl = gd.closest('.output');\n",
              "if (outputEl) {{\n",
              "    x.observe(outputEl, {childList: true});\n",
              "}}\n",
              "\n",
              "                        })                };                            </script>        </div>\n",
              "</body>\n",
              "</html>"
            ]
          },
          "metadata": {}
        }
      ]
    },
    {
      "cell_type": "code",
      "source": [
        "plot_slice(study).show()"
      ],
      "metadata": {
        "colab": {
          "base_uri": "https://localhost:8080/",
          "height": 562
        },
        "id": "vbJ_jDadj39r",
        "outputId": "1ff837c7-1e27-4811-caaf-b9f11100c1fc"
      },
      "execution_count": 32,
      "outputs": [
        {
          "output_type": "display_data",
          "data": {
            "text/html": [
              "<html>\n",
              "<head><meta charset=\"utf-8\" /></head>\n",
              "<body>\n",
              "    <div>            <script src=\"https://cdnjs.cloudflare.com/ajax/libs/mathjax/2.7.5/MathJax.js?config=TeX-AMS-MML_SVG\"></script><script type=\"text/javascript\">if (window.MathJax && window.MathJax.Hub && window.MathJax.Hub.Config) {window.MathJax.Hub.Config({SVG: {font: \"STIX-Web\"}});}</script>                <script type=\"text/javascript\">window.PlotlyConfig = {MathJaxConfig: 'local'};</script>\n",
              "        <script charset=\"utf-8\" src=\"https://cdn.plot.ly/plotly-2.35.2.min.js\"></script>                <div id=\"32cf287c-d171-4078-a903-4628f6361669\" class=\"plotly-graph-div\" style=\"height:525px; width:1800px;\"></div>            <script type=\"text/javascript\">                                    window.PLOTLYENV=window.PLOTLYENV || {};                                    if (document.getElementById(\"32cf287c-d171-4078-a903-4628f6361669\")) {                    Plotly.newPlot(                        \"32cf287c-d171-4078-a903-4628f6361669\",                        [{\"marker\":{\"color\":[0,1,2,3,4,5,6,7,8,9,10,11,12,13,14,15,16,17,18,19,20,21,22,23,24,25,26,27,28,29,30,31,32,33,34,35,36,37,38,39,40,41,42,43,44,45,46,47,48,49],\"colorbar\":{\"title\":{\"text\":\"Trial\"},\"x\":1.0,\"xpad\":40},\"colorscale\":[[0.0,\"rgb(247,251,255)\"],[0.125,\"rgb(222,235,247)\"],[0.25,\"rgb(198,219,239)\"],[0.375,\"rgb(158,202,225)\"],[0.5,\"rgb(107,174,214)\"],[0.625,\"rgb(66,146,198)\"],[0.75,\"rgb(33,113,181)\"],[0.875,\"rgb(8,81,156)\"],[1.0,\"rgb(8,48,107)\"]],\"line\":{\"color\":\"Grey\",\"width\":0.5},\"showscale\":true},\"mode\":\"markers\",\"name\":\"Feasible Trial\",\"showlegend\":false,\"x\":[true,true,true,false,false,false,false,true,true,false,false,true,true,false,false,false,true,false,false,true,false,false,false,false,false,true,false,true,true,false,true,false,false,false,false,true,true,false,true,false,true,true,false,true,false,false,true,false,true,false],\"y\":[0.894392523364486,0.8925233644859814,0.9137071651090343,0.9152647975077881,0.9177570093457945,0.8834890965732087,0.9133956386292835,0.853582554517134,0.9056074766355142,0.9171339563862929,0.9124610591900311,0.9077881619937695,0.9180685358255453,0.9299065420560748,0.9302180685358256,0.7993769470404984,0.8925233644859812,0.905607476635514,0.9133956386292834,0.8978193146417446,0.9314641744548288,0.8426791277258567,0.928348909657321,0.8794392523364486,0.8850467289719626,0.8725856697819314,0.9171339563862928,0.9177570093457943,0.8538940809968848,0.9102803738317757,0.8903426791277258,0.8473520249221185,0.911214953271028,0.9221183800623052,0.733644859813084,0.8850467289719626,0.8962616822429906,0.9096573208722741,0.8993769470404984,0.9112149532710282,0.9180685358255453,0.908411214953271,0.9165109034267912,0.9071651090342681,0.905607476635514,0.9205607476635516,0.9074766355140188,0.9165109034267912,0.8987538940809969,0.8978193146417446],\"type\":\"scatter\",\"xaxis\":\"x\",\"yaxis\":\"y\"},{\"marker\":{\"color\":[0,1,2,3,4,5,6,7,8,9,10,11,12,13,14,15,16,17,18,19,20,21,22,23,24,25,26,27,28,29,30,31,32,33,34,35,36,37,38,39,40,41,42,43,44,45,46,47,48,49],\"colorbar\":{\"title\":{\"text\":\"Trial\"},\"x\":1.0,\"xpad\":40},\"colorscale\":[[0.0,\"rgb(247,251,255)\"],[0.125,\"rgb(222,235,247)\"],[0.25,\"rgb(198,219,239)\"],[0.375,\"rgb(158,202,225)\"],[0.5,\"rgb(107,174,214)\"],[0.625,\"rgb(66,146,198)\"],[0.75,\"rgb(33,113,181)\"],[0.875,\"rgb(8,81,156)\"],[1.0,\"rgb(8,48,107)\"]],\"line\":{\"color\":\"Grey\",\"width\":0.5},\"showscale\":false},\"mode\":\"markers\",\"name\":\"Feasible Trial\",\"showlegend\":false,\"x\":[\"gini\",\"entropy\",\"gini\",\"entropy\",\"gini\",\"entropy\",\"entropy\",\"entropy\",\"entropy\",\"entropy\",\"entropy\",\"gini\",\"gini\",\"entropy\",\"entropy\",\"gini\",\"gini\",\"gini\",\"gini\",\"gini\",\"entropy\",\"gini\",\"gini\",\"gini\",\"gini\",\"gini\",\"entropy\",\"entropy\",\"entropy\",\"gini\",\"gini\",\"entropy\",\"gini\",\"entropy\",\"entropy\",\"entropy\",\"gini\",\"entropy\",\"entropy\",\"gini\",\"entropy\",\"entropy\",\"gini\",\"entropy\",\"gini\",\"entropy\",\"entropy\",\"entropy\",\"gini\",\"entropy\"],\"y\":[0.894392523364486,0.8925233644859814,0.9137071651090343,0.9152647975077881,0.9177570093457945,0.8834890965732087,0.9133956386292835,0.853582554517134,0.9056074766355142,0.9171339563862929,0.9124610591900311,0.9077881619937695,0.9180685358255453,0.9299065420560748,0.9302180685358256,0.7993769470404984,0.8925233644859812,0.905607476635514,0.9133956386292834,0.8978193146417446,0.9314641744548288,0.8426791277258567,0.928348909657321,0.8794392523364486,0.8850467289719626,0.8725856697819314,0.9171339563862928,0.9177570093457943,0.8538940809968848,0.9102803738317757,0.8903426791277258,0.8473520249221185,0.911214953271028,0.9221183800623052,0.733644859813084,0.8850467289719626,0.8962616822429906,0.9096573208722741,0.8993769470404984,0.9112149532710282,0.9180685358255453,0.908411214953271,0.9165109034267912,0.9071651090342681,0.905607476635514,0.9205607476635516,0.9074766355140188,0.9165109034267912,0.8987538940809969,0.8978193146417446],\"type\":\"scatter\",\"xaxis\":\"x2\",\"yaxis\":\"y2\"},{\"marker\":{\"color\":[0,1,2,3,4,5,6,7,8,9,10,11,12,13,14,15,16,17,18,19,20,21,22,23,24,25,26,27,28,29,30,31,32,33,34,35,36,37,38,39,40,41,42,43,44,45,46,47,48,49],\"colorbar\":{\"title\":{\"text\":\"Trial\"},\"x\":1.0,\"xpad\":40},\"colorscale\":[[0.0,\"rgb(247,251,255)\"],[0.125,\"rgb(222,235,247)\"],[0.25,\"rgb(198,219,239)\"],[0.375,\"rgb(158,202,225)\"],[0.5,\"rgb(107,174,214)\"],[0.625,\"rgb(66,146,198)\"],[0.75,\"rgb(33,113,181)\"],[0.875,\"rgb(8,81,156)\"],[1.0,\"rgb(8,48,107)\"]],\"line\":{\"color\":\"Grey\",\"width\":0.5},\"showscale\":false},\"mode\":\"markers\",\"name\":\"Feasible Trial\",\"showlegend\":false,\"x\":[14,7,10,11,17,6,10,5,8,8,10,12,16,19,12,5,12,10,12,7,16,5,18,20,6,10,9,11,5,9,7,5,9,17,3,10,16,8,7,10,10,8,17,19,18,20,16,10,15,13],\"y\":[0.894392523364486,0.8925233644859814,0.9137071651090343,0.9152647975077881,0.9177570093457945,0.8834890965732087,0.9133956386292835,0.853582554517134,0.9056074766355142,0.9171339563862929,0.9124610591900311,0.9077881619937695,0.9180685358255453,0.9299065420560748,0.9302180685358256,0.7993769470404984,0.8925233644859812,0.905607476635514,0.9133956386292834,0.8978193146417446,0.9314641744548288,0.8426791277258567,0.928348909657321,0.8794392523364486,0.8850467289719626,0.8725856697819314,0.9171339563862928,0.9177570093457943,0.8538940809968848,0.9102803738317757,0.8903426791277258,0.8473520249221185,0.911214953271028,0.9221183800623052,0.733644859813084,0.8850467289719626,0.8962616822429906,0.9096573208722741,0.8993769470404984,0.9112149532710282,0.9180685358255453,0.908411214953271,0.9165109034267912,0.9071651090342681,0.905607476635514,0.9205607476635516,0.9074766355140188,0.9165109034267912,0.8987538940809969,0.8978193146417446],\"type\":\"scatter\",\"xaxis\":\"x3\",\"yaxis\":\"y3\"},{\"marker\":{\"color\":[0,1,2,3,4,5,6,7,8,9,10,11,12,13,14,15,16,17,18,19,20,21,22,23,24,25,26,27,28,29,30,31,32,33,34,35,36,37,38,39,40,41,42,43,44,45,46,47,48,49],\"colorbar\":{\"title\":{\"text\":\"Trial\"},\"x\":1.0,\"xpad\":40},\"colorscale\":[[0.0,\"rgb(247,251,255)\"],[0.125,\"rgb(222,235,247)\"],[0.25,\"rgb(198,219,239)\"],[0.375,\"rgb(158,202,225)\"],[0.5,\"rgb(107,174,214)\"],[0.625,\"rgb(66,146,198)\"],[0.75,\"rgb(33,113,181)\"],[0.875,\"rgb(8,81,156)\"],[1.0,\"rgb(8,48,107)\"]],\"line\":{\"color\":\"Grey\",\"width\":0.5},\"showscale\":false},\"mode\":\"markers\",\"name\":\"Feasible Trial\",\"showlegend\":false,\"x\":[5,1,2,5,7,6,7,8,6,2,8,6,1,1,2,7,3,10,9,2,2,2,2,4,4,8,1,2,3,6,9,3,6,5,4,3,8,9,4,9,4,5,8,7,10,1,6,7,6,1],\"y\":[0.894392523364486,0.8925233644859814,0.9137071651090343,0.9152647975077881,0.9177570093457945,0.8834890965732087,0.9133956386292835,0.853582554517134,0.9056074766355142,0.9171339563862929,0.9124610591900311,0.9077881619937695,0.9180685358255453,0.9299065420560748,0.9302180685358256,0.7993769470404984,0.8925233644859812,0.905607476635514,0.9133956386292834,0.8978193146417446,0.9314641744548288,0.8426791277258567,0.928348909657321,0.8794392523364486,0.8850467289719626,0.8725856697819314,0.9171339563862928,0.9177570093457943,0.8538940809968848,0.9102803738317757,0.8903426791277258,0.8473520249221185,0.911214953271028,0.9221183800623052,0.733644859813084,0.8850467289719626,0.8962616822429906,0.9096573208722741,0.8993769470404984,0.9112149532710282,0.9180685358255453,0.908411214953271,0.9165109034267912,0.9071651090342681,0.905607476635514,0.9205607476635516,0.9074766355140188,0.9165109034267912,0.8987538940809969,0.8978193146417446],\"type\":\"scatter\",\"xaxis\":\"x4\",\"yaxis\":\"y4\"},{\"marker\":{\"color\":[0,1,2,3,4,5,6,7,8,9,10,11,12,13,14,15,16,17,18,19,20,21,22,23,24,25,26,27,28,29,30,31,32,33,34,35,36,37,38,39,40,41,42,43,44,45,46,47,48,49],\"colorbar\":{\"title\":{\"text\":\"Trial\"},\"x\":1.0,\"xpad\":40},\"colorscale\":[[0.0,\"rgb(247,251,255)\"],[0.125,\"rgb(222,235,247)\"],[0.25,\"rgb(198,219,239)\"],[0.375,\"rgb(158,202,225)\"],[0.5,\"rgb(107,174,214)\"],[0.625,\"rgb(66,146,198)\"],[0.75,\"rgb(33,113,181)\"],[0.875,\"rgb(8,81,156)\"],[1.0,\"rgb(8,48,107)\"]],\"line\":{\"color\":\"Grey\",\"width\":0.5},\"showscale\":false},\"mode\":\"markers\",\"name\":\"Feasible Trial\",\"showlegend\":false,\"x\":[8,2,5,3,9,3,9,3,6,2,3,7,4,2,3,2,6,4,7,8,2,7,10,5,9,7,9,4,2,7,9,9,6,6,3,8,3,9,8,4,3,3,3,3,2,3,5,10,10,8],\"y\":[0.894392523364486,0.8925233644859814,0.9137071651090343,0.9152647975077881,0.9177570093457945,0.8834890965732087,0.9133956386292835,0.853582554517134,0.9056074766355142,0.9171339563862929,0.9124610591900311,0.9077881619937695,0.9180685358255453,0.9299065420560748,0.9302180685358256,0.7993769470404984,0.8925233644859812,0.905607476635514,0.9133956386292834,0.8978193146417446,0.9314641744548288,0.8426791277258567,0.928348909657321,0.8794392523364486,0.8850467289719626,0.8725856697819314,0.9171339563862928,0.9177570093457943,0.8538940809968848,0.9102803738317757,0.8903426791277258,0.8473520249221185,0.911214953271028,0.9221183800623052,0.733644859813084,0.8850467289719626,0.8962616822429906,0.9096573208722741,0.8993769470404984,0.9112149532710282,0.9180685358255453,0.908411214953271,0.9165109034267912,0.9071651090342681,0.905607476635514,0.9205607476635516,0.9074766355140188,0.9165109034267912,0.8987538940809969,0.8978193146417446],\"type\":\"scatter\",\"xaxis\":\"x5\",\"yaxis\":\"y5\"},{\"marker\":{\"color\":[0,1,2,3,4,5,6,7,8,9,10,11,12,13,14,15,16,17,18,19,20,21,22,23,24,25,26,27,28,29,30,31,32,33,34,35,36,37,38,39,40,41,42,43,44,45,46,47,48,49],\"colorbar\":{\"title\":{\"text\":\"Trial\"},\"x\":1.0,\"xpad\":40},\"colorscale\":[[0.0,\"rgb(247,251,255)\"],[0.125,\"rgb(222,235,247)\"],[0.25,\"rgb(198,219,239)\"],[0.375,\"rgb(158,202,225)\"],[0.5,\"rgb(107,174,214)\"],[0.625,\"rgb(66,146,198)\"],[0.75,\"rgb(33,113,181)\"],[0.875,\"rgb(8,81,156)\"],[1.0,\"rgb(8,48,107)\"]],\"line\":{\"color\":\"Grey\",\"width\":0.5},\"showscale\":false},\"mode\":\"markers\",\"name\":\"Feasible Trial\",\"showlegend\":false,\"x\":[24,45,143,40,125,145,133,191,143,63,75,126,84,109,97,14,21,103,200,147,93,46,173,10,142,17,134,72,145,78,101,158,90,136,170,15,66,165,186,182,157,134,157,124,66,41,160,131,38,16],\"y\":[0.894392523364486,0.8925233644859814,0.9137071651090343,0.9152647975077881,0.9177570093457945,0.8834890965732087,0.9133956386292835,0.853582554517134,0.9056074766355142,0.9171339563862929,0.9124610591900311,0.9077881619937695,0.9180685358255453,0.9299065420560748,0.9302180685358256,0.7993769470404984,0.8925233644859812,0.905607476635514,0.9133956386292834,0.8978193146417446,0.9314641744548288,0.8426791277258567,0.928348909657321,0.8794392523364486,0.8850467289719626,0.8725856697819314,0.9171339563862928,0.9177570093457943,0.8538940809968848,0.9102803738317757,0.8903426791277258,0.8473520249221185,0.911214953271028,0.9221183800623052,0.733644859813084,0.8850467289719626,0.8962616822429906,0.9096573208722741,0.8993769470404984,0.9112149532710282,0.9180685358255453,0.908411214953271,0.9165109034267912,0.9071651090342681,0.905607476635514,0.9205607476635516,0.9074766355140188,0.9165109034267912,0.8987538940809969,0.8978193146417446],\"type\":\"scatter\",\"xaxis\":\"x6\",\"yaxis\":\"y6\"}],                        {\"template\":{\"data\":{\"histogram2dcontour\":[{\"type\":\"histogram2dcontour\",\"colorbar\":{\"outlinewidth\":0,\"ticks\":\"\"},\"colorscale\":[[0.0,\"#0d0887\"],[0.1111111111111111,\"#46039f\"],[0.2222222222222222,\"#7201a8\"],[0.3333333333333333,\"#9c179e\"],[0.4444444444444444,\"#bd3786\"],[0.5555555555555556,\"#d8576b\"],[0.6666666666666666,\"#ed7953\"],[0.7777777777777778,\"#fb9f3a\"],[0.8888888888888888,\"#fdca26\"],[1.0,\"#f0f921\"]]}],\"choropleth\":[{\"type\":\"choropleth\",\"colorbar\":{\"outlinewidth\":0,\"ticks\":\"\"}}],\"histogram2d\":[{\"type\":\"histogram2d\",\"colorbar\":{\"outlinewidth\":0,\"ticks\":\"\"},\"colorscale\":[[0.0,\"#0d0887\"],[0.1111111111111111,\"#46039f\"],[0.2222222222222222,\"#7201a8\"],[0.3333333333333333,\"#9c179e\"],[0.4444444444444444,\"#bd3786\"],[0.5555555555555556,\"#d8576b\"],[0.6666666666666666,\"#ed7953\"],[0.7777777777777778,\"#fb9f3a\"],[0.8888888888888888,\"#fdca26\"],[1.0,\"#f0f921\"]]}],\"heatmap\":[{\"type\":\"heatmap\",\"colorbar\":{\"outlinewidth\":0,\"ticks\":\"\"},\"colorscale\":[[0.0,\"#0d0887\"],[0.1111111111111111,\"#46039f\"],[0.2222222222222222,\"#7201a8\"],[0.3333333333333333,\"#9c179e\"],[0.4444444444444444,\"#bd3786\"],[0.5555555555555556,\"#d8576b\"],[0.6666666666666666,\"#ed7953\"],[0.7777777777777778,\"#fb9f3a\"],[0.8888888888888888,\"#fdca26\"],[1.0,\"#f0f921\"]]}],\"heatmapgl\":[{\"type\":\"heatmapgl\",\"colorbar\":{\"outlinewidth\":0,\"ticks\":\"\"},\"colorscale\":[[0.0,\"#0d0887\"],[0.1111111111111111,\"#46039f\"],[0.2222222222222222,\"#7201a8\"],[0.3333333333333333,\"#9c179e\"],[0.4444444444444444,\"#bd3786\"],[0.5555555555555556,\"#d8576b\"],[0.6666666666666666,\"#ed7953\"],[0.7777777777777778,\"#fb9f3a\"],[0.8888888888888888,\"#fdca26\"],[1.0,\"#f0f921\"]]}],\"contourcarpet\":[{\"type\":\"contourcarpet\",\"colorbar\":{\"outlinewidth\":0,\"ticks\":\"\"}}],\"contour\":[{\"type\":\"contour\",\"colorbar\":{\"outlinewidth\":0,\"ticks\":\"\"},\"colorscale\":[[0.0,\"#0d0887\"],[0.1111111111111111,\"#46039f\"],[0.2222222222222222,\"#7201a8\"],[0.3333333333333333,\"#9c179e\"],[0.4444444444444444,\"#bd3786\"],[0.5555555555555556,\"#d8576b\"],[0.6666666666666666,\"#ed7953\"],[0.7777777777777778,\"#fb9f3a\"],[0.8888888888888888,\"#fdca26\"],[1.0,\"#f0f921\"]]}],\"surface\":[{\"type\":\"surface\",\"colorbar\":{\"outlinewidth\":0,\"ticks\":\"\"},\"colorscale\":[[0.0,\"#0d0887\"],[0.1111111111111111,\"#46039f\"],[0.2222222222222222,\"#7201a8\"],[0.3333333333333333,\"#9c179e\"],[0.4444444444444444,\"#bd3786\"],[0.5555555555555556,\"#d8576b\"],[0.6666666666666666,\"#ed7953\"],[0.7777777777777778,\"#fb9f3a\"],[0.8888888888888888,\"#fdca26\"],[1.0,\"#f0f921\"]]}],\"mesh3d\":[{\"type\":\"mesh3d\",\"colorbar\":{\"outlinewidth\":0,\"ticks\":\"\"}}],\"scatter\":[{\"fillpattern\":{\"fillmode\":\"overlay\",\"size\":10,\"solidity\":0.2},\"type\":\"scatter\"}],\"parcoords\":[{\"type\":\"parcoords\",\"line\":{\"colorbar\":{\"outlinewidth\":0,\"ticks\":\"\"}}}],\"scatterpolargl\":[{\"type\":\"scatterpolargl\",\"marker\":{\"colorbar\":{\"outlinewidth\":0,\"ticks\":\"\"}}}],\"bar\":[{\"error_x\":{\"color\":\"#2a3f5f\"},\"error_y\":{\"color\":\"#2a3f5f\"},\"marker\":{\"line\":{\"color\":\"#E5ECF6\",\"width\":0.5},\"pattern\":{\"fillmode\":\"overlay\",\"size\":10,\"solidity\":0.2}},\"type\":\"bar\"}],\"scattergeo\":[{\"type\":\"scattergeo\",\"marker\":{\"colorbar\":{\"outlinewidth\":0,\"ticks\":\"\"}}}],\"scatterpolar\":[{\"type\":\"scatterpolar\",\"marker\":{\"colorbar\":{\"outlinewidth\":0,\"ticks\":\"\"}}}],\"histogram\":[{\"marker\":{\"pattern\":{\"fillmode\":\"overlay\",\"size\":10,\"solidity\":0.2}},\"type\":\"histogram\"}],\"scattergl\":[{\"type\":\"scattergl\",\"marker\":{\"colorbar\":{\"outlinewidth\":0,\"ticks\":\"\"}}}],\"scatter3d\":[{\"type\":\"scatter3d\",\"line\":{\"colorbar\":{\"outlinewidth\":0,\"ticks\":\"\"}},\"marker\":{\"colorbar\":{\"outlinewidth\":0,\"ticks\":\"\"}}}],\"scattermapbox\":[{\"type\":\"scattermapbox\",\"marker\":{\"colorbar\":{\"outlinewidth\":0,\"ticks\":\"\"}}}],\"scatterternary\":[{\"type\":\"scatterternary\",\"marker\":{\"colorbar\":{\"outlinewidth\":0,\"ticks\":\"\"}}}],\"scattercarpet\":[{\"type\":\"scattercarpet\",\"marker\":{\"colorbar\":{\"outlinewidth\":0,\"ticks\":\"\"}}}],\"carpet\":[{\"aaxis\":{\"endlinecolor\":\"#2a3f5f\",\"gridcolor\":\"white\",\"linecolor\":\"white\",\"minorgridcolor\":\"white\",\"startlinecolor\":\"#2a3f5f\"},\"baxis\":{\"endlinecolor\":\"#2a3f5f\",\"gridcolor\":\"white\",\"linecolor\":\"white\",\"minorgridcolor\":\"white\",\"startlinecolor\":\"#2a3f5f\"},\"type\":\"carpet\"}],\"table\":[{\"cells\":{\"fill\":{\"color\":\"#EBF0F8\"},\"line\":{\"color\":\"white\"}},\"header\":{\"fill\":{\"color\":\"#C8D4E3\"},\"line\":{\"color\":\"white\"}},\"type\":\"table\"}],\"barpolar\":[{\"marker\":{\"line\":{\"color\":\"#E5ECF6\",\"width\":0.5},\"pattern\":{\"fillmode\":\"overlay\",\"size\":10,\"solidity\":0.2}},\"type\":\"barpolar\"}],\"pie\":[{\"automargin\":true,\"type\":\"pie\"}]},\"layout\":{\"autotypenumbers\":\"strict\",\"colorway\":[\"#636efa\",\"#EF553B\",\"#00cc96\",\"#ab63fa\",\"#FFA15A\",\"#19d3f3\",\"#FF6692\",\"#B6E880\",\"#FF97FF\",\"#FECB52\"],\"font\":{\"color\":\"#2a3f5f\"},\"hovermode\":\"closest\",\"hoverlabel\":{\"align\":\"left\"},\"paper_bgcolor\":\"white\",\"plot_bgcolor\":\"#E5ECF6\",\"polar\":{\"bgcolor\":\"#E5ECF6\",\"angularaxis\":{\"gridcolor\":\"white\",\"linecolor\":\"white\",\"ticks\":\"\"},\"radialaxis\":{\"gridcolor\":\"white\",\"linecolor\":\"white\",\"ticks\":\"\"}},\"ternary\":{\"bgcolor\":\"#E5ECF6\",\"aaxis\":{\"gridcolor\":\"white\",\"linecolor\":\"white\",\"ticks\":\"\"},\"baxis\":{\"gridcolor\":\"white\",\"linecolor\":\"white\",\"ticks\":\"\"},\"caxis\":{\"gridcolor\":\"white\",\"linecolor\":\"white\",\"ticks\":\"\"}},\"coloraxis\":{\"colorbar\":{\"outlinewidth\":0,\"ticks\":\"\"}},\"colorscale\":{\"sequential\":[[0.0,\"#0d0887\"],[0.1111111111111111,\"#46039f\"],[0.2222222222222222,\"#7201a8\"],[0.3333333333333333,\"#9c179e\"],[0.4444444444444444,\"#bd3786\"],[0.5555555555555556,\"#d8576b\"],[0.6666666666666666,\"#ed7953\"],[0.7777777777777778,\"#fb9f3a\"],[0.8888888888888888,\"#fdca26\"],[1.0,\"#f0f921\"]],\"sequentialminus\":[[0.0,\"#0d0887\"],[0.1111111111111111,\"#46039f\"],[0.2222222222222222,\"#7201a8\"],[0.3333333333333333,\"#9c179e\"],[0.4444444444444444,\"#bd3786\"],[0.5555555555555556,\"#d8576b\"],[0.6666666666666666,\"#ed7953\"],[0.7777777777777778,\"#fb9f3a\"],[0.8888888888888888,\"#fdca26\"],[1.0,\"#f0f921\"]],\"diverging\":[[0,\"#8e0152\"],[0.1,\"#c51b7d\"],[0.2,\"#de77ae\"],[0.3,\"#f1b6da\"],[0.4,\"#fde0ef\"],[0.5,\"#f7f7f7\"],[0.6,\"#e6f5d0\"],[0.7,\"#b8e186\"],[0.8,\"#7fbc41\"],[0.9,\"#4d9221\"],[1,\"#276419\"]]},\"xaxis\":{\"gridcolor\":\"white\",\"linecolor\":\"white\",\"ticks\":\"\",\"title\":{\"standoff\":15},\"zerolinecolor\":\"white\",\"automargin\":true,\"zerolinewidth\":2},\"yaxis\":{\"gridcolor\":\"white\",\"linecolor\":\"white\",\"ticks\":\"\",\"title\":{\"standoff\":15},\"zerolinecolor\":\"white\",\"automargin\":true,\"zerolinewidth\":2},\"scene\":{\"xaxis\":{\"backgroundcolor\":\"#E5ECF6\",\"gridcolor\":\"white\",\"linecolor\":\"white\",\"showbackground\":true,\"ticks\":\"\",\"zerolinecolor\":\"white\",\"gridwidth\":2},\"yaxis\":{\"backgroundcolor\":\"#E5ECF6\",\"gridcolor\":\"white\",\"linecolor\":\"white\",\"showbackground\":true,\"ticks\":\"\",\"zerolinecolor\":\"white\",\"gridwidth\":2},\"zaxis\":{\"backgroundcolor\":\"#E5ECF6\",\"gridcolor\":\"white\",\"linecolor\":\"white\",\"showbackground\":true,\"ticks\":\"\",\"zerolinecolor\":\"white\",\"gridwidth\":2}},\"shapedefaults\":{\"line\":{\"color\":\"#2a3f5f\"}},\"annotationdefaults\":{\"arrowcolor\":\"#2a3f5f\",\"arrowhead\":0,\"arrowwidth\":1},\"geo\":{\"bgcolor\":\"white\",\"landcolor\":\"#E5ECF6\",\"subunitcolor\":\"white\",\"showland\":true,\"showlakes\":true,\"lakecolor\":\"white\"},\"title\":{\"x\":0.05},\"mapbox\":{\"style\":\"light\"}}},\"xaxis\":{\"anchor\":\"y\",\"domain\":[0.0,0.1388888888888889],\"title\":{\"text\":\"bootstrap\"},\"type\":\"category\",\"categoryorder\":\"array\",\"categoryarray\":[true,false]},\"yaxis\":{\"anchor\":\"x\",\"domain\":[0.0,1.0],\"title\":{\"text\":\"Objective Value\"}},\"xaxis2\":{\"anchor\":\"y2\",\"domain\":[0.17222222222222222,0.3111111111111111],\"title\":{\"text\":\"criterion\"},\"type\":\"category\",\"categoryorder\":\"array\",\"categoryarray\":[\"gini\",\"entropy\"]},\"yaxis2\":{\"anchor\":\"x2\",\"domain\":[0.0,1.0],\"matches\":\"y\",\"showticklabels\":false},\"xaxis3\":{\"anchor\":\"y3\",\"domain\":[0.34444444444444444,0.48333333333333334],\"title\":{\"text\":\"max_depth\"}},\"yaxis3\":{\"anchor\":\"x3\",\"domain\":[0.0,1.0],\"matches\":\"y\",\"showticklabels\":false},\"xaxis4\":{\"anchor\":\"y4\",\"domain\":[0.5166666666666667,0.6555555555555557],\"title\":{\"text\":\"min_samples_leaf\"}},\"yaxis4\":{\"anchor\":\"x4\",\"domain\":[0.0,1.0],\"matches\":\"y\",\"showticklabels\":false},\"xaxis5\":{\"anchor\":\"y5\",\"domain\":[0.6888888888888889,0.8277777777777777],\"title\":{\"text\":\"min_samples_split\"}},\"yaxis5\":{\"anchor\":\"x5\",\"domain\":[0.0,1.0],\"matches\":\"y\",\"showticklabels\":false},\"xaxis6\":{\"anchor\":\"y6\",\"domain\":[0.861111111111111,1.0],\"title\":{\"text\":\"n_estimators\"}},\"yaxis6\":{\"anchor\":\"x6\",\"domain\":[0.0,1.0],\"matches\":\"y\",\"showticklabels\":false},\"title\":{\"text\":\"Slice Plot\"},\"width\":1800},                        {\"responsive\": true}                    ).then(function(){\n",
              "                            \n",
              "var gd = document.getElementById('32cf287c-d171-4078-a903-4628f6361669');\n",
              "var x = new MutationObserver(function (mutations, observer) {{\n",
              "        var display = window.getComputedStyle(gd).display;\n",
              "        if (!display || display === 'none') {{\n",
              "            console.log([gd, 'removed!']);\n",
              "            Plotly.purge(gd);\n",
              "            observer.disconnect();\n",
              "        }}\n",
              "}});\n",
              "\n",
              "// Listen for the removal of the full notebook cells\n",
              "var notebookContainer = gd.closest('#notebook-container');\n",
              "if (notebookContainer) {{\n",
              "    x.observe(notebookContainer, {childList: true});\n",
              "}}\n",
              "\n",
              "// Listen for the clearing of the current output cell\n",
              "var outputEl = gd.closest('.output');\n",
              "if (outputEl) {{\n",
              "    x.observe(outputEl, {childList: true});\n",
              "}}\n",
              "\n",
              "                        })                };                            </script>        </div>\n",
              "</body>\n",
              "</html>"
            ]
          },
          "metadata": {}
        }
      ]
    },
    {
      "cell_type": "code",
      "source": [
        "plot_contour(study).show()"
      ],
      "metadata": {
        "colab": {
          "base_uri": "https://localhost:8080/",
          "height": 542
        },
        "id": "rae5Zv7ekCf1",
        "outputId": "13e5dd01-695b-4985-970d-68504ebdb44a"
      },
      "execution_count": 33,
      "outputs": [
        {
          "output_type": "display_data",
          "data": {
            "text/html": [
              "<html>\n",
              "<head><meta charset=\"utf-8\" /></head>\n",
              "<body>\n",
              "    <div>            <script src=\"https://cdnjs.cloudflare.com/ajax/libs/mathjax/2.7.5/MathJax.js?config=TeX-AMS-MML_SVG\"></script><script type=\"text/javascript\">if (window.MathJax && window.MathJax.Hub && window.MathJax.Hub.Config) {window.MathJax.Hub.Config({SVG: {font: \"STIX-Web\"}});}</script>                <script type=\"text/javascript\">window.PlotlyConfig = {MathJaxConfig: 'local'};</script>\n",
              "        <script charset=\"utf-8\" src=\"https://cdn.plot.ly/plotly-2.35.2.min.js\"></script>                <div id=\"e43220e8-69be-4c90-8ea9-e5112851e2d9\" class=\"plotly-graph-div\" style=\"height:525px; width:100%;\"></div>            <script type=\"text/javascript\">                                    window.PLOTLYENV=window.PLOTLYENV || {};                                    if (document.getElementById(\"e43220e8-69be-4c90-8ea9-e5112851e2d9\")) {                    Plotly.newPlot(                        \"e43220e8-69be-4c90-8ea9-e5112851e2d9\",                        [{\"type\":\"scatter\",\"xaxis\":\"x\",\"yaxis\":\"y\"},{\"colorbar\":{\"title\":{\"text\":\"Objective Value\"}},\"colorscale\":[[0.0,\"rgb(247,251,255)\"],[0.125,\"rgb(222,235,247)\"],[0.25,\"rgb(198,219,239)\"],[0.375,\"rgb(158,202,225)\"],[0.5,\"rgb(107,174,214)\"],[0.625,\"rgb(66,146,198)\"],[0.75,\"rgb(33,113,181)\"],[0.875,\"rgb(8,81,156)\"],[1.0,\"rgb(8,48,107)\"]],\"connectgaps\":true,\"contours\":{\"coloring\":\"heatmap\"},\"hoverinfo\":\"none\",\"line\":{\"smoothing\":1.3},\"reversescale\":false,\"showscale\":true,\"x\":[\"False\",\"True\"],\"y\":[\"entropy\",\"gini\"],\"z\":[[0.9314641744548288,0.9180685358255453],[0.928348909657321,0.9180685358255453]],\"type\":\"contour\",\"xaxis\":\"x7\",\"yaxis\":\"y7\"},{\"marker\":{\"color\":\"black\",\"line\":{\"color\":\"Gray\",\"width\":2.0}},\"mode\":\"markers\",\"name\":\"Feasible Trial\",\"showlegend\":false,\"x\":[\"True\",\"True\",\"True\",\"False\",\"False\",\"False\",\"False\",\"True\",\"True\",\"False\",\"False\",\"True\",\"True\",\"False\",\"False\",\"False\",\"True\",\"False\",\"False\",\"True\",\"False\",\"False\",\"False\",\"False\",\"False\",\"True\",\"False\",\"True\",\"True\",\"False\",\"True\",\"False\",\"False\",\"False\",\"False\",\"True\",\"True\",\"False\",\"True\",\"False\",\"True\",\"True\",\"False\",\"True\",\"False\",\"False\",\"True\",\"False\",\"True\",\"False\"],\"y\":[\"gini\",\"entropy\",\"gini\",\"entropy\",\"gini\",\"entropy\",\"entropy\",\"entropy\",\"entropy\",\"entropy\",\"entropy\",\"gini\",\"gini\",\"entropy\",\"entropy\",\"gini\",\"gini\",\"gini\",\"gini\",\"gini\",\"entropy\",\"gini\",\"gini\",\"gini\",\"gini\",\"gini\",\"entropy\",\"entropy\",\"entropy\",\"gini\",\"gini\",\"entropy\",\"gini\",\"entropy\",\"entropy\",\"entropy\",\"gini\",\"entropy\",\"entropy\",\"gini\",\"entropy\",\"entropy\",\"gini\",\"entropy\",\"gini\",\"entropy\",\"entropy\",\"entropy\",\"gini\",\"entropy\"],\"type\":\"scatter\",\"xaxis\":\"x7\",\"yaxis\":\"y7\"},{\"colorbar\":{\"title\":{\"text\":\"Objective Value\"}},\"colorscale\":[[0.0,\"rgb(247,251,255)\"],[0.125,\"rgb(222,235,247)\"],[0.25,\"rgb(198,219,239)\"],[0.375,\"rgb(158,202,225)\"],[0.5,\"rgb(107,174,214)\"],[0.625,\"rgb(66,146,198)\"],[0.75,\"rgb(33,113,181)\"],[0.875,\"rgb(8,81,156)\"],[1.0,\"rgb(8,48,107)\"]],\"connectgaps\":true,\"contours\":{\"coloring\":\"heatmap\"},\"hoverinfo\":\"none\",\"line\":{\"smoothing\":1.3},\"reversescale\":false,\"showscale\":false,\"x\":[\"False\",\"True\"],\"y\":[2.15,3,5,6,7,8,9,10,11,12,13,14,15,16,17,18,19,20,20.85],\"z\":[[null,null],[0.733644859813084,null],[0.8473520249221185,0.8538940809968848],[0.8850467289719626,null],[null,0.8993769470404984],[0.9171339563862929,0.908411214953271],[0.9171339563862928,null],[0.9165109034267912,0.9180685358255453],[0.9152647975077881,0.9177570093457943],[0.9302180685358256,0.9077881619937695],[0.8978193146417446,null],[null,0.894392523364486],[null,0.8987538940809969],[0.9314641744548288,0.9180685358255453],[0.9221183800623052,null],[0.928348909657321,null],[0.9299065420560748,0.9071651090342681],[0.9205607476635516,null],[null,null]],\"type\":\"contour\",\"xaxis\":\"x13\",\"yaxis\":\"y13\"},{\"marker\":{\"color\":\"black\",\"line\":{\"color\":\"Gray\",\"width\":2.0}},\"mode\":\"markers\",\"name\":\"Feasible Trial\",\"showlegend\":false,\"x\":[\"True\",\"True\",\"True\",\"False\",\"False\",\"False\",\"False\",\"True\",\"True\",\"False\",\"False\",\"True\",\"True\",\"False\",\"False\",\"False\",\"True\",\"False\",\"False\",\"True\",\"False\",\"False\",\"False\",\"False\",\"False\",\"True\",\"False\",\"True\",\"True\",\"False\",\"True\",\"False\",\"False\",\"False\",\"False\",\"True\",\"True\",\"False\",\"True\",\"False\",\"True\",\"True\",\"False\",\"True\",\"False\",\"False\",\"True\",\"False\",\"True\",\"False\"],\"y\":[14,7,10,11,17,6,10,5,8,8,10,12,16,19,12,5,12,10,12,7,16,5,18,20,6,10,9,11,5,9,7,5,9,17,3,10,16,8,7,10,10,8,17,19,18,20,16,10,15,13],\"type\":\"scatter\",\"xaxis\":\"x13\",\"yaxis\":\"y13\"},{\"colorbar\":{\"title\":{\"text\":\"Objective Value\"}},\"colorscale\":[[0.0,\"rgb(247,251,255)\"],[0.125,\"rgb(222,235,247)\"],[0.25,\"rgb(198,219,239)\"],[0.375,\"rgb(158,202,225)\"],[0.5,\"rgb(107,174,214)\"],[0.625,\"rgb(66,146,198)\"],[0.75,\"rgb(33,113,181)\"],[0.875,\"rgb(8,81,156)\"],[1.0,\"rgb(8,48,107)\"]],\"connectgaps\":true,\"contours\":{\"coloring\":\"heatmap\"},\"hoverinfo\":\"none\",\"line\":{\"smoothing\":1.3},\"reversescale\":false,\"showscale\":false,\"x\":[\"False\",\"True\"],\"y\":[0.55,1,2,3,4,5,6,7,8,9,10,10.45],\"z\":[[null,null],[0.9299065420560748,0.9180685358255453],[0.9314641744548288,0.9177570093457943],[0.8473520249221185,0.8925233644859812],[0.8850467289719626,0.9180685358255453],[0.9221183800623052,0.908411214953271],[0.911214953271028,0.9077881619937695],[0.9177570093457945,0.9071651090342681],[0.9165109034267912,0.8962616822429906],[0.9133956386292834,0.8903426791277258],[0.905607476635514,null],[null,null]],\"type\":\"contour\",\"xaxis\":\"x19\",\"yaxis\":\"y19\"},{\"marker\":{\"color\":\"black\",\"line\":{\"color\":\"Gray\",\"width\":2.0}},\"mode\":\"markers\",\"name\":\"Feasible Trial\",\"showlegend\":false,\"x\":[\"True\",\"True\",\"True\",\"False\",\"False\",\"False\",\"False\",\"True\",\"True\",\"False\",\"False\",\"True\",\"True\",\"False\",\"False\",\"False\",\"True\",\"False\",\"False\",\"True\",\"False\",\"False\",\"False\",\"False\",\"False\",\"True\",\"False\",\"True\",\"True\",\"False\",\"True\",\"False\",\"False\",\"False\",\"False\",\"True\",\"True\",\"False\",\"True\",\"False\",\"True\",\"True\",\"False\",\"True\",\"False\",\"False\",\"True\",\"False\",\"True\",\"False\"],\"y\":[5,1,2,5,7,6,7,8,6,2,8,6,1,1,2,7,3,10,9,2,2,2,2,4,4,8,1,2,3,6,9,3,6,5,4,3,8,9,4,9,4,5,8,7,10,1,6,7,6,1],\"type\":\"scatter\",\"xaxis\":\"x19\",\"yaxis\":\"y19\"},{\"colorbar\":{\"title\":{\"text\":\"Objective Value\"}},\"colorscale\":[[0.0,\"rgb(247,251,255)\"],[0.125,\"rgb(222,235,247)\"],[0.25,\"rgb(198,219,239)\"],[0.375,\"rgb(158,202,225)\"],[0.5,\"rgb(107,174,214)\"],[0.625,\"rgb(66,146,198)\"],[0.75,\"rgb(33,113,181)\"],[0.875,\"rgb(8,81,156)\"],[1.0,\"rgb(8,48,107)\"]],\"connectgaps\":true,\"contours\":{\"coloring\":\"heatmap\"},\"hoverinfo\":\"none\",\"line\":{\"smoothing\":1.3},\"reversescale\":false,\"showscale\":false,\"x\":[\"False\",\"True\"],\"y\":[1.6,2,3,4,5,6,7,8,9,10,10.4],\"z\":[[null,null],[0.9314641744548288,0.8925233644859814],[0.9302180685358256,0.9180685358255453],[0.9112149532710282,0.9180685358255453],[0.8794392523364486,0.9137071651090343],[0.9221183800623052,0.9056074766355142],[0.9133956386292834,0.9077881619937695],[0.8978193146417446,0.8993769470404984],[0.9177570093457945,0.8903426791277258],[0.928348909657321,0.8987538940809969],[null,null]],\"type\":\"contour\",\"xaxis\":\"x25\",\"yaxis\":\"y25\"},{\"marker\":{\"color\":\"black\",\"line\":{\"color\":\"Gray\",\"width\":2.0}},\"mode\":\"markers\",\"name\":\"Feasible Trial\",\"showlegend\":false,\"x\":[\"True\",\"True\",\"True\",\"False\",\"False\",\"False\",\"False\",\"True\",\"True\",\"False\",\"False\",\"True\",\"True\",\"False\",\"False\",\"False\",\"True\",\"False\",\"False\",\"True\",\"False\",\"False\",\"False\",\"False\",\"False\",\"True\",\"False\",\"True\",\"True\",\"False\",\"True\",\"False\",\"False\",\"False\",\"False\",\"True\",\"True\",\"False\",\"True\",\"False\",\"True\",\"True\",\"False\",\"True\",\"False\",\"False\",\"True\",\"False\",\"True\",\"False\"],\"y\":[8,2,5,3,9,3,9,3,6,2,3,7,4,2,3,2,6,4,7,8,2,7,10,5,9,7,9,4,2,7,9,9,6,6,3,8,3,9,8,4,3,3,3,3,2,3,5,10,10,8],\"type\":\"scatter\",\"xaxis\":\"x25\",\"yaxis\":\"y25\"},{\"colorbar\":{\"title\":{\"text\":\"Objective Value\"}},\"colorscale\":[[0.0,\"rgb(247,251,255)\"],[0.125,\"rgb(222,235,247)\"],[0.25,\"rgb(198,219,239)\"],[0.375,\"rgb(158,202,225)\"],[0.5,\"rgb(107,174,214)\"],[0.625,\"rgb(66,146,198)\"],[0.75,\"rgb(33,113,181)\"],[0.875,\"rgb(8,81,156)\"],[1.0,\"rgb(8,48,107)\"]],\"connectgaps\":true,\"contours\":{\"coloring\":\"heatmap\"},\"hoverinfo\":\"none\",\"line\":{\"smoothing\":1.3},\"reversescale\":false,\"showscale\":false,\"x\":[\"False\",\"True\"],\"y\":[0.5,10,14,15,16,17,21,24,38,40,41,45,46,63,66,72,75,78,84,90,93,97,101,103,109,124,125,126,131,133,134,136,142,143,145,147,157,158,160,165,170,173,182,186,191,200,209.5],\"z\":[[null,null],[0.8794392523364486,null],[0.7993769470404984,null],[null,0.8850467289719626],[0.8978193146417446,null],[null,0.8725856697819314],[null,0.8925233644859812],[null,0.894392523364486],[null,0.8987538940809969],[0.9152647975077881,null],[0.9205607476635516,null],[null,0.8925233644859814],[0.8426791277258567,null],[0.9171339563862929,null],[0.905607476635514,0.8962616822429906],[null,0.9177570093457943],[0.9124610591900311,null],[0.9102803738317757,null],[null,0.9180685358255453],[0.911214953271028,null],[0.9314641744548288,null],[0.9302180685358256,null],[null,0.8903426791277258],[0.905607476635514,null],[0.9299065420560748,null],[null,0.9071651090342681],[0.9177570093457945,null],[null,0.9077881619937695],[0.9165109034267912,null],[0.9133956386292835,null],[0.9171339563862928,0.908411214953271],[0.9221183800623052,null],[0.8850467289719626,null],[null,0.9137071651090343],[0.8834890965732087,0.8538940809968848],[null,0.8978193146417446],[0.9165109034267912,0.9180685358255453],[0.8473520249221185,null],[null,0.9074766355140188],[0.9096573208722741,null],[0.733644859813084,null],[0.928348909657321,null],[0.9112149532710282,null],[null,0.8993769470404984],[null,0.853582554517134],[0.9133956386292834,null],[null,null]],\"type\":\"contour\",\"xaxis\":\"x31\",\"yaxis\":\"y31\"},{\"marker\":{\"color\":\"black\",\"line\":{\"color\":\"Gray\",\"width\":2.0}},\"mode\":\"markers\",\"name\":\"Feasible Trial\",\"showlegend\":false,\"x\":[\"True\",\"True\",\"True\",\"False\",\"False\",\"False\",\"False\",\"True\",\"True\",\"False\",\"False\",\"True\",\"True\",\"False\",\"False\",\"False\",\"True\",\"False\",\"False\",\"True\",\"False\",\"False\",\"False\",\"False\",\"False\",\"True\",\"False\",\"True\",\"True\",\"False\",\"True\",\"False\",\"False\",\"False\",\"False\",\"True\",\"True\",\"False\",\"True\",\"False\",\"True\",\"True\",\"False\",\"True\",\"False\",\"False\",\"True\",\"False\",\"True\",\"False\"],\"y\":[24,45,143,40,125,145,133,191,143,63,75,126,84,109,97,14,21,103,200,147,93,46,173,10,142,17,134,72,145,78,101,158,90,136,170,15,66,165,186,182,157,134,157,124,66,41,160,131,38,16],\"type\":\"scatter\",\"xaxis\":\"x31\",\"yaxis\":\"y31\"},{\"colorbar\":{\"title\":{\"text\":\"Objective Value\"}},\"colorscale\":[[0.0,\"rgb(247,251,255)\"],[0.125,\"rgb(222,235,247)\"],[0.25,\"rgb(198,219,239)\"],[0.375,\"rgb(158,202,225)\"],[0.5,\"rgb(107,174,214)\"],[0.625,\"rgb(66,146,198)\"],[0.75,\"rgb(33,113,181)\"],[0.875,\"rgb(8,81,156)\"],[1.0,\"rgb(8,48,107)\"]],\"connectgaps\":true,\"contours\":{\"coloring\":\"heatmap\"},\"hoverinfo\":\"none\",\"line\":{\"smoothing\":1.3},\"reversescale\":false,\"showscale\":false,\"x\":[\"entropy\",\"gini\"],\"y\":[\"False\",\"True\"],\"z\":[[0.9314641744548288,0.928348909657321],[0.9180685358255453,0.9180685358255453]],\"type\":\"contour\",\"xaxis\":\"x2\",\"yaxis\":\"y2\"},{\"marker\":{\"color\":\"black\",\"line\":{\"color\":\"Gray\",\"width\":2.0}},\"mode\":\"markers\",\"name\":\"Feasible Trial\",\"showlegend\":false,\"x\":[\"gini\",\"entropy\",\"gini\",\"entropy\",\"gini\",\"entropy\",\"entropy\",\"entropy\",\"entropy\",\"entropy\",\"entropy\",\"gini\",\"gini\",\"entropy\",\"entropy\",\"gini\",\"gini\",\"gini\",\"gini\",\"gini\",\"entropy\",\"gini\",\"gini\",\"gini\",\"gini\",\"gini\",\"entropy\",\"entropy\",\"entropy\",\"gini\",\"gini\",\"entropy\",\"gini\",\"entropy\",\"entropy\",\"entropy\",\"gini\",\"entropy\",\"entropy\",\"gini\",\"entropy\",\"entropy\",\"gini\",\"entropy\",\"gini\",\"entropy\",\"entropy\",\"entropy\",\"gini\",\"entropy\"],\"y\":[\"True\",\"True\",\"True\",\"False\",\"False\",\"False\",\"False\",\"True\",\"True\",\"False\",\"False\",\"True\",\"True\",\"False\",\"False\",\"False\",\"True\",\"False\",\"False\",\"True\",\"False\",\"False\",\"False\",\"False\",\"False\",\"True\",\"False\",\"True\",\"True\",\"False\",\"True\",\"False\",\"False\",\"False\",\"False\",\"True\",\"True\",\"False\",\"True\",\"False\",\"True\",\"True\",\"False\",\"True\",\"False\",\"False\",\"True\",\"False\",\"True\",\"False\"],\"type\":\"scatter\",\"xaxis\":\"x2\",\"yaxis\":\"y2\"},{\"type\":\"scatter\",\"xaxis\":\"x8\",\"yaxis\":\"y8\"},{\"colorbar\":{\"title\":{\"text\":\"Objective Value\"}},\"colorscale\":[[0.0,\"rgb(247,251,255)\"],[0.125,\"rgb(222,235,247)\"],[0.25,\"rgb(198,219,239)\"],[0.375,\"rgb(158,202,225)\"],[0.5,\"rgb(107,174,214)\"],[0.625,\"rgb(66,146,198)\"],[0.75,\"rgb(33,113,181)\"],[0.875,\"rgb(8,81,156)\"],[1.0,\"rgb(8,48,107)\"]],\"connectgaps\":true,\"contours\":{\"coloring\":\"heatmap\"},\"hoverinfo\":\"none\",\"line\":{\"smoothing\":1.3},\"reversescale\":false,\"showscale\":false,\"x\":[\"entropy\",\"gini\"],\"y\":[2.15,3,5,6,7,8,9,10,11,12,13,14,15,16,17,18,19,20,20.85],\"z\":[[null,null],[0.733644859813084,null],[0.8538940809968848,0.8426791277258567],[0.8834890965732087,0.8850467289719626],[0.8993769470404984,0.8978193146417446],[0.9171339563862929,null],[0.9171339563862928,0.911214953271028],[0.9180685358255453,0.9137071651090343],[0.9177570093457943,null],[0.9302180685358256,0.9133956386292834],[0.8978193146417446,null],[null,0.894392523364486],[null,0.8987538940809969],[0.9314641744548288,0.9180685358255453],[0.9221183800623052,0.9177570093457945],[null,0.928348909657321],[0.9299065420560748,null],[0.9205607476635516,0.8794392523364486],[null,null]],\"type\":\"contour\",\"xaxis\":\"x14\",\"yaxis\":\"y14\"},{\"marker\":{\"color\":\"black\",\"line\":{\"color\":\"Gray\",\"width\":2.0}},\"mode\":\"markers\",\"name\":\"Feasible Trial\",\"showlegend\":false,\"x\":[\"gini\",\"entropy\",\"gini\",\"entropy\",\"gini\",\"entropy\",\"entropy\",\"entropy\",\"entropy\",\"entropy\",\"entropy\",\"gini\",\"gini\",\"entropy\",\"entropy\",\"gini\",\"gini\",\"gini\",\"gini\",\"gini\",\"entropy\",\"gini\",\"gini\",\"gini\",\"gini\",\"gini\",\"entropy\",\"entropy\",\"entropy\",\"gini\",\"gini\",\"entropy\",\"gini\",\"entropy\",\"entropy\",\"entropy\",\"gini\",\"entropy\",\"entropy\",\"gini\",\"entropy\",\"entropy\",\"gini\",\"entropy\",\"gini\",\"entropy\",\"entropy\",\"entropy\",\"gini\",\"entropy\"],\"y\":[14,7,10,11,17,6,10,5,8,8,10,12,16,19,12,5,12,10,12,7,16,5,18,20,6,10,9,11,5,9,7,5,9,17,3,10,16,8,7,10,10,8,17,19,18,20,16,10,15,13],\"type\":\"scatter\",\"xaxis\":\"x14\",\"yaxis\":\"y14\"},{\"colorbar\":{\"title\":{\"text\":\"Objective Value\"}},\"colorscale\":[[0.0,\"rgb(247,251,255)\"],[0.125,\"rgb(222,235,247)\"],[0.25,\"rgb(198,219,239)\"],[0.375,\"rgb(158,202,225)\"],[0.5,\"rgb(107,174,214)\"],[0.625,\"rgb(66,146,198)\"],[0.75,\"rgb(33,113,181)\"],[0.875,\"rgb(8,81,156)\"],[1.0,\"rgb(8,48,107)\"]],\"connectgaps\":true,\"contours\":{\"coloring\":\"heatmap\"},\"hoverinfo\":\"none\",\"line\":{\"smoothing\":1.3},\"reversescale\":false,\"showscale\":false,\"x\":[\"entropy\",\"gini\"],\"y\":[0.55,1,2,3,4,5,6,7,8,9,10,10.45],\"z\":[[null,null],[0.9299065420560748,0.9180685358255453],[0.9314641744548288,0.928348909657321],[0.8850467289719626,0.8925233644859812],[0.9180685358255453,0.8850467289719626],[0.9221183800623052,0.894392523364486],[0.9074766355140188,0.911214953271028],[0.9165109034267912,0.9177570093457945],[0.9124610591900311,0.9165109034267912],[0.9096573208722741,0.9133956386292834],[null,0.905607476635514],[null,null]],\"type\":\"contour\",\"xaxis\":\"x20\",\"yaxis\":\"y20\"},{\"marker\":{\"color\":\"black\",\"line\":{\"color\":\"Gray\",\"width\":2.0}},\"mode\":\"markers\",\"name\":\"Feasible Trial\",\"showlegend\":false,\"x\":[\"gini\",\"entropy\",\"gini\",\"entropy\",\"gini\",\"entropy\",\"entropy\",\"entropy\",\"entropy\",\"entropy\",\"entropy\",\"gini\",\"gini\",\"entropy\",\"entropy\",\"gini\",\"gini\",\"gini\",\"gini\",\"gini\",\"entropy\",\"gini\",\"gini\",\"gini\",\"gini\",\"gini\",\"entropy\",\"entropy\",\"entropy\",\"gini\",\"gini\",\"entropy\",\"gini\",\"entropy\",\"entropy\",\"entropy\",\"gini\",\"entropy\",\"entropy\",\"gini\",\"entropy\",\"entropy\",\"gini\",\"entropy\",\"gini\",\"entropy\",\"entropy\",\"entropy\",\"gini\",\"entropy\"],\"y\":[5,1,2,5,7,6,7,8,6,2,8,6,1,1,2,7,3,10,9,2,2,2,2,4,4,8,1,2,3,6,9,3,6,5,4,3,8,9,4,9,4,5,8,7,10,1,6,7,6,1],\"type\":\"scatter\",\"xaxis\":\"x20\",\"yaxis\":\"y20\"},{\"colorbar\":{\"title\":{\"text\":\"Objective Value\"}},\"colorscale\":[[0.0,\"rgb(247,251,255)\"],[0.125,\"rgb(222,235,247)\"],[0.25,\"rgb(198,219,239)\"],[0.375,\"rgb(158,202,225)\"],[0.5,\"rgb(107,174,214)\"],[0.625,\"rgb(66,146,198)\"],[0.75,\"rgb(33,113,181)\"],[0.875,\"rgb(8,81,156)\"],[1.0,\"rgb(8,48,107)\"]],\"connectgaps\":true,\"contours\":{\"coloring\":\"heatmap\"},\"hoverinfo\":\"none\",\"line\":{\"smoothing\":1.3},\"reversescale\":false,\"showscale\":false,\"x\":[\"entropy\",\"gini\"],\"y\":[1.6,2,3,4,5,6,7,8,9,10,10.4],\"z\":[[null,null],[0.9314641744548288,0.905607476635514],[0.9302180685358256,0.9165109034267912],[0.9177570093457943,0.9180685358255453],[0.9074766355140188,0.9137071651090343],[0.9221183800623052,0.911214953271028],[null,0.9133956386292834],[0.8993769470404984,0.8978193146417446],[0.9171339563862928,0.9177570093457945],[0.9165109034267912,0.928348909657321],[null,null]],\"type\":\"contour\",\"xaxis\":\"x26\",\"yaxis\":\"y26\"},{\"marker\":{\"color\":\"black\",\"line\":{\"color\":\"Gray\",\"width\":2.0}},\"mode\":\"markers\",\"name\":\"Feasible Trial\",\"showlegend\":false,\"x\":[\"gini\",\"entropy\",\"gini\",\"entropy\",\"gini\",\"entropy\",\"entropy\",\"entropy\",\"entropy\",\"entropy\",\"entropy\",\"gini\",\"gini\",\"entropy\",\"entropy\",\"gini\",\"gini\",\"gini\",\"gini\",\"gini\",\"entropy\",\"gini\",\"gini\",\"gini\",\"gini\",\"gini\",\"entropy\",\"entropy\",\"entropy\",\"gini\",\"gini\",\"entropy\",\"gini\",\"entropy\",\"entropy\",\"entropy\",\"gini\",\"entropy\",\"entropy\",\"gini\",\"entropy\",\"entropy\",\"gini\",\"entropy\",\"gini\",\"entropy\",\"entropy\",\"entropy\",\"gini\",\"entropy\"],\"y\":[8,2,5,3,9,3,9,3,6,2,3,7,4,2,3,2,6,4,7,8,2,7,10,5,9,7,9,4,2,7,9,9,6,6,3,8,3,9,8,4,3,3,3,3,2,3,5,10,10,8],\"type\":\"scatter\",\"xaxis\":\"x26\",\"yaxis\":\"y26\"},{\"colorbar\":{\"title\":{\"text\":\"Objective Value\"}},\"colorscale\":[[0.0,\"rgb(247,251,255)\"],[0.125,\"rgb(222,235,247)\"],[0.25,\"rgb(198,219,239)\"],[0.375,\"rgb(158,202,225)\"],[0.5,\"rgb(107,174,214)\"],[0.625,\"rgb(66,146,198)\"],[0.75,\"rgb(33,113,181)\"],[0.875,\"rgb(8,81,156)\"],[1.0,\"rgb(8,48,107)\"]],\"connectgaps\":true,\"contours\":{\"coloring\":\"heatmap\"},\"hoverinfo\":\"none\",\"line\":{\"smoothing\":1.3},\"reversescale\":false,\"showscale\":false,\"x\":[\"entropy\",\"gini\"],\"y\":[0.5,10,14,15,16,17,21,24,38,40,41,45,46,63,66,72,75,78,84,90,93,97,101,103,109,124,125,126,131,133,134,136,142,143,145,147,157,158,160,165,170,173,182,186,191,200,209.5],\"z\":[[null,null],[null,0.8794392523364486],[null,0.7993769470404984],[0.8850467289719626,null],[0.8978193146417446,null],[null,0.8725856697819314],[null,0.8925233644859812],[null,0.894392523364486],[null,0.8987538940809969],[0.9152647975077881,null],[0.9205607476635516,null],[0.8925233644859814,null],[null,0.8426791277258567],[0.9171339563862929,null],[null,0.905607476635514],[0.9177570093457943,null],[0.9124610591900311,null],[null,0.9102803738317757],[null,0.9180685358255453],[null,0.911214953271028],[0.9314641744548288,null],[0.9302180685358256,null],[null,0.8903426791277258],[null,0.905607476635514],[0.9299065420560748,null],[0.9071651090342681,null],[null,0.9177570093457945],[null,0.9077881619937695],[0.9165109034267912,null],[0.9133956386292835,null],[0.9171339563862928,null],[0.9221183800623052,null],[null,0.8850467289719626],[0.9056074766355142,0.9137071651090343],[0.8834890965732087,null],[null,0.8978193146417446],[0.9180685358255453,0.9165109034267912],[0.8473520249221185,null],[0.9074766355140188,null],[0.9096573208722741,null],[0.733644859813084,null],[null,0.928348909657321],[null,0.9112149532710282],[0.8993769470404984,null],[0.853582554517134,null],[null,0.9133956386292834],[null,null]],\"type\":\"contour\",\"xaxis\":\"x32\",\"yaxis\":\"y32\"},{\"marker\":{\"color\":\"black\",\"line\":{\"color\":\"Gray\",\"width\":2.0}},\"mode\":\"markers\",\"name\":\"Feasible Trial\",\"showlegend\":false,\"x\":[\"gini\",\"entropy\",\"gini\",\"entropy\",\"gini\",\"entropy\",\"entropy\",\"entropy\",\"entropy\",\"entropy\",\"entropy\",\"gini\",\"gini\",\"entropy\",\"entropy\",\"gini\",\"gini\",\"gini\",\"gini\",\"gini\",\"entropy\",\"gini\",\"gini\",\"gini\",\"gini\",\"gini\",\"entropy\",\"entropy\",\"entropy\",\"gini\",\"gini\",\"entropy\",\"gini\",\"entropy\",\"entropy\",\"entropy\",\"gini\",\"entropy\",\"entropy\",\"gini\",\"entropy\",\"entropy\",\"gini\",\"entropy\",\"gini\",\"entropy\",\"entropy\",\"entropy\",\"gini\",\"entropy\"],\"y\":[24,45,143,40,125,145,133,191,143,63,75,126,84,109,97,14,21,103,200,147,93,46,173,10,142,17,134,72,145,78,101,158,90,136,170,15,66,165,186,182,157,134,157,124,66,41,160,131,38,16],\"type\":\"scatter\",\"xaxis\":\"x32\",\"yaxis\":\"y32\"},{\"colorbar\":{\"title\":{\"text\":\"Objective Value\"}},\"colorscale\":[[0.0,\"rgb(247,251,255)\"],[0.125,\"rgb(222,235,247)\"],[0.25,\"rgb(198,219,239)\"],[0.375,\"rgb(158,202,225)\"],[0.5,\"rgb(107,174,214)\"],[0.625,\"rgb(66,146,198)\"],[0.75,\"rgb(33,113,181)\"],[0.875,\"rgb(8,81,156)\"],[1.0,\"rgb(8,48,107)\"]],\"connectgaps\":true,\"contours\":{\"coloring\":\"heatmap\"},\"hoverinfo\":\"none\",\"line\":{\"smoothing\":1.3},\"reversescale\":false,\"showscale\":false,\"x\":[2.15,3,5,6,7,8,9,10,11,12,13,14,15,16,17,18,19,20,20.85],\"y\":[\"False\",\"True\"],\"z\":[[null,0.733644859813084,0.8473520249221185,0.8850467289719626,null,0.9171339563862929,0.9171339563862928,0.9165109034267912,0.9152647975077881,0.9302180685358256,0.8978193146417446,null,null,0.9314641744548288,0.9221183800623052,0.928348909657321,0.9299065420560748,0.9205607476635516,null],[null,null,0.8538940809968848,null,0.8993769470404984,0.908411214953271,null,0.9180685358255453,0.9177570093457943,0.9077881619937695,null,0.894392523364486,0.8987538940809969,0.9180685358255453,null,null,0.9071651090342681,null,null]],\"type\":\"contour\",\"xaxis\":\"x3\",\"yaxis\":\"y3\"},{\"marker\":{\"color\":\"black\",\"line\":{\"color\":\"Gray\",\"width\":2.0}},\"mode\":\"markers\",\"name\":\"Feasible Trial\",\"showlegend\":false,\"x\":[14,7,10,11,17,6,10,5,8,8,10,12,16,19,12,5,12,10,12,7,16,5,18,20,6,10,9,11,5,9,7,5,9,17,3,10,16,8,7,10,10,8,17,19,18,20,16,10,15,13],\"y\":[\"True\",\"True\",\"True\",\"False\",\"False\",\"False\",\"False\",\"True\",\"True\",\"False\",\"False\",\"True\",\"True\",\"False\",\"False\",\"False\",\"True\",\"False\",\"False\",\"True\",\"False\",\"False\",\"False\",\"False\",\"False\",\"True\",\"False\",\"True\",\"True\",\"False\",\"True\",\"False\",\"False\",\"False\",\"False\",\"True\",\"True\",\"False\",\"True\",\"False\",\"True\",\"True\",\"False\",\"True\",\"False\",\"False\",\"True\",\"False\",\"True\",\"False\"],\"type\":\"scatter\",\"xaxis\":\"x3\",\"yaxis\":\"y3\"},{\"colorbar\":{\"title\":{\"text\":\"Objective Value\"}},\"colorscale\":[[0.0,\"rgb(247,251,255)\"],[0.125,\"rgb(222,235,247)\"],[0.25,\"rgb(198,219,239)\"],[0.375,\"rgb(158,202,225)\"],[0.5,\"rgb(107,174,214)\"],[0.625,\"rgb(66,146,198)\"],[0.75,\"rgb(33,113,181)\"],[0.875,\"rgb(8,81,156)\"],[1.0,\"rgb(8,48,107)\"]],\"connectgaps\":true,\"contours\":{\"coloring\":\"heatmap\"},\"hoverinfo\":\"none\",\"line\":{\"smoothing\":1.3},\"reversescale\":false,\"showscale\":false,\"x\":[2.15,3,5,6,7,8,9,10,11,12,13,14,15,16,17,18,19,20,20.85],\"y\":[\"entropy\",\"gini\"],\"z\":[[null,0.733644859813084,0.8538940809968848,0.8834890965732087,0.8993769470404984,0.9171339563862929,0.9171339563862928,0.9180685358255453,0.9177570093457943,0.9302180685358256,0.8978193146417446,null,null,0.9314641744548288,0.9221183800623052,null,0.9299065420560748,0.9205607476635516,null],[null,null,0.8426791277258567,0.8850467289719626,0.8978193146417446,null,0.911214953271028,0.9137071651090343,null,0.9133956386292834,null,0.894392523364486,0.8987538940809969,0.9180685358255453,0.9177570093457945,0.928348909657321,null,0.8794392523364486,null]],\"type\":\"contour\",\"xaxis\":\"x9\",\"yaxis\":\"y9\"},{\"marker\":{\"color\":\"black\",\"line\":{\"color\":\"Gray\",\"width\":2.0}},\"mode\":\"markers\",\"name\":\"Feasible Trial\",\"showlegend\":false,\"x\":[14,7,10,11,17,6,10,5,8,8,10,12,16,19,12,5,12,10,12,7,16,5,18,20,6,10,9,11,5,9,7,5,9,17,3,10,16,8,7,10,10,8,17,19,18,20,16,10,15,13],\"y\":[\"gini\",\"entropy\",\"gini\",\"entropy\",\"gini\",\"entropy\",\"entropy\",\"entropy\",\"entropy\",\"entropy\",\"entropy\",\"gini\",\"gini\",\"entropy\",\"entropy\",\"gini\",\"gini\",\"gini\",\"gini\",\"gini\",\"entropy\",\"gini\",\"gini\",\"gini\",\"gini\",\"gini\",\"entropy\",\"entropy\",\"entropy\",\"gini\",\"gini\",\"entropy\",\"gini\",\"entropy\",\"entropy\",\"entropy\",\"gini\",\"entropy\",\"entropy\",\"gini\",\"entropy\",\"entropy\",\"gini\",\"entropy\",\"gini\",\"entropy\",\"entropy\",\"entropy\",\"gini\",\"entropy\"],\"type\":\"scatter\",\"xaxis\":\"x9\",\"yaxis\":\"y9\"},{\"type\":\"scatter\",\"xaxis\":\"x15\",\"yaxis\":\"y15\"},{\"colorbar\":{\"title\":{\"text\":\"Objective Value\"}},\"colorscale\":[[0.0,\"rgb(247,251,255)\"],[0.125,\"rgb(222,235,247)\"],[0.25,\"rgb(198,219,239)\"],[0.375,\"rgb(158,202,225)\"],[0.5,\"rgb(107,174,214)\"],[0.625,\"rgb(66,146,198)\"],[0.75,\"rgb(33,113,181)\"],[0.875,\"rgb(8,81,156)\"],[1.0,\"rgb(8,48,107)\"]],\"connectgaps\":true,\"contours\":{\"coloring\":\"heatmap\"},\"hoverinfo\":\"none\",\"line\":{\"smoothing\":1.3},\"reversescale\":false,\"showscale\":false,\"x\":[2.15,3,5,6,7,8,9,10,11,12,13,14,15,16,17,18,19,20,20.85],\"y\":[0.55,1,2,3,4,5,6,7,8,9,10,10.45],\"z\":[[null,null,null,null,null,null,null,null,null,null,null,null,null,null,null,null,null,null,null],[null,null,null,null,0.8925233644859814,null,0.9171339563862928,null,null,null,0.8978193146417446,null,null,0.9180685358255453,null,null,0.9299065420560748,0.9205607476635516,null],[null,null,0.8426791277258567,null,0.8978193146417446,0.9171339563862929,null,0.9137071651090343,0.9177570093457943,0.9302180685358256,null,null,null,0.9314641744548288,null,0.928348909657321,null,null,null],[null,null,0.8538940809968848,null,null,null,null,0.8850467289719626,null,0.8925233644859812,null,null,null,null,null,null,null,null,null],[null,0.733644859813084,null,0.8850467289719626,0.8993769470404984,null,null,0.9180685358255453,null,null,null,null,null,null,null,null,null,0.8794392523364486,null],[null,null,null,null,null,0.908411214953271,null,null,0.9152647975077881,null,null,0.894392523364486,null,null,0.9221183800623052,null,null,null,null],[null,null,null,0.8834890965732087,null,0.9056074766355142,0.911214953271028,null,null,0.9077881619937695,null,null,0.8987538940809969,0.9074766355140188,null,null,null,null,null],[null,null,0.7993769470404984,null,null,null,null,0.9165109034267912,null,null,null,null,null,null,0.9177570093457945,null,0.9071651090342681,null,null],[null,null,0.853582554517134,null,null,null,null,0.9124610591900311,null,null,null,null,null,0.8962616822429906,0.9165109034267912,null,null,null,null],[null,null,null,null,0.8903426791277258,0.9096573208722741,null,0.9112149532710282,null,0.9133956386292834,null,null,null,null,null,null,null,null,null],[null,null,null,null,null,null,null,0.905607476635514,null,null,null,null,null,null,null,0.905607476635514,null,null,null],[null,null,null,null,null,null,null,null,null,null,null,null,null,null,null,null,null,null,null]],\"type\":\"contour\",\"xaxis\":\"x21\",\"yaxis\":\"y21\"},{\"marker\":{\"color\":\"black\",\"line\":{\"color\":\"Gray\",\"width\":2.0}},\"mode\":\"markers\",\"name\":\"Feasible Trial\",\"showlegend\":false,\"x\":[14,7,10,11,17,6,10,5,8,8,10,12,16,19,12,5,12,10,12,7,16,5,18,20,6,10,9,11,5,9,7,5,9,17,3,10,16,8,7,10,10,8,17,19,18,20,16,10,15,13],\"y\":[5,1,2,5,7,6,7,8,6,2,8,6,1,1,2,7,3,10,9,2,2,2,2,4,4,8,1,2,3,6,9,3,6,5,4,3,8,9,4,9,4,5,8,7,10,1,6,7,6,1],\"type\":\"scatter\",\"xaxis\":\"x21\",\"yaxis\":\"y21\"},{\"colorbar\":{\"title\":{\"text\":\"Objective Value\"}},\"colorscale\":[[0.0,\"rgb(247,251,255)\"],[0.125,\"rgb(222,235,247)\"],[0.25,\"rgb(198,219,239)\"],[0.375,\"rgb(158,202,225)\"],[0.5,\"rgb(107,174,214)\"],[0.625,\"rgb(66,146,198)\"],[0.75,\"rgb(33,113,181)\"],[0.875,\"rgb(8,81,156)\"],[1.0,\"rgb(8,48,107)\"]],\"connectgaps\":true,\"contours\":{\"coloring\":\"heatmap\"},\"hoverinfo\":\"none\",\"line\":{\"smoothing\":1.3},\"reversescale\":false,\"showscale\":false,\"x\":[2.15,3,5,6,7,8,9,10,11,12,13,14,15,16,17,18,19,20,20.85],\"y\":[1.6,2,3,4,5,6,7,8,9,10,10.4],\"z\":[[null,null,null,null,null,null,null,null,null,null,null,null,null,null,null,null,null,null,null],[null,null,0.8538940809968848,null,0.8925233644859814,0.9171339563862929,null,null,null,null,null,null,null,0.9314641744548288,null,0.905607476635514,0.9299065420560748,null,null],[null,0.733644859813084,0.853582554517134,0.8834890965732087,null,0.908411214953271,null,0.9180685358255453,0.9152647975077881,0.9302180685358256,null,null,null,0.8962616822429906,0.9165109034267912,null,0.9071651090342681,0.9205607476635516,null],[null,null,null,null,null,null,null,0.9112149532710282,0.9177570093457943,null,null,null,null,0.9180685358255453,null,null,null,null,null],[null,null,null,null,null,null,null,0.9137071651090343,null,null,null,null,null,0.9074766355140188,null,null,null,0.8794392523364486,null],[null,null,null,null,null,0.9056074766355142,0.911214953271028,null,null,0.8925233644859812,null,null,null,null,0.9221183800623052,null,null,null,null],[null,null,0.8426791277258567,null,null,null,0.9102803738317757,0.8725856697819314,null,0.9133956386292834,null,null,null,null,null,null,null,null,null],[null,null,null,null,0.8993769470404984,null,null,0.8850467289719626,null,null,0.8978193146417446,0.894392523364486,null,null,null,null,null,null,null],[null,null,0.8473520249221185,0.8850467289719626,0.8903426791277258,0.9096573208722741,0.9171339563862928,0.9133956386292835,null,null,null,null,null,null,0.9177570093457945,null,null,null,null],[null,null,null,null,null,null,null,0.9165109034267912,null,null,null,null,0.8987538940809969,null,null,0.928348909657321,null,null,null],[null,null,null,null,null,null,null,null,null,null,null,null,null,null,null,null,null,null,null]],\"type\":\"contour\",\"xaxis\":\"x27\",\"yaxis\":\"y27\"},{\"marker\":{\"color\":\"black\",\"line\":{\"color\":\"Gray\",\"width\":2.0}},\"mode\":\"markers\",\"name\":\"Feasible Trial\",\"showlegend\":false,\"x\":[14,7,10,11,17,6,10,5,8,8,10,12,16,19,12,5,12,10,12,7,16,5,18,20,6,10,9,11,5,9,7,5,9,17,3,10,16,8,7,10,10,8,17,19,18,20,16,10,15,13],\"y\":[8,2,5,3,9,3,9,3,6,2,3,7,4,2,3,2,6,4,7,8,2,7,10,5,9,7,9,4,2,7,9,9,6,6,3,8,3,9,8,4,3,3,3,3,2,3,5,10,10,8],\"type\":\"scatter\",\"xaxis\":\"x27\",\"yaxis\":\"y27\"},{\"colorbar\":{\"title\":{\"text\":\"Objective Value\"}},\"colorscale\":[[0.0,\"rgb(247,251,255)\"],[0.125,\"rgb(222,235,247)\"],[0.25,\"rgb(198,219,239)\"],[0.375,\"rgb(158,202,225)\"],[0.5,\"rgb(107,174,214)\"],[0.625,\"rgb(66,146,198)\"],[0.75,\"rgb(33,113,181)\"],[0.875,\"rgb(8,81,156)\"],[1.0,\"rgb(8,48,107)\"]],\"connectgaps\":true,\"contours\":{\"coloring\":\"heatmap\"},\"hoverinfo\":\"none\",\"line\":{\"smoothing\":1.3},\"reversescale\":false,\"showscale\":false,\"x\":[2.15,3,5,6,7,8,9,10,11,12,13,14,15,16,17,18,19,20,20.85],\"y\":[0.5,10,14,15,16,17,21,24,38,40,41,45,46,63,66,72,75,78,84,90,93,97,101,103,109,124,125,126,131,133,134,136,142,143,145,147,157,158,160,165,170,173,182,186,191,200,209.5],\"z\":[[null,null,null,null,null,null,null,null,null,null,null,null,null,null,null,null,null,null,null],[null,null,null,null,null,null,null,null,null,null,null,null,null,null,null,null,null,0.8794392523364486,null],[null,null,0.7993769470404984,null,null,null,null,null,null,null,null,null,null,null,null,null,null,null,null],[null,null,null,null,null,null,null,0.8850467289719626,null,null,null,null,null,null,null,null,null,null,null],[null,null,null,null,null,null,null,null,null,null,0.8978193146417446,null,null,null,null,null,null,null,null],[null,null,null,null,null,null,null,0.8725856697819314,null,null,null,null,null,null,null,null,null,null,null],[null,null,null,null,null,null,null,null,null,0.8925233644859812,null,null,null,null,null,null,null,null,null],[null,null,null,null,null,null,null,null,null,null,null,0.894392523364486,null,null,null,null,null,null,null],[null,null,null,null,null,null,null,null,null,null,null,null,0.8987538940809969,null,null,null,null,null,null],[null,null,null,null,null,null,null,null,0.9152647975077881,null,null,null,null,null,null,null,null,null,null],[null,null,null,null,null,null,null,null,null,null,null,null,null,null,null,null,null,0.9205607476635516,null],[null,null,null,null,0.8925233644859814,null,null,null,null,null,null,null,null,null,null,null,null,null,null],[null,null,0.8426791277258567,null,null,null,null,null,null,null,null,null,null,null,null,null,null,null,null],[null,null,null,null,null,0.9171339563862929,null,null,null,null,null,null,null,null,null,null,null,null,null],[null,null,null,null,null,null,null,null,null,null,null,null,null,0.8962616822429906,null,0.905607476635514,null,null,null],[null,null,null,null,null,null,null,null,0.9177570093457943,null,null,null,null,null,null,null,null,null,null],[null,null,null,null,null,null,null,0.9124610591900311,null,null,null,null,null,null,null,null,null,null,null],[null,null,null,null,null,null,0.9102803738317757,null,null,null,null,null,null,null,null,null,null,null,null],[null,null,null,null,null,null,null,null,null,null,null,null,null,0.9180685358255453,null,null,null,null,null],[null,null,null,null,null,null,0.911214953271028,null,null,null,null,null,null,null,null,null,null,null,null],[null,null,null,null,null,null,null,null,null,null,null,null,null,0.9314641744548288,null,null,null,null,null],[null,null,null,null,null,null,null,null,null,0.9302180685358256,null,null,null,null,null,null,null,null,null],[null,null,null,null,0.8903426791277258,null,null,null,null,null,null,null,null,null,null,null,null,null,null],[null,null,null,null,null,null,null,0.905607476635514,null,null,null,null,null,null,null,null,null,null,null],[null,null,null,null,null,null,null,null,null,null,null,null,null,null,null,null,0.9299065420560748,null,null],[null,null,null,null,null,null,null,null,null,null,null,null,null,null,null,null,0.9071651090342681,null,null],[null,null,null,null,null,null,null,null,null,null,null,null,null,null,0.9177570093457945,null,null,null,null],[null,null,null,null,null,null,null,null,null,0.9077881619937695,null,null,null,null,null,null,null,null,null],[null,null,null,null,null,null,null,0.9165109034267912,null,null,null,null,null,null,null,null,null,null,null],[null,null,null,null,null,null,null,0.9133956386292835,null,null,null,null,null,null,null,null,null,null,null],[null,null,null,null,null,0.908411214953271,0.9171339563862928,null,null,null,null,null,null,null,null,null,null,null,null],[null,null,null,null,null,null,null,null,null,null,null,null,null,null,0.9221183800623052,null,null,null,null],[null,null,null,0.8850467289719626,null,null,null,null,null,null,null,null,null,null,null,null,null,null,null],[null,null,null,null,null,0.9056074766355142,null,0.9137071651090343,null,null,null,null,null,null,null,null,null,null,null],[null,null,0.8538940809968848,0.8834890965732087,null,null,null,null,null,null,null,null,null,null,null,null,null,null,null],[null,null,null,null,0.8978193146417446,null,null,null,null,null,null,null,null,null,null,null,null,null,null],[null,null,null,null,null,null,null,0.9180685358255453,null,null,null,null,null,null,0.9165109034267912,null,null,null,null],[null,null,0.8473520249221185,null,null,null,null,null,null,null,null,null,null,null,null,null,null,null,null],[null,null,null,null,null,null,null,null,null,null,null,null,null,0.9074766355140188,null,null,null,null,null],[null,null,null,null,null,0.9096573208722741,null,null,null,null,null,null,null,null,null,null,null,null,null],[null,0.733644859813084,null,null,null,null,null,null,null,null,null,null,null,null,null,null,null,null,null],[null,null,null,null,null,null,null,null,null,null,null,null,null,null,null,0.928348909657321,null,null,null],[null,null,null,null,null,null,null,0.9112149532710282,null,null,null,null,null,null,null,null,null,null,null],[null,null,null,null,0.8993769470404984,null,null,null,null,null,null,null,null,null,null,null,null,null,null],[null,null,0.853582554517134,null,null,null,null,null,null,null,null,null,null,null,null,null,null,null,null],[null,null,null,null,null,null,null,null,null,0.9133956386292834,null,null,null,null,null,null,null,null,null],[null,null,null,null,null,null,null,null,null,null,null,null,null,null,null,null,null,null,null]],\"type\":\"contour\",\"xaxis\":\"x33\",\"yaxis\":\"y33\"},{\"marker\":{\"color\":\"black\",\"line\":{\"color\":\"Gray\",\"width\":2.0}},\"mode\":\"markers\",\"name\":\"Feasible Trial\",\"showlegend\":false,\"x\":[14,7,10,11,17,6,10,5,8,8,10,12,16,19,12,5,12,10,12,7,16,5,18,20,6,10,9,11,5,9,7,5,9,17,3,10,16,8,7,10,10,8,17,19,18,20,16,10,15,13],\"y\":[24,45,143,40,125,145,133,191,143,63,75,126,84,109,97,14,21,103,200,147,93,46,173,10,142,17,134,72,145,78,101,158,90,136,170,15,66,165,186,182,157,134,157,124,66,41,160,131,38,16],\"type\":\"scatter\",\"xaxis\":\"x33\",\"yaxis\":\"y33\"},{\"colorbar\":{\"title\":{\"text\":\"Objective Value\"}},\"colorscale\":[[0.0,\"rgb(247,251,255)\"],[0.125,\"rgb(222,235,247)\"],[0.25,\"rgb(198,219,239)\"],[0.375,\"rgb(158,202,225)\"],[0.5,\"rgb(107,174,214)\"],[0.625,\"rgb(66,146,198)\"],[0.75,\"rgb(33,113,181)\"],[0.875,\"rgb(8,81,156)\"],[1.0,\"rgb(8,48,107)\"]],\"connectgaps\":true,\"contours\":{\"coloring\":\"heatmap\"},\"hoverinfo\":\"none\",\"line\":{\"smoothing\":1.3},\"reversescale\":false,\"showscale\":false,\"x\":[0.55,1,2,3,4,5,6,7,8,9,10,10.45],\"y\":[\"False\",\"True\"],\"z\":[[null,0.9299065420560748,0.9314641744548288,0.8473520249221185,0.8850467289719626,0.9221183800623052,0.911214953271028,0.9177570093457945,0.9165109034267912,0.9133956386292834,0.905607476635514,null],[null,0.9180685358255453,0.9177570093457943,0.8925233644859812,0.9180685358255453,0.908411214953271,0.9077881619937695,0.9071651090342681,0.8962616822429906,0.8903426791277258,null,null]],\"type\":\"contour\",\"xaxis\":\"x4\",\"yaxis\":\"y4\"},{\"marker\":{\"color\":\"black\",\"line\":{\"color\":\"Gray\",\"width\":2.0}},\"mode\":\"markers\",\"name\":\"Feasible Trial\",\"showlegend\":false,\"x\":[5,1,2,5,7,6,7,8,6,2,8,6,1,1,2,7,3,10,9,2,2,2,2,4,4,8,1,2,3,6,9,3,6,5,4,3,8,9,4,9,4,5,8,7,10,1,6,7,6,1],\"y\":[\"True\",\"True\",\"True\",\"False\",\"False\",\"False\",\"False\",\"True\",\"True\",\"False\",\"False\",\"True\",\"True\",\"False\",\"False\",\"False\",\"True\",\"False\",\"False\",\"True\",\"False\",\"False\",\"False\",\"False\",\"False\",\"True\",\"False\",\"True\",\"True\",\"False\",\"True\",\"False\",\"False\",\"False\",\"False\",\"True\",\"True\",\"False\",\"True\",\"False\",\"True\",\"True\",\"False\",\"True\",\"False\",\"False\",\"True\",\"False\",\"True\",\"False\"],\"type\":\"scatter\",\"xaxis\":\"x4\",\"yaxis\":\"y4\"},{\"colorbar\":{\"title\":{\"text\":\"Objective Value\"}},\"colorscale\":[[0.0,\"rgb(247,251,255)\"],[0.125,\"rgb(222,235,247)\"],[0.25,\"rgb(198,219,239)\"],[0.375,\"rgb(158,202,225)\"],[0.5,\"rgb(107,174,214)\"],[0.625,\"rgb(66,146,198)\"],[0.75,\"rgb(33,113,181)\"],[0.875,\"rgb(8,81,156)\"],[1.0,\"rgb(8,48,107)\"]],\"connectgaps\":true,\"contours\":{\"coloring\":\"heatmap\"},\"hoverinfo\":\"none\",\"line\":{\"smoothing\":1.3},\"reversescale\":false,\"showscale\":false,\"x\":[0.55,1,2,3,4,5,6,7,8,9,10,10.45],\"y\":[\"entropy\",\"gini\"],\"z\":[[null,0.9299065420560748,0.9314641744548288,0.8850467289719626,0.9180685358255453,0.9221183800623052,0.9074766355140188,0.9165109034267912,0.9124610591900311,0.9096573208722741,null,null],[null,0.9180685358255453,0.928348909657321,0.8925233644859812,0.8850467289719626,0.894392523364486,0.911214953271028,0.9177570093457945,0.9165109034267912,0.9133956386292834,0.905607476635514,null]],\"type\":\"contour\",\"xaxis\":\"x10\",\"yaxis\":\"y10\"},{\"marker\":{\"color\":\"black\",\"line\":{\"color\":\"Gray\",\"width\":2.0}},\"mode\":\"markers\",\"name\":\"Feasible Trial\",\"showlegend\":false,\"x\":[5,1,2,5,7,6,7,8,6,2,8,6,1,1,2,7,3,10,9,2,2,2,2,4,4,8,1,2,3,6,9,3,6,5,4,3,8,9,4,9,4,5,8,7,10,1,6,7,6,1],\"y\":[\"gini\",\"entropy\",\"gini\",\"entropy\",\"gini\",\"entropy\",\"entropy\",\"entropy\",\"entropy\",\"entropy\",\"entropy\",\"gini\",\"gini\",\"entropy\",\"entropy\",\"gini\",\"gini\",\"gini\",\"gini\",\"gini\",\"entropy\",\"gini\",\"gini\",\"gini\",\"gini\",\"gini\",\"entropy\",\"entropy\",\"entropy\",\"gini\",\"gini\",\"entropy\",\"gini\",\"entropy\",\"entropy\",\"entropy\",\"gini\",\"entropy\",\"entropy\",\"gini\",\"entropy\",\"entropy\",\"gini\",\"entropy\",\"gini\",\"entropy\",\"entropy\",\"entropy\",\"gini\",\"entropy\"],\"type\":\"scatter\",\"xaxis\":\"x10\",\"yaxis\":\"y10\"},{\"colorbar\":{\"title\":{\"text\":\"Objective Value\"}},\"colorscale\":[[0.0,\"rgb(247,251,255)\"],[0.125,\"rgb(222,235,247)\"],[0.25,\"rgb(198,219,239)\"],[0.375,\"rgb(158,202,225)\"],[0.5,\"rgb(107,174,214)\"],[0.625,\"rgb(66,146,198)\"],[0.75,\"rgb(33,113,181)\"],[0.875,\"rgb(8,81,156)\"],[1.0,\"rgb(8,48,107)\"]],\"connectgaps\":true,\"contours\":{\"coloring\":\"heatmap\"},\"hoverinfo\":\"none\",\"line\":{\"smoothing\":1.3},\"reversescale\":false,\"showscale\":false,\"x\":[0.55,1,2,3,4,5,6,7,8,9,10,10.45],\"y\":[2.15,3,5,6,7,8,9,10,11,12,13,14,15,16,17,18,19,20,20.85],\"z\":[[null,null,null,null,null,null,null,null,null,null,null,null],[null,null,null,null,0.733644859813084,null,null,null,null,null,null,null],[null,null,0.8426791277258567,0.8538940809968848,null,null,null,0.7993769470404984,0.853582554517134,null,null,null],[null,null,null,null,0.8850467289719626,null,0.8834890965732087,null,null,null,null,null],[null,0.8925233644859814,0.8978193146417446,null,0.8993769470404984,null,null,null,null,0.8903426791277258,null,null],[null,null,0.9171339563862929,null,null,0.908411214953271,0.9056074766355142,null,null,0.9096573208722741,null,null],[null,0.9171339563862928,null,null,null,null,0.911214953271028,null,null,null,null,null],[null,null,0.9137071651090343,0.8850467289719626,0.9180685358255453,null,null,0.9165109034267912,0.9124610591900311,0.9112149532710282,0.905607476635514,null],[null,null,0.9177570093457943,null,null,0.9152647975077881,null,null,null,null,null,null],[null,null,0.9302180685358256,0.8925233644859812,null,null,0.9077881619937695,null,null,0.9133956386292834,null,null],[null,0.8978193146417446,null,null,null,null,null,null,null,null,null,null],[null,null,null,null,null,0.894392523364486,null,null,null,null,null,null],[null,null,null,null,null,null,0.8987538940809969,null,null,null,null,null],[null,0.9180685358255453,0.9314641744548288,null,null,null,0.9074766355140188,null,0.8962616822429906,null,null,null],[null,null,null,null,null,0.9221183800623052,null,0.9177570093457945,0.9165109034267912,null,null,null],[null,null,0.928348909657321,null,null,null,null,null,null,null,0.905607476635514,null],[null,0.9299065420560748,null,null,null,null,null,0.9071651090342681,null,null,null,null],[null,0.9205607476635516,null,null,0.8794392523364486,null,null,null,null,null,null,null],[null,null,null,null,null,null,null,null,null,null,null,null]],\"type\":\"contour\",\"xaxis\":\"x16\",\"yaxis\":\"y16\"},{\"marker\":{\"color\":\"black\",\"line\":{\"color\":\"Gray\",\"width\":2.0}},\"mode\":\"markers\",\"name\":\"Feasible Trial\",\"showlegend\":false,\"x\":[5,1,2,5,7,6,7,8,6,2,8,6,1,1,2,7,3,10,9,2,2,2,2,4,4,8,1,2,3,6,9,3,6,5,4,3,8,9,4,9,4,5,8,7,10,1,6,7,6,1],\"y\":[14,7,10,11,17,6,10,5,8,8,10,12,16,19,12,5,12,10,12,7,16,5,18,20,6,10,9,11,5,9,7,5,9,17,3,10,16,8,7,10,10,8,17,19,18,20,16,10,15,13],\"type\":\"scatter\",\"xaxis\":\"x16\",\"yaxis\":\"y16\"},{\"type\":\"scatter\",\"xaxis\":\"x22\",\"yaxis\":\"y22\"},{\"colorbar\":{\"title\":{\"text\":\"Objective Value\"}},\"colorscale\":[[0.0,\"rgb(247,251,255)\"],[0.125,\"rgb(222,235,247)\"],[0.25,\"rgb(198,219,239)\"],[0.375,\"rgb(158,202,225)\"],[0.5,\"rgb(107,174,214)\"],[0.625,\"rgb(66,146,198)\"],[0.75,\"rgb(33,113,181)\"],[0.875,\"rgb(8,81,156)\"],[1.0,\"rgb(8,48,107)\"]],\"connectgaps\":true,\"contours\":{\"coloring\":\"heatmap\"},\"hoverinfo\":\"none\",\"line\":{\"smoothing\":1.3},\"reversescale\":false,\"showscale\":false,\"x\":[0.55,1,2,3,4,5,6,7,8,9,10,10.45],\"y\":[1.6,2,3,4,5,6,7,8,9,10,10.4],\"z\":[[null,null,null,null,null,null,null,null,null,null,null,null],[null,0.9299065420560748,0.9314641744548288,0.8538940809968848,null,null,null,0.7993769470404984,null,null,0.905607476635514,null],[null,0.9205607476635516,0.9302180685358256,null,0.9180685358255453,0.9152647975077881,0.8834890965732087,0.9071651090342681,0.9165109034267912,null,null,null],[null,0.9180685358255453,0.9177570093457943,null,null,null,null,null,null,0.9112149532710282,0.905607476635514,null],[null,null,0.9137071651090343,null,0.8794392523364486,null,0.9074766355140188,null,null,null,null,null],[null,null,null,0.8925233644859812,null,0.9221183800623052,0.911214953271028,null,null,null,null,null],[null,null,0.8426791277258567,null,null,null,0.9102803738317757,null,0.8725856697819314,0.9133956386292834,null,null],[null,0.8978193146417446,0.8978193146417446,0.8850467289719626,0.8993769470404984,0.894392523364486,null,null,null,null,null,null],[null,0.9171339563862928,null,0.8473520249221185,0.8850467289719626,null,null,0.9177570093457945,null,0.9096573208722741,null,null],[null,null,0.928348909657321,null,null,null,0.8987538940809969,0.9165109034267912,null,null,null,null],[null,null,null,null,null,null,null,null,null,null,null,null]],\"type\":\"contour\",\"xaxis\":\"x28\",\"yaxis\":\"y28\"},{\"marker\":{\"color\":\"black\",\"line\":{\"color\":\"Gray\",\"width\":2.0}},\"mode\":\"markers\",\"name\":\"Feasible Trial\",\"showlegend\":false,\"x\":[5,1,2,5,7,6,7,8,6,2,8,6,1,1,2,7,3,10,9,2,2,2,2,4,4,8,1,2,3,6,9,3,6,5,4,3,8,9,4,9,4,5,8,7,10,1,6,7,6,1],\"y\":[8,2,5,3,9,3,9,3,6,2,3,7,4,2,3,2,6,4,7,8,2,7,10,5,9,7,9,4,2,7,9,9,6,6,3,8,3,9,8,4,3,3,3,3,2,3,5,10,10,8],\"type\":\"scatter\",\"xaxis\":\"x28\",\"yaxis\":\"y28\"},{\"colorbar\":{\"title\":{\"text\":\"Objective Value\"}},\"colorscale\":[[0.0,\"rgb(247,251,255)\"],[0.125,\"rgb(222,235,247)\"],[0.25,\"rgb(198,219,239)\"],[0.375,\"rgb(158,202,225)\"],[0.5,\"rgb(107,174,214)\"],[0.625,\"rgb(66,146,198)\"],[0.75,\"rgb(33,113,181)\"],[0.875,\"rgb(8,81,156)\"],[1.0,\"rgb(8,48,107)\"]],\"connectgaps\":true,\"contours\":{\"coloring\":\"heatmap\"},\"hoverinfo\":\"none\",\"line\":{\"smoothing\":1.3},\"reversescale\":false,\"showscale\":false,\"x\":[0.55,1,2,3,4,5,6,7,8,9,10,10.45],\"y\":[0.5,10,14,15,16,17,21,24,38,40,41,45,46,63,66,72,75,78,84,90,93,97,101,103,109,124,125,126,131,133,134,136,142,143,145,147,157,158,160,165,170,173,182,186,191,200,209.5],\"z\":[[null,null,null,null,null,null,null,null,null,null,null,null],[null,null,null,null,0.8794392523364486,null,null,null,null,null,null,null],[null,null,null,null,null,null,null,0.7993769470404984,null,null,null,null],[null,null,null,0.8850467289719626,null,null,null,null,null,null,null,null],[null,0.8978193146417446,null,null,null,null,null,null,null,null,null,null],[null,null,null,null,null,null,null,null,0.8725856697819314,null,null,null],[null,null,null,0.8925233644859812,null,null,null,null,null,null,null,null],[null,null,null,null,null,0.894392523364486,null,null,null,null,null,null],[null,null,null,null,null,null,0.8987538940809969,null,null,null,null,null],[null,null,null,null,null,0.9152647975077881,null,null,null,null,null,null],[null,0.9205607476635516,null,null,null,null,null,null,null,null,null,null],[null,0.8925233644859814,null,null,null,null,null,null,null,null,null,null],[null,null,0.8426791277258567,null,null,null,null,null,null,null,null,null],[null,null,0.9171339563862929,null,null,null,null,null,null,null,null,null],[null,null,null,null,null,null,null,null,0.8962616822429906,null,0.905607476635514,null],[null,null,0.9177570093457943,null,null,null,null,null,null,null,null,null],[null,null,null,null,null,null,null,null,0.9124610591900311,null,null,null],[null,null,null,null,null,null,0.9102803738317757,null,null,null,null,null],[null,0.9180685358255453,null,null,null,null,null,null,null,null,null,null],[null,null,null,null,null,null,0.911214953271028,null,null,null,null,null],[null,null,0.9314641744548288,null,null,null,null,null,null,null,null,null],[null,null,0.9302180685358256,null,null,null,null,null,null,null,null,null],[null,null,null,null,null,null,null,null,null,0.8903426791277258,null,null],[null,null,null,null,null,null,null,null,null,null,0.905607476635514,null],[null,0.9299065420560748,null,null,null,null,null,null,null,null,null,null],[null,null,null,null,null,null,null,0.9071651090342681,null,null,null,null],[null,null,null,null,null,null,null,0.9177570093457945,null,null,null,null],[null,null,null,null,null,null,0.9077881619937695,null,null,null,null,null],[null,null,null,null,null,null,null,0.9165109034267912,null,null,null,null],[null,null,null,null,null,null,null,0.9133956386292835,null,null,null,null],[null,0.9171339563862928,null,null,null,0.908411214953271,null,null,null,null,null,null],[null,null,null,null,null,0.9221183800623052,null,null,null,null,null,null],[null,null,null,null,0.8850467289719626,null,null,null,null,null,null,null],[null,null,0.9137071651090343,null,null,null,0.9056074766355142,null,null,null,null,null],[null,null,null,0.8538940809968848,null,null,0.8834890965732087,null,null,null,null,null],[null,null,0.8978193146417446,null,null,null,null,null,null,null,null,null],[null,null,null,null,0.9180685358255453,null,null,null,0.9165109034267912,null,null,null],[null,null,null,0.8473520249221185,null,null,null,null,null,null,null,null],[null,null,null,null,null,null,0.9074766355140188,null,null,null,null,null],[null,null,null,null,null,null,null,null,null,0.9096573208722741,null,null],[null,null,null,null,0.733644859813084,null,null,null,null,null,null,null],[null,null,0.928348909657321,null,null,null,null,null,null,null,null,null],[null,null,null,null,null,null,null,null,null,0.9112149532710282,null,null],[null,null,null,null,0.8993769470404984,null,null,null,null,null,null,null],[null,null,null,null,null,null,null,null,0.853582554517134,null,null,null],[null,null,null,null,null,null,null,null,null,0.9133956386292834,null,null],[null,null,null,null,null,null,null,null,null,null,null,null]],\"type\":\"contour\",\"xaxis\":\"x34\",\"yaxis\":\"y34\"},{\"marker\":{\"color\":\"black\",\"line\":{\"color\":\"Gray\",\"width\":2.0}},\"mode\":\"markers\",\"name\":\"Feasible Trial\",\"showlegend\":false,\"x\":[5,1,2,5,7,6,7,8,6,2,8,6,1,1,2,7,3,10,9,2,2,2,2,4,4,8,1,2,3,6,9,3,6,5,4,3,8,9,4,9,4,5,8,7,10,1,6,7,6,1],\"y\":[24,45,143,40,125,145,133,191,143,63,75,126,84,109,97,14,21,103,200,147,93,46,173,10,142,17,134,72,145,78,101,158,90,136,170,15,66,165,186,182,157,134,157,124,66,41,160,131,38,16],\"type\":\"scatter\",\"xaxis\":\"x34\",\"yaxis\":\"y34\"},{\"colorbar\":{\"title\":{\"text\":\"Objective Value\"}},\"colorscale\":[[0.0,\"rgb(247,251,255)\"],[0.125,\"rgb(222,235,247)\"],[0.25,\"rgb(198,219,239)\"],[0.375,\"rgb(158,202,225)\"],[0.5,\"rgb(107,174,214)\"],[0.625,\"rgb(66,146,198)\"],[0.75,\"rgb(33,113,181)\"],[0.875,\"rgb(8,81,156)\"],[1.0,\"rgb(8,48,107)\"]],\"connectgaps\":true,\"contours\":{\"coloring\":\"heatmap\"},\"hoverinfo\":\"none\",\"line\":{\"smoothing\":1.3},\"reversescale\":false,\"showscale\":false,\"x\":[1.6,2,3,4,5,6,7,8,9,10,10.4],\"y\":[\"False\",\"True\"],\"z\":[[null,0.9314641744548288,0.9302180685358256,0.9112149532710282,0.8794392523364486,0.9221183800623052,0.9133956386292834,0.8978193146417446,0.9177570093457945,0.928348909657321,null],[null,0.8925233644859814,0.9180685358255453,0.9180685358255453,0.9137071651090343,0.9056074766355142,0.9077881619937695,0.8993769470404984,0.8903426791277258,0.8987538940809969,null]],\"type\":\"contour\",\"xaxis\":\"x5\",\"yaxis\":\"y5\"},{\"marker\":{\"color\":\"black\",\"line\":{\"color\":\"Gray\",\"width\":2.0}},\"mode\":\"markers\",\"name\":\"Feasible Trial\",\"showlegend\":false,\"x\":[8,2,5,3,9,3,9,3,6,2,3,7,4,2,3,2,6,4,7,8,2,7,10,5,9,7,9,4,2,7,9,9,6,6,3,8,3,9,8,4,3,3,3,3,2,3,5,10,10,8],\"y\":[\"True\",\"True\",\"True\",\"False\",\"False\",\"False\",\"False\",\"True\",\"True\",\"False\",\"False\",\"True\",\"True\",\"False\",\"False\",\"False\",\"True\",\"False\",\"False\",\"True\",\"False\",\"False\",\"False\",\"False\",\"False\",\"True\",\"False\",\"True\",\"True\",\"False\",\"True\",\"False\",\"False\",\"False\",\"False\",\"True\",\"True\",\"False\",\"True\",\"False\",\"True\",\"True\",\"False\",\"True\",\"False\",\"False\",\"True\",\"False\",\"True\",\"False\"],\"type\":\"scatter\",\"xaxis\":\"x5\",\"yaxis\":\"y5\"},{\"colorbar\":{\"title\":{\"text\":\"Objective Value\"}},\"colorscale\":[[0.0,\"rgb(247,251,255)\"],[0.125,\"rgb(222,235,247)\"],[0.25,\"rgb(198,219,239)\"],[0.375,\"rgb(158,202,225)\"],[0.5,\"rgb(107,174,214)\"],[0.625,\"rgb(66,146,198)\"],[0.75,\"rgb(33,113,181)\"],[0.875,\"rgb(8,81,156)\"],[1.0,\"rgb(8,48,107)\"]],\"connectgaps\":true,\"contours\":{\"coloring\":\"heatmap\"},\"hoverinfo\":\"none\",\"line\":{\"smoothing\":1.3},\"reversescale\":false,\"showscale\":false,\"x\":[1.6,2,3,4,5,6,7,8,9,10,10.4],\"y\":[\"entropy\",\"gini\"],\"z\":[[null,0.9314641744548288,0.9302180685358256,0.9177570093457943,0.9074766355140188,0.9221183800623052,null,0.8993769470404984,0.9171339563862928,0.9165109034267912,null],[null,0.905607476635514,0.9165109034267912,0.9180685358255453,0.9137071651090343,0.911214953271028,0.9133956386292834,0.8978193146417446,0.9177570093457945,0.928348909657321,null]],\"type\":\"contour\",\"xaxis\":\"x11\",\"yaxis\":\"y11\"},{\"marker\":{\"color\":\"black\",\"line\":{\"color\":\"Gray\",\"width\":2.0}},\"mode\":\"markers\",\"name\":\"Feasible Trial\",\"showlegend\":false,\"x\":[8,2,5,3,9,3,9,3,6,2,3,7,4,2,3,2,6,4,7,8,2,7,10,5,9,7,9,4,2,7,9,9,6,6,3,8,3,9,8,4,3,3,3,3,2,3,5,10,10,8],\"y\":[\"gini\",\"entropy\",\"gini\",\"entropy\",\"gini\",\"entropy\",\"entropy\",\"entropy\",\"entropy\",\"entropy\",\"entropy\",\"gini\",\"gini\",\"entropy\",\"entropy\",\"gini\",\"gini\",\"gini\",\"gini\",\"gini\",\"entropy\",\"gini\",\"gini\",\"gini\",\"gini\",\"gini\",\"entropy\",\"entropy\",\"entropy\",\"gini\",\"gini\",\"entropy\",\"gini\",\"entropy\",\"entropy\",\"entropy\",\"gini\",\"entropy\",\"entropy\",\"gini\",\"entropy\",\"entropy\",\"gini\",\"entropy\",\"gini\",\"entropy\",\"entropy\",\"entropy\",\"gini\",\"entropy\"],\"type\":\"scatter\",\"xaxis\":\"x11\",\"yaxis\":\"y11\"},{\"colorbar\":{\"title\":{\"text\":\"Objective Value\"}},\"colorscale\":[[0.0,\"rgb(247,251,255)\"],[0.125,\"rgb(222,235,247)\"],[0.25,\"rgb(198,219,239)\"],[0.375,\"rgb(158,202,225)\"],[0.5,\"rgb(107,174,214)\"],[0.625,\"rgb(66,146,198)\"],[0.75,\"rgb(33,113,181)\"],[0.875,\"rgb(8,81,156)\"],[1.0,\"rgb(8,48,107)\"]],\"connectgaps\":true,\"contours\":{\"coloring\":\"heatmap\"},\"hoverinfo\":\"none\",\"line\":{\"smoothing\":1.3},\"reversescale\":false,\"showscale\":false,\"x\":[1.6,2,3,4,5,6,7,8,9,10,10.4],\"y\":[2.15,3,5,6,7,8,9,10,11,12,13,14,15,16,17,18,19,20,20.85],\"z\":[[null,null,null,null,null,null,null,null,null,null,null],[null,null,0.733644859813084,null,null,null,null,null,null,null,null],[null,0.8538940809968848,0.853582554517134,null,null,null,0.8426791277258567,null,0.8473520249221185,null,null],[null,null,0.8834890965732087,null,null,null,null,null,0.8850467289719626,null,null],[null,0.8925233644859814,null,null,null,null,null,0.8993769470404984,0.8903426791277258,null,null],[null,0.9171339563862929,0.908411214953271,null,null,0.9056074766355142,null,null,0.9096573208722741,null,null],[null,null,null,null,null,0.911214953271028,0.9102803738317757,null,0.9171339563862928,null,null],[null,null,0.9180685358255453,0.9112149532710282,0.9137071651090343,null,0.8725856697819314,0.8850467289719626,0.9133956386292835,0.9165109034267912,null],[null,null,0.9152647975077881,0.9177570093457943,null,null,null,null,null,null,null],[null,null,0.9302180685358256,null,null,0.8925233644859812,0.9133956386292834,null,null,null,null],[null,null,null,null,null,null,null,0.8978193146417446,null,null,null],[null,null,null,null,null,null,null,0.894392523364486,null,null,null],[null,null,null,null,null,null,null,null,null,0.8987538940809969,null],[null,0.9314641744548288,0.8962616822429906,0.9180685358255453,0.9074766355140188,null,null,null,null,null,null],[null,null,0.9165109034267912,null,null,0.9221183800623052,null,null,0.9177570093457945,null,null],[null,0.905607476635514,null,null,null,null,null,null,null,0.928348909657321,null],[null,0.9299065420560748,0.9071651090342681,null,null,null,null,null,null,null,null],[null,null,0.9205607476635516,null,0.8794392523364486,null,null,null,null,null,null],[null,null,null,null,null,null,null,null,null,null,null]],\"type\":\"contour\",\"xaxis\":\"x17\",\"yaxis\":\"y17\"},{\"marker\":{\"color\":\"black\",\"line\":{\"color\":\"Gray\",\"width\":2.0}},\"mode\":\"markers\",\"name\":\"Feasible Trial\",\"showlegend\":false,\"x\":[8,2,5,3,9,3,9,3,6,2,3,7,4,2,3,2,6,4,7,8,2,7,10,5,9,7,9,4,2,7,9,9,6,6,3,8,3,9,8,4,3,3,3,3,2,3,5,10,10,8],\"y\":[14,7,10,11,17,6,10,5,8,8,10,12,16,19,12,5,12,10,12,7,16,5,18,20,6,10,9,11,5,9,7,5,9,17,3,10,16,8,7,10,10,8,17,19,18,20,16,10,15,13],\"type\":\"scatter\",\"xaxis\":\"x17\",\"yaxis\":\"y17\"},{\"colorbar\":{\"title\":{\"text\":\"Objective Value\"}},\"colorscale\":[[0.0,\"rgb(247,251,255)\"],[0.125,\"rgb(222,235,247)\"],[0.25,\"rgb(198,219,239)\"],[0.375,\"rgb(158,202,225)\"],[0.5,\"rgb(107,174,214)\"],[0.625,\"rgb(66,146,198)\"],[0.75,\"rgb(33,113,181)\"],[0.875,\"rgb(8,81,156)\"],[1.0,\"rgb(8,48,107)\"]],\"connectgaps\":true,\"contours\":{\"coloring\":\"heatmap\"},\"hoverinfo\":\"none\",\"line\":{\"smoothing\":1.3},\"reversescale\":false,\"showscale\":false,\"x\":[1.6,2,3,4,5,6,7,8,9,10,10.4],\"y\":[0.55,1,2,3,4,5,6,7,8,9,10,10.45],\"z\":[[null,null,null,null,null,null,null,null,null,null,null],[null,0.9299065420560748,0.9205607476635516,0.9180685358255453,null,null,null,0.8978193146417446,0.9171339563862928,null,null],[null,0.9314641744548288,0.9302180685358256,0.9177570093457943,0.9137071651090343,null,0.8426791277258567,0.8978193146417446,null,0.928348909657321,null],[null,0.8538940809968848,null,null,null,0.8925233644859812,null,0.8850467289719626,0.8473520249221185,null,null],[null,null,0.9180685358255453,null,0.8794392523364486,null,null,0.8993769470404984,0.8850467289719626,null,null],[null,null,0.9152647975077881,null,null,0.9221183800623052,null,0.894392523364486,null,null,null],[null,null,0.8834890965732087,null,0.9074766355140188,0.911214953271028,0.9102803738317757,null,null,0.8987538940809969,null],[null,0.7993769470404984,0.9071651090342681,null,null,null,null,null,0.9177570093457945,0.9165109034267912,null],[null,null,0.9165109034267912,null,null,null,0.8725856697819314,null,null,null,null],[null,null,null,0.9112149532710282,null,null,0.9133956386292834,null,0.9096573208722741,null,null],[null,0.905607476635514,null,0.905607476635514,null,null,null,null,null,null,null],[null,null,null,null,null,null,null,null,null,null,null]],\"type\":\"contour\",\"xaxis\":\"x23\",\"yaxis\":\"y23\"},{\"marker\":{\"color\":\"black\",\"line\":{\"color\":\"Gray\",\"width\":2.0}},\"mode\":\"markers\",\"name\":\"Feasible Trial\",\"showlegend\":false,\"x\":[8,2,5,3,9,3,9,3,6,2,3,7,4,2,3,2,6,4,7,8,2,7,10,5,9,7,9,4,2,7,9,9,6,6,3,8,3,9,8,4,3,3,3,3,2,3,5,10,10,8],\"y\":[5,1,2,5,7,6,7,8,6,2,8,6,1,1,2,7,3,10,9,2,2,2,2,4,4,8,1,2,3,6,9,3,6,5,4,3,8,9,4,9,4,5,8,7,10,1,6,7,6,1],\"type\":\"scatter\",\"xaxis\":\"x23\",\"yaxis\":\"y23\"},{\"type\":\"scatter\",\"xaxis\":\"x29\",\"yaxis\":\"y29\"},{\"colorbar\":{\"title\":{\"text\":\"Objective Value\"}},\"colorscale\":[[0.0,\"rgb(247,251,255)\"],[0.125,\"rgb(222,235,247)\"],[0.25,\"rgb(198,219,239)\"],[0.375,\"rgb(158,202,225)\"],[0.5,\"rgb(107,174,214)\"],[0.625,\"rgb(66,146,198)\"],[0.75,\"rgb(33,113,181)\"],[0.875,\"rgb(8,81,156)\"],[1.0,\"rgb(8,48,107)\"]],\"connectgaps\":true,\"contours\":{\"coloring\":\"heatmap\"},\"hoverinfo\":\"none\",\"line\":{\"smoothing\":1.3},\"reversescale\":false,\"showscale\":false,\"x\":[1.6,2,3,4,5,6,7,8,9,10,10.4],\"y\":[0.5,10,14,15,16,17,21,24,38,40,41,45,46,63,66,72,75,78,84,90,93,97,101,103,109,124,125,126,131,133,134,136,142,143,145,147,157,158,160,165,170,173,182,186,191,200,209.5],\"z\":[[null,null,null,null,null,null,null,null,null,null,null],[null,null,null,null,0.8794392523364486,null,null,null,null,null,null],[null,0.7993769470404984,null,null,null,null,null,null,null,null,null],[null,null,null,null,null,null,null,0.8850467289719626,null,null,null],[null,null,null,null,null,null,null,0.8978193146417446,null,null,null],[null,null,null,null,null,null,0.8725856697819314,null,null,null,null],[null,null,null,null,null,0.8925233644859812,null,null,null,null,null],[null,null,null,null,null,null,null,0.894392523364486,null,null,null],[null,null,null,null,null,null,null,null,null,0.8987538940809969,null],[null,null,0.9152647975077881,null,null,null,null,null,null,null,null],[null,null,0.9205607476635516,null,null,null,null,null,null,null,null],[null,0.8925233644859814,null,null,null,null,null,null,null,null,null],[null,null,null,null,null,null,0.8426791277258567,null,null,null,null],[null,0.9171339563862929,null,null,null,null,null,null,null,null,null],[null,0.905607476635514,0.8962616822429906,null,null,null,null,null,null,null,null],[null,null,null,0.9177570093457943,null,null,null,null,null,null,null],[null,null,0.9124610591900311,null,null,null,null,null,null,null,null],[null,null,null,null,null,null,0.9102803738317757,null,null,null,null],[null,null,null,0.9180685358255453,null,null,null,null,null,null,null],[null,null,null,null,null,0.911214953271028,null,null,null,null,null],[null,0.9314641744548288,null,null,null,null,null,null,null,null,null],[null,null,0.9302180685358256,null,null,null,null,null,null,null,null],[null,null,null,null,null,null,null,null,0.8903426791277258,null,null],[null,null,null,0.905607476635514,null,null,null,null,null,null,null],[null,0.9299065420560748,null,null,null,null,null,null,null,null,null],[null,null,0.9071651090342681,null,null,null,null,null,null,null,null],[null,null,null,null,null,null,null,null,0.9177570093457945,null,null],[null,null,null,null,null,null,0.9077881619937695,null,null,null,null],[null,null,null,null,null,null,null,null,null,0.9165109034267912,null],[null,null,null,null,null,null,null,null,0.9133956386292835,null,null],[null,null,0.908411214953271,null,null,null,null,null,0.9171339563862928,null,null],[null,null,null,null,null,0.9221183800623052,null,null,null,null,null],[null,null,null,null,null,null,null,null,0.8850467289719626,null,null],[null,null,null,null,0.9137071651090343,0.9056074766355142,null,null,null,null,null],[null,0.8538940809968848,0.8834890965732087,null,null,null,null,null,null,null,null],[null,null,null,null,null,null,null,0.8978193146417446,null,null,null],[null,null,0.9180685358255453,null,null,null,null,null,null,null,null],[null,null,null,null,null,null,null,null,0.8473520249221185,null,null],[null,null,null,null,0.9074766355140188,null,null,null,null,null,null],[null,null,null,null,null,null,null,null,0.9096573208722741,null,null],[null,null,0.733644859813084,null,null,null,null,null,null,null,null],[null,null,null,null,null,null,null,null,null,0.928348909657321,null],[null,null,null,0.9112149532710282,null,null,null,null,null,null,null],[null,null,null,null,null,null,null,0.8993769470404984,null,null,null],[null,null,0.853582554517134,null,null,null,null,null,null,null,null],[null,null,null,null,null,null,0.9133956386292834,null,null,null,null],[null,null,null,null,null,null,null,null,null,null,null]],\"type\":\"contour\",\"xaxis\":\"x35\",\"yaxis\":\"y35\"},{\"marker\":{\"color\":\"black\",\"line\":{\"color\":\"Gray\",\"width\":2.0}},\"mode\":\"markers\",\"name\":\"Feasible Trial\",\"showlegend\":false,\"x\":[8,2,5,3,9,3,9,3,6,2,3,7,4,2,3,2,6,4,7,8,2,7,10,5,9,7,9,4,2,7,9,9,6,6,3,8,3,9,8,4,3,3,3,3,2,3,5,10,10,8],\"y\":[24,45,143,40,125,145,133,191,143,63,75,126,84,109,97,14,21,103,200,147,93,46,173,10,142,17,134,72,145,78,101,158,90,136,170,15,66,165,186,182,157,134,157,124,66,41,160,131,38,16],\"type\":\"scatter\",\"xaxis\":\"x35\",\"yaxis\":\"y35\"},{\"colorbar\":{\"title\":{\"text\":\"Objective Value\"}},\"colorscale\":[[0.0,\"rgb(247,251,255)\"],[0.125,\"rgb(222,235,247)\"],[0.25,\"rgb(198,219,239)\"],[0.375,\"rgb(158,202,225)\"],[0.5,\"rgb(107,174,214)\"],[0.625,\"rgb(66,146,198)\"],[0.75,\"rgb(33,113,181)\"],[0.875,\"rgb(8,81,156)\"],[1.0,\"rgb(8,48,107)\"]],\"connectgaps\":true,\"contours\":{\"coloring\":\"heatmap\"},\"hoverinfo\":\"none\",\"line\":{\"smoothing\":1.3},\"reversescale\":false,\"showscale\":false,\"x\":[0.5,10,14,15,16,17,21,24,38,40,41,45,46,63,66,72,75,78,84,90,93,97,101,103,109,124,125,126,131,133,134,136,142,143,145,147,157,158,160,165,170,173,182,186,191,200,209.5],\"y\":[\"False\",\"True\"],\"z\":[[null,0.8794392523364486,0.7993769470404984,null,0.8978193146417446,null,null,null,null,0.9152647975077881,0.9205607476635516,null,0.8426791277258567,0.9171339563862929,0.905607476635514,null,0.9124610591900311,0.9102803738317757,null,0.911214953271028,0.9314641744548288,0.9302180685358256,null,0.905607476635514,0.9299065420560748,null,0.9177570093457945,null,0.9165109034267912,0.9133956386292835,0.9171339563862928,0.9221183800623052,0.8850467289719626,null,0.8834890965732087,null,0.9165109034267912,0.8473520249221185,null,0.9096573208722741,0.733644859813084,0.928348909657321,0.9112149532710282,null,null,0.9133956386292834,null],[null,null,null,0.8850467289719626,null,0.8725856697819314,0.8925233644859812,0.894392523364486,0.8987538940809969,null,null,0.8925233644859814,null,null,0.8962616822429906,0.9177570093457943,null,null,0.9180685358255453,null,null,null,0.8903426791277258,null,null,0.9071651090342681,null,0.9077881619937695,null,null,0.908411214953271,null,null,0.9137071651090343,0.8538940809968848,0.8978193146417446,0.9180685358255453,null,0.9074766355140188,null,null,null,null,0.8993769470404984,0.853582554517134,null,null]],\"type\":\"contour\",\"xaxis\":\"x6\",\"yaxis\":\"y6\"},{\"marker\":{\"color\":\"black\",\"line\":{\"color\":\"Gray\",\"width\":2.0}},\"mode\":\"markers\",\"name\":\"Feasible Trial\",\"showlegend\":false,\"x\":[24,45,143,40,125,145,133,191,143,63,75,126,84,109,97,14,21,103,200,147,93,46,173,10,142,17,134,72,145,78,101,158,90,136,170,15,66,165,186,182,157,134,157,124,66,41,160,131,38,16],\"y\":[\"True\",\"True\",\"True\",\"False\",\"False\",\"False\",\"False\",\"True\",\"True\",\"False\",\"False\",\"True\",\"True\",\"False\",\"False\",\"False\",\"True\",\"False\",\"False\",\"True\",\"False\",\"False\",\"False\",\"False\",\"False\",\"True\",\"False\",\"True\",\"True\",\"False\",\"True\",\"False\",\"False\",\"False\",\"False\",\"True\",\"True\",\"False\",\"True\",\"False\",\"True\",\"True\",\"False\",\"True\",\"False\",\"False\",\"True\",\"False\",\"True\",\"False\"],\"type\":\"scatter\",\"xaxis\":\"x6\",\"yaxis\":\"y6\"},{\"colorbar\":{\"title\":{\"text\":\"Objective Value\"}},\"colorscale\":[[0.0,\"rgb(247,251,255)\"],[0.125,\"rgb(222,235,247)\"],[0.25,\"rgb(198,219,239)\"],[0.375,\"rgb(158,202,225)\"],[0.5,\"rgb(107,174,214)\"],[0.625,\"rgb(66,146,198)\"],[0.75,\"rgb(33,113,181)\"],[0.875,\"rgb(8,81,156)\"],[1.0,\"rgb(8,48,107)\"]],\"connectgaps\":true,\"contours\":{\"coloring\":\"heatmap\"},\"hoverinfo\":\"none\",\"line\":{\"smoothing\":1.3},\"reversescale\":false,\"showscale\":false,\"x\":[0.5,10,14,15,16,17,21,24,38,40,41,45,46,63,66,72,75,78,84,90,93,97,101,103,109,124,125,126,131,133,134,136,142,143,145,147,157,158,160,165,170,173,182,186,191,200,209.5],\"y\":[\"entropy\",\"gini\"],\"z\":[[null,null,null,0.8850467289719626,0.8978193146417446,null,null,null,null,0.9152647975077881,0.9205607476635516,0.8925233644859814,null,0.9171339563862929,null,0.9177570093457943,0.9124610591900311,null,null,null,0.9314641744548288,0.9302180685358256,null,null,0.9299065420560748,0.9071651090342681,null,null,0.9165109034267912,0.9133956386292835,0.9171339563862928,0.9221183800623052,null,0.9056074766355142,0.8834890965732087,null,0.9180685358255453,0.8473520249221185,0.9074766355140188,0.9096573208722741,0.733644859813084,null,null,0.8993769470404984,0.853582554517134,null,null],[null,0.8794392523364486,0.7993769470404984,null,null,0.8725856697819314,0.8925233644859812,0.894392523364486,0.8987538940809969,null,null,null,0.8426791277258567,null,0.905607476635514,null,null,0.9102803738317757,0.9180685358255453,0.911214953271028,null,null,0.8903426791277258,0.905607476635514,null,null,0.9177570093457945,0.9077881619937695,null,null,null,null,0.8850467289719626,0.9137071651090343,null,0.8978193146417446,0.9165109034267912,null,null,null,null,0.928348909657321,0.9112149532710282,null,null,0.9133956386292834,null]],\"type\":\"contour\",\"xaxis\":\"x12\",\"yaxis\":\"y12\"},{\"marker\":{\"color\":\"black\",\"line\":{\"color\":\"Gray\",\"width\":2.0}},\"mode\":\"markers\",\"name\":\"Feasible Trial\",\"showlegend\":false,\"x\":[24,45,143,40,125,145,133,191,143,63,75,126,84,109,97,14,21,103,200,147,93,46,173,10,142,17,134,72,145,78,101,158,90,136,170,15,66,165,186,182,157,134,157,124,66,41,160,131,38,16],\"y\":[\"gini\",\"entropy\",\"gini\",\"entropy\",\"gini\",\"entropy\",\"entropy\",\"entropy\",\"entropy\",\"entropy\",\"entropy\",\"gini\",\"gini\",\"entropy\",\"entropy\",\"gini\",\"gini\",\"gini\",\"gini\",\"gini\",\"entropy\",\"gini\",\"gini\",\"gini\",\"gini\",\"gini\",\"entropy\",\"entropy\",\"entropy\",\"gini\",\"gini\",\"entropy\",\"gini\",\"entropy\",\"entropy\",\"entropy\",\"gini\",\"entropy\",\"entropy\",\"gini\",\"entropy\",\"entropy\",\"gini\",\"entropy\",\"gini\",\"entropy\",\"entropy\",\"entropy\",\"gini\",\"entropy\"],\"type\":\"scatter\",\"xaxis\":\"x12\",\"yaxis\":\"y12\"},{\"colorbar\":{\"title\":{\"text\":\"Objective Value\"}},\"colorscale\":[[0.0,\"rgb(247,251,255)\"],[0.125,\"rgb(222,235,247)\"],[0.25,\"rgb(198,219,239)\"],[0.375,\"rgb(158,202,225)\"],[0.5,\"rgb(107,174,214)\"],[0.625,\"rgb(66,146,198)\"],[0.75,\"rgb(33,113,181)\"],[0.875,\"rgb(8,81,156)\"],[1.0,\"rgb(8,48,107)\"]],\"connectgaps\":true,\"contours\":{\"coloring\":\"heatmap\"},\"hoverinfo\":\"none\",\"line\":{\"smoothing\":1.3},\"reversescale\":false,\"showscale\":false,\"x\":[0.5,10,14,15,16,17,21,24,38,40,41,45,46,63,66,72,75,78,84,90,93,97,101,103,109,124,125,126,131,133,134,136,142,143,145,147,157,158,160,165,170,173,182,186,191,200,209.5],\"y\":[2.15,3,5,6,7,8,9,10,11,12,13,14,15,16,17,18,19,20,20.85],\"z\":[[null,null,null,null,null,null,null,null,null,null,null,null,null,null,null,null,null,null,null,null,null,null,null,null,null,null,null,null,null,null,null,null,null,null,null,null,null,null,null,null,null,null,null,null,null,null,null],[null,null,null,null,null,null,null,null,null,null,null,null,null,null,null,null,null,null,null,null,null,null,null,null,null,null,null,null,null,null,null,null,null,null,null,null,null,null,null,null,0.733644859813084,null,null,null,null,null,null],[null,null,0.7993769470404984,null,null,null,null,null,null,null,null,null,0.8426791277258567,null,null,null,null,null,null,null,null,null,null,null,null,null,null,null,null,null,null,null,null,null,0.8538940809968848,null,null,0.8473520249221185,null,null,null,null,null,null,0.853582554517134,null,null],[null,null,null,null,null,null,null,null,null,null,null,null,null,null,null,null,null,null,null,null,null,null,null,null,null,null,null,null,null,null,null,null,0.8850467289719626,null,0.8834890965732087,null,null,null,null,null,null,null,null,null,null,null,null],[null,null,null,null,null,null,null,null,null,null,null,0.8925233644859814,null,null,null,null,null,null,null,null,null,null,0.8903426791277258,null,null,null,null,null,null,null,null,null,null,null,null,0.8978193146417446,null,null,null,null,null,null,null,0.8993769470404984,null,null,null],[null,null,null,null,null,null,null,null,null,null,null,null,null,0.9171339563862929,null,null,null,null,null,null,null,null,null,null,null,null,null,null,null,null,0.908411214953271,null,null,0.9056074766355142,null,null,null,null,null,0.9096573208722741,null,null,null,null,null,null,null],[null,null,null,null,null,null,null,null,null,null,null,null,null,null,null,null,null,0.9102803738317757,null,0.911214953271028,null,null,null,null,null,null,null,null,null,null,0.9171339563862928,null,null,null,null,null,null,null,null,null,null,null,null,null,null,null,null],[null,null,null,0.8850467289719626,null,0.8725856697819314,null,null,null,null,null,null,null,null,null,null,0.9124610591900311,null,null,null,null,null,null,0.905607476635514,null,null,null,null,0.9165109034267912,0.9133956386292835,null,null,null,0.9137071651090343,null,null,0.9180685358255453,null,null,null,null,null,0.9112149532710282,null,null,null,null],[null,null,null,null,null,null,null,null,null,0.9152647975077881,null,null,null,null,null,0.9177570093457943,null,null,null,null,null,null,null,null,null,null,null,null,null,null,null,null,null,null,null,null,null,null,null,null,null,null,null,null,null,null,null],[null,null,null,null,null,null,0.8925233644859812,null,null,null,null,null,null,null,null,null,null,null,null,null,null,0.9302180685358256,null,null,null,null,null,0.9077881619937695,null,null,null,null,null,null,null,null,null,null,null,null,null,null,null,null,null,0.9133956386292834,null],[null,null,null,null,0.8978193146417446,null,null,null,null,null,null,null,null,null,null,null,null,null,null,null,null,null,null,null,null,null,null,null,null,null,null,null,null,null,null,null,null,null,null,null,null,null,null,null,null,null,null],[null,null,null,null,null,null,null,0.894392523364486,null,null,null,null,null,null,null,null,null,null,null,null,null,null,null,null,null,null,null,null,null,null,null,null,null,null,null,null,null,null,null,null,null,null,null,null,null,null,null],[null,null,null,null,null,null,null,null,0.8987538940809969,null,null,null,null,null,null,null,null,null,null,null,null,null,null,null,null,null,null,null,null,null,null,null,null,null,null,null,null,null,null,null,null,null,null,null,null,null,null],[null,null,null,null,null,null,null,null,null,null,null,null,null,null,0.8962616822429906,null,null,null,0.9180685358255453,null,0.9314641744548288,null,null,null,null,null,null,null,null,null,null,null,null,null,null,null,null,null,0.9074766355140188,null,null,null,null,null,null,null,null],[null,null,null,null,null,null,null,null,null,null,null,null,null,null,null,null,null,null,null,null,null,null,null,null,null,null,0.9177570093457945,null,null,null,null,0.9221183800623052,null,null,null,null,0.9165109034267912,null,null,null,null,null,null,null,null,null,null],[null,null,null,null,null,null,null,null,null,null,null,null,null,null,0.905607476635514,null,null,null,null,null,null,null,null,null,null,null,null,null,null,null,null,null,null,null,null,null,null,null,null,null,null,0.928348909657321,null,null,null,null,null],[null,null,null,null,null,null,null,null,null,null,null,null,null,null,null,null,null,null,null,null,null,null,null,null,0.9299065420560748,0.9071651090342681,null,null,null,null,null,null,null,null,null,null,null,null,null,null,null,null,null,null,null,null,null],[null,0.8794392523364486,null,null,null,null,null,null,null,null,0.9205607476635516,null,null,null,null,null,null,null,null,null,null,null,null,null,null,null,null,null,null,null,null,null,null,null,null,null,null,null,null,null,null,null,null,null,null,null,null],[null,null,null,null,null,null,null,null,null,null,null,null,null,null,null,null,null,null,null,null,null,null,null,null,null,null,null,null,null,null,null,null,null,null,null,null,null,null,null,null,null,null,null,null,null,null,null]],\"type\":\"contour\",\"xaxis\":\"x18\",\"yaxis\":\"y18\"},{\"marker\":{\"color\":\"black\",\"line\":{\"color\":\"Gray\",\"width\":2.0}},\"mode\":\"markers\",\"name\":\"Feasible Trial\",\"showlegend\":false,\"x\":[24,45,143,40,125,145,133,191,143,63,75,126,84,109,97,14,21,103,200,147,93,46,173,10,142,17,134,72,145,78,101,158,90,136,170,15,66,165,186,182,157,134,157,124,66,41,160,131,38,16],\"y\":[14,7,10,11,17,6,10,5,8,8,10,12,16,19,12,5,12,10,12,7,16,5,18,20,6,10,9,11,5,9,7,5,9,17,3,10,16,8,7,10,10,8,17,19,18,20,16,10,15,13],\"type\":\"scatter\",\"xaxis\":\"x18\",\"yaxis\":\"y18\"},{\"colorbar\":{\"title\":{\"text\":\"Objective Value\"}},\"colorscale\":[[0.0,\"rgb(247,251,255)\"],[0.125,\"rgb(222,235,247)\"],[0.25,\"rgb(198,219,239)\"],[0.375,\"rgb(158,202,225)\"],[0.5,\"rgb(107,174,214)\"],[0.625,\"rgb(66,146,198)\"],[0.75,\"rgb(33,113,181)\"],[0.875,\"rgb(8,81,156)\"],[1.0,\"rgb(8,48,107)\"]],\"connectgaps\":true,\"contours\":{\"coloring\":\"heatmap\"},\"hoverinfo\":\"none\",\"line\":{\"smoothing\":1.3},\"reversescale\":false,\"showscale\":false,\"x\":[0.5,10,14,15,16,17,21,24,38,40,41,45,46,63,66,72,75,78,84,90,93,97,101,103,109,124,125,126,131,133,134,136,142,143,145,147,157,158,160,165,170,173,182,186,191,200,209.5],\"y\":[0.55,1,2,3,4,5,6,7,8,9,10,10.45],\"z\":[[null,null,null,null,null,null,null,null,null,null,null,null,null,null,null,null,null,null,null,null,null,null,null,null,null,null,null,null,null,null,null,null,null,null,null,null,null,null,null,null,null,null,null,null,null,null,null],[null,null,null,null,0.8978193146417446,null,null,null,null,null,0.9205607476635516,0.8925233644859814,null,null,null,null,null,null,0.9180685358255453,null,null,null,null,null,0.9299065420560748,null,null,null,null,null,0.9171339563862928,null,null,null,null,null,null,null,null,null,null,null,null,null,null,null,null],[null,null,null,null,null,null,null,null,null,null,null,null,0.8426791277258567,0.9171339563862929,null,0.9177570093457943,null,null,null,null,0.9314641744548288,0.9302180685358256,null,null,null,null,null,null,null,null,null,null,null,0.9137071651090343,null,0.8978193146417446,null,null,null,null,null,0.928348909657321,null,null,null,null,null],[null,null,null,0.8850467289719626,null,null,0.8925233644859812,null,null,null,null,null,null,null,null,null,null,null,null,null,null,null,null,null,null,null,null,null,null,null,null,null,null,null,0.8538940809968848,null,null,0.8473520249221185,null,null,null,null,null,null,null,null,null],[null,0.8794392523364486,null,null,null,null,null,null,null,null,null,null,null,null,null,null,null,null,null,null,null,null,null,null,null,null,null,null,null,null,null,null,0.8850467289719626,null,null,null,0.9180685358255453,null,null,null,0.733644859813084,null,null,0.8993769470404984,null,null,null],[null,null,null,null,null,null,null,0.894392523364486,null,0.9152647975077881,null,null,null,null,null,null,null,null,null,null,null,null,null,null,null,null,null,null,null,null,0.908411214953271,0.9221183800623052,null,null,null,null,null,null,null,null,null,null,null,null,null,null,null],[null,null,null,null,null,null,null,null,0.8987538940809969,null,null,null,null,null,null,null,null,0.9102803738317757,null,0.911214953271028,null,null,null,null,null,null,null,0.9077881619937695,null,null,null,null,null,0.9056074766355142,0.8834890965732087,null,null,null,0.9074766355140188,null,null,null,null,null,null,null,null],[null,null,0.7993769470404984,null,null,null,null,null,null,null,null,null,null,null,null,null,null,null,null,null,null,null,null,null,null,0.9071651090342681,0.9177570093457945,null,0.9165109034267912,0.9133956386292835,null,null,null,null,null,null,null,null,null,null,null,null,null,null,null,null,null],[null,null,null,null,null,0.8725856697819314,null,null,null,null,null,null,null,null,0.8962616822429906,null,0.9124610591900311,null,null,null,null,null,null,null,null,null,null,null,null,null,null,null,null,null,null,null,0.9165109034267912,null,null,null,null,null,null,null,0.853582554517134,null,null],[null,null,null,null,null,null,null,null,null,null,null,null,null,null,null,null,null,null,null,null,null,null,0.8903426791277258,null,null,null,null,null,null,null,null,null,null,null,null,null,null,null,null,0.9096573208722741,null,null,0.9112149532710282,null,null,0.9133956386292834,null],[null,null,null,null,null,null,null,null,null,null,null,null,null,null,0.905607476635514,null,null,null,null,null,null,null,null,0.905607476635514,null,null,null,null,null,null,null,null,null,null,null,null,null,null,null,null,null,null,null,null,null,null,null],[null,null,null,null,null,null,null,null,null,null,null,null,null,null,null,null,null,null,null,null,null,null,null,null,null,null,null,null,null,null,null,null,null,null,null,null,null,null,null,null,null,null,null,null,null,null,null]],\"type\":\"contour\",\"xaxis\":\"x24\",\"yaxis\":\"y24\"},{\"marker\":{\"color\":\"black\",\"line\":{\"color\":\"Gray\",\"width\":2.0}},\"mode\":\"markers\",\"name\":\"Feasible Trial\",\"showlegend\":false,\"x\":[24,45,143,40,125,145,133,191,143,63,75,126,84,109,97,14,21,103,200,147,93,46,173,10,142,17,134,72,145,78,101,158,90,136,170,15,66,165,186,182,157,134,157,124,66,41,160,131,38,16],\"y\":[5,1,2,5,7,6,7,8,6,2,8,6,1,1,2,7,3,10,9,2,2,2,2,4,4,8,1,2,3,6,9,3,6,5,4,3,8,9,4,9,4,5,8,7,10,1,6,7,6,1],\"type\":\"scatter\",\"xaxis\":\"x24\",\"yaxis\":\"y24\"},{\"colorbar\":{\"title\":{\"text\":\"Objective Value\"}},\"colorscale\":[[0.0,\"rgb(247,251,255)\"],[0.125,\"rgb(222,235,247)\"],[0.25,\"rgb(198,219,239)\"],[0.375,\"rgb(158,202,225)\"],[0.5,\"rgb(107,174,214)\"],[0.625,\"rgb(66,146,198)\"],[0.75,\"rgb(33,113,181)\"],[0.875,\"rgb(8,81,156)\"],[1.0,\"rgb(8,48,107)\"]],\"connectgaps\":true,\"contours\":{\"coloring\":\"heatmap\"},\"hoverinfo\":\"none\",\"line\":{\"smoothing\":1.3},\"reversescale\":false,\"showscale\":false,\"x\":[0.5,10,14,15,16,17,21,24,38,40,41,45,46,63,66,72,75,78,84,90,93,97,101,103,109,124,125,126,131,133,134,136,142,143,145,147,157,158,160,165,170,173,182,186,191,200,209.5],\"y\":[1.6,2,3,4,5,6,7,8,9,10,10.4],\"z\":[[null,null,null,null,null,null,null,null,null,null,null,null,null,null,null,null,null,null,null,null,null,null,null,null,null,null,null,null,null,null,null,null,null,null,null,null,null,null,null,null,null,null,null,null,null,null,null],[null,null,0.7993769470404984,null,null,null,null,null,null,null,null,0.8925233644859814,null,0.9171339563862929,0.905607476635514,null,null,null,null,null,0.9314641744548288,null,null,null,0.9299065420560748,null,null,null,null,null,null,null,null,null,0.8538940809968848,null,null,null,null,null,null,null,null,null,null,null,null],[null,null,null,null,null,null,null,null,null,0.9152647975077881,0.9205607476635516,null,null,null,0.8962616822429906,null,0.9124610591900311,null,null,null,null,0.9302180685358256,null,null,null,0.9071651090342681,null,null,null,null,0.908411214953271,null,null,null,0.8834890965732087,null,0.9180685358255453,null,null,null,0.733644859813084,null,null,null,0.853582554517134,null,null],[null,null,null,null,null,null,null,null,null,null,null,null,null,null,null,0.9177570093457943,null,null,0.9180685358255453,null,null,null,null,0.905607476635514,null,null,null,null,null,null,null,null,null,null,null,null,null,null,null,null,null,null,0.9112149532710282,null,null,null,null],[null,0.8794392523364486,null,null,null,null,null,null,null,null,null,null,null,null,null,null,null,null,null,null,null,null,null,null,null,null,null,null,null,null,null,null,null,0.9137071651090343,null,null,null,null,0.9074766355140188,null,null,null,null,null,null,null,null],[null,null,null,null,null,null,0.8925233644859812,null,null,null,null,null,null,null,null,null,null,null,null,0.911214953271028,null,null,null,null,null,null,null,null,null,null,null,0.9221183800623052,null,0.9056074766355142,null,null,null,null,null,null,null,null,null,null,null,null,null],[null,null,null,null,null,0.8725856697819314,null,null,null,null,null,null,0.8426791277258567,null,null,null,null,0.9102803738317757,null,null,null,null,null,null,null,null,null,0.9077881619937695,null,null,null,null,null,null,null,null,null,null,null,null,null,null,null,null,null,0.9133956386292834,null],[null,null,null,0.8850467289719626,0.8978193146417446,null,null,0.894392523364486,null,null,null,null,null,null,null,null,null,null,null,null,null,null,null,null,null,null,null,null,null,null,null,null,null,null,null,0.8978193146417446,null,null,null,null,null,null,null,0.8993769470404984,null,null,null],[null,null,null,null,null,null,null,null,null,null,null,null,null,null,null,null,null,null,null,null,null,null,0.8903426791277258,null,null,null,0.9177570093457945,null,null,0.9133956386292835,0.9171339563862928,null,0.8850467289719626,null,null,null,null,0.8473520249221185,null,0.9096573208722741,null,null,null,null,null,null,null],[null,null,null,null,null,null,null,null,0.8987538940809969,null,null,null,null,null,null,null,null,null,null,null,null,null,null,null,null,null,null,null,0.9165109034267912,null,null,null,null,null,null,null,null,null,null,null,null,0.928348909657321,null,null,null,null,null],[null,null,null,null,null,null,null,null,null,null,null,null,null,null,null,null,null,null,null,null,null,null,null,null,null,null,null,null,null,null,null,null,null,null,null,null,null,null,null,null,null,null,null,null,null,null,null]],\"type\":\"contour\",\"xaxis\":\"x30\",\"yaxis\":\"y30\"},{\"marker\":{\"color\":\"black\",\"line\":{\"color\":\"Gray\",\"width\":2.0}},\"mode\":\"markers\",\"name\":\"Feasible Trial\",\"showlegend\":false,\"x\":[24,45,143,40,125,145,133,191,143,63,75,126,84,109,97,14,21,103,200,147,93,46,173,10,142,17,134,72,145,78,101,158,90,136,170,15,66,165,186,182,157,134,157,124,66,41,160,131,38,16],\"y\":[8,2,5,3,9,3,9,3,6,2,3,7,4,2,3,2,6,4,7,8,2,7,10,5,9,7,9,4,2,7,9,9,6,6,3,8,3,9,8,4,3,3,3,3,2,3,5,10,10,8],\"type\":\"scatter\",\"xaxis\":\"x30\",\"yaxis\":\"y30\"},{\"type\":\"scatter\",\"xaxis\":\"x36\",\"yaxis\":\"y36\"}],                        {\"template\":{\"data\":{\"histogram2dcontour\":[{\"type\":\"histogram2dcontour\",\"colorbar\":{\"outlinewidth\":0,\"ticks\":\"\"},\"colorscale\":[[0.0,\"#0d0887\"],[0.1111111111111111,\"#46039f\"],[0.2222222222222222,\"#7201a8\"],[0.3333333333333333,\"#9c179e\"],[0.4444444444444444,\"#bd3786\"],[0.5555555555555556,\"#d8576b\"],[0.6666666666666666,\"#ed7953\"],[0.7777777777777778,\"#fb9f3a\"],[0.8888888888888888,\"#fdca26\"],[1.0,\"#f0f921\"]]}],\"choropleth\":[{\"type\":\"choropleth\",\"colorbar\":{\"outlinewidth\":0,\"ticks\":\"\"}}],\"histogram2d\":[{\"type\":\"histogram2d\",\"colorbar\":{\"outlinewidth\":0,\"ticks\":\"\"},\"colorscale\":[[0.0,\"#0d0887\"],[0.1111111111111111,\"#46039f\"],[0.2222222222222222,\"#7201a8\"],[0.3333333333333333,\"#9c179e\"],[0.4444444444444444,\"#bd3786\"],[0.5555555555555556,\"#d8576b\"],[0.6666666666666666,\"#ed7953\"],[0.7777777777777778,\"#fb9f3a\"],[0.8888888888888888,\"#fdca26\"],[1.0,\"#f0f921\"]]}],\"heatmap\":[{\"type\":\"heatmap\",\"colorbar\":{\"outlinewidth\":0,\"ticks\":\"\"},\"colorscale\":[[0.0,\"#0d0887\"],[0.1111111111111111,\"#46039f\"],[0.2222222222222222,\"#7201a8\"],[0.3333333333333333,\"#9c179e\"],[0.4444444444444444,\"#bd3786\"],[0.5555555555555556,\"#d8576b\"],[0.6666666666666666,\"#ed7953\"],[0.7777777777777778,\"#fb9f3a\"],[0.8888888888888888,\"#fdca26\"],[1.0,\"#f0f921\"]]}],\"heatmapgl\":[{\"type\":\"heatmapgl\",\"colorbar\":{\"outlinewidth\":0,\"ticks\":\"\"},\"colorscale\":[[0.0,\"#0d0887\"],[0.1111111111111111,\"#46039f\"],[0.2222222222222222,\"#7201a8\"],[0.3333333333333333,\"#9c179e\"],[0.4444444444444444,\"#bd3786\"],[0.5555555555555556,\"#d8576b\"],[0.6666666666666666,\"#ed7953\"],[0.7777777777777778,\"#fb9f3a\"],[0.8888888888888888,\"#fdca26\"],[1.0,\"#f0f921\"]]}],\"contourcarpet\":[{\"type\":\"contourcarpet\",\"colorbar\":{\"outlinewidth\":0,\"ticks\":\"\"}}],\"contour\":[{\"type\":\"contour\",\"colorbar\":{\"outlinewidth\":0,\"ticks\":\"\"},\"colorscale\":[[0.0,\"#0d0887\"],[0.1111111111111111,\"#46039f\"],[0.2222222222222222,\"#7201a8\"],[0.3333333333333333,\"#9c179e\"],[0.4444444444444444,\"#bd3786\"],[0.5555555555555556,\"#d8576b\"],[0.6666666666666666,\"#ed7953\"],[0.7777777777777778,\"#fb9f3a\"],[0.8888888888888888,\"#fdca26\"],[1.0,\"#f0f921\"]]}],\"surface\":[{\"type\":\"surface\",\"colorbar\":{\"outlinewidth\":0,\"ticks\":\"\"},\"colorscale\":[[0.0,\"#0d0887\"],[0.1111111111111111,\"#46039f\"],[0.2222222222222222,\"#7201a8\"],[0.3333333333333333,\"#9c179e\"],[0.4444444444444444,\"#bd3786\"],[0.5555555555555556,\"#d8576b\"],[0.6666666666666666,\"#ed7953\"],[0.7777777777777778,\"#fb9f3a\"],[0.8888888888888888,\"#fdca26\"],[1.0,\"#f0f921\"]]}],\"mesh3d\":[{\"type\":\"mesh3d\",\"colorbar\":{\"outlinewidth\":0,\"ticks\":\"\"}}],\"scatter\":[{\"fillpattern\":{\"fillmode\":\"overlay\",\"size\":10,\"solidity\":0.2},\"type\":\"scatter\"}],\"parcoords\":[{\"type\":\"parcoords\",\"line\":{\"colorbar\":{\"outlinewidth\":0,\"ticks\":\"\"}}}],\"scatterpolargl\":[{\"type\":\"scatterpolargl\",\"marker\":{\"colorbar\":{\"outlinewidth\":0,\"ticks\":\"\"}}}],\"bar\":[{\"error_x\":{\"color\":\"#2a3f5f\"},\"error_y\":{\"color\":\"#2a3f5f\"},\"marker\":{\"line\":{\"color\":\"#E5ECF6\",\"width\":0.5},\"pattern\":{\"fillmode\":\"overlay\",\"size\":10,\"solidity\":0.2}},\"type\":\"bar\"}],\"scattergeo\":[{\"type\":\"scattergeo\",\"marker\":{\"colorbar\":{\"outlinewidth\":0,\"ticks\":\"\"}}}],\"scatterpolar\":[{\"type\":\"scatterpolar\",\"marker\":{\"colorbar\":{\"outlinewidth\":0,\"ticks\":\"\"}}}],\"histogram\":[{\"marker\":{\"pattern\":{\"fillmode\":\"overlay\",\"size\":10,\"solidity\":0.2}},\"type\":\"histogram\"}],\"scattergl\":[{\"type\":\"scattergl\",\"marker\":{\"colorbar\":{\"outlinewidth\":0,\"ticks\":\"\"}}}],\"scatter3d\":[{\"type\":\"scatter3d\",\"line\":{\"colorbar\":{\"outlinewidth\":0,\"ticks\":\"\"}},\"marker\":{\"colorbar\":{\"outlinewidth\":0,\"ticks\":\"\"}}}],\"scattermapbox\":[{\"type\":\"scattermapbox\",\"marker\":{\"colorbar\":{\"outlinewidth\":0,\"ticks\":\"\"}}}],\"scatterternary\":[{\"type\":\"scatterternary\",\"marker\":{\"colorbar\":{\"outlinewidth\":0,\"ticks\":\"\"}}}],\"scattercarpet\":[{\"type\":\"scattercarpet\",\"marker\":{\"colorbar\":{\"outlinewidth\":0,\"ticks\":\"\"}}}],\"carpet\":[{\"aaxis\":{\"endlinecolor\":\"#2a3f5f\",\"gridcolor\":\"white\",\"linecolor\":\"white\",\"minorgridcolor\":\"white\",\"startlinecolor\":\"#2a3f5f\"},\"baxis\":{\"endlinecolor\":\"#2a3f5f\",\"gridcolor\":\"white\",\"linecolor\":\"white\",\"minorgridcolor\":\"white\",\"startlinecolor\":\"#2a3f5f\"},\"type\":\"carpet\"}],\"table\":[{\"cells\":{\"fill\":{\"color\":\"#EBF0F8\"},\"line\":{\"color\":\"white\"}},\"header\":{\"fill\":{\"color\":\"#C8D4E3\"},\"line\":{\"color\":\"white\"}},\"type\":\"table\"}],\"barpolar\":[{\"marker\":{\"line\":{\"color\":\"#E5ECF6\",\"width\":0.5},\"pattern\":{\"fillmode\":\"overlay\",\"size\":10,\"solidity\":0.2}},\"type\":\"barpolar\"}],\"pie\":[{\"automargin\":true,\"type\":\"pie\"}]},\"layout\":{\"autotypenumbers\":\"strict\",\"colorway\":[\"#636efa\",\"#EF553B\",\"#00cc96\",\"#ab63fa\",\"#FFA15A\",\"#19d3f3\",\"#FF6692\",\"#B6E880\",\"#FF97FF\",\"#FECB52\"],\"font\":{\"color\":\"#2a3f5f\"},\"hovermode\":\"closest\",\"hoverlabel\":{\"align\":\"left\"},\"paper_bgcolor\":\"white\",\"plot_bgcolor\":\"#E5ECF6\",\"polar\":{\"bgcolor\":\"#E5ECF6\",\"angularaxis\":{\"gridcolor\":\"white\",\"linecolor\":\"white\",\"ticks\":\"\"},\"radialaxis\":{\"gridcolor\":\"white\",\"linecolor\":\"white\",\"ticks\":\"\"}},\"ternary\":{\"bgcolor\":\"#E5ECF6\",\"aaxis\":{\"gridcolor\":\"white\",\"linecolor\":\"white\",\"ticks\":\"\"},\"baxis\":{\"gridcolor\":\"white\",\"linecolor\":\"white\",\"ticks\":\"\"},\"caxis\":{\"gridcolor\":\"white\",\"linecolor\":\"white\",\"ticks\":\"\"}},\"coloraxis\":{\"colorbar\":{\"outlinewidth\":0,\"ticks\":\"\"}},\"colorscale\":{\"sequential\":[[0.0,\"#0d0887\"],[0.1111111111111111,\"#46039f\"],[0.2222222222222222,\"#7201a8\"],[0.3333333333333333,\"#9c179e\"],[0.4444444444444444,\"#bd3786\"],[0.5555555555555556,\"#d8576b\"],[0.6666666666666666,\"#ed7953\"],[0.7777777777777778,\"#fb9f3a\"],[0.8888888888888888,\"#fdca26\"],[1.0,\"#f0f921\"]],\"sequentialminus\":[[0.0,\"#0d0887\"],[0.1111111111111111,\"#46039f\"],[0.2222222222222222,\"#7201a8\"],[0.3333333333333333,\"#9c179e\"],[0.4444444444444444,\"#bd3786\"],[0.5555555555555556,\"#d8576b\"],[0.6666666666666666,\"#ed7953\"],[0.7777777777777778,\"#fb9f3a\"],[0.8888888888888888,\"#fdca26\"],[1.0,\"#f0f921\"]],\"diverging\":[[0,\"#8e0152\"],[0.1,\"#c51b7d\"],[0.2,\"#de77ae\"],[0.3,\"#f1b6da\"],[0.4,\"#fde0ef\"],[0.5,\"#f7f7f7\"],[0.6,\"#e6f5d0\"],[0.7,\"#b8e186\"],[0.8,\"#7fbc41\"],[0.9,\"#4d9221\"],[1,\"#276419\"]]},\"xaxis\":{\"gridcolor\":\"white\",\"linecolor\":\"white\",\"ticks\":\"\",\"title\":{\"standoff\":15},\"zerolinecolor\":\"white\",\"automargin\":true,\"zerolinewidth\":2},\"yaxis\":{\"gridcolor\":\"white\",\"linecolor\":\"white\",\"ticks\":\"\",\"title\":{\"standoff\":15},\"zerolinecolor\":\"white\",\"automargin\":true,\"zerolinewidth\":2},\"scene\":{\"xaxis\":{\"backgroundcolor\":\"#E5ECF6\",\"gridcolor\":\"white\",\"linecolor\":\"white\",\"showbackground\":true,\"ticks\":\"\",\"zerolinecolor\":\"white\",\"gridwidth\":2},\"yaxis\":{\"backgroundcolor\":\"#E5ECF6\",\"gridcolor\":\"white\",\"linecolor\":\"white\",\"showbackground\":true,\"ticks\":\"\",\"zerolinecolor\":\"white\",\"gridwidth\":2},\"zaxis\":{\"backgroundcolor\":\"#E5ECF6\",\"gridcolor\":\"white\",\"linecolor\":\"white\",\"showbackground\":true,\"ticks\":\"\",\"zerolinecolor\":\"white\",\"gridwidth\":2}},\"shapedefaults\":{\"line\":{\"color\":\"#2a3f5f\"}},\"annotationdefaults\":{\"arrowcolor\":\"#2a3f5f\",\"arrowhead\":0,\"arrowwidth\":1},\"geo\":{\"bgcolor\":\"white\",\"landcolor\":\"#E5ECF6\",\"subunitcolor\":\"white\",\"showland\":true,\"showlakes\":true,\"lakecolor\":\"white\"},\"title\":{\"x\":0.05},\"mapbox\":{\"style\":\"light\"}}},\"xaxis\":{\"anchor\":\"y\",\"domain\":[0.0,0.1388888888888889],\"matches\":\"x31\",\"showticklabels\":false,\"range\":[-0.05,1.05],\"type\":\"category\"},\"yaxis\":{\"anchor\":\"x\",\"domain\":[0.875,1.0],\"range\":[-0.05,1.05],\"type\":\"category\",\"title\":{\"text\":\"bootstrap\"}},\"xaxis2\":{\"anchor\":\"y2\",\"domain\":[0.17222222222222222,0.3111111111111111],\"matches\":\"x32\",\"showticklabels\":false,\"range\":[-0.05,1.05],\"type\":\"category\"},\"yaxis2\":{\"anchor\":\"x2\",\"domain\":[0.875,1.0],\"matches\":\"y\",\"showticklabels\":false,\"range\":[-0.05,1.05],\"type\":\"category\"},\"xaxis3\":{\"anchor\":\"y3\",\"domain\":[0.34444444444444444,0.48333333333333334],\"matches\":\"x33\",\"showticklabels\":false,\"range\":[2.15,20.85]},\"yaxis3\":{\"anchor\":\"x3\",\"domain\":[0.875,1.0],\"matches\":\"y\",\"showticklabels\":false,\"range\":[-0.05,1.05],\"type\":\"category\"},\"xaxis4\":{\"anchor\":\"y4\",\"domain\":[0.5166666666666667,0.6555555555555557],\"matches\":\"x34\",\"showticklabels\":false,\"range\":[0.55,10.45]},\"yaxis4\":{\"anchor\":\"x4\",\"domain\":[0.875,1.0],\"matches\":\"y\",\"showticklabels\":false,\"range\":[-0.05,1.05],\"type\":\"category\"},\"xaxis5\":{\"anchor\":\"y5\",\"domain\":[0.6888888888888889,0.8277777777777777],\"matches\":\"x35\",\"showticklabels\":false,\"range\":[1.6,10.4]},\"yaxis5\":{\"anchor\":\"x5\",\"domain\":[0.875,1.0],\"matches\":\"y\",\"showticklabels\":false,\"range\":[-0.05,1.05],\"type\":\"category\"},\"xaxis6\":{\"anchor\":\"y6\",\"domain\":[0.861111111111111,1.0],\"matches\":\"x36\",\"showticklabels\":false,\"range\":[0.5,209.5]},\"yaxis6\":{\"anchor\":\"x6\",\"domain\":[0.875,1.0],\"matches\":\"y\",\"showticklabels\":false,\"range\":[-0.05,1.05],\"type\":\"category\"},\"xaxis7\":{\"anchor\":\"y7\",\"domain\":[0.0,0.1388888888888889],\"matches\":\"x31\",\"showticklabels\":false,\"range\":[-0.05,1.05],\"type\":\"category\"},\"yaxis7\":{\"anchor\":\"x7\",\"domain\":[0.7,0.825],\"range\":[-0.05,1.05],\"type\":\"category\",\"title\":{\"text\":\"criterion\"}},\"xaxis8\":{\"anchor\":\"y8\",\"domain\":[0.17222222222222222,0.3111111111111111],\"matches\":\"x32\",\"showticklabels\":false,\"range\":[-0.05,1.05],\"type\":\"category\"},\"yaxis8\":{\"anchor\":\"x8\",\"domain\":[0.7,0.825],\"matches\":\"y7\",\"showticklabels\":false,\"range\":[-0.05,1.05],\"type\":\"category\"},\"xaxis9\":{\"anchor\":\"y9\",\"domain\":[0.34444444444444444,0.48333333333333334],\"matches\":\"x33\",\"showticklabels\":false,\"range\":[2.15,20.85]},\"yaxis9\":{\"anchor\":\"x9\",\"domain\":[0.7,0.825],\"matches\":\"y7\",\"showticklabels\":false,\"range\":[-0.05,1.05],\"type\":\"category\"},\"xaxis10\":{\"anchor\":\"y10\",\"domain\":[0.5166666666666667,0.6555555555555557],\"matches\":\"x34\",\"showticklabels\":false,\"range\":[0.55,10.45]},\"yaxis10\":{\"anchor\":\"x10\",\"domain\":[0.7,0.825],\"matches\":\"y7\",\"showticklabels\":false,\"range\":[-0.05,1.05],\"type\":\"category\"},\"xaxis11\":{\"anchor\":\"y11\",\"domain\":[0.6888888888888889,0.8277777777777777],\"matches\":\"x35\",\"showticklabels\":false,\"range\":[1.6,10.4]},\"yaxis11\":{\"anchor\":\"x11\",\"domain\":[0.7,0.825],\"matches\":\"y7\",\"showticklabels\":false,\"range\":[-0.05,1.05],\"type\":\"category\"},\"xaxis12\":{\"anchor\":\"y12\",\"domain\":[0.861111111111111,1.0],\"matches\":\"x36\",\"showticklabels\":false,\"range\":[0.5,209.5]},\"yaxis12\":{\"anchor\":\"x12\",\"domain\":[0.7,0.825],\"matches\":\"y7\",\"showticklabels\":false,\"range\":[-0.05,1.05],\"type\":\"category\"},\"xaxis13\":{\"anchor\":\"y13\",\"domain\":[0.0,0.1388888888888889],\"matches\":\"x31\",\"showticklabels\":false,\"range\":[-0.05,1.05],\"type\":\"category\"},\"yaxis13\":{\"anchor\":\"x13\",\"domain\":[0.525,0.65],\"range\":[2.15,20.85],\"title\":{\"text\":\"max_depth\"}},\"xaxis14\":{\"anchor\":\"y14\",\"domain\":[0.17222222222222222,0.3111111111111111],\"matches\":\"x32\",\"showticklabels\":false,\"range\":[-0.05,1.05],\"type\":\"category\"},\"yaxis14\":{\"anchor\":\"x14\",\"domain\":[0.525,0.65],\"matches\":\"y13\",\"showticklabels\":false,\"range\":[2.15,20.85]},\"xaxis15\":{\"anchor\":\"y15\",\"domain\":[0.34444444444444444,0.48333333333333334],\"matches\":\"x33\",\"showticklabels\":false,\"range\":[2.15,20.85]},\"yaxis15\":{\"anchor\":\"x15\",\"domain\":[0.525,0.65],\"matches\":\"y13\",\"showticklabels\":false,\"range\":[2.15,20.85]},\"xaxis16\":{\"anchor\":\"y16\",\"domain\":[0.5166666666666667,0.6555555555555557],\"matches\":\"x34\",\"showticklabels\":false,\"range\":[0.55,10.45]},\"yaxis16\":{\"anchor\":\"x16\",\"domain\":[0.525,0.65],\"matches\":\"y13\",\"showticklabels\":false,\"range\":[2.15,20.85]},\"xaxis17\":{\"anchor\":\"y17\",\"domain\":[0.6888888888888889,0.8277777777777777],\"matches\":\"x35\",\"showticklabels\":false,\"range\":[1.6,10.4]},\"yaxis17\":{\"anchor\":\"x17\",\"domain\":[0.525,0.65],\"matches\":\"y13\",\"showticklabels\":false,\"range\":[2.15,20.85]},\"xaxis18\":{\"anchor\":\"y18\",\"domain\":[0.861111111111111,1.0],\"matches\":\"x36\",\"showticklabels\":false,\"range\":[0.5,209.5]},\"yaxis18\":{\"anchor\":\"x18\",\"domain\":[0.525,0.65],\"matches\":\"y13\",\"showticklabels\":false,\"range\":[2.15,20.85]},\"xaxis19\":{\"anchor\":\"y19\",\"domain\":[0.0,0.1388888888888889],\"matches\":\"x31\",\"showticklabels\":false,\"range\":[-0.05,1.05],\"type\":\"category\"},\"yaxis19\":{\"anchor\":\"x19\",\"domain\":[0.35,0.475],\"range\":[0.55,10.45],\"title\":{\"text\":\"min_samples_leaf\"}},\"xaxis20\":{\"anchor\":\"y20\",\"domain\":[0.17222222222222222,0.3111111111111111],\"matches\":\"x32\",\"showticklabels\":false,\"range\":[-0.05,1.05],\"type\":\"category\"},\"yaxis20\":{\"anchor\":\"x20\",\"domain\":[0.35,0.475],\"matches\":\"y19\",\"showticklabels\":false,\"range\":[0.55,10.45]},\"xaxis21\":{\"anchor\":\"y21\",\"domain\":[0.34444444444444444,0.48333333333333334],\"matches\":\"x33\",\"showticklabels\":false,\"range\":[2.15,20.85]},\"yaxis21\":{\"anchor\":\"x21\",\"domain\":[0.35,0.475],\"matches\":\"y19\",\"showticklabels\":false,\"range\":[0.55,10.45]},\"xaxis22\":{\"anchor\":\"y22\",\"domain\":[0.5166666666666667,0.6555555555555557],\"matches\":\"x34\",\"showticklabels\":false,\"range\":[0.55,10.45]},\"yaxis22\":{\"anchor\":\"x22\",\"domain\":[0.35,0.475],\"matches\":\"y19\",\"showticklabels\":false,\"range\":[0.55,10.45]},\"xaxis23\":{\"anchor\":\"y23\",\"domain\":[0.6888888888888889,0.8277777777777777],\"matches\":\"x35\",\"showticklabels\":false,\"range\":[1.6,10.4]},\"yaxis23\":{\"anchor\":\"x23\",\"domain\":[0.35,0.475],\"matches\":\"y19\",\"showticklabels\":false,\"range\":[0.55,10.45]},\"xaxis24\":{\"anchor\":\"y24\",\"domain\":[0.861111111111111,1.0],\"matches\":\"x36\",\"showticklabels\":false,\"range\":[0.5,209.5]},\"yaxis24\":{\"anchor\":\"x24\",\"domain\":[0.35,0.475],\"matches\":\"y19\",\"showticklabels\":false,\"range\":[0.55,10.45]},\"xaxis25\":{\"anchor\":\"y25\",\"domain\":[0.0,0.1388888888888889],\"matches\":\"x31\",\"showticklabels\":false,\"range\":[-0.05,1.05],\"type\":\"category\"},\"yaxis25\":{\"anchor\":\"x25\",\"domain\":[0.175,0.3],\"range\":[1.6,10.4],\"title\":{\"text\":\"min_samples_split\"}},\"xaxis26\":{\"anchor\":\"y26\",\"domain\":[0.17222222222222222,0.3111111111111111],\"matches\":\"x32\",\"showticklabels\":false,\"range\":[-0.05,1.05],\"type\":\"category\"},\"yaxis26\":{\"anchor\":\"x26\",\"domain\":[0.175,0.3],\"matches\":\"y25\",\"showticklabels\":false,\"range\":[1.6,10.4]},\"xaxis27\":{\"anchor\":\"y27\",\"domain\":[0.34444444444444444,0.48333333333333334],\"matches\":\"x33\",\"showticklabels\":false,\"range\":[2.15,20.85]},\"yaxis27\":{\"anchor\":\"x27\",\"domain\":[0.175,0.3],\"matches\":\"y25\",\"showticklabels\":false,\"range\":[1.6,10.4]},\"xaxis28\":{\"anchor\":\"y28\",\"domain\":[0.5166666666666667,0.6555555555555557],\"matches\":\"x34\",\"showticklabels\":false,\"range\":[0.55,10.45]},\"yaxis28\":{\"anchor\":\"x28\",\"domain\":[0.175,0.3],\"matches\":\"y25\",\"showticklabels\":false,\"range\":[1.6,10.4]},\"xaxis29\":{\"anchor\":\"y29\",\"domain\":[0.6888888888888889,0.8277777777777777],\"matches\":\"x35\",\"showticklabels\":false,\"range\":[1.6,10.4]},\"yaxis29\":{\"anchor\":\"x29\",\"domain\":[0.175,0.3],\"matches\":\"y25\",\"showticklabels\":false,\"range\":[1.6,10.4]},\"xaxis30\":{\"anchor\":\"y30\",\"domain\":[0.861111111111111,1.0],\"matches\":\"x36\",\"showticklabels\":false,\"range\":[0.5,209.5]},\"yaxis30\":{\"anchor\":\"x30\",\"domain\":[0.175,0.3],\"matches\":\"y25\",\"showticklabels\":false,\"range\":[1.6,10.4]},\"xaxis31\":{\"anchor\":\"y31\",\"domain\":[0.0,0.1388888888888889],\"range\":[-0.05,1.05],\"type\":\"category\",\"title\":{\"text\":\"bootstrap\"}},\"yaxis31\":{\"anchor\":\"x31\",\"domain\":[0.0,0.125],\"range\":[0.5,209.5],\"title\":{\"text\":\"n_estimators\"}},\"xaxis32\":{\"anchor\":\"y32\",\"domain\":[0.17222222222222222,0.3111111111111111],\"range\":[-0.05,1.05],\"type\":\"category\",\"title\":{\"text\":\"criterion\"}},\"yaxis32\":{\"anchor\":\"x32\",\"domain\":[0.0,0.125],\"matches\":\"y31\",\"showticklabels\":false,\"range\":[0.5,209.5]},\"xaxis33\":{\"anchor\":\"y33\",\"domain\":[0.34444444444444444,0.48333333333333334],\"range\":[2.15,20.85],\"title\":{\"text\":\"max_depth\"}},\"yaxis33\":{\"anchor\":\"x33\",\"domain\":[0.0,0.125],\"matches\":\"y31\",\"showticklabels\":false,\"range\":[0.5,209.5]},\"xaxis34\":{\"anchor\":\"y34\",\"domain\":[0.5166666666666667,0.6555555555555557],\"range\":[0.55,10.45],\"title\":{\"text\":\"min_samples_leaf\"}},\"yaxis34\":{\"anchor\":\"x34\",\"domain\":[0.0,0.125],\"matches\":\"y31\",\"showticklabels\":false,\"range\":[0.5,209.5]},\"xaxis35\":{\"anchor\":\"y35\",\"domain\":[0.6888888888888889,0.8277777777777777],\"range\":[1.6,10.4],\"title\":{\"text\":\"min_samples_split\"}},\"yaxis35\":{\"anchor\":\"x35\",\"domain\":[0.0,0.125],\"matches\":\"y31\",\"showticklabels\":false,\"range\":[0.5,209.5]},\"xaxis36\":{\"anchor\":\"y36\",\"domain\":[0.861111111111111,1.0],\"range\":[0.5,209.5],\"title\":{\"text\":\"n_estimators\"}},\"yaxis36\":{\"anchor\":\"x36\",\"domain\":[0.0,0.125],\"matches\":\"y31\",\"showticklabels\":false,\"range\":[0.5,209.5]},\"title\":{\"text\":\"Contour Plot\"}},                        {\"responsive\": true}                    ).then(function(){\n",
              "                            \n",
              "var gd = document.getElementById('e43220e8-69be-4c90-8ea9-e5112851e2d9');\n",
              "var x = new MutationObserver(function (mutations, observer) {{\n",
              "        var display = window.getComputedStyle(gd).display;\n",
              "        if (!display || display === 'none') {{\n",
              "            console.log([gd, 'removed!']);\n",
              "            Plotly.purge(gd);\n",
              "            observer.disconnect();\n",
              "        }}\n",
              "}});\n",
              "\n",
              "// Listen for the removal of the full notebook cells\n",
              "var notebookContainer = gd.closest('#notebook-container');\n",
              "if (notebookContainer) {{\n",
              "    x.observe(notebookContainer, {childList: true});\n",
              "}}\n",
              "\n",
              "// Listen for the clearing of the current output cell\n",
              "var outputEl = gd.closest('.output');\n",
              "if (outputEl) {{\n",
              "    x.observe(outputEl, {childList: true});\n",
              "}}\n",
              "\n",
              "                        })                };                            </script>        </div>\n",
              "</body>\n",
              "</html>"
            ]
          },
          "metadata": {}
        }
      ]
    },
    {
      "cell_type": "code",
      "source": [
        "plot_param_importances(study).show()"
      ],
      "metadata": {
        "colab": {
          "base_uri": "https://localhost:8080/",
          "height": 542
        },
        "id": "AHJsk53qkLEE",
        "outputId": "f47f668e-6c6c-4d19-c2b5-9b2b9451352d"
      },
      "execution_count": 34,
      "outputs": [
        {
          "output_type": "display_data",
          "data": {
            "text/html": [
              "<html>\n",
              "<head><meta charset=\"utf-8\" /></head>\n",
              "<body>\n",
              "    <div>            <script src=\"https://cdnjs.cloudflare.com/ajax/libs/mathjax/2.7.5/MathJax.js?config=TeX-AMS-MML_SVG\"></script><script type=\"text/javascript\">if (window.MathJax && window.MathJax.Hub && window.MathJax.Hub.Config) {window.MathJax.Hub.Config({SVG: {font: \"STIX-Web\"}});}</script>                <script type=\"text/javascript\">window.PlotlyConfig = {MathJaxConfig: 'local'};</script>\n",
              "        <script charset=\"utf-8\" src=\"https://cdn.plot.ly/plotly-2.35.2.min.js\"></script>                <div id=\"a85d6762-2989-44ef-a342-7520f6e026f6\" class=\"plotly-graph-div\" style=\"height:525px; width:100%;\"></div>            <script type=\"text/javascript\">                                    window.PLOTLYENV=window.PLOTLYENV || {};                                    if (document.getElementById(\"a85d6762-2989-44ef-a342-7520f6e026f6\")) {                    Plotly.newPlot(                        \"a85d6762-2989-44ef-a342-7520f6e026f6\",                        [{\"cliponaxis\":false,\"hovertemplate\":[\"criterion (CategoricalDistribution): 0.0008823797081501534\\u003cextra\\u003e\\u003c\\u002fextra\\u003e\",\"min_samples_split (IntDistribution): 0.0016371073857050847\\u003cextra\\u003e\\u003c\\u002fextra\\u003e\",\"bootstrap (CategoricalDistribution): 0.004196527321271474\\u003cextra\\u003e\\u003c\\u002fextra\\u003e\",\"min_samples_leaf (IntDistribution): 0.017480989892934336\\u003cextra\\u003e\\u003c\\u002fextra\\u003e\",\"n_estimators (IntDistribution): 0.04508295520474248\\u003cextra\\u003e\\u003c\\u002fextra\\u003e\",\"max_depth (IntDistribution): 0.9307200404871965\\u003cextra\\u003e\\u003c\\u002fextra\\u003e\"],\"name\":\"Objective Value\",\"orientation\":\"h\",\"text\":[\"\\u003c0.01\",\"\\u003c0.01\",\"\\u003c0.01\",\"0.02\",\"0.05\",\"0.93\"],\"textposition\":\"outside\",\"x\":[0.0008823797081501534,0.0016371073857050847,0.004196527321271474,0.017480989892934336,0.04508295520474248,0.9307200404871965],\"y\":[\"criterion\",\"min_samples_split\",\"bootstrap\",\"min_samples_leaf\",\"n_estimators\",\"max_depth\"],\"type\":\"bar\"}],                        {\"title\":{\"text\":\"Hyperparameter Importances\"},\"xaxis\":{\"title\":{\"text\":\"Hyperparameter Importance\"}},\"yaxis\":{\"title\":{\"text\":\"Hyperparameter\"}},\"template\":{\"data\":{\"histogram2dcontour\":[{\"type\":\"histogram2dcontour\",\"colorbar\":{\"outlinewidth\":0,\"ticks\":\"\"},\"colorscale\":[[0.0,\"#0d0887\"],[0.1111111111111111,\"#46039f\"],[0.2222222222222222,\"#7201a8\"],[0.3333333333333333,\"#9c179e\"],[0.4444444444444444,\"#bd3786\"],[0.5555555555555556,\"#d8576b\"],[0.6666666666666666,\"#ed7953\"],[0.7777777777777778,\"#fb9f3a\"],[0.8888888888888888,\"#fdca26\"],[1.0,\"#f0f921\"]]}],\"choropleth\":[{\"type\":\"choropleth\",\"colorbar\":{\"outlinewidth\":0,\"ticks\":\"\"}}],\"histogram2d\":[{\"type\":\"histogram2d\",\"colorbar\":{\"outlinewidth\":0,\"ticks\":\"\"},\"colorscale\":[[0.0,\"#0d0887\"],[0.1111111111111111,\"#46039f\"],[0.2222222222222222,\"#7201a8\"],[0.3333333333333333,\"#9c179e\"],[0.4444444444444444,\"#bd3786\"],[0.5555555555555556,\"#d8576b\"],[0.6666666666666666,\"#ed7953\"],[0.7777777777777778,\"#fb9f3a\"],[0.8888888888888888,\"#fdca26\"],[1.0,\"#f0f921\"]]}],\"heatmap\":[{\"type\":\"heatmap\",\"colorbar\":{\"outlinewidth\":0,\"ticks\":\"\"},\"colorscale\":[[0.0,\"#0d0887\"],[0.1111111111111111,\"#46039f\"],[0.2222222222222222,\"#7201a8\"],[0.3333333333333333,\"#9c179e\"],[0.4444444444444444,\"#bd3786\"],[0.5555555555555556,\"#d8576b\"],[0.6666666666666666,\"#ed7953\"],[0.7777777777777778,\"#fb9f3a\"],[0.8888888888888888,\"#fdca26\"],[1.0,\"#f0f921\"]]}],\"heatmapgl\":[{\"type\":\"heatmapgl\",\"colorbar\":{\"outlinewidth\":0,\"ticks\":\"\"},\"colorscale\":[[0.0,\"#0d0887\"],[0.1111111111111111,\"#46039f\"],[0.2222222222222222,\"#7201a8\"],[0.3333333333333333,\"#9c179e\"],[0.4444444444444444,\"#bd3786\"],[0.5555555555555556,\"#d8576b\"],[0.6666666666666666,\"#ed7953\"],[0.7777777777777778,\"#fb9f3a\"],[0.8888888888888888,\"#fdca26\"],[1.0,\"#f0f921\"]]}],\"contourcarpet\":[{\"type\":\"contourcarpet\",\"colorbar\":{\"outlinewidth\":0,\"ticks\":\"\"}}],\"contour\":[{\"type\":\"contour\",\"colorbar\":{\"outlinewidth\":0,\"ticks\":\"\"},\"colorscale\":[[0.0,\"#0d0887\"],[0.1111111111111111,\"#46039f\"],[0.2222222222222222,\"#7201a8\"],[0.3333333333333333,\"#9c179e\"],[0.4444444444444444,\"#bd3786\"],[0.5555555555555556,\"#d8576b\"],[0.6666666666666666,\"#ed7953\"],[0.7777777777777778,\"#fb9f3a\"],[0.8888888888888888,\"#fdca26\"],[1.0,\"#f0f921\"]]}],\"surface\":[{\"type\":\"surface\",\"colorbar\":{\"outlinewidth\":0,\"ticks\":\"\"},\"colorscale\":[[0.0,\"#0d0887\"],[0.1111111111111111,\"#46039f\"],[0.2222222222222222,\"#7201a8\"],[0.3333333333333333,\"#9c179e\"],[0.4444444444444444,\"#bd3786\"],[0.5555555555555556,\"#d8576b\"],[0.6666666666666666,\"#ed7953\"],[0.7777777777777778,\"#fb9f3a\"],[0.8888888888888888,\"#fdca26\"],[1.0,\"#f0f921\"]]}],\"mesh3d\":[{\"type\":\"mesh3d\",\"colorbar\":{\"outlinewidth\":0,\"ticks\":\"\"}}],\"scatter\":[{\"fillpattern\":{\"fillmode\":\"overlay\",\"size\":10,\"solidity\":0.2},\"type\":\"scatter\"}],\"parcoords\":[{\"type\":\"parcoords\",\"line\":{\"colorbar\":{\"outlinewidth\":0,\"ticks\":\"\"}}}],\"scatterpolargl\":[{\"type\":\"scatterpolargl\",\"marker\":{\"colorbar\":{\"outlinewidth\":0,\"ticks\":\"\"}}}],\"bar\":[{\"error_x\":{\"color\":\"#2a3f5f\"},\"error_y\":{\"color\":\"#2a3f5f\"},\"marker\":{\"line\":{\"color\":\"#E5ECF6\",\"width\":0.5},\"pattern\":{\"fillmode\":\"overlay\",\"size\":10,\"solidity\":0.2}},\"type\":\"bar\"}],\"scattergeo\":[{\"type\":\"scattergeo\",\"marker\":{\"colorbar\":{\"outlinewidth\":0,\"ticks\":\"\"}}}],\"scatterpolar\":[{\"type\":\"scatterpolar\",\"marker\":{\"colorbar\":{\"outlinewidth\":0,\"ticks\":\"\"}}}],\"histogram\":[{\"marker\":{\"pattern\":{\"fillmode\":\"overlay\",\"size\":10,\"solidity\":0.2}},\"type\":\"histogram\"}],\"scattergl\":[{\"type\":\"scattergl\",\"marker\":{\"colorbar\":{\"outlinewidth\":0,\"ticks\":\"\"}}}],\"scatter3d\":[{\"type\":\"scatter3d\",\"line\":{\"colorbar\":{\"outlinewidth\":0,\"ticks\":\"\"}},\"marker\":{\"colorbar\":{\"outlinewidth\":0,\"ticks\":\"\"}}}],\"scattermapbox\":[{\"type\":\"scattermapbox\",\"marker\":{\"colorbar\":{\"outlinewidth\":0,\"ticks\":\"\"}}}],\"scatterternary\":[{\"type\":\"scatterternary\",\"marker\":{\"colorbar\":{\"outlinewidth\":0,\"ticks\":\"\"}}}],\"scattercarpet\":[{\"type\":\"scattercarpet\",\"marker\":{\"colorbar\":{\"outlinewidth\":0,\"ticks\":\"\"}}}],\"carpet\":[{\"aaxis\":{\"endlinecolor\":\"#2a3f5f\",\"gridcolor\":\"white\",\"linecolor\":\"white\",\"minorgridcolor\":\"white\",\"startlinecolor\":\"#2a3f5f\"},\"baxis\":{\"endlinecolor\":\"#2a3f5f\",\"gridcolor\":\"white\",\"linecolor\":\"white\",\"minorgridcolor\":\"white\",\"startlinecolor\":\"#2a3f5f\"},\"type\":\"carpet\"}],\"table\":[{\"cells\":{\"fill\":{\"color\":\"#EBF0F8\"},\"line\":{\"color\":\"white\"}},\"header\":{\"fill\":{\"color\":\"#C8D4E3\"},\"line\":{\"color\":\"white\"}},\"type\":\"table\"}],\"barpolar\":[{\"marker\":{\"line\":{\"color\":\"#E5ECF6\",\"width\":0.5},\"pattern\":{\"fillmode\":\"overlay\",\"size\":10,\"solidity\":0.2}},\"type\":\"barpolar\"}],\"pie\":[{\"automargin\":true,\"type\":\"pie\"}]},\"layout\":{\"autotypenumbers\":\"strict\",\"colorway\":[\"#636efa\",\"#EF553B\",\"#00cc96\",\"#ab63fa\",\"#FFA15A\",\"#19d3f3\",\"#FF6692\",\"#B6E880\",\"#FF97FF\",\"#FECB52\"],\"font\":{\"color\":\"#2a3f5f\"},\"hovermode\":\"closest\",\"hoverlabel\":{\"align\":\"left\"},\"paper_bgcolor\":\"white\",\"plot_bgcolor\":\"#E5ECF6\",\"polar\":{\"bgcolor\":\"#E5ECF6\",\"angularaxis\":{\"gridcolor\":\"white\",\"linecolor\":\"white\",\"ticks\":\"\"},\"radialaxis\":{\"gridcolor\":\"white\",\"linecolor\":\"white\",\"ticks\":\"\"}},\"ternary\":{\"bgcolor\":\"#E5ECF6\",\"aaxis\":{\"gridcolor\":\"white\",\"linecolor\":\"white\",\"ticks\":\"\"},\"baxis\":{\"gridcolor\":\"white\",\"linecolor\":\"white\",\"ticks\":\"\"},\"caxis\":{\"gridcolor\":\"white\",\"linecolor\":\"white\",\"ticks\":\"\"}},\"coloraxis\":{\"colorbar\":{\"outlinewidth\":0,\"ticks\":\"\"}},\"colorscale\":{\"sequential\":[[0.0,\"#0d0887\"],[0.1111111111111111,\"#46039f\"],[0.2222222222222222,\"#7201a8\"],[0.3333333333333333,\"#9c179e\"],[0.4444444444444444,\"#bd3786\"],[0.5555555555555556,\"#d8576b\"],[0.6666666666666666,\"#ed7953\"],[0.7777777777777778,\"#fb9f3a\"],[0.8888888888888888,\"#fdca26\"],[1.0,\"#f0f921\"]],\"sequentialminus\":[[0.0,\"#0d0887\"],[0.1111111111111111,\"#46039f\"],[0.2222222222222222,\"#7201a8\"],[0.3333333333333333,\"#9c179e\"],[0.4444444444444444,\"#bd3786\"],[0.5555555555555556,\"#d8576b\"],[0.6666666666666666,\"#ed7953\"],[0.7777777777777778,\"#fb9f3a\"],[0.8888888888888888,\"#fdca26\"],[1.0,\"#f0f921\"]],\"diverging\":[[0,\"#8e0152\"],[0.1,\"#c51b7d\"],[0.2,\"#de77ae\"],[0.3,\"#f1b6da\"],[0.4,\"#fde0ef\"],[0.5,\"#f7f7f7\"],[0.6,\"#e6f5d0\"],[0.7,\"#b8e186\"],[0.8,\"#7fbc41\"],[0.9,\"#4d9221\"],[1,\"#276419\"]]},\"xaxis\":{\"gridcolor\":\"white\",\"linecolor\":\"white\",\"ticks\":\"\",\"title\":{\"standoff\":15},\"zerolinecolor\":\"white\",\"automargin\":true,\"zerolinewidth\":2},\"yaxis\":{\"gridcolor\":\"white\",\"linecolor\":\"white\",\"ticks\":\"\",\"title\":{\"standoff\":15},\"zerolinecolor\":\"white\",\"automargin\":true,\"zerolinewidth\":2},\"scene\":{\"xaxis\":{\"backgroundcolor\":\"#E5ECF6\",\"gridcolor\":\"white\",\"linecolor\":\"white\",\"showbackground\":true,\"ticks\":\"\",\"zerolinecolor\":\"white\",\"gridwidth\":2},\"yaxis\":{\"backgroundcolor\":\"#E5ECF6\",\"gridcolor\":\"white\",\"linecolor\":\"white\",\"showbackground\":true,\"ticks\":\"\",\"zerolinecolor\":\"white\",\"gridwidth\":2},\"zaxis\":{\"backgroundcolor\":\"#E5ECF6\",\"gridcolor\":\"white\",\"linecolor\":\"white\",\"showbackground\":true,\"ticks\":\"\",\"zerolinecolor\":\"white\",\"gridwidth\":2}},\"shapedefaults\":{\"line\":{\"color\":\"#2a3f5f\"}},\"annotationdefaults\":{\"arrowcolor\":\"#2a3f5f\",\"arrowhead\":0,\"arrowwidth\":1},\"geo\":{\"bgcolor\":\"white\",\"landcolor\":\"#E5ECF6\",\"subunitcolor\":\"white\",\"showland\":true,\"showlakes\":true,\"lakecolor\":\"white\"},\"title\":{\"x\":0.05},\"mapbox\":{\"style\":\"light\"}}}},                        {\"responsive\": true}                    ).then(function(){\n",
              "                            \n",
              "var gd = document.getElementById('a85d6762-2989-44ef-a342-7520f6e026f6');\n",
              "var x = new MutationObserver(function (mutations, observer) {{\n",
              "        var display = window.getComputedStyle(gd).display;\n",
              "        if (!display || display === 'none') {{\n",
              "            console.log([gd, 'removed!']);\n",
              "            Plotly.purge(gd);\n",
              "            observer.disconnect();\n",
              "        }}\n",
              "}});\n",
              "\n",
              "// Listen for the removal of the full notebook cells\n",
              "var notebookContainer = gd.closest('#notebook-container');\n",
              "if (notebookContainer) {{\n",
              "    x.observe(notebookContainer, {childList: true});\n",
              "}}\n",
              "\n",
              "// Listen for the clearing of the current output cell\n",
              "var outputEl = gd.closest('.output');\n",
              "if (outputEl) {{\n",
              "    x.observe(outputEl, {childList: true});\n",
              "}}\n",
              "\n",
              "                        })                };                            </script>        </div>\n",
              "</body>\n",
              "</html>"
            ]
          },
          "metadata": {}
        }
      ]
    },
    {
      "cell_type": "code",
      "source": [],
      "metadata": {
        "id": "rhkPu6A4kSd-"
      },
      "execution_count": null,
      "outputs": []
    }
  ]
}