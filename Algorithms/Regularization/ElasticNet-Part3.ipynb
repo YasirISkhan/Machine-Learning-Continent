{
 "cells": [
  {
   "cell_type": "code",
   "execution_count": 1,
   "id": "a479516e-7e66-40bf-b63e-d0e5b6c2f2f9",
   "metadata": {},
   "outputs": [],
   "source": [
    "import numpy as np\n",
    "import pandas as pd\n",
    "\n",
    "from sklearn.model_selection import train_test_split\n",
    "from sklearn.linear_model import LinearRegression, Lasso, Ridge, ElasticNet\n",
    "from sklearn.metrics import r2_score"
   ]
  },
  {
   "cell_type": "code",
   "execution_count": 25,
   "id": "1130547a-b54e-4aaa-ad50-067d70b5b475",
   "metadata": {},
   "outputs": [],
   "source": [
    "data = pd.read_csv('cancer_reg.csv')"
   ]
  },
  {
   "cell_type": "code",
   "execution_count": 27,
   "id": "f4c3ecfe-02bb-4eeb-868b-4d7e7c2a21a0",
   "metadata": {},
   "outputs": [
    {
     "data": {
      "text/html": [
       "<div>\n",
       "<style scoped>\n",
       "    .dataframe tbody tr th:only-of-type {\n",
       "        vertical-align: middle;\n",
       "    }\n",
       "\n",
       "    .dataframe tbody tr th {\n",
       "        vertical-align: top;\n",
       "    }\n",
       "\n",
       "    .dataframe thead th {\n",
       "        text-align: right;\n",
       "    }\n",
       "</style>\n",
       "<table border=\"1\" class=\"dataframe\">\n",
       "  <thead>\n",
       "    <tr style=\"text-align: right;\">\n",
       "      <th></th>\n",
       "      <th>avganncount</th>\n",
       "      <th>avgdeathsperyear</th>\n",
       "      <th>target_deathrate</th>\n",
       "      <th>incidencerate</th>\n",
       "      <th>medincome</th>\n",
       "      <th>popest2015</th>\n",
       "      <th>povertypercent</th>\n",
       "      <th>studypercap</th>\n",
       "      <th>binnedinc</th>\n",
       "      <th>medianage</th>\n",
       "      <th>...</th>\n",
       "      <th>pctprivatecoveragealone</th>\n",
       "      <th>pctempprivcoverage</th>\n",
       "      <th>pctpubliccoverage</th>\n",
       "      <th>pctpubliccoveragealone</th>\n",
       "      <th>pctwhite</th>\n",
       "      <th>pctblack</th>\n",
       "      <th>pctasian</th>\n",
       "      <th>pctotherrace</th>\n",
       "      <th>pctmarriedhouseholds</th>\n",
       "      <th>birthrate</th>\n",
       "    </tr>\n",
       "  </thead>\n",
       "  <tbody>\n",
       "    <tr>\n",
       "      <th>0</th>\n",
       "      <td>1397.0</td>\n",
       "      <td>469</td>\n",
       "      <td>164.9</td>\n",
       "      <td>489.8</td>\n",
       "      <td>61898</td>\n",
       "      <td>260131</td>\n",
       "      <td>11.2</td>\n",
       "      <td>499.748204</td>\n",
       "      <td>(61494.5, 125635]</td>\n",
       "      <td>39.3</td>\n",
       "      <td>...</td>\n",
       "      <td>NaN</td>\n",
       "      <td>41.6</td>\n",
       "      <td>32.9</td>\n",
       "      <td>14.0</td>\n",
       "      <td>81.780529</td>\n",
       "      <td>2.594728</td>\n",
       "      <td>4.821857</td>\n",
       "      <td>1.843479</td>\n",
       "      <td>52.856076</td>\n",
       "      <td>6.118831</td>\n",
       "    </tr>\n",
       "    <tr>\n",
       "      <th>1</th>\n",
       "      <td>173.0</td>\n",
       "      <td>70</td>\n",
       "      <td>161.3</td>\n",
       "      <td>411.6</td>\n",
       "      <td>48127</td>\n",
       "      <td>43269</td>\n",
       "      <td>18.6</td>\n",
       "      <td>23.111234</td>\n",
       "      <td>(48021.6, 51046.4]</td>\n",
       "      <td>33.0</td>\n",
       "      <td>...</td>\n",
       "      <td>53.8</td>\n",
       "      <td>43.6</td>\n",
       "      <td>31.1</td>\n",
       "      <td>15.3</td>\n",
       "      <td>89.228509</td>\n",
       "      <td>0.969102</td>\n",
       "      <td>2.246233</td>\n",
       "      <td>3.741352</td>\n",
       "      <td>45.372500</td>\n",
       "      <td>4.333096</td>\n",
       "    </tr>\n",
       "    <tr>\n",
       "      <th>2</th>\n",
       "      <td>102.0</td>\n",
       "      <td>50</td>\n",
       "      <td>174.7</td>\n",
       "      <td>349.7</td>\n",
       "      <td>49348</td>\n",
       "      <td>21026</td>\n",
       "      <td>14.6</td>\n",
       "      <td>47.560164</td>\n",
       "      <td>(48021.6, 51046.4]</td>\n",
       "      <td>45.0</td>\n",
       "      <td>...</td>\n",
       "      <td>43.5</td>\n",
       "      <td>34.9</td>\n",
       "      <td>42.1</td>\n",
       "      <td>21.1</td>\n",
       "      <td>90.922190</td>\n",
       "      <td>0.739673</td>\n",
       "      <td>0.465898</td>\n",
       "      <td>2.747358</td>\n",
       "      <td>54.444868</td>\n",
       "      <td>3.729488</td>\n",
       "    </tr>\n",
       "    <tr>\n",
       "      <th>3</th>\n",
       "      <td>427.0</td>\n",
       "      <td>202</td>\n",
       "      <td>194.8</td>\n",
       "      <td>430.4</td>\n",
       "      <td>44243</td>\n",
       "      <td>75882</td>\n",
       "      <td>17.1</td>\n",
       "      <td>342.637253</td>\n",
       "      <td>(42724.4, 45201]</td>\n",
       "      <td>42.8</td>\n",
       "      <td>...</td>\n",
       "      <td>40.3</td>\n",
       "      <td>35.0</td>\n",
       "      <td>45.3</td>\n",
       "      <td>25.0</td>\n",
       "      <td>91.744686</td>\n",
       "      <td>0.782626</td>\n",
       "      <td>1.161359</td>\n",
       "      <td>1.362643</td>\n",
       "      <td>51.021514</td>\n",
       "      <td>4.603841</td>\n",
       "    </tr>\n",
       "    <tr>\n",
       "      <th>4</th>\n",
       "      <td>57.0</td>\n",
       "      <td>26</td>\n",
       "      <td>144.4</td>\n",
       "      <td>350.1</td>\n",
       "      <td>49955</td>\n",
       "      <td>10321</td>\n",
       "      <td>12.5</td>\n",
       "      <td>0.000000</td>\n",
       "      <td>(48021.6, 51046.4]</td>\n",
       "      <td>48.3</td>\n",
       "      <td>...</td>\n",
       "      <td>43.9</td>\n",
       "      <td>35.1</td>\n",
       "      <td>44.0</td>\n",
       "      <td>22.7</td>\n",
       "      <td>94.104024</td>\n",
       "      <td>0.270192</td>\n",
       "      <td>0.665830</td>\n",
       "      <td>0.492135</td>\n",
       "      <td>54.027460</td>\n",
       "      <td>6.796657</td>\n",
       "    </tr>\n",
       "  </tbody>\n",
       "</table>\n",
       "<p>5 rows × 33 columns</p>\n",
       "</div>"
      ],
      "text/plain": [
       "   avganncount  avgdeathsperyear  target_deathrate  incidencerate  medincome  \\\n",
       "0       1397.0               469             164.9          489.8      61898   \n",
       "1        173.0                70             161.3          411.6      48127   \n",
       "2        102.0                50             174.7          349.7      49348   \n",
       "3        427.0               202             194.8          430.4      44243   \n",
       "4         57.0                26             144.4          350.1      49955   \n",
       "\n",
       "   popest2015  povertypercent  studypercap           binnedinc  medianage  \\\n",
       "0      260131            11.2   499.748204   (61494.5, 125635]       39.3   \n",
       "1       43269            18.6    23.111234  (48021.6, 51046.4]       33.0   \n",
       "2       21026            14.6    47.560164  (48021.6, 51046.4]       45.0   \n",
       "3       75882            17.1   342.637253    (42724.4, 45201]       42.8   \n",
       "4       10321            12.5     0.000000  (48021.6, 51046.4]       48.3   \n",
       "\n",
       "   ...  pctprivatecoveragealone  pctempprivcoverage pctpubliccoverage  \\\n",
       "0  ...                      NaN                41.6              32.9   \n",
       "1  ...                     53.8                43.6              31.1   \n",
       "2  ...                     43.5                34.9              42.1   \n",
       "3  ...                     40.3                35.0              45.3   \n",
       "4  ...                     43.9                35.1              44.0   \n",
       "\n",
       "   pctpubliccoveragealone   pctwhite  pctblack  pctasian  pctotherrace  \\\n",
       "0                    14.0  81.780529  2.594728  4.821857      1.843479   \n",
       "1                    15.3  89.228509  0.969102  2.246233      3.741352   \n",
       "2                    21.1  90.922190  0.739673  0.465898      2.747358   \n",
       "3                    25.0  91.744686  0.782626  1.161359      1.362643   \n",
       "4                    22.7  94.104024  0.270192  0.665830      0.492135   \n",
       "\n",
       "   pctmarriedhouseholds  birthrate  \n",
       "0             52.856076   6.118831  \n",
       "1             45.372500   4.333096  \n",
       "2             54.444868   3.729488  \n",
       "3             51.021514   4.603841  \n",
       "4             54.027460   6.796657  \n",
       "\n",
       "[5 rows x 33 columns]"
      ]
     },
     "execution_count": 27,
     "metadata": {},
     "output_type": "execute_result"
    }
   ],
   "source": [
    "data.head()"
   ]
  },
  {
   "cell_type": "code",
   "execution_count": 39,
   "id": "343fc147-a8a0-47c5-9d69-028c7d96be83",
   "metadata": {},
   "outputs": [
    {
     "data": {
      "text/plain": [
       "(3047, 33)"
      ]
     },
     "execution_count": 39,
     "metadata": {},
     "output_type": "execute_result"
    }
   ],
   "source": [
    "data.shape"
   ]
  },
  {
   "cell_type": "code",
   "execution_count": 48,
   "id": "fdaf2934-70a5-4da3-a8dd-f906ecfc0904",
   "metadata": {},
   "outputs": [
    {
     "data": {
      "text/plain": [
       "avganncount                0\n",
       "avgdeathsperyear           0\n",
       "target_deathrate           0\n",
       "incidencerate              0\n",
       "medincome                  0\n",
       "popest2015                 0\n",
       "povertypercent             0\n",
       "studypercap                0\n",
       "binnedinc                  0\n",
       "medianage                  0\n",
       "medianagemale              0\n",
       "medianagefemale            0\n",
       "geography                  0\n",
       "percentmarried             0\n",
       "pctnohs18_24               0\n",
       "pcths18_24                 0\n",
       "pctbachdeg18_24            0\n",
       "pcths25_over               0\n",
       "pctbachdeg25_over          0\n",
       "pctemployed16_over         0\n",
       "pctunemployed16_over       0\n",
       "pctprivatecoverage         0\n",
       "pctprivatecoveragealone    0\n",
       "pctempprivcoverage         0\n",
       "pctpubliccoverage          0\n",
       "pctpubliccoveragealone     0\n",
       "pctwhite                   0\n",
       "pctblack                   0\n",
       "pctasian                   0\n",
       "pctotherrace               0\n",
       "pctmarriedhouseholds       0\n",
       "birthrate                  0\n",
       "dtype: int64"
      ]
     },
     "execution_count": 48,
     "metadata": {},
     "output_type": "execute_result"
    }
   ],
   "source": [
    "data.isnull().sum()"
   ]
  },
  {
   "cell_type": "code",
   "execution_count": 42,
   "id": "c3f5fbce-f12d-4eac-bf41-768a70c21f92",
   "metadata": {},
   "outputs": [],
   "source": [
    "data.drop(columns=['pctsomecol18_24'], inplace=True)"
   ]
  },
  {
   "cell_type": "code",
   "execution_count": 63,
   "id": "d17579c1-e1ec-4e34-b258-359a75f6946d",
   "metadata": {},
   "outputs": [],
   "source": [
    "data.drop(columns=['binnedinc'], inplace=True)"
   ]
  },
  {
   "cell_type": "code",
   "execution_count": 77,
   "id": "0625d293-4a28-4470-8c2d-39845f98c2a9",
   "metadata": {},
   "outputs": [],
   "source": [
    "data.drop(columns=['geography'], inplace=True)"
   ]
  },
  {
   "cell_type": "code",
   "execution_count": 46,
   "id": "4b4ecf84-8b7c-4436-950c-9e9b86f43319",
   "metadata": {},
   "outputs": [],
   "source": [
    "data.fillna(0, inplace=True)"
   ]
  },
  {
   "cell_type": "code",
   "execution_count": 79,
   "id": "8a24ee36-82ea-41c3-91db-1cb8ee1e578a",
   "metadata": {},
   "outputs": [],
   "source": [
    "X = data.drop(columns=['target_deathrate'])\n",
    "Y = data['target_deathrate']"
   ]
  },
  {
   "cell_type": "code",
   "execution_count": 81,
   "id": "e1574d60-6176-4299-b1a6-341f288ddce4",
   "metadata": {},
   "outputs": [
    {
     "name": "stdout",
     "output_type": "stream",
     "text": [
      "(3047, 29)\n",
      "(3047,)\n"
     ]
    }
   ],
   "source": [
    "print(X.shape)\n",
    "print(Y.shape)"
   ]
  },
  {
   "cell_type": "code",
   "execution_count": 83,
   "id": "4c771c9f-6113-4472-9ada-10a27c25066e",
   "metadata": {},
   "outputs": [
    {
     "data": {
      "text/plain": [
       "((2437, 29), (610, 29))"
      ]
     },
     "execution_count": 83,
     "metadata": {},
     "output_type": "execute_result"
    }
   ],
   "source": [
    "X_train, X_test, y_train, y_test = train_test_split(X, Y, random_state=2, test_size=0.2)\n",
    "\n",
    "X_train.shape, X_test.shape"
   ]
  },
  {
   "cell_type": "code",
   "execution_count": 75,
   "id": "472c3db3-8cee-4e13-aa37-764f1773efd2",
   "metadata": {},
   "outputs": [
    {
     "name": "stdout",
     "output_type": "stream",
     "text": [
      "<class 'pandas.core.frame.DataFrame'>\n",
      "RangeIndex: 3047 entries, 0 to 3046\n",
      "Data columns (total 31 columns):\n",
      " #   Column                   Non-Null Count  Dtype  \n",
      "---  ------                   --------------  -----  \n",
      " 0   avganncount              3047 non-null   float64\n",
      " 1   avgdeathsperyear         3047 non-null   int64  \n",
      " 2   target_deathrate         3047 non-null   float64\n",
      " 3   incidencerate            3047 non-null   float64\n",
      " 4   medincome                3047 non-null   int64  \n",
      " 5   popest2015               3047 non-null   int64  \n",
      " 6   povertypercent           3047 non-null   float64\n",
      " 7   studypercap              3047 non-null   float64\n",
      " 8   medianage                3047 non-null   float64\n",
      " 9   medianagemale            3047 non-null   float64\n",
      " 10  medianagefemale          3047 non-null   float64\n",
      " 11  geography                3047 non-null   object \n",
      " 12  percentmarried           3047 non-null   float64\n",
      " 13  pctnohs18_24             3047 non-null   float64\n",
      " 14  pcths18_24               3047 non-null   float64\n",
      " 15  pctbachdeg18_24          3047 non-null   float64\n",
      " 16  pcths25_over             3047 non-null   float64\n",
      " 17  pctbachdeg25_over        3047 non-null   float64\n",
      " 18  pctemployed16_over       3047 non-null   float64\n",
      " 19  pctunemployed16_over     3047 non-null   float64\n",
      " 20  pctprivatecoverage       3047 non-null   float64\n",
      " 21  pctprivatecoveragealone  3047 non-null   float64\n",
      " 22  pctempprivcoverage       3047 non-null   float64\n",
      " 23  pctpubliccoverage        3047 non-null   float64\n",
      " 24  pctpubliccoveragealone   3047 non-null   float64\n",
      " 25  pctwhite                 3047 non-null   float64\n",
      " 26  pctblack                 3047 non-null   float64\n",
      " 27  pctasian                 3047 non-null   float64\n",
      " 28  pctotherrace             3047 non-null   float64\n",
      " 29  pctmarriedhouseholds     3047 non-null   float64\n",
      " 30  birthrate                3047 non-null   float64\n",
      "dtypes: float64(27), int64(3), object(1)\n",
      "memory usage: 738.1+ KB\n"
     ]
    }
   ],
   "source": [
    "data.info()"
   ]
  },
  {
   "cell_type": "markdown",
   "id": "148304af-b928-4cf9-bfc2-33407d4d49cb",
   "metadata": {},
   "source": [
    "# Linear Regression"
   ]
  },
  {
   "cell_type": "code",
   "execution_count": 85,
   "id": "672b3be5-55b2-4428-aeee-bb3184025739",
   "metadata": {},
   "outputs": [
    {
     "name": "stdout",
     "output_type": "stream",
     "text": [
      "R2_score:  0.5473190555394962\n"
     ]
    }
   ],
   "source": [
    "reg = LinearRegression()\n",
    "reg.fit(X_train, y_train)\n",
    "y_pred = reg.predict(X_test)\n",
    "print(\"R2_score: \", r2_score(y_test, y_pred))"
   ]
  },
  {
   "cell_type": "markdown",
   "id": "fb362594-43bb-453a-a002-05014a785e19",
   "metadata": {},
   "source": [
    "# Ridge Regression"
   ]
  },
  {
   "cell_type": "code",
   "execution_count": 116,
   "id": "ea29adcd-1389-40fa-85b7-77fe85fdd5ca",
   "metadata": {},
   "outputs": [
    {
     "name": "stdout",
     "output_type": "stream",
     "text": [
      "R2_score:  0.5473190541879077\n"
     ]
    }
   ],
   "source": [
    "R1 = Ridge(alpha=0.001)\n",
    "R1.fit(X_train, y_train)\n",
    "y_pred2 = R1.predict(X_test)\n",
    "print(\"R2_score: \", r2_score(y_test, y_pred2))"
   ]
  },
  {
   "cell_type": "markdown",
   "id": "6fcc74f8-0596-459e-ba69-b4eca29b0190",
   "metadata": {},
   "source": [
    "# Lasso Regression"
   ]
  },
  {
   "cell_type": "code",
   "execution_count": 143,
   "id": "a5518ee5-a78c-46b0-adb1-e37035bece25",
   "metadata": {},
   "outputs": [
    {
     "name": "stdout",
     "output_type": "stream",
     "text": [
      "R2_score:  0.5476169479555307\n"
     ]
    }
   ],
   "source": [
    "L1 = Lasso(alpha=0.1)\n",
    "L1.fit(X_train, y_train)\n",
    "y_pred3 = L1.predict(X_test)\n",
    "print(\"R2_score: \", r2_score(y_test, y_pred3))"
   ]
  },
  {
   "cell_type": "markdown",
   "id": "2a7d6065-cea4-4a9a-8575-3255654467a5",
   "metadata": {},
   "source": [
    "# ElasticNet"
   ]
  },
  {
   "cell_type": "code",
   "execution_count": 166,
   "id": "ff1417be-3b7f-452d-94b6-66d6c5f1bd28",
   "metadata": {},
   "outputs": [
    {
     "name": "stdout",
     "output_type": "stream",
     "text": [
      "R2_score:  0.5473196541568286\n"
     ]
    }
   ],
   "source": [
    "E1 = ElasticNet(alpha=0.002, l1_ratio=0.5)\n",
    "E1.fit(X_train, y_train)\n",
    "y_pred4 = E1.predict(X_test)\n",
    "print(\"R2_score: \", r2_score(y_test, y_pred4))"
   ]
  },
  {
   "cell_type": "code",
   "execution_count": null,
   "id": "493514e4-1929-4ba2-8443-85cb71ce602c",
   "metadata": {},
   "outputs": [],
   "source": []
  },
  {
   "cell_type": "code",
   "execution_count": null,
   "id": "79ce7bc3-5132-4080-a4ec-1d2bad3afabb",
   "metadata": {},
   "outputs": [],
   "source": []
  },
  {
   "cell_type": "code",
   "execution_count": null,
   "id": "828f3335-2839-4558-853f-fb6d4baa57ca",
   "metadata": {},
   "outputs": [],
   "source": []
  }
 ],
 "metadata": {
  "kernelspec": {
   "display_name": "Python 3 (ipykernel)",
   "language": "python",
   "name": "python3"
  },
  "language_info": {
   "codemirror_mode": {
    "name": "ipython",
    "version": 3
   },
   "file_extension": ".py",
   "mimetype": "text/x-python",
   "name": "python",
   "nbconvert_exporter": "python",
   "pygments_lexer": "ipython3",
   "version": "3.12.4"
  }
 },
 "nbformat": 4,
 "nbformat_minor": 5
}
