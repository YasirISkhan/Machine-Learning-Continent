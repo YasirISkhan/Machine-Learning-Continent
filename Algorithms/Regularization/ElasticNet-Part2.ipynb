{
 "cells": [
  {
   "cell_type": "code",
   "execution_count": 1,
   "id": "ef51bf8d-a11e-419f-9965-87239513c8ab",
   "metadata": {},
   "outputs": [],
   "source": [
    "import numpy as np\n",
    "import pandas as pd\n",
    "\n",
    "from sklearn.model_selection import train_test_split\n",
    "from sklearn.linear_model import LinearRegression, Lasso, Ridge, ElasticNet\n",
    "from sklearn.metrics import r2_score\n",
    "from sklearn.datasets import fetch_california_housing"
   ]
  },
  {
   "cell_type": "code",
   "execution_count": 3,
   "id": "2087d48b-d9d9-4aa3-adfd-d54a74947bf1",
   "metadata": {},
   "outputs": [],
   "source": [
    "X, y = fetch_california_housing(return_X_y=True)"
   ]
  },
  {
   "cell_type": "code",
   "execution_count": 5,
   "id": "42e13f70-8b55-4899-9ab3-bbb909288b99",
   "metadata": {},
   "outputs": [
    {
     "name": "stdout",
     "output_type": "stream",
     "text": [
      "(20640, 8)\n",
      "(20640,)\n"
     ]
    }
   ],
   "source": [
    "print(X.shape)\n",
    "print(y.shape)"
   ]
  },
  {
   "cell_type": "code",
   "execution_count": 7,
   "id": "e6a2d19f-51eb-40b7-834e-fe4295b32a1b",
   "metadata": {},
   "outputs": [
    {
     "data": {
      "text/plain": [
       "((16512, 8), (4128, 8))"
      ]
     },
     "execution_count": 7,
     "metadata": {},
     "output_type": "execute_result"
    }
   ],
   "source": [
    "X_train, X_test, y_train, y_test = train_test_split(X, y, random_state=2, test_size=0.2)\n",
    "\n",
    "X_train.shape, X_test.shape"
   ]
  },
  {
   "cell_type": "markdown",
   "id": "3508ce10-e12b-4dca-948c-5e90e36773a3",
   "metadata": {},
   "source": [
    "# Linear Regression"
   ]
  },
  {
   "cell_type": "code",
   "execution_count": 10,
   "id": "12294c36-0676-4911-ab64-49722636b86c",
   "metadata": {},
   "outputs": [
    {
     "name": "stdout",
     "output_type": "stream",
     "text": [
      "R2_score:  0.6013853272055165\n"
     ]
    }
   ],
   "source": [
    "reg = LinearRegression()\n",
    "reg.fit(X_train, y_train)\n",
    "y_pred = reg.predict(X_test)\n",
    "print(\"R2_score: \", r2_score(y_test, y_pred))"
   ]
  },
  {
   "cell_type": "markdown",
   "id": "9dd6f376-f60c-4e61-9ec1-08a06827a759",
   "metadata": {},
   "source": [
    "# Ridge Regression"
   ]
  },
  {
   "cell_type": "code",
   "execution_count": 27,
   "id": "3a17c5e6-c573-4c50-8296-12070dbb9f5f",
   "metadata": {},
   "outputs": [
    {
     "name": "stdout",
     "output_type": "stream",
     "text": [
      "R2_score:  0.6013206127817246\n"
     ]
    }
   ],
   "source": [
    "R1 = Ridge(alpha=10)\n",
    "R1.fit(X_train, y_train)\n",
    "y_pred2 = R1.predict(X_test)\n",
    "print(\"R2_score: \", r2_score(y_test, y_pred2))"
   ]
  },
  {
   "cell_type": "markdown",
   "id": "016de01f-be3a-456a-b6bd-9dab7b343da7",
   "metadata": {},
   "source": [
    "# Lasso Regression"
   ]
  },
  {
   "cell_type": "code",
   "execution_count": 66,
   "id": "6aa55dbd-504d-4000-86b4-9f6fda874e47",
   "metadata": {},
   "outputs": [
    {
     "name": "stdout",
     "output_type": "stream",
     "text": [
      "R2_score:  0.6013709114684234\n"
     ]
    }
   ],
   "source": [
    "L1 = Lasso(alpha=0.0001)\n",
    "L1.fit(X_train, y_train)\n",
    "y_pred3 = L1.predict(X_test)\n",
    "print(\"R2_score: \", r2_score(y_test, y_pred3))"
   ]
  },
  {
   "cell_type": "markdown",
   "id": "387881cb-6d97-473f-9a2b-d3baadd9acee",
   "metadata": {},
   "source": [
    "# ElasticNet Regression"
   ]
  },
  {
   "cell_type": "code",
   "execution_count": 99,
   "id": "cf6ff9aa-64fd-4c03-8e30-ed84b7d07a7f",
   "metadata": {},
   "outputs": [
    {
     "name": "stdout",
     "output_type": "stream",
     "text": [
      "R2_score:  0.6013729847478527\n"
     ]
    }
   ],
   "source": [
    "E1 = ElasticNet(alpha=0.0001, l1_ratio=0.5)\n",
    "E1.fit(X_train, y_train)\n",
    "y_pred4 = E1.predict(X_test)\n",
    "print(\"R2_score: \", r2_score(y_test, y_pred4))"
   ]
  }
 ],
 "metadata": {
  "kernelspec": {
   "display_name": "Python 3 (ipykernel)",
   "language": "python",
   "name": "python3"
  },
  "language_info": {
   "codemirror_mode": {
    "name": "ipython",
    "version": 3
   },
   "file_extension": ".py",
   "mimetype": "text/x-python",
   "name": "python",
   "nbconvert_exporter": "python",
   "pygments_lexer": "ipython3",
   "version": "3.12.4"
  }
 },
 "nbformat": 4,
 "nbformat_minor": 5
}
