{
 "cells": [
  {
   "cell_type": "code",
   "execution_count": 1,
   "id": "ed75d521-921d-44f5-bed7-a3b1fa24623c",
   "metadata": {},
   "outputs": [],
   "source": [
    "import numpy as np\n",
    "import pandas as pd\n",
    "import matplotlib.pyplot as plt"
   ]
  },
  {
   "cell_type": "code",
   "execution_count": 7,
   "id": "06cdc11f-8364-4722-ae61-dc663875936f",
   "metadata": {},
   "outputs": [],
   "source": [
    "df = pd.read_csv('Fraud_Detection_Dataset.csv', usecols=['User_ID','Transaction_Amount','Time_of_Transaction','Previous_Fraudulent_Transactions','Account_Age','Number_of_Transactions_Last_24H','Fraudulent'])"
   ]
  },
  {
   "cell_type": "code",
   "execution_count": 9,
   "id": "b0c23a4c-c332-42a2-b65a-e23012e82451",
   "metadata": {},
   "outputs": [
    {
     "data": {
      "text/html": [
       "<div>\n",
       "<style scoped>\n",
       "    .dataframe tbody tr th:only-of-type {\n",
       "        vertical-align: middle;\n",
       "    }\n",
       "\n",
       "    .dataframe tbody tr th {\n",
       "        vertical-align: top;\n",
       "    }\n",
       "\n",
       "    .dataframe thead th {\n",
       "        text-align: right;\n",
       "    }\n",
       "</style>\n",
       "<table border=\"1\" class=\"dataframe\">\n",
       "  <thead>\n",
       "    <tr style=\"text-align: right;\">\n",
       "      <th></th>\n",
       "      <th>User_ID</th>\n",
       "      <th>Transaction_Amount</th>\n",
       "      <th>Time_of_Transaction</th>\n",
       "      <th>Previous_Fraudulent_Transactions</th>\n",
       "      <th>Account_Age</th>\n",
       "      <th>Number_of_Transactions_Last_24H</th>\n",
       "      <th>Fraudulent</th>\n",
       "    </tr>\n",
       "  </thead>\n",
       "  <tbody>\n",
       "    <tr>\n",
       "      <th>0</th>\n",
       "      <td>4174</td>\n",
       "      <td>1292.76</td>\n",
       "      <td>16.0</td>\n",
       "      <td>0</td>\n",
       "      <td>119</td>\n",
       "      <td>13</td>\n",
       "      <td>0</td>\n",
       "    </tr>\n",
       "    <tr>\n",
       "      <th>1</th>\n",
       "      <td>4507</td>\n",
       "      <td>1554.58</td>\n",
       "      <td>13.0</td>\n",
       "      <td>4</td>\n",
       "      <td>79</td>\n",
       "      <td>3</td>\n",
       "      <td>0</td>\n",
       "    </tr>\n",
       "    <tr>\n",
       "      <th>2</th>\n",
       "      <td>1860</td>\n",
       "      <td>2395.02</td>\n",
       "      <td>NaN</td>\n",
       "      <td>3</td>\n",
       "      <td>115</td>\n",
       "      <td>9</td>\n",
       "      <td>0</td>\n",
       "    </tr>\n",
       "    <tr>\n",
       "      <th>3</th>\n",
       "      <td>2294</td>\n",
       "      <td>100.10</td>\n",
       "      <td>15.0</td>\n",
       "      <td>4</td>\n",
       "      <td>3</td>\n",
       "      <td>4</td>\n",
       "      <td>0</td>\n",
       "    </tr>\n",
       "    <tr>\n",
       "      <th>4</th>\n",
       "      <td>2130</td>\n",
       "      <td>1490.50</td>\n",
       "      <td>19.0</td>\n",
       "      <td>2</td>\n",
       "      <td>57</td>\n",
       "      <td>7</td>\n",
       "      <td>0</td>\n",
       "    </tr>\n",
       "  </tbody>\n",
       "</table>\n",
       "</div>"
      ],
      "text/plain": [
       "   User_ID  Transaction_Amount  Time_of_Transaction  \\\n",
       "0     4174             1292.76                 16.0   \n",
       "1     4507             1554.58                 13.0   \n",
       "2     1860             2395.02                  NaN   \n",
       "3     2294              100.10                 15.0   \n",
       "4     2130             1490.50                 19.0   \n",
       "\n",
       "   Previous_Fraudulent_Transactions  Account_Age  \\\n",
       "0                                 0          119   \n",
       "1                                 4           79   \n",
       "2                                 3          115   \n",
       "3                                 4            3   \n",
       "4                                 2           57   \n",
       "\n",
       "   Number_of_Transactions_Last_24H  Fraudulent  \n",
       "0                               13           0  \n",
       "1                                3           0  \n",
       "2                                9           0  \n",
       "3                                4           0  \n",
       "4                                7           0  "
      ]
     },
     "execution_count": 9,
     "metadata": {},
     "output_type": "execute_result"
    }
   ],
   "source": [
    "df.head()"
   ]
  },
  {
   "cell_type": "code",
   "execution_count": 13,
   "id": "6a2cdb31-0744-47d4-bbb8-03fbbb0a2f8e",
   "metadata": {},
   "outputs": [
    {
     "data": {
      "text/plain": [
       "2510"
      ]
     },
     "execution_count": 13,
     "metadata": {},
     "output_type": "execute_result"
    }
   ],
   "source": [
    "df['Fraudulent'].value_counts()[1]"
   ]
  },
  {
   "cell_type": "code",
   "execution_count": 15,
   "id": "410c7c30-ddf0-463e-a19c-a2625c26202a",
   "metadata": {},
   "outputs": [
    {
     "data": {
      "text/plain": [
       "51000"
      ]
     },
     "execution_count": 15,
     "metadata": {},
     "output_type": "execute_result"
    }
   ],
   "source": [
    "len(df['Fraudulent'])"
   ]
  },
  {
   "cell_type": "code",
   "execution_count": 17,
   "id": "31391f75-bfad-4845-a683-4b2c4880437f",
   "metadata": {},
   "outputs": [
    {
     "data": {
      "text/plain": [
       "(51000, 7)"
      ]
     },
     "execution_count": 17,
     "metadata": {},
     "output_type": "execute_result"
    }
   ],
   "source": [
    "df.shape"
   ]
  },
  {
   "cell_type": "code",
   "execution_count": 33,
   "id": "eef63df9-87ba-4b27-bec2-b726f3a201a4",
   "metadata": {},
   "outputs": [
    {
     "name": "stdout",
     "output_type": "stream",
     "text": [
      "0.049215686274509805\n"
     ]
    }
   ],
   "source": [
    "one_prob = len(df[df['Fraudulent'] == 1]) / df.shape[0]\n",
    "print(one_prob)"
   ]
  },
  {
   "cell_type": "code",
   "execution_count": 35,
   "id": "bc9fa937-39d8-4ca4-b5b7-9524a525b3af",
   "metadata": {},
   "outputs": [
    {
     "name": "stdout",
     "output_type": "stream",
     "text": [
      "0.9507843137254902\n"
     ]
    }
   ],
   "source": [
    "zero_prob = len(df[df['Fraudulent'] == 0]) / df.shape[0]\n",
    "print(zero_prob)"
   ]
  },
  {
   "cell_type": "code",
   "execution_count": 41,
   "id": "658b2bf4-aaa9-4563-b1b0-69dd859b3359",
   "metadata": {},
   "outputs": [
    {
     "name": "stdout",
     "output_type": "stream",
     "text": [
      "0.28305586081966194\n"
     ]
    }
   ],
   "source": [
    "entropy = (- (one_prob * np.log2(one_prob)) - (zero_prob * np.log2(zero_prob)))\n",
    "print(entropy)"
   ]
  },
  {
   "cell_type": "code",
   "execution_count": null,
   "id": "643e821d-5c39-4865-bca8-139de4631a14",
   "metadata": {},
   "outputs": [],
   "source": []
  }
 ],
 "metadata": {
  "kernelspec": {
   "display_name": "Python 3 (ipykernel)",
   "language": "python",
   "name": "python3"
  },
  "language_info": {
   "codemirror_mode": {
    "name": "ipython",
    "version": 3
   },
   "file_extension": ".py",
   "mimetype": "text/x-python",
   "name": "python",
   "nbconvert_exporter": "python",
   "pygments_lexer": "ipython3",
   "version": "3.12.4"
  }
 },
 "nbformat": 4,
 "nbformat_minor": 5
}
