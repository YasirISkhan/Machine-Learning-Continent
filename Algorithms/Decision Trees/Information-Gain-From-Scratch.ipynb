{
 "cells": [
  {
   "cell_type": "code",
   "execution_count": 3,
   "id": "4f3748b5-4991-438a-8427-9c780ea697ea",
   "metadata": {},
   "outputs": [],
   "source": [
    "import numpy as np\n",
    "import pandas as pd\n",
    "import matplotlib.pyplot as plt"
   ]
  },
  {
   "cell_type": "code",
   "execution_count": 27,
   "id": "105c5659-e686-49a3-9d08-7990af49a93d",
   "metadata": {},
   "outputs": [],
   "source": [
    "df = pd.read_csv('Fraud_Detection_Dataset.csv')"
   ]
  },
  {
   "cell_type": "code",
   "execution_count": 29,
   "id": "4ca2b5bd-3e04-4d2c-9aae-530e6e4ada6a",
   "metadata": {},
   "outputs": [
    {
     "data": {
      "text/plain": [
       "(51000, 12)"
      ]
     },
     "execution_count": 29,
     "metadata": {},
     "output_type": "execute_result"
    }
   ],
   "source": [
    "df.shape"
   ]
  },
  {
   "cell_type": "code",
   "execution_count": 82,
   "id": "1ed32e0a-b05f-4c17-aa22-ddf084468bf4",
   "metadata": {},
   "outputs": [
    {
     "data": {
      "text/html": [
       "<div>\n",
       "<style scoped>\n",
       "    .dataframe tbody tr th:only-of-type {\n",
       "        vertical-align: middle;\n",
       "    }\n",
       "\n",
       "    .dataframe tbody tr th {\n",
       "        vertical-align: top;\n",
       "    }\n",
       "\n",
       "    .dataframe thead th {\n",
       "        text-align: right;\n",
       "    }\n",
       "</style>\n",
       "<table border=\"1\" class=\"dataframe\">\n",
       "  <thead>\n",
       "    <tr style=\"text-align: right;\">\n",
       "      <th></th>\n",
       "      <th>Transaction_ID</th>\n",
       "      <th>User_ID</th>\n",
       "      <th>Transaction_Amount</th>\n",
       "      <th>Transaction_Type</th>\n",
       "      <th>Time_of_Transaction</th>\n",
       "      <th>Device_Used</th>\n",
       "      <th>Location</th>\n",
       "      <th>Previous_Fraudulent_Transactions</th>\n",
       "      <th>Account_Age</th>\n",
       "      <th>Number_of_Transactions_Last_24H</th>\n",
       "      <th>Payment_Method</th>\n",
       "      <th>Fraudulent</th>\n",
       "    </tr>\n",
       "  </thead>\n",
       "  <tbody>\n",
       "    <tr>\n",
       "      <th>50184</th>\n",
       "      <td>T2742</td>\n",
       "      <td>3212</td>\n",
       "      <td>3271.89</td>\n",
       "      <td>Online Purchase</td>\n",
       "      <td>22.0</td>\n",
       "      <td>Unknown Device</td>\n",
       "      <td>Los Angeles</td>\n",
       "      <td>1</td>\n",
       "      <td>79</td>\n",
       "      <td>9</td>\n",
       "      <td>Credit Card</td>\n",
       "      <td>0</td>\n",
       "    </tr>\n",
       "    <tr>\n",
       "      <th>37146</th>\n",
       "      <td>T37147</td>\n",
       "      <td>2658</td>\n",
       "      <td>3595.83</td>\n",
       "      <td>Online Purchase</td>\n",
       "      <td>12.0</td>\n",
       "      <td>Tablet</td>\n",
       "      <td>New York</td>\n",
       "      <td>3</td>\n",
       "      <td>1</td>\n",
       "      <td>8</td>\n",
       "      <td>Debit Card</td>\n",
       "      <td>0</td>\n",
       "    </tr>\n",
       "    <tr>\n",
       "      <th>14257</th>\n",
       "      <td>T14258</td>\n",
       "      <td>1489</td>\n",
       "      <td>2124.12</td>\n",
       "      <td>POS Payment</td>\n",
       "      <td>3.0</td>\n",
       "      <td>Mobile</td>\n",
       "      <td>Seattle</td>\n",
       "      <td>3</td>\n",
       "      <td>75</td>\n",
       "      <td>6</td>\n",
       "      <td>Net Banking</td>\n",
       "      <td>0</td>\n",
       "    </tr>\n",
       "    <tr>\n",
       "      <th>6670</th>\n",
       "      <td>T6671</td>\n",
       "      <td>1498</td>\n",
       "      <td>897.42</td>\n",
       "      <td>Online Purchase</td>\n",
       "      <td>15.0</td>\n",
       "      <td>Desktop</td>\n",
       "      <td>Miami</td>\n",
       "      <td>4</td>\n",
       "      <td>31</td>\n",
       "      <td>14</td>\n",
       "      <td>Debit Card</td>\n",
       "      <td>0</td>\n",
       "    </tr>\n",
       "    <tr>\n",
       "      <th>35225</th>\n",
       "      <td>T35226</td>\n",
       "      <td>2595</td>\n",
       "      <td>1458.23</td>\n",
       "      <td>Bill Payment</td>\n",
       "      <td>5.0</td>\n",
       "      <td>Desktop</td>\n",
       "      <td>Seattle</td>\n",
       "      <td>0</td>\n",
       "      <td>8</td>\n",
       "      <td>10</td>\n",
       "      <td>Net Banking</td>\n",
       "      <td>0</td>\n",
       "    </tr>\n",
       "    <tr>\n",
       "      <th>6080</th>\n",
       "      <td>T6081</td>\n",
       "      <td>3804</td>\n",
       "      <td>1339.13</td>\n",
       "      <td>POS Payment</td>\n",
       "      <td>4.0</td>\n",
       "      <td>Desktop</td>\n",
       "      <td>Chicago</td>\n",
       "      <td>4</td>\n",
       "      <td>98</td>\n",
       "      <td>9</td>\n",
       "      <td>Debit Card</td>\n",
       "      <td>0</td>\n",
       "    </tr>\n",
       "    <tr>\n",
       "      <th>19053</th>\n",
       "      <td>T19054</td>\n",
       "      <td>1181</td>\n",
       "      <td>2677.62</td>\n",
       "      <td>Online Purchase</td>\n",
       "      <td>8.0</td>\n",
       "      <td>Desktop</td>\n",
       "      <td>Miami</td>\n",
       "      <td>4</td>\n",
       "      <td>34</td>\n",
       "      <td>13</td>\n",
       "      <td>Debit Card</td>\n",
       "      <td>0</td>\n",
       "    </tr>\n",
       "    <tr>\n",
       "      <th>28619</th>\n",
       "      <td>T28620</td>\n",
       "      <td>1670</td>\n",
       "      <td>3138.67</td>\n",
       "      <td>Bank Transfer</td>\n",
       "      <td>23.0</td>\n",
       "      <td>Tablet</td>\n",
       "      <td>San Francisco</td>\n",
       "      <td>3</td>\n",
       "      <td>104</td>\n",
       "      <td>5</td>\n",
       "      <td>Credit Card</td>\n",
       "      <td>0</td>\n",
       "    </tr>\n",
       "    <tr>\n",
       "      <th>16598</th>\n",
       "      <td>T16599</td>\n",
       "      <td>4495</td>\n",
       "      <td>3420.31</td>\n",
       "      <td>Bill Payment</td>\n",
       "      <td>15.0</td>\n",
       "      <td>Tablet</td>\n",
       "      <td>Los Angeles</td>\n",
       "      <td>2</td>\n",
       "      <td>84</td>\n",
       "      <td>10</td>\n",
       "      <td>Net Banking</td>\n",
       "      <td>0</td>\n",
       "    </tr>\n",
       "    <tr>\n",
       "      <th>38817</th>\n",
       "      <td>T38818</td>\n",
       "      <td>4343</td>\n",
       "      <td>NaN</td>\n",
       "      <td>Online Purchase</td>\n",
       "      <td>NaN</td>\n",
       "      <td>Tablet</td>\n",
       "      <td>Chicago</td>\n",
       "      <td>0</td>\n",
       "      <td>33</td>\n",
       "      <td>11</td>\n",
       "      <td>Credit Card</td>\n",
       "      <td>0</td>\n",
       "    </tr>\n",
       "  </tbody>\n",
       "</table>\n",
       "</div>"
      ],
      "text/plain": [
       "      Transaction_ID  User_ID  Transaction_Amount Transaction_Type  \\\n",
       "50184          T2742     3212             3271.89  Online Purchase   \n",
       "37146         T37147     2658             3595.83  Online Purchase   \n",
       "14257         T14258     1489             2124.12      POS Payment   \n",
       "6670           T6671     1498              897.42  Online Purchase   \n",
       "35225         T35226     2595             1458.23     Bill Payment   \n",
       "6080           T6081     3804             1339.13      POS Payment   \n",
       "19053         T19054     1181             2677.62  Online Purchase   \n",
       "28619         T28620     1670             3138.67    Bank Transfer   \n",
       "16598         T16599     4495             3420.31     Bill Payment   \n",
       "38817         T38818     4343                 NaN  Online Purchase   \n",
       "\n",
       "       Time_of_Transaction     Device_Used       Location  \\\n",
       "50184                 22.0  Unknown Device    Los Angeles   \n",
       "37146                 12.0          Tablet       New York   \n",
       "14257                  3.0          Mobile        Seattle   \n",
       "6670                  15.0         Desktop          Miami   \n",
       "35225                  5.0         Desktop        Seattle   \n",
       "6080                   4.0         Desktop        Chicago   \n",
       "19053                  8.0         Desktop          Miami   \n",
       "28619                 23.0          Tablet  San Francisco   \n",
       "16598                 15.0          Tablet    Los Angeles   \n",
       "38817                  NaN          Tablet        Chicago   \n",
       "\n",
       "       Previous_Fraudulent_Transactions  Account_Age  \\\n",
       "50184                                 1           79   \n",
       "37146                                 3            1   \n",
       "14257                                 3           75   \n",
       "6670                                  4           31   \n",
       "35225                                 0            8   \n",
       "6080                                  4           98   \n",
       "19053                                 4           34   \n",
       "28619                                 3          104   \n",
       "16598                                 2           84   \n",
       "38817                                 0           33   \n",
       "\n",
       "       Number_of_Transactions_Last_24H Payment_Method  Fraudulent  \n",
       "50184                                9    Credit Card           0  \n",
       "37146                                8     Debit Card           0  \n",
       "14257                                6    Net Banking           0  \n",
       "6670                                14     Debit Card           0  \n",
       "35225                               10    Net Banking           0  \n",
       "6080                                 9     Debit Card           0  \n",
       "19053                               13     Debit Card           0  \n",
       "28619                                5    Credit Card           0  \n",
       "16598                               10    Net Banking           0  \n",
       "38817                               11    Credit Card           0  "
      ]
     },
     "execution_count": 82,
     "metadata": {},
     "output_type": "execute_result"
    }
   ],
   "source": [
    "df.sample(10)"
   ]
  },
  {
   "cell_type": "markdown",
   "id": "1f76e07b-c262-46b8-a879-7b7b5f459ada",
   "metadata": {},
   "source": [
    "### 1. Parent Entropy"
   ]
  },
  {
   "cell_type": "code",
   "execution_count": 20,
   "id": "e5c7e66b-92b2-42e6-9b58-6c64b65d740c",
   "metadata": {},
   "outputs": [
    {
     "name": "stdout",
     "output_type": "stream",
     "text": [
      "Parent Entropy:  0.28305586081966194\n"
     ]
    }
   ],
   "source": [
    "zero_prob = len(df[df['Fraudulent'] == 0]) / df.shape[0]\n",
    "one_prob = len(df[df['Fraudulent'] == 1]) / df.shape[0]\n",
    "\n",
    "P_entropy = (- (zero_prob * np.log2(zero_prob)) - (one_prob * np.log2(one_prob)))\n",
    "print('Parent Entropy: ', P_entropy)"
   ]
  },
  {
   "cell_type": "markdown",
   "id": "9ff38584-e281-49f1-aa97-8ce3ffc40614",
   "metadata": {},
   "source": [
    "### 2. Children Entropy"
   ]
  },
  {
   "cell_type": "code",
   "execution_count": 38,
   "id": "342b0dac-db2d-4872-afa1-bcc7a50a8565",
   "metadata": {},
   "outputs": [
    {
     "data": {
      "text/plain": [
       "array(['Tablet', 'Mobile', 'Desktop', nan, 'Unknown Device'], dtype=object)"
      ]
     },
     "execution_count": 38,
     "metadata": {},
     "output_type": "execute_result"
    }
   ],
   "source": [
    "df['Device_Used'].unique()"
   ]
  },
  {
   "cell_type": "code",
   "execution_count": 84,
   "id": "7b2ffad8-dd08-429c-8d12-5075856cf756",
   "metadata": {},
   "outputs": [],
   "source": [
    "tablet = df[df['Device_Used'] == 'Tablet']\n",
    "mobile = df[df['Device_Used'] == 'Mobile']\n",
    "desktop = df[df['Device_Used'] == 'Desktop']\n",
    "unknown = df[df['Device_Used'] == 'Unknown Device']"
   ]
  },
  {
   "cell_type": "code",
   "execution_count": 86,
   "id": "63087907-de63-4b38-8458-2cb4e34f9fef",
   "metadata": {},
   "outputs": [],
   "source": [
    "def probabilities(device):\n",
    "    zero_prob = len(device[device['Fraudulent'] == 0]) / device.shape[0]\n",
    "    one_prob = len(device[device['Fraudulent'] == 1]) / device.shape[0]\n",
    "\n",
    "    return zero_prob, one_prob"
   ]
  },
  {
   "cell_type": "code",
   "execution_count": 88,
   "id": "26437bf9-0b6c-4840-9dbc-8ef2ec1aa555",
   "metadata": {},
   "outputs": [],
   "source": [
    "tablet_zero_prob, tablet_one_prob = probabilities(tablet)"
   ]
  },
  {
   "cell_type": "code",
   "execution_count": 90,
   "id": "27d6f70c-0afb-4c82-aa8e-05105b9bb500",
   "metadata": {},
   "outputs": [
    {
     "name": "stdout",
     "output_type": "stream",
     "text": [
      "Tablet entropy is:  0.27250021083212694\n"
     ]
    }
   ],
   "source": [
    "tablet_entropy = -(tablet_zero_prob * np.log2(tablet_zero_prob)) - (tablet_one_prob * np.log2(tablet_one_prob))\n",
    "print('Tablet entropy is: ', tablet_entropy)"
   ]
  },
  {
   "cell_type": "code",
   "execution_count": 92,
   "id": "4978051e-2400-4b42-b8f7-4a8bcd6b0e41",
   "metadata": {},
   "outputs": [],
   "source": [
    "mobile_zero_prob, mobile_one_prob = probabilities(mobile)"
   ]
  },
  {
   "cell_type": "code",
   "execution_count": 94,
   "id": "3f72eb47-e5a3-4830-80b5-36fb9594565f",
   "metadata": {},
   "outputs": [
    {
     "name": "stdout",
     "output_type": "stream",
     "text": [
      "Mobile entropy is:  0.29324057697498446\n"
     ]
    }
   ],
   "source": [
    "mobile_entropy = -(mobile_zero_prob * np.log2(mobile_zero_prob)) - (mobile_one_prob * np.log2(mobile_one_prob))\n",
    "print('Mobile entropy is: ', mobile_entropy)"
   ]
  },
  {
   "cell_type": "code",
   "execution_count": 96,
   "id": "75acd9d3-7db8-4d65-8046-88ea7fa3f4ee",
   "metadata": {},
   "outputs": [
    {
     "name": "stdout",
     "output_type": "stream",
     "text": [
      "Desktop entropy is:  0.27506073663954844\n"
     ]
    }
   ],
   "source": [
    "desktop_zero_prob, desktop_one_prob = probabilities(desktop)\n",
    "\n",
    "desktop_entropy = -(desktop_zero_prob * np.log2(desktop_zero_prob)) - (desktop_one_prob * np.log2(desktop_one_prob))\n",
    "print('Desktop entropy is: ', desktop_entropy)"
   ]
  },
  {
   "cell_type": "code",
   "execution_count": 98,
   "id": "ae5e22f6-a165-43cb-a233-b0dd70474b8e",
   "metadata": {},
   "outputs": [
    {
     "name": "stdout",
     "output_type": "stream",
     "text": [
      "Unknown entropy is:  0.28221763445592507\n"
     ]
    }
   ],
   "source": [
    "unknown_zero_prob, unknown_one_prob = probabilities(unknown)\n",
    "\n",
    "unknown_entropy = -(unknown_zero_prob * np.log2(unknown_zero_prob)) - (unknown_one_prob * np.log2(unknown_one_prob))\n",
    "print('Unknown entropy is: ', unknown_entropy)"
   ]
  },
  {
   "cell_type": "markdown",
   "id": "c8e1de1e-4dc0-49f5-9d67-845d88b276f6",
   "metadata": {},
   "source": [
    "### 3. Calculate Weighted Entropy for children"
   ]
  },
  {
   "cell_type": "code",
   "execution_count": 103,
   "id": "9af9f322-3d66-481a-9762-ba91c23aaa16",
   "metadata": {},
   "outputs": [],
   "source": [
    "tablet_weight = len(tablet) / len(df)\n",
    "mobile_weight = len(mobile) / len(df)\n",
    "desktop_weight = len(desktop) / len(df)\n",
    "unknown_weight = len(unknown) / len(df)\n",
    "\n",
    "weighted_entropy = (tablet_weight * tablet_entropy) + (mobile_weight * mobile_entropy) + (desktop_weight * desktop_entropy) + (unknown_weight * unknown_entropy)"
   ]
  },
  {
   "cell_type": "code",
   "execution_count": 105,
   "id": "de522914-868b-4a2d-b56a-278d63f44b3c",
   "metadata": {},
   "outputs": [
    {
     "name": "stdout",
     "output_type": "stream",
     "text": [
      "Weighted Entropy:  0.266720960221134\n"
     ]
    }
   ],
   "source": [
    "print('Weighted Entropy: ', weighted_entropy)"
   ]
  },
  {
   "cell_type": "markdown",
   "id": "e4cd78bd-f0ab-40f5-bb30-b6c8d656ba85",
   "metadata": {},
   "source": [
    "### 4. Calculate Information Gain"
   ]
  },
  {
   "cell_type": "code",
   "execution_count": 110,
   "id": "86d20cfd-b3aa-46d6-9cb2-d16f99b0c37c",
   "metadata": {},
   "outputs": [
    {
     "name": "stdout",
     "output_type": "stream",
     "text": [
      "Information Gain:  0.016334900598527935\n"
     ]
    }
   ],
   "source": [
    "IG = P_entropy - weighted_entropy\n",
    "print(\"Information Gain: \", IG)"
   ]
  },
  {
   "cell_type": "markdown",
   "id": "9ed08d65-c36b-412d-bbce-e646fb520a31",
   "metadata": {},
   "source": [
    "### 5. Calculate information gain for all the columns\n",
    "### The column which has the highest IG, the algorithm will select that column to split the data on"
   ]
  },
  {
   "cell_type": "code",
   "execution_count": null,
   "id": "9a295197-d056-441e-9849-4afc603680cc",
   "metadata": {},
   "outputs": [],
   "source": []
  }
 ],
 "metadata": {
  "kernelspec": {
   "display_name": "Python 3 (ipykernel)",
   "language": "python",
   "name": "python3"
  },
  "language_info": {
   "codemirror_mode": {
    "name": "ipython",
    "version": 3
   },
   "file_extension": ".py",
   "mimetype": "text/x-python",
   "name": "python",
   "nbconvert_exporter": "python",
   "pygments_lexer": "ipython3",
   "version": "3.12.4"
  }
 },
 "nbformat": 4,
 "nbformat_minor": 5
}
