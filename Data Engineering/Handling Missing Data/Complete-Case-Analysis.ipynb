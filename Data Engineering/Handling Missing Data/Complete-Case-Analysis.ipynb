{
 "cells": [
  {
   "cell_type": "code",
   "execution_count": 143,
   "id": "6f950065-df63-4676-802f-f5cbbf5fbc48",
   "metadata": {},
   "outputs": [],
   "source": [
    "import numpy as np\n",
    "import pandas as pd\n",
    "import matplotlib.pyplot as plt"
   ]
  },
  {
   "cell_type": "code",
   "execution_count": 247,
   "id": "4c231885-c502-47e9-8a6a-00995de94e8a",
   "metadata": {},
   "outputs": [],
   "source": [
    "df = pd.read_csv('data_science_job.csv')"
   ]
  },
  {
   "cell_type": "code",
   "execution_count": 249,
   "id": "88d117b9-287f-4722-aac7-afc8ff7b7526",
   "metadata": {},
   "outputs": [
    {
     "data": {
      "text/html": [
       "<div>\n",
       "<style scoped>\n",
       "    .dataframe tbody tr th:only-of-type {\n",
       "        vertical-align: middle;\n",
       "    }\n",
       "\n",
       "    .dataframe tbody tr th {\n",
       "        vertical-align: top;\n",
       "    }\n",
       "\n",
       "    .dataframe thead th {\n",
       "        text-align: right;\n",
       "    }\n",
       "</style>\n",
       "<table border=\"1\" class=\"dataframe\">\n",
       "  <thead>\n",
       "    <tr style=\"text-align: right;\">\n",
       "      <th></th>\n",
       "      <th>enrollee_id</th>\n",
       "      <th>city</th>\n",
       "      <th>city_development_index</th>\n",
       "      <th>gender</th>\n",
       "      <th>relevent_experience</th>\n",
       "      <th>enrolled_university</th>\n",
       "      <th>education_level</th>\n",
       "      <th>major_discipline</th>\n",
       "      <th>experience</th>\n",
       "      <th>company_size</th>\n",
       "      <th>company_type</th>\n",
       "      <th>training_hours</th>\n",
       "      <th>target</th>\n",
       "    </tr>\n",
       "  </thead>\n",
       "  <tbody>\n",
       "    <tr>\n",
       "      <th>14244</th>\n",
       "      <td>29884</td>\n",
       "      <td>city_103</td>\n",
       "      <td>0.920</td>\n",
       "      <td>Male</td>\n",
       "      <td>Has relevent experience</td>\n",
       "      <td>no_enrollment</td>\n",
       "      <td>Graduate</td>\n",
       "      <td>STEM</td>\n",
       "      <td>15.0</td>\n",
       "      <td>NaN</td>\n",
       "      <td>NaN</td>\n",
       "      <td>65.0</td>\n",
       "      <td>1.0</td>\n",
       "    </tr>\n",
       "    <tr>\n",
       "      <th>11494</th>\n",
       "      <td>10539</td>\n",
       "      <td>city_21</td>\n",
       "      <td>0.624</td>\n",
       "      <td>Male</td>\n",
       "      <td>Has relevent experience</td>\n",
       "      <td>no_enrollment</td>\n",
       "      <td>Graduate</td>\n",
       "      <td>Humanities</td>\n",
       "      <td>15.0</td>\n",
       "      <td>10/49</td>\n",
       "      <td>Pvt Ltd</td>\n",
       "      <td>103.0</td>\n",
       "      <td>0.0</td>\n",
       "    </tr>\n",
       "    <tr>\n",
       "      <th>1544</th>\n",
       "      <td>9687</td>\n",
       "      <td>city_103</td>\n",
       "      <td>0.920</td>\n",
       "      <td>Male</td>\n",
       "      <td>Has relevent experience</td>\n",
       "      <td>no_enrollment</td>\n",
       "      <td>Graduate</td>\n",
       "      <td>STEM</td>\n",
       "      <td>9.0</td>\n",
       "      <td>50-99</td>\n",
       "      <td>Public Sector</td>\n",
       "      <td>140.0</td>\n",
       "      <td>0.0</td>\n",
       "    </tr>\n",
       "    <tr>\n",
       "      <th>11947</th>\n",
       "      <td>24015</td>\n",
       "      <td>city_11</td>\n",
       "      <td>0.550</td>\n",
       "      <td>Male</td>\n",
       "      <td>No relevent experience</td>\n",
       "      <td>Full time course</td>\n",
       "      <td>High School</td>\n",
       "      <td>NaN</td>\n",
       "      <td>5.0</td>\n",
       "      <td>NaN</td>\n",
       "      <td>NaN</td>\n",
       "      <td>4.0</td>\n",
       "      <td>1.0</td>\n",
       "    </tr>\n",
       "    <tr>\n",
       "      <th>10680</th>\n",
       "      <td>8918</td>\n",
       "      <td>city_70</td>\n",
       "      <td>0.698</td>\n",
       "      <td>NaN</td>\n",
       "      <td>Has relevent experience</td>\n",
       "      <td>Full time course</td>\n",
       "      <td>Graduate</td>\n",
       "      <td>STEM</td>\n",
       "      <td>5.0</td>\n",
       "      <td>10/49</td>\n",
       "      <td>Pvt Ltd</td>\n",
       "      <td>46.0</td>\n",
       "      <td>0.0</td>\n",
       "    </tr>\n",
       "  </tbody>\n",
       "</table>\n",
       "</div>"
      ],
      "text/plain": [
       "       enrollee_id      city  city_development_index gender  \\\n",
       "14244        29884  city_103                   0.920   Male   \n",
       "11494        10539   city_21                   0.624   Male   \n",
       "1544          9687  city_103                   0.920   Male   \n",
       "11947        24015   city_11                   0.550   Male   \n",
       "10680         8918   city_70                   0.698    NaN   \n",
       "\n",
       "           relevent_experience enrolled_university education_level  \\\n",
       "14244  Has relevent experience       no_enrollment        Graduate   \n",
       "11494  Has relevent experience       no_enrollment        Graduate   \n",
       "1544   Has relevent experience       no_enrollment        Graduate   \n",
       "11947   No relevent experience    Full time course     High School   \n",
       "10680  Has relevent experience    Full time course        Graduate   \n",
       "\n",
       "      major_discipline  experience company_size   company_type  \\\n",
       "14244             STEM        15.0          NaN            NaN   \n",
       "11494       Humanities        15.0        10/49        Pvt Ltd   \n",
       "1544              STEM         9.0        50-99  Public Sector   \n",
       "11947              NaN         5.0          NaN            NaN   \n",
       "10680             STEM         5.0        10/49        Pvt Ltd   \n",
       "\n",
       "       training_hours  target  \n",
       "14244            65.0     1.0  \n",
       "11494           103.0     0.0  \n",
       "1544            140.0     0.0  \n",
       "11947             4.0     1.0  \n",
       "10680            46.0     0.0  "
      ]
     },
     "execution_count": 249,
     "metadata": {},
     "output_type": "execute_result"
    }
   ],
   "source": [
    "df.sample(5)"
   ]
  },
  {
   "cell_type": "code",
   "execution_count": 101,
   "id": "63a09d96-2535-4a6e-9b59-8c400acc0420",
   "metadata": {},
   "outputs": [
    {
     "name": "stdout",
     "output_type": "stream",
     "text": [
      "<class 'pandas.core.frame.DataFrame'>\n",
      "RangeIndex: 19158 entries, 0 to 19157\n",
      "Data columns (total 13 columns):\n",
      " #   Column                  Non-Null Count  Dtype  \n",
      "---  ------                  --------------  -----  \n",
      " 0   enrollee_id             19158 non-null  int64  \n",
      " 1   city                    19158 non-null  object \n",
      " 2   city_development_index  18679 non-null  float64\n",
      " 3   gender                  14650 non-null  object \n",
      " 4   relevent_experience     19158 non-null  object \n",
      " 5   enrolled_university     18772 non-null  object \n",
      " 6   education_level         18698 non-null  object \n",
      " 7   major_discipline        16345 non-null  object \n",
      " 8   experience              19093 non-null  float64\n",
      " 9   company_size            13220 non-null  object \n",
      " 10  company_type            13018 non-null  object \n",
      " 11  training_hours          18392 non-null  float64\n",
      " 12  target                  19158 non-null  float64\n",
      "dtypes: float64(4), int64(1), object(8)\n",
      "memory usage: 1.9+ MB\n"
     ]
    }
   ],
   "source": [
    "df.info()"
   ]
  },
  {
   "cell_type": "code",
   "execution_count": 255,
   "id": "df04d42f-f6d4-4258-91bf-a259eee6d59c",
   "metadata": {},
   "outputs": [],
   "source": [
    "cols = df.columns"
   ]
  },
  {
   "cell_type": "code",
   "execution_count": 259,
   "id": "ddeaf6c7-411c-4246-91a4-65f58591f716",
   "metadata": {},
   "outputs": [
    {
     "data": {
      "text/plain": [
       "enrollee_id                  0\n",
       "city                         0\n",
       "city_development_index     479\n",
       "gender                    4508\n",
       "relevent_experience          0\n",
       "enrolled_university        386\n",
       "education_level            460\n",
       "major_discipline          2813\n",
       "experience                  65\n",
       "company_size              5938\n",
       "company_type              6140\n",
       "training_hours             766\n",
       "target                       0\n",
       "dtype: int64"
      ]
     },
     "execution_count": 259,
     "metadata": {},
     "output_type": "execute_result"
    }
   ],
   "source": [
    "df.isnull().sum()"
   ]
  },
  {
   "cell_type": "code",
   "execution_count": 123,
   "id": "547552ea-3cdb-4f72-b41e-6ab39effe78f",
   "metadata": {},
   "outputs": [
    {
     "data": {
      "text/plain": [
       "enrollee_id                0.000000\n",
       "city                       0.000000\n",
       "city_development_index     2.500261\n",
       "gender                    23.530640\n",
       "relevent_experience        0.000000\n",
       "enrolled_university        2.014824\n",
       "education_level            2.401086\n",
       "major_discipline          14.683161\n",
       "experience                 0.339284\n",
       "company_size              30.994885\n",
       "company_type              32.049274\n",
       "training_hours             3.998330\n",
       "target                     0.000000\n",
       "dtype: float64"
      ]
     },
     "execution_count": 123,
     "metadata": {},
     "output_type": "execute_result"
    }
   ],
   "source": [
    "# Percentage of null values\n",
    "df.isnull().mean() * 100"
   ]
  },
  {
   "cell_type": "code",
   "execution_count": 107,
   "id": "b2740e8d-99ec-4fd5-b94e-e6624ed41ebb",
   "metadata": {},
   "outputs": [
    {
     "data": {
      "text/plain": [
       "0.624"
      ]
     },
     "execution_count": 107,
     "metadata": {},
     "output_type": "execute_result"
    }
   ],
   "source": [
    "df['city_development_index'][2]"
   ]
  },
  {
   "cell_type": "code",
   "execution_count": 117,
   "id": "64b0ec58-be3e-4ba8-b163-0c064e1a0177",
   "metadata": {},
   "outputs": [
    {
     "data": {
      "text/plain": [
       "Index(['enrollee_id', 'city', 'city_development_index', 'gender',\n",
       "       'relevent_experience', 'enrolled_university', 'education_level',\n",
       "       'major_discipline', 'experience', 'company_size', 'company_type',\n",
       "       'training_hours', 'target'],\n",
       "      dtype='object')"
      ]
     },
     "execution_count": 117,
     "metadata": {},
     "output_type": "execute_result"
    }
   ],
   "source": [
    "df.columns"
   ]
  },
  {
   "cell_type": "code",
   "execution_count": 135,
   "id": "0d1c5601-df68-4d70-ac79-9a93da798a4d",
   "metadata": {},
   "outputs": [
    {
     "data": {
      "text/plain": [
       "['city_development_index',\n",
       " 'enrolled_university',\n",
       " 'education_level',\n",
       " 'experience',\n",
       " 'training_hours']"
      ]
     },
     "execution_count": 135,
     "metadata": {},
     "output_type": "execute_result"
    }
   ],
   "source": [
    "# Getting columns higher less than 5% of null values\n",
    "cols = [var for var in df.columns if df[var].isnull().mean() < 0.05 and df[var].isnull().mean() >0]\n",
    "cols"
   ]
  },
  {
   "cell_type": "code",
   "execution_count": 137,
   "id": "d954de8f-3f2f-4024-b58a-26ca1b41347f",
   "metadata": {},
   "outputs": [
    {
     "data": {
      "text/plain": [
       "0.8968577095730244"
      ]
     },
     "execution_count": 137,
     "metadata": {},
     "output_type": "execute_result"
    }
   ],
   "source": [
    "len(df[cols].dropna()) / len(df)"
   ]
  },
  {
   "cell_type": "code",
   "execution_count": 139,
   "id": "8bbe69d3-697f-4172-8a46-c5ac37613ffa",
   "metadata": {},
   "outputs": [
    {
     "data": {
      "text/plain": [
       "((19158, 13), (17182, 5))"
      ]
     },
     "execution_count": 139,
     "metadata": {},
     "output_type": "execute_result"
    }
   ],
   "source": [
    "new_df = df[cols].dropna()\n",
    "df.shape, new_df.shape"
   ]
  },
  {
   "cell_type": "code",
   "execution_count": 145,
   "id": "acc772e4-ccce-435a-9933-cae6e8dab56d",
   "metadata": {},
   "outputs": [
    {
     "data": {
      "image/png": "[encoded data removed]",
      "text/plain": [
       "<Figure size 1200x1200 with 4 Axes>"
      ]
     },
     "metadata": {},
     "output_type": "display_data"
    }
   ],
   "source": [
    "new_df.hist(bins=50, density=True, figsize=(12,12))\n",
    "plt.show()"
   ]
  },
  {
   "cell_type": "code",
   "execution_count": 147,
   "id": "e97c7adf-9af6-4a7e-9bb4-b9b9a6a9fa30",
   "metadata": {},
   "outputs": [
    {
     "data": {
      "text/plain": [
       "<Axes: >"
      ]
     },
     "execution_count": 147,
     "metadata": {},
     "output_type": "execute_result"
    },
    {
     "data": {
      "image/png": "[encoded data removed]",
      "text/plain": [
       "<Figure size 640x480 with 1 Axes>"
      ]
     },
     "metadata": {},
     "output_type": "display_data"
    }
   ],
   "source": [
    "fig = plt.figure()\n",
    "ax = fig.add_subplot(111)\n",
    "\n",
    "df['training_hours'].hist(bins=50, ax=ax, density=True, color='red')\n",
    "\n",
    "new_df['training_hours'].hist(bins=50, ax=ax, color='green', density=True, alpha=0.5)"
   ]
  },
  {
   "cell_type": "code",
   "execution_count": 149,
   "id": "1554c2bc-ae2e-403d-a130-1fb7601a775c",
   "metadata": {},
   "outputs": [
    {
     "data": {
      "text/plain": [
       "<Axes: ylabel='Density'>"
      ]
     },
     "execution_count": 149,
     "metadata": {},
     "output_type": "execute_result"
    },
    {
     "data": {
      "image/png": "[encoded data removed]",
      "text/plain": [
       "<Figure size 640x480 with 1 Axes>"
      ]
     },
     "metadata": {},
     "output_type": "display_data"
    }
   ],
   "source": [
    "fig = plt.figure()\n",
    "ax = fig.add_subplot(111)\n",
    "\n",
    "df['training_hours'].plot.density(color='red')\n",
    "\n",
    "new_df['training_hours'].plot.density(color='green')"
   ]
  },
  {
   "cell_type": "code",
   "execution_count": 151,
   "id": "50856d45-9848-4055-8239-224b5aec4a9f",
   "metadata": {},
   "outputs": [
    {
     "data": {
      "text/plain": [
       "<Axes: >"
      ]
     },
     "execution_count": 151,
     "metadata": {},
     "output_type": "execute_result"
    },
    {
     "data": {
      "image/png": "[encoded data removed]",
      "text/plain": [
       "<Figure size 640x480 with 1 Axes>"
      ]
     },
     "metadata": {},
     "output_type": "display_data"
    }
   ],
   "source": [
    "fig = plt.figure()\n",
    "ax = fig.add_subplot(111)\n",
    "\n",
    "df['city_development_index'].hist(bins=50, ax=ax, density=True, color='red')\n",
    "\n",
    "new_df['city_development_index'].hist(bins=50, ax=ax, color='green', density=True, alpha=0.5)"
   ]
  },
  {
   "cell_type": "code",
   "execution_count": 153,
   "id": "3532bb51-3e29-496f-82e8-ce3d8abc7744",
   "metadata": {},
   "outputs": [
    {
     "data": {
      "text/plain": [
       "<Axes: ylabel='Density'>"
      ]
     },
     "execution_count": 153,
     "metadata": {},
     "output_type": "execute_result"
    },
    {
     "data": {
      "image/png": "[encoded data removed]",
      "text/plain": [
       "<Figure size 640x480 with 1 Axes>"
      ]
     },
     "metadata": {},
     "output_type": "display_data"
    }
   ],
   "source": [
    "fig = plt.figure()\n",
    "ax = fig.add_subplot(111)\n",
    "\n",
    "df['city_development_index'].plot.density(color='red')\n",
    "\n",
    "new_df['city_development_index'].plot.density(color='green')"
   ]
  },
  {
   "cell_type": "code",
   "execution_count": 155,
   "id": "1bd2016e-41a0-4fe9-996f-a63706f7e8cc",
   "metadata": {},
   "outputs": [
    {
     "data": {
      "text/html": [
       "<div>\n",
       "<style scoped>\n",
       "    .dataframe tbody tr th:only-of-type {\n",
       "        vertical-align: middle;\n",
       "    }\n",
       "\n",
       "    .dataframe tbody tr th {\n",
       "        vertical-align: top;\n",
       "    }\n",
       "\n",
       "    .dataframe thead th {\n",
       "        text-align: right;\n",
       "    }\n",
       "</style>\n",
       "<table border=\"1\" class=\"dataframe\">\n",
       "  <thead>\n",
       "    <tr style=\"text-align: right;\">\n",
       "      <th></th>\n",
       "      <th>original</th>\n",
       "      <th>cca</th>\n",
       "    </tr>\n",
       "    <tr>\n",
       "      <th>enrolled_university</th>\n",
       "      <th></th>\n",
       "      <th></th>\n",
       "    </tr>\n",
       "  </thead>\n",
       "  <tbody>\n",
       "    <tr>\n",
       "      <th>no_enrollment</th>\n",
       "      <td>0.721213</td>\n",
       "      <td>0.735188</td>\n",
       "    </tr>\n",
       "    <tr>\n",
       "      <th>Full time course</th>\n",
       "      <td>0.196106</td>\n",
       "      <td>0.200733</td>\n",
       "    </tr>\n",
       "    <tr>\n",
       "      <th>Part time course</th>\n",
       "      <td>0.062533</td>\n",
       "      <td>0.064079</td>\n",
       "    </tr>\n",
       "  </tbody>\n",
       "</table>\n",
       "</div>"
      ],
      "text/plain": [
       "                     original       cca\n",
       "enrolled_university                    \n",
       "no_enrollment        0.721213  0.735188\n",
       "Full time course     0.196106  0.200733\n",
       "Part time course     0.062533  0.064079"
      ]
     },
     "execution_count": 155,
     "metadata": {},
     "output_type": "execute_result"
    }
   ],
   "source": [
    "temp = pd.concat([\n",
    "    df['enrolled_university'].value_counts() / len(df),\n",
    "\n",
    "    new_df['enrolled_university'].value_counts() / len(new_df)\n",
    "], axis=1)\n",
    "\n",
    "temp.columns = ['original', 'cca']\n",
    "temp"
   ]
  },
  {
   "cell_type": "code",
   "execution_count": 159,
   "id": "2f90c056-6349-4ea2-b618-5b168708fbfc",
   "metadata": {},
   "outputs": [
    {
     "data": {
      "text/html": [
       "<div>\n",
       "<style scoped>\n",
       "    .dataframe tbody tr th:only-of-type {\n",
       "        vertical-align: middle;\n",
       "    }\n",
       "\n",
       "    .dataframe tbody tr th {\n",
       "        vertical-align: top;\n",
       "    }\n",
       "\n",
       "    .dataframe thead th {\n",
       "        text-align: right;\n",
       "    }\n",
       "</style>\n",
       "<table border=\"1\" class=\"dataframe\">\n",
       "  <thead>\n",
       "    <tr style=\"text-align: right;\">\n",
       "      <th></th>\n",
       "      <th>original</th>\n",
       "      <th>cca</th>\n",
       "    </tr>\n",
       "    <tr>\n",
       "      <th>education_level</th>\n",
       "      <th></th>\n",
       "      <th></th>\n",
       "    </tr>\n",
       "  </thead>\n",
       "  <tbody>\n",
       "    <tr>\n",
       "      <th>Graduate</th>\n",
       "      <td>0.605387</td>\n",
       "      <td>0.555904</td>\n",
       "    </tr>\n",
       "    <tr>\n",
       "      <th>Masters</th>\n",
       "      <td>0.227633</td>\n",
       "      <td>0.209938</td>\n",
       "    </tr>\n",
       "    <tr>\n",
       "      <th>High School</th>\n",
       "      <td>0.105282</td>\n",
       "      <td>0.096304</td>\n",
       "    </tr>\n",
       "    <tr>\n",
       "      <th>Phd</th>\n",
       "      <td>0.021610</td>\n",
       "      <td>0.019835</td>\n",
       "    </tr>\n",
       "    <tr>\n",
       "      <th>Primary School</th>\n",
       "      <td>0.016077</td>\n",
       "      <td>0.014876</td>\n",
       "    </tr>\n",
       "  </tbody>\n",
       "</table>\n",
       "</div>"
      ],
      "text/plain": [
       "                 original       cca\n",
       "education_level                    \n",
       "Graduate         0.605387  0.555904\n",
       "Masters          0.227633  0.209938\n",
       "High School      0.105282  0.096304\n",
       "Phd              0.021610  0.019835\n",
       "Primary School   0.016077  0.014876"
      ]
     },
     "execution_count": 159,
     "metadata": {},
     "output_type": "execute_result"
    }
   ],
   "source": [
    "temp = pd.concat([\n",
    "    df['education_level'].value_counts() / len(df),\n",
    "\n",
    "    new_df['education_level'].value_counts() / len(df)\n",
    "], axis=1)\n",
    "\n",
    "temp.columns = ['original' , 'cca']\n",
    "temp"
   ]
  },
  {
   "cell_type": "markdown",
   "id": "ddc23878-16f4-4633-a4bb-49f1f5f52fd3",
   "metadata": {},
   "source": [
    "# Practice"
   ]
  },
  {
   "cell_type": "code",
   "execution_count": 216,
   "id": "39e2364d-1fd0-460f-80c3-e4f48a98cbc8",
   "metadata": {},
   "outputs": [],
   "source": [
    "df = pd.read_csv('EVSE-A-charging-Aggressive-scan.csv')"
   ]
  },
  {
   "cell_type": "code",
   "execution_count": 218,
   "id": "7ee8b8a1-faf0-4859-adc0-bd6ea41b46a4",
   "metadata": {},
   "outputs": [
    {
     "data": {
      "text/html": [
       "<div>\n",
       "<style scoped>\n",
       "    .dataframe tbody tr th:only-of-type {\n",
       "        vertical-align: middle;\n",
       "    }\n",
       "\n",
       "    .dataframe tbody tr th {\n",
       "        vertical-align: top;\n",
       "    }\n",
       "\n",
       "    .dataframe thead th {\n",
       "        text-align: right;\n",
       "    }\n",
       "</style>\n",
       "<table border=\"1\" class=\"dataframe\">\n",
       "  <thead>\n",
       "    <tr style=\"text-align: right;\">\n",
       "      <th></th>\n",
       "      <th>id</th>\n",
       "      <th>expiration_id</th>\n",
       "      <th>src_ip</th>\n",
       "      <th>src_mac</th>\n",
       "      <th>src_oui</th>\n",
       "      <th>src_port</th>\n",
       "      <th>dst_ip</th>\n",
       "      <th>dst_mac</th>\n",
       "      <th>dst_oui</th>\n",
       "      <th>dst_port</th>\n",
       "      <th>...</th>\n",
       "      <th>dst2src_fin_packets</th>\n",
       "      <th>application_name</th>\n",
       "      <th>application_category_name</th>\n",
       "      <th>application_is_guessed</th>\n",
       "      <th>application_confidence</th>\n",
       "      <th>requested_server_name</th>\n",
       "      <th>client_fingerprint</th>\n",
       "      <th>server_fingerprint</th>\n",
       "      <th>user_agent</th>\n",
       "      <th>content_type</th>\n",
       "    </tr>\n",
       "  </thead>\n",
       "  <tbody>\n",
       "    <tr>\n",
       "      <th>0</th>\n",
       "      <td>0</td>\n",
       "      <td>0</td>\n",
       "      <td>192.168.137.85</td>\n",
       "      <td>a8:6b:ad:1f:9b:e5</td>\n",
       "      <td>a8:6b:ad</td>\n",
       "      <td>42750</td>\n",
       "      <td>192.168.137.226</td>\n",
       "      <td>0c:8b:95:09:c6:08</td>\n",
       "      <td>0c:8b:95</td>\n",
       "      <td>256</td>\n",
       "      <td>...</td>\n",
       "      <td>0</td>\n",
       "      <td>Unknown</td>\n",
       "      <td>Unspecified</td>\n",
       "      <td>0</td>\n",
       "      <td>0</td>\n",
       "      <td>NaN</td>\n",
       "      <td>NaN</td>\n",
       "      <td>NaN</td>\n",
       "      <td>NaN</td>\n",
       "      <td>NaN</td>\n",
       "    </tr>\n",
       "    <tr>\n",
       "      <th>1</th>\n",
       "      <td>1</td>\n",
       "      <td>0</td>\n",
       "      <td>192.168.137.85</td>\n",
       "      <td>a8:6b:ad:1f:9b:e5</td>\n",
       "      <td>a8:6b:ad</td>\n",
       "      <td>42750</td>\n",
       "      <td>192.168.137.226</td>\n",
       "      <td>0c:8b:95:09:c6:08</td>\n",
       "      <td>0c:8b:95</td>\n",
       "      <td>993</td>\n",
       "      <td>...</td>\n",
       "      <td>0</td>\n",
       "      <td>IMAPS</td>\n",
       "      <td>Email</td>\n",
       "      <td>1</td>\n",
       "      <td>1</td>\n",
       "      <td>NaN</td>\n",
       "      <td>NaN</td>\n",
       "      <td>NaN</td>\n",
       "      <td>NaN</td>\n",
       "      <td>NaN</td>\n",
       "    </tr>\n",
       "    <tr>\n",
       "      <th>2</th>\n",
       "      <td>2</td>\n",
       "      <td>0</td>\n",
       "      <td>192.168.137.85</td>\n",
       "      <td>a8:6b:ad:1f:9b:e5</td>\n",
       "      <td>a8:6b:ad</td>\n",
       "      <td>42750</td>\n",
       "      <td>192.168.137.226</td>\n",
       "      <td>0c:8b:95:09:c6:08</td>\n",
       "      <td>0c:8b:95</td>\n",
       "      <td>139</td>\n",
       "      <td>...</td>\n",
       "      <td>0</td>\n",
       "      <td>NetBIOS</td>\n",
       "      <td>System</td>\n",
       "      <td>1</td>\n",
       "      <td>1</td>\n",
       "      <td>NaN</td>\n",
       "      <td>NaN</td>\n",
       "      <td>NaN</td>\n",
       "      <td>NaN</td>\n",
       "      <td>NaN</td>\n",
       "    </tr>\n",
       "    <tr>\n",
       "      <th>3</th>\n",
       "      <td>3</td>\n",
       "      <td>0</td>\n",
       "      <td>192.168.137.85</td>\n",
       "      <td>a8:6b:ad:1f:9b:e5</td>\n",
       "      <td>a8:6b:ad</td>\n",
       "      <td>42750</td>\n",
       "      <td>192.168.137.226</td>\n",
       "      <td>0c:8b:95:09:c6:08</td>\n",
       "      <td>0c:8b:95</td>\n",
       "      <td>143</td>\n",
       "      <td>...</td>\n",
       "      <td>0</td>\n",
       "      <td>IMAP</td>\n",
       "      <td>Email</td>\n",
       "      <td>1</td>\n",
       "      <td>1</td>\n",
       "      <td>NaN</td>\n",
       "      <td>NaN</td>\n",
       "      <td>NaN</td>\n",
       "      <td>NaN</td>\n",
       "      <td>NaN</td>\n",
       "    </tr>\n",
       "    <tr>\n",
       "      <th>4</th>\n",
       "      <td>4</td>\n",
       "      <td>0</td>\n",
       "      <td>192.168.137.85</td>\n",
       "      <td>a8:6b:ad:1f:9b:e5</td>\n",
       "      <td>a8:6b:ad</td>\n",
       "      <td>42750</td>\n",
       "      <td>192.168.137.226</td>\n",
       "      <td>0c:8b:95:09:c6:08</td>\n",
       "      <td>0c:8b:95</td>\n",
       "      <td>135</td>\n",
       "      <td>...</td>\n",
       "      <td>0</td>\n",
       "      <td>RPC</td>\n",
       "      <td>RPC</td>\n",
       "      <td>1</td>\n",
       "      <td>1</td>\n",
       "      <td>NaN</td>\n",
       "      <td>NaN</td>\n",
       "      <td>NaN</td>\n",
       "      <td>NaN</td>\n",
       "      <td>NaN</td>\n",
       "    </tr>\n",
       "  </tbody>\n",
       "</table>\n",
       "<p>5 rows × 86 columns</p>\n",
       "</div>"
      ],
      "text/plain": [
       "   id  expiration_id          src_ip            src_mac   src_oui  src_port  \\\n",
       "0   0              0  192.168.137.85  a8:6b:ad:1f:9b:e5  a8:6b:ad     42750   \n",
       "1   1              0  192.168.137.85  a8:6b:ad:1f:9b:e5  a8:6b:ad     42750   \n",
       "2   2              0  192.168.137.85  a8:6b:ad:1f:9b:e5  a8:6b:ad     42750   \n",
       "3   3              0  192.168.137.85  a8:6b:ad:1f:9b:e5  a8:6b:ad     42750   \n",
       "4   4              0  192.168.137.85  a8:6b:ad:1f:9b:e5  a8:6b:ad     42750   \n",
       "\n",
       "            dst_ip            dst_mac   dst_oui  dst_port  ...  \\\n",
       "0  192.168.137.226  0c:8b:95:09:c6:08  0c:8b:95       256  ...   \n",
       "1  192.168.137.226  0c:8b:95:09:c6:08  0c:8b:95       993  ...   \n",
       "2  192.168.137.226  0c:8b:95:09:c6:08  0c:8b:95       139  ...   \n",
       "3  192.168.137.226  0c:8b:95:09:c6:08  0c:8b:95       143  ...   \n",
       "4  192.168.137.226  0c:8b:95:09:c6:08  0c:8b:95       135  ...   \n",
       "\n",
       "   dst2src_fin_packets  application_name  application_category_name  \\\n",
       "0                    0           Unknown                Unspecified   \n",
       "1                    0             IMAPS                      Email   \n",
       "2                    0           NetBIOS                     System   \n",
       "3                    0              IMAP                      Email   \n",
       "4                    0               RPC                        RPC   \n",
       "\n",
       "   application_is_guessed  application_confidence  requested_server_name  \\\n",
       "0                       0                       0                    NaN   \n",
       "1                       1                       1                    NaN   \n",
       "2                       1                       1                    NaN   \n",
       "3                       1                       1                    NaN   \n",
       "4                       1                       1                    NaN   \n",
       "\n",
       "   client_fingerprint  server_fingerprint  user_agent  content_type  \n",
       "0                 NaN                 NaN         NaN           NaN  \n",
       "1                 NaN                 NaN         NaN           NaN  \n",
       "2                 NaN                 NaN         NaN           NaN  \n",
       "3                 NaN                 NaN         NaN           NaN  \n",
       "4                 NaN                 NaN         NaN           NaN  \n",
       "\n",
       "[5 rows x 86 columns]"
      ]
     },
     "execution_count": 218,
     "metadata": {},
     "output_type": "execute_result"
    }
   ],
   "source": [
    "df.head()"
   ]
  },
  {
   "cell_type": "code",
   "execution_count": 238,
   "id": "31c45ad3-4125-49fe-a3d6-1f395a0fd8d4",
   "metadata": {},
   "outputs": [
    {
     "data": {
      "text/plain": [
       "id                           0\n",
       "expiration_id                0\n",
       "src_ip                       0\n",
       "src_mac                      0\n",
       "src_oui                      0\n",
       "                            ..\n",
       "dst2src_fin_packets          0\n",
       "application_name             0\n",
       "application_category_name    0\n",
       "application_is_guessed       0\n",
       "application_confidence       0\n",
       "Length: 81, dtype: int64"
      ]
     },
     "execution_count": 238,
     "metadata": {},
     "output_type": "execute_result"
    }
   ],
   "source": [
    "percent = df.isnull().sum()"
   ]
  },
  {
   "cell_type": "code",
   "execution_count": 196,
   "id": "57c45976-155e-4abd-aa01-32433d0e1492",
   "metadata": {},
   "outputs": [],
   "source": [
    "cols = []"
   ]
  },
  {
   "cell_type": "code",
   "execution_count": 224,
   "id": "a72718dc-ab1f-480b-b8ac-8556c13c4c47",
   "metadata": {},
   "outputs": [
    {
     "data": {
      "text/plain": [
       "['requested_server_name',\n",
       " 'client_fingerprint',\n",
       " 'server_fingerprint',\n",
       " 'user_agent',\n",
       " 'content_type']"
      ]
     },
     "execution_count": 224,
     "metadata": {},
     "output_type": "execute_result"
    }
   ],
   "source": [
    "cols = [var for var in df.columns if df[var].isnull().mean() > 0.5 and df[var].isnull().mean() > 0]\n",
    "cols"
   ]
  },
  {
   "cell_type": "code",
   "execution_count": 226,
   "id": "6041ada2-34f7-4486-88fc-5444004f1d38",
   "metadata": {},
   "outputs": [],
   "source": [
    "df.drop(columns=cols, inplace=True)"
   ]
  },
  {
   "cell_type": "code",
   "execution_count": 228,
   "id": "3fd9371a-df0b-4bb2-950b-928ca9030258",
   "metadata": {},
   "outputs": [
    {
     "data": {
      "text/html": [
       "<div>\n",
       "<style scoped>\n",
       "    .dataframe tbody tr th:only-of-type {\n",
       "        vertical-align: middle;\n",
       "    }\n",
       "\n",
       "    .dataframe tbody tr th {\n",
       "        vertical-align: top;\n",
       "    }\n",
       "\n",
       "    .dataframe thead th {\n",
       "        text-align: right;\n",
       "    }\n",
       "</style>\n",
       "<table border=\"1\" class=\"dataframe\">\n",
       "  <thead>\n",
       "    <tr style=\"text-align: right;\">\n",
       "      <th></th>\n",
       "      <th>id</th>\n",
       "      <th>expiration_id</th>\n",
       "      <th>src_ip</th>\n",
       "      <th>src_mac</th>\n",
       "      <th>src_oui</th>\n",
       "      <th>src_port</th>\n",
       "      <th>dst_ip</th>\n",
       "      <th>dst_mac</th>\n",
       "      <th>dst_oui</th>\n",
       "      <th>dst_port</th>\n",
       "      <th>...</th>\n",
       "      <th>dst2src_ece_packets</th>\n",
       "      <th>dst2src_urg_packets</th>\n",
       "      <th>dst2src_ack_packets</th>\n",
       "      <th>dst2src_psh_packets</th>\n",
       "      <th>dst2src_rst_packets</th>\n",
       "      <th>dst2src_fin_packets</th>\n",
       "      <th>application_name</th>\n",
       "      <th>application_category_name</th>\n",
       "      <th>application_is_guessed</th>\n",
       "      <th>application_confidence</th>\n",
       "    </tr>\n",
       "  </thead>\n",
       "  <tbody>\n",
       "    <tr>\n",
       "      <th>0</th>\n",
       "      <td>0</td>\n",
       "      <td>0</td>\n",
       "      <td>192.168.137.85</td>\n",
       "      <td>a8:6b:ad:1f:9b:e5</td>\n",
       "      <td>a8:6b:ad</td>\n",
       "      <td>42750</td>\n",
       "      <td>192.168.137.226</td>\n",
       "      <td>0c:8b:95:09:c6:08</td>\n",
       "      <td>0c:8b:95</td>\n",
       "      <td>256</td>\n",
       "      <td>...</td>\n",
       "      <td>0</td>\n",
       "      <td>0</td>\n",
       "      <td>1</td>\n",
       "      <td>0</td>\n",
       "      <td>1</td>\n",
       "      <td>0</td>\n",
       "      <td>Unknown</td>\n",
       "      <td>Unspecified</td>\n",
       "      <td>0</td>\n",
       "      <td>0</td>\n",
       "    </tr>\n",
       "    <tr>\n",
       "      <th>1</th>\n",
       "      <td>1</td>\n",
       "      <td>0</td>\n",
       "      <td>192.168.137.85</td>\n",
       "      <td>a8:6b:ad:1f:9b:e5</td>\n",
       "      <td>a8:6b:ad</td>\n",
       "      <td>42750</td>\n",
       "      <td>192.168.137.226</td>\n",
       "      <td>0c:8b:95:09:c6:08</td>\n",
       "      <td>0c:8b:95</td>\n",
       "      <td>993</td>\n",
       "      <td>...</td>\n",
       "      <td>0</td>\n",
       "      <td>0</td>\n",
       "      <td>1</td>\n",
       "      <td>0</td>\n",
       "      <td>1</td>\n",
       "      <td>0</td>\n",
       "      <td>IMAPS</td>\n",
       "      <td>Email</td>\n",
       "      <td>1</td>\n",
       "      <td>1</td>\n",
       "    </tr>\n",
       "    <tr>\n",
       "      <th>2</th>\n",
       "      <td>2</td>\n",
       "      <td>0</td>\n",
       "      <td>192.168.137.85</td>\n",
       "      <td>a8:6b:ad:1f:9b:e5</td>\n",
       "      <td>a8:6b:ad</td>\n",
       "      <td>42750</td>\n",
       "      <td>192.168.137.226</td>\n",
       "      <td>0c:8b:95:09:c6:08</td>\n",
       "      <td>0c:8b:95</td>\n",
       "      <td>139</td>\n",
       "      <td>...</td>\n",
       "      <td>0</td>\n",
       "      <td>0</td>\n",
       "      <td>1</td>\n",
       "      <td>0</td>\n",
       "      <td>1</td>\n",
       "      <td>0</td>\n",
       "      <td>NetBIOS</td>\n",
       "      <td>System</td>\n",
       "      <td>1</td>\n",
       "      <td>1</td>\n",
       "    </tr>\n",
       "    <tr>\n",
       "      <th>3</th>\n",
       "      <td>3</td>\n",
       "      <td>0</td>\n",
       "      <td>192.168.137.85</td>\n",
       "      <td>a8:6b:ad:1f:9b:e5</td>\n",
       "      <td>a8:6b:ad</td>\n",
       "      <td>42750</td>\n",
       "      <td>192.168.137.226</td>\n",
       "      <td>0c:8b:95:09:c6:08</td>\n",
       "      <td>0c:8b:95</td>\n",
       "      <td>143</td>\n",
       "      <td>...</td>\n",
       "      <td>0</td>\n",
       "      <td>0</td>\n",
       "      <td>1</td>\n",
       "      <td>0</td>\n",
       "      <td>1</td>\n",
       "      <td>0</td>\n",
       "      <td>IMAP</td>\n",
       "      <td>Email</td>\n",
       "      <td>1</td>\n",
       "      <td>1</td>\n",
       "    </tr>\n",
       "    <tr>\n",
       "      <th>4</th>\n",
       "      <td>4</td>\n",
       "      <td>0</td>\n",
       "      <td>192.168.137.85</td>\n",
       "      <td>a8:6b:ad:1f:9b:e5</td>\n",
       "      <td>a8:6b:ad</td>\n",
       "      <td>42750</td>\n",
       "      <td>192.168.137.226</td>\n",
       "      <td>0c:8b:95:09:c6:08</td>\n",
       "      <td>0c:8b:95</td>\n",
       "      <td>135</td>\n",
       "      <td>...</td>\n",
       "      <td>0</td>\n",
       "      <td>0</td>\n",
       "      <td>1</td>\n",
       "      <td>0</td>\n",
       "      <td>1</td>\n",
       "      <td>0</td>\n",
       "      <td>RPC</td>\n",
       "      <td>RPC</td>\n",
       "      <td>1</td>\n",
       "      <td>1</td>\n",
       "    </tr>\n",
       "  </tbody>\n",
       "</table>\n",
       "<p>5 rows × 81 columns</p>\n",
       "</div>"
      ],
      "text/plain": [
       "   id  expiration_id          src_ip            src_mac   src_oui  src_port  \\\n",
       "0   0              0  192.168.137.85  a8:6b:ad:1f:9b:e5  a8:6b:ad     42750   \n",
       "1   1              0  192.168.137.85  a8:6b:ad:1f:9b:e5  a8:6b:ad     42750   \n",
       "2   2              0  192.168.137.85  a8:6b:ad:1f:9b:e5  a8:6b:ad     42750   \n",
       "3   3              0  192.168.137.85  a8:6b:ad:1f:9b:e5  a8:6b:ad     42750   \n",
       "4   4              0  192.168.137.85  a8:6b:ad:1f:9b:e5  a8:6b:ad     42750   \n",
       "\n",
       "            dst_ip            dst_mac   dst_oui  dst_port  ...  \\\n",
       "0  192.168.137.226  0c:8b:95:09:c6:08  0c:8b:95       256  ...   \n",
       "1  192.168.137.226  0c:8b:95:09:c6:08  0c:8b:95       993  ...   \n",
       "2  192.168.137.226  0c:8b:95:09:c6:08  0c:8b:95       139  ...   \n",
       "3  192.168.137.226  0c:8b:95:09:c6:08  0c:8b:95       143  ...   \n",
       "4  192.168.137.226  0c:8b:95:09:c6:08  0c:8b:95       135  ...   \n",
       "\n",
       "   dst2src_ece_packets  dst2src_urg_packets  dst2src_ack_packets  \\\n",
       "0                    0                    0                    1   \n",
       "1                    0                    0                    1   \n",
       "2                    0                    0                    1   \n",
       "3                    0                    0                    1   \n",
       "4                    0                    0                    1   \n",
       "\n",
       "   dst2src_psh_packets  dst2src_rst_packets  dst2src_fin_packets  \\\n",
       "0                    0                    1                    0   \n",
       "1                    0                    1                    0   \n",
       "2                    0                    1                    0   \n",
       "3                    0                    1                    0   \n",
       "4                    0                    1                    0   \n",
       "\n",
       "   application_name  application_category_name  application_is_guessed  \\\n",
       "0           Unknown                Unspecified                       0   \n",
       "1             IMAPS                      Email                       1   \n",
       "2           NetBIOS                     System                       1   \n",
       "3              IMAP                      Email                       1   \n",
       "4               RPC                        RPC                       1   \n",
       "\n",
       "   application_confidence  \n",
       "0                       0  \n",
       "1                       1  \n",
       "2                       1  \n",
       "3                       1  \n",
       "4                       1  \n",
       "\n",
       "[5 rows x 81 columns]"
      ]
     },
     "execution_count": 228,
     "metadata": {},
     "output_type": "execute_result"
    }
   ],
   "source": [
    "df.head()"
   ]
  },
  {
   "cell_type": "code",
   "execution_count": null,
   "id": "4173d2b8-d921-43af-9f17-4cda7e35f8a6",
   "metadata": {},
   "outputs": [],
   "source": []
  },
  {
   "cell_type": "code",
   "execution_count": null,
   "id": "e0021a42-0160-4e54-8566-58f12ef46ab1",
   "metadata": {},
   "outputs": [],
   "source": []
  }
 ],
 "metadata": {
  "kernelspec": {
   "display_name": "Python 3 (ipykernel)",
   "language": "python",
   "name": "python3"
  },
  "language_info": {
   "codemirror_mode": {
    "name": "ipython",
    "version": 3
   },
   "file_extension": ".py",
   "mimetype": "text/x-python",
   "name": "python",
   "nbconvert_exporter": "python",
   "pygments_lexer": "ipython3",
   "version": "3.12.4"
  }
 },
 "nbformat": 4,
 "nbformat_minor": 5
}
