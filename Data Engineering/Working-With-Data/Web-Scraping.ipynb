{
 "cells": [
  {
   "cell_type": "code",
   "execution_count": 3,
   "id": "386a52a0-8612-43a4-ad16-c3b43d0dda8d",
   "metadata": {},
   "outputs": [],
   "source": [
    "import pandas as pd\n",
    "import requests\n",
    "from bs4 import BeautifulSoup"
   ]
  },
  {
   "cell_type": "code",
   "execution_count": 17,
   "id": "a516833f-baaf-4c2b-8bd5-b19bc03efe25",
   "metadata": {},
   "outputs": [],
   "source": [
    "headers = {'User-Agent': 'Mozilla/5.0 (Windows NT 6.3; Win64; x64) AppleWebKit/537.36 (KHTML, like Gecko) Chrome/80.0.3987.162 Safari/537.36'}\n",
    "webpage = requests.get('https://www.glassdoor.com/Reviews/index.htm?filterType=RATING_OVERALL&page=1&overall_rating_low=4', headers=headers).text"
   ]
  },
  {
   "cell_type": "code",
   "execution_count": 19,
   "id": "876808c7-e4dc-4a2e-a194-75411154a8f0",
   "metadata": {},
   "outputs": [],
   "source": [
    "soup = BeautifulSoup(webpage, 'lxml')"
   ]
  },
  {
   "cell_type": "code",
   "execution_count": 27,
   "id": "356ed2df-45e2-49e1-a7af-54cb03faf352",
   "metadata": {},
   "outputs": [
    {
     "data": {
      "text/plain": [
       "'Help Us Protect Glassdoor'"
      ]
     },
     "execution_count": 27,
     "metadata": {},
     "output_type": "execute_result"
    }
   ],
   "source": [
    "soup.find_all('h1')[0].text"
   ]
  },
  {
   "cell_type": "code",
   "execution_count": 29,
   "id": "72460b69-7598-4be1-a862-76642983d8f6",
   "metadata": {},
   "outputs": [
    {
     "data": {
      "text/plain": [
       "[]"
      ]
     },
     "execution_count": 29,
     "metadata": {},
     "output_type": "execute_result"
    }
   ],
   "source": [
    "soup.find_all('h2')"
   ]
  },
  {
   "cell_type": "code",
   "execution_count": 41,
   "id": "ee774364-6889-4324-9d07-f3f7c162a0c1",
   "metadata": {},
   "outputs": [
    {
     "data": {
      "text/plain": [
       "[]"
      ]
     },
     "execution_count": 41,
     "metadata": {},
     "output_type": "execute_result"
    }
   ],
   "source": [
    "soup.find_all('span' , class_='rating')"
   ]
  },
  {
   "cell_type": "code",
   "execution_count": 37,
   "id": "020100f6-ea5f-4c34-a3d1-0ebeaf2b63cd",
   "metadata": {},
   "outputs": [
    {
     "name": "stdout",
     "output_type": "stream",
     "text": [
      "Enable JavaScript and cookies to continue\n"
     ]
    }
   ],
   "source": [
    "for i in soup.find_all('span'):\n",
    "    print(i.text.strip())"
   ]
  }
 ],
 "metadata": {
  "kernelspec": {
   "display_name": "Python 3 (ipykernel)",
   "language": "python",
   "name": "python3"
  },
  "language_info": {
   "codemirror_mode": {
    "name": "ipython",
    "version": 3
   },
   "file_extension": ".py",
   "mimetype": "text/x-python",
   "name": "python",
   "nbconvert_exporter": "python",
   "pygments_lexer": "ipython3",
   "version": "3.12.4"
  }
 },
 "nbformat": 4,
 "nbformat_minor": 5
}
