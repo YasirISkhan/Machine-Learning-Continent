{
 "cells": [
  {
   "cell_type": "markdown",
   "id": "2faa436c-c908-4e8b-88a5-a8baa7b5838b",
   "metadata": {},
   "source": [
    "# Lab Task 1"
   ]
  },
  {
   "cell_type": "code",
   "execution_count": 43,
   "id": "c3fba81c-205d-4298-ae15-7fb0d1851518",
   "metadata": {},
   "outputs": [],
   "source": [
    "def f(x):\n",
    "    result = (4*(x**3)) + (5*(x**2)) + (3*x) + 2\n",
    "    return result"
   ]
  },
  {
   "cell_type": "code",
   "execution_count": 45,
   "id": "258940f2-e699-454e-b4d7-c1b0bf7f213f",
   "metadata": {},
   "outputs": [
    {
     "name": "stdout",
     "output_type": "stream",
     "text": [
      "x=1: 14\n",
      "x=2: 60\n",
      "x=3: 164\n",
      "x=4: 350\n",
      "x=5: 642\n"
     ]
    }
   ],
   "source": [
    "for i in range(1,6):\n",
    "    print(f\"x={i}: {f(i)}\")"
   ]
  },
  {
   "cell_type": "code",
   "execution_count": 47,
   "id": "12a2f413-3c6b-4c19-b3e5-c951e1dd68bc",
   "metadata": {},
   "outputs": [],
   "source": [
    "def g(x):\n",
    "    result = ((3 * (x**2) + (7*x)) / 2) - ((2*x) / 5)\n",
    "    return result"
   ]
  },
  {
   "cell_type": "code",
   "execution_count": 49,
   "id": "9d44a66d-4d50-4030-b745-c5e84c75d7c8",
   "metadata": {},
   "outputs": [
    {
     "name": "stdout",
     "output_type": "stream",
     "text": [
      "x=1: 4.6\n",
      "x=2: 12.2\n",
      "x=3: 22.8\n",
      "x=4: 36.4\n",
      "x=5: 53.0\n"
     ]
    }
   ],
   "source": [
    "for i in range(1,6):\n",
    "    print(f\"x={i}: {g(i)}\")"
   ]
  },
  {
   "cell_type": "markdown",
   "id": "d26e6e23-cff7-4b6a-a6d5-9668881aad42",
   "metadata": {},
   "source": [
    "# Lab Task 2"
   ]
  },
  {
   "cell_type": "code",
   "execution_count": 66,
   "id": "4010f9ca-452e-44f8-85dc-a38b27eba6e5",
   "metadata": {},
   "outputs": [],
   "source": [
    "def check_multiple(x, y):\n",
    "    if x % y == 0:\n",
    "        print(f\"{x} is the multiple of {y}\")\n",
    "    else:\n",
    "        print(f\"{x} isn't the multiple of {y}\")"
   ]
  },
  {
   "cell_type": "code",
   "execution_count": 70,
   "id": "1913ec8f-a87c-455b-9721-e287fe77c480",
   "metadata": {},
   "outputs": [
    {
     "name": "stdin",
     "output_type": "stream",
     "text": [
      "Enter your first integer value:  12\n",
      "Enter you second integer value:  3\n"
     ]
    },
    {
     "name": "stdout",
     "output_type": "stream",
     "text": [
      "12 is the multiple of 3\n"
     ]
    }
   ],
   "source": [
    "var1 = int(input(\"Enter your first integer value: \"))\n",
    "var2 = int(input(\"Enter you second integer value: \"))\n",
    "\n",
    "check_multiple(var1, var2)"
   ]
  },
  {
   "cell_type": "markdown",
   "id": "7182ea25-d3e4-46bb-99b9-65980b69a3ee",
   "metadata": {},
   "source": [
    "# Lab Task 3"
   ]
  },
  {
   "cell_type": "code",
   "execution_count": 97,
   "id": "6281e10d-e325-4cf8-a2b9-9db2301db62d",
   "metadata": {},
   "outputs": [],
   "source": [
    "def compare_numbers():\n",
    "    var1 = int(input(\"Enter the first number: \"))\n",
    "    var2 = int(input(\"Enter the second number: \"))\n",
    "\n",
    "    if var1 == var2:\n",
    "        print(f\"{var1} is equal to {var2}\")\n",
    "    elif var1 > var2:\n",
    "        print(\"Both numbers aren't equal\")\n",
    "        print(\"{} is greater than {}\".format(var1, var2))\n",
    "    else:\n",
    "        print(\"Both numbers aren't equal\")\n",
    "        print(\"{} is greater than {}\".format(var2, var1))\n"
   ]
  },
  {
   "cell_type": "code",
   "execution_count": 99,
   "id": "c1aa532d-84cf-4196-9850-943a0605b12e",
   "metadata": {},
   "outputs": [
    {
     "name": "stdin",
     "output_type": "stream",
     "text": [
      "Enter the first number:  5\n",
      "Enter the second number:  6\n"
     ]
    },
    {
     "name": "stdout",
     "output_type": "stream",
     "text": [
      "Both numbers aren't equal\n",
      "6 is greater than 5\n"
     ]
    }
   ],
   "source": [
    "compare_numbers()"
   ]
  },
  {
   "cell_type": "markdown",
   "id": "a5c6ffc2-62a4-474a-8115-f41f3f1aebd9",
   "metadata": {},
   "source": [
    "# Lab Task 4"
   ]
  },
  {
   "cell_type": "code",
   "execution_count": 122,
   "id": "02fb9689-f938-475f-aefe-e6be5a470a4c",
   "metadata": {},
   "outputs": [],
   "source": [
    "def comparison():\n",
    "    num1 = int(input(\"Enter the first number: \"))\n",
    "    num2 = int(input(\"Enter the second number: \"))\n",
    "\n",
    "    if num1 > 0 and num2 > 0:\n",
    "        print(\"Both numbers are positive\")\n",
    "    elif num1 < 0 and num2 <0:\n",
    "        print(\"Both numbers are negative\")\n",
    "    elif num1 == 0 and num2 ==0:\n",
    "        print(\"Both numbers are zero\")\n",
    "    elif num1 == 0 or num2 == 0:\n",
    "        print(\"At least one number is zero\")\n",
    "    elif num1 > 0 and num2 < 0:\n",
    "        print(\"One number is positive, and the other is negative\")\n",
    "    elif num1 < 0 and num2 > 0:\n",
    "        print(\"One number is positive, and the other is negative\")"
   ]
  },
  {
   "cell_type": "code",
   "execution_count": 124,
   "id": "fca22edc-f8a3-40be-8975-60556ae6e47b",
   "metadata": {},
   "outputs": [
    {
     "name": "stdin",
     "output_type": "stream",
     "text": [
      "Enter the first number:  -9\n",
      "Enter the second number:  9\n"
     ]
    },
    {
     "name": "stdout",
     "output_type": "stream",
     "text": [
      "One number is positive, and the other is negative\n"
     ]
    }
   ],
   "source": [
    "comparison()"
   ]
  },
  {
   "cell_type": "markdown",
   "id": "7f7df9e1-341e-464a-bfc0-1d764a4e3b4a",
   "metadata": {},
   "source": [
    "# Lab Task 5"
   ]
  },
  {
   "cell_type": "code",
   "execution_count": 147,
   "id": "479175e1-8552-4450-b000-c00b81088a78",
   "metadata": {},
   "outputs": [],
   "source": [
    "def fact(number):\n",
    "    result =  1\n",
    "    while(number>0):\n",
    "        result = result * number\n",
    "        number-=1\n",
    "    return result"
   ]
  },
  {
   "cell_type": "code",
   "execution_count": 155,
   "id": "06f60f60-dd2c-44b1-bf44-0d0caecc468a",
   "metadata": {},
   "outputs": [
    {
     "name": "stdout",
     "output_type": "stream",
     "text": [
      "Factorial of 5 is:  720\n"
     ]
    }
   ],
   "source": [
    "print(\"Factorial of 5 is: \", fact(6))"
   ]
  },
  {
   "cell_type": "markdown",
   "id": "af6cb730-93f9-4d7d-ac06-8aadc9132b9d",
   "metadata": {},
   "source": [
    "# Lab Task 6"
   ]
  },
  {
   "cell_type": "code",
   "execution_count": 158,
   "id": "bab0e3c7-052b-46ce-85a3-a8791f79f9d6",
   "metadata": {},
   "outputs": [],
   "source": [
    "def product_with_loop(num1, num2):\n",
    "    prod = 0\n",
    "    for i in range(num2):\n",
    "        prod += num1\n",
    "    return prod"
   ]
  },
  {
   "cell_type": "code",
   "execution_count": 168,
   "id": "a805b822-d60d-450e-95b6-3b4da918c6bd",
   "metadata": {},
   "outputs": [
    {
     "name": "stdout",
     "output_type": "stream",
     "text": [
      "Product of 5 and 4 is: 20\n"
     ]
    }
   ],
   "source": [
    "val1, val2 = 5,4\n",
    "print(f\"Product of {val1} and {val2} is: {product_with_loop(val1,val2)}\")"
   ]
  },
  {
   "cell_type": "markdown",
   "id": "97ea291b-95bc-4a6b-9ea9-08ac7071a445",
   "metadata": {},
   "source": [
    "# Lab Task 7"
   ]
  },
  {
   "cell_type": "code",
   "execution_count": 175,
   "id": "58344c27-88b5-42ed-86d0-c289a82a5b46",
   "metadata": {},
   "outputs": [],
   "source": [
    "def count_characters(str1, str2, str3):\n",
    "    concatenated = str1+str2+str3\n",
    "    for ch in concatenated:\n",
    "        print(ch)\n",
    "    print(\"The total number of characters are: \", len(concatenated))"
   ]
  },
  {
   "cell_type": "code",
   "execution_count": 181,
   "id": "d2048d20-6217-4a6c-a698-fc300a3089f9",
   "metadata": {},
   "outputs": [
    {
     "name": "stdin",
     "output_type": "stream",
     "text": [
      "Enter first string:  Go\n",
      "Enter second string:  To\n",
      "Enter third string:  Hell\n"
     ]
    },
    {
     "name": "stdout",
     "output_type": "stream",
     "text": [
      "G\n",
      "o\n",
      "T\n",
      "o\n",
      "H\n",
      "e\n",
      "l\n",
      "l\n",
      "The total number of characters are:  8\n"
     ]
    }
   ],
   "source": [
    "str1 = input(\"Enter first string: \")\n",
    "str2 = input(\"Enter second string: \")\n",
    "str3 = input(\"Enter third string: \")\n",
    "\n",
    "count_characters(str1, str2, str3)"
   ]
  },
  {
   "cell_type": "markdown",
   "id": "002de51b-fe89-4495-9455-1e90ec7ec8fe",
   "metadata": {},
   "source": [
    "# Lab Task 8"
   ]
  },
  {
   "cell_type": "code",
   "execution_count": 261,
   "id": "e92ca50d-3048-4c78-9e89-cdb0e2340a7b",
   "metadata": {},
   "outputs": [
    {
     "name": "stdout",
     "output_type": "stream",
     "text": [
      "1, 2, 3, 4, 5, 6, 7, 8, 9, 10, 11, 12, 13, 14, 15, 16, 17, 18, 19, 20, \n",
      "2, 4, 6, 8, 10, 12, 14, 16, 18, 20, 22, 24, 26, 28, 30, 32, 34, 36, 38, 40, \n",
      "3, 6, 9, 12, 15, 18, 21, 24, 27, 30, 33, 36, 39, 42, 45, 48, 51, 54, 57, 60, \n",
      "4, 8, 12, 16, 20, 24, 28, 32, 36, 40, 44, 48, 52, 56, 60, 64, 68, 72, 76, 80, \n",
      "5, 10, 15, 20, 25, 30, 35, 40, 45, 50, 55, 60, 65, 70, 75, 80, 85, 90, 95, 100, \n",
      "6, 12, 18, 24, 30, 36, 42, 48, 54, 60, 66, 72, 78, 84, 90, 96, 102, 108, 114, 120, \n",
      "7, 14, 21, 28, 35, 42, 49, 56, 63, 70, 77, 84, 91, 98, 105, 112, 119, 126, 133, 140, \n",
      "8, 16, 24, 32, 40, 48, 56, 64, 72, 80, 88, 96, 104, 112, 120, 128, 136, 144, 152, 160, \n",
      "9, 18, 27, 36, 45, 54, 63, 72, 81, 90, 99, 108, 117, 126, 135, 144, 153, 162, 171, 180, \n",
      "10, 20, 30, 40, 50, 60, 70, 80, 90, 100, 110, 120, 130, 140, 150, 160, 170, 180, 190, 200, \n"
     ]
    }
   ],
   "source": [
    "counter=21\n",
    "for i in range(1,11):\n",
    "    for j in range(i, counter, i):\n",
    "        print(j, end=', ')\n",
    "        \n",
    "    counter+=20\n",
    "    print()"
   ]
  },
  {
   "cell_type": "code",
   "execution_count": null,
   "id": "465f484c-91e0-4467-bd9e-f83cb0f21975",
   "metadata": {},
   "outputs": [],
   "source": []
  }
 ],
 "metadata": {
  "kernelspec": {
   "display_name": "Python 3 (ipykernel)",
   "language": "python",
   "name": "python3"
  },
  "language_info": {
   "codemirror_mode": {
    "name": "ipython",
    "version": 3
   },
   "file_extension": ".py",
   "mimetype": "text/x-python",
   "name": "python",
   "nbconvert_exporter": "python",
   "pygments_lexer": "ipython3",
   "version": "3.12.4"
  }
 },
 "nbformat": 4,
 "nbformat_minor": 5
}
